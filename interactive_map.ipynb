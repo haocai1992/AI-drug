{
 "cells": [
  {
   "cell_type": "code",
   "execution_count": 1,
   "metadata": {},
   "outputs": [],
   "source": [
    "import pandas as pd"
   ]
  },
  {
   "cell_type": "code",
   "execution_count": 7,
   "metadata": {},
   "outputs": [],
   "source": [
    "df = pd.read_csv('/Users/caihao/VSCode/AI-drug/all_companies.csv')"
   ]
  },
  {
   "cell_type": "code",
   "execution_count": 3,
   "metadata": {},
   "outputs": [],
   "source": [
    "# split city, state and country.\n",
    "df['city'] = df.headquarters.str.split(',', expand=True)[0]\n",
    "df['state'] = df.headquarters.str.split(',', expand=True)[1]\n",
    "df['country'] = df.headquarters.str.split(',', expand=True)[2]"
   ]
  },
  {
   "cell_type": "code",
   "execution_count": 4,
   "metadata": {
    "tags": []
   },
   "outputs": [
    {
     "output_type": "error",
     "ename": "KeyboardInterrupt",
     "evalue": "",
     "traceback": [
      "\u001b[0;31m---------------------------------------------------------------------------\u001b[0m",
      "\u001b[0;31mKeyboardInterrupt\u001b[0m                         Traceback (most recent call last)",
      "\u001b[0;32m<ipython-input-4-3beaf0b0cb5e>\u001b[0m in \u001b[0;36m<module>\u001b[0;34m\u001b[0m\n\u001b[1;32m      5\u001b[0m \u001b[0;34m\u001b[0m\u001b[0m\n\u001b[1;32m      6\u001b[0m \u001b[0;32mfor\u001b[0m \u001b[0mi\u001b[0m\u001b[0;34m,\u001b[0m \u001b[0mrow\u001b[0m \u001b[0;32min\u001b[0m \u001b[0mdf\u001b[0m\u001b[0;34m.\u001b[0m\u001b[0miterrows\u001b[0m\u001b[0;34m(\u001b[0m\u001b[0;34m)\u001b[0m\u001b[0;34m:\u001b[0m\u001b[0;34m\u001b[0m\u001b[0;34m\u001b[0m\u001b[0m\n\u001b[0;32m----> 7\u001b[0;31m     \u001b[0mlocation\u001b[0m \u001b[0;34m=\u001b[0m \u001b[0mlocator\u001b[0m\u001b[0;34m.\u001b[0m\u001b[0mgeocode\u001b[0m\u001b[0;34m(\u001b[0m\u001b[0mrow\u001b[0m\u001b[0;34m.\u001b[0m\u001b[0mheadquarters\u001b[0m\u001b[0;34m)\u001b[0m \u001b[0;32mor\u001b[0m \u001b[0mlocator\u001b[0m\u001b[0;34m.\u001b[0m\u001b[0mgeocode\u001b[0m\u001b[0;34m(\u001b[0m\u001b[0mrow\u001b[0m\u001b[0;34m.\u001b[0m\u001b[0mcity\u001b[0m\u001b[0;34m+\u001b[0m\u001b[0;34m','\u001b[0m\u001b[0;34m+\u001b[0m\u001b[0mrow\u001b[0m\u001b[0;34m.\u001b[0m\u001b[0mcountry\u001b[0m\u001b[0;34m)\u001b[0m\u001b[0;34m\u001b[0m\u001b[0;34m\u001b[0m\u001b[0m\n\u001b[0m\u001b[1;32m      8\u001b[0m     \u001b[0mlat\u001b[0m\u001b[0;34m.\u001b[0m\u001b[0mappend\u001b[0m\u001b[0;34m(\u001b[0m\u001b[0mlocation\u001b[0m\u001b[0;34m.\u001b[0m\u001b[0mlatitude\u001b[0m\u001b[0;34m)\u001b[0m\u001b[0;34m\u001b[0m\u001b[0;34m\u001b[0m\u001b[0m\n\u001b[1;32m      9\u001b[0m     \u001b[0mlng\u001b[0m\u001b[0;34m.\u001b[0m\u001b[0mappend\u001b[0m\u001b[0;34m(\u001b[0m\u001b[0mlocation\u001b[0m\u001b[0;34m.\u001b[0m\u001b[0mlongitude\u001b[0m\u001b[0;34m)\u001b[0m\u001b[0;34m\u001b[0m\u001b[0;34m\u001b[0m\u001b[0m\n",
      "\u001b[0;32m/anaconda3/envs/py3/lib/python3.7/site-packages/geopy/geocoders/osm.py\u001b[0m in \u001b[0;36mgeocode\u001b[0;34m(self, query, exactly_one, timeout, limit, addressdetails, language, geometry, extratags, country_codes, viewbox, bounded, featuretype, namedetails)\u001b[0m\n\u001b[1;32m    406\u001b[0m \u001b[0;34m\u001b[0m\u001b[0m\n\u001b[1;32m    407\u001b[0m         return self._parse_json(\n\u001b[0;32m--> 408\u001b[0;31m             \u001b[0mself\u001b[0m\u001b[0;34m.\u001b[0m\u001b[0m_call_geocoder\u001b[0m\u001b[0;34m(\u001b[0m\u001b[0murl\u001b[0m\u001b[0;34m,\u001b[0m \u001b[0mtimeout\u001b[0m\u001b[0;34m=\u001b[0m\u001b[0mtimeout\u001b[0m\u001b[0;34m)\u001b[0m\u001b[0;34m,\u001b[0m \u001b[0mexactly_one\u001b[0m\u001b[0;34m\u001b[0m\u001b[0;34m\u001b[0m\u001b[0m\n\u001b[0m\u001b[1;32m    409\u001b[0m         )\n\u001b[1;32m    410\u001b[0m \u001b[0;34m\u001b[0m\u001b[0m\n",
      "\u001b[0;32m/anaconda3/envs/py3/lib/python3.7/site-packages/geopy/geocoders/base.py\u001b[0m in \u001b[0;36m_call_geocoder\u001b[0;34m(self, url, timeout, raw, requester, deserializer, **kwargs)\u001b[0m\n\u001b[1;32m    365\u001b[0m \u001b[0;34m\u001b[0m\u001b[0m\n\u001b[1;32m    366\u001b[0m         \u001b[0;32mtry\u001b[0m\u001b[0;34m:\u001b[0m\u001b[0;34m\u001b[0m\u001b[0;34m\u001b[0m\u001b[0m\n\u001b[0;32m--> 367\u001b[0;31m             \u001b[0mpage\u001b[0m \u001b[0;34m=\u001b[0m \u001b[0mrequester\u001b[0m\u001b[0;34m(\u001b[0m\u001b[0mreq\u001b[0m\u001b[0;34m,\u001b[0m \u001b[0mtimeout\u001b[0m\u001b[0;34m=\u001b[0m\u001b[0mtimeout\u001b[0m\u001b[0;34m,\u001b[0m \u001b[0;34m**\u001b[0m\u001b[0mkwargs\u001b[0m\u001b[0;34m)\u001b[0m\u001b[0;34m\u001b[0m\u001b[0;34m\u001b[0m\u001b[0m\n\u001b[0m\u001b[1;32m    368\u001b[0m         \u001b[0;32mexcept\u001b[0m \u001b[0mException\u001b[0m \u001b[0;32mas\u001b[0m \u001b[0merror\u001b[0m\u001b[0;34m:\u001b[0m\u001b[0;34m\u001b[0m\u001b[0;34m\u001b[0m\u001b[0m\n\u001b[1;32m    369\u001b[0m             message = (\n",
      "\u001b[0;32m/anaconda3/envs/py3/lib/python3.7/urllib/request.py\u001b[0m in \u001b[0;36mopen\u001b[0;34m(self, fullurl, data, timeout)\u001b[0m\n\u001b[1;32m    523\u001b[0m             \u001b[0mreq\u001b[0m \u001b[0;34m=\u001b[0m \u001b[0mmeth\u001b[0m\u001b[0;34m(\u001b[0m\u001b[0mreq\u001b[0m\u001b[0;34m)\u001b[0m\u001b[0;34m\u001b[0m\u001b[0;34m\u001b[0m\u001b[0m\n\u001b[1;32m    524\u001b[0m \u001b[0;34m\u001b[0m\u001b[0m\n\u001b[0;32m--> 525\u001b[0;31m         \u001b[0mresponse\u001b[0m \u001b[0;34m=\u001b[0m \u001b[0mself\u001b[0m\u001b[0;34m.\u001b[0m\u001b[0m_open\u001b[0m\u001b[0;34m(\u001b[0m\u001b[0mreq\u001b[0m\u001b[0;34m,\u001b[0m \u001b[0mdata\u001b[0m\u001b[0;34m)\u001b[0m\u001b[0;34m\u001b[0m\u001b[0;34m\u001b[0m\u001b[0m\n\u001b[0m\u001b[1;32m    526\u001b[0m \u001b[0;34m\u001b[0m\u001b[0m\n\u001b[1;32m    527\u001b[0m         \u001b[0;31m# post-process response\u001b[0m\u001b[0;34m\u001b[0m\u001b[0;34m\u001b[0m\u001b[0;34m\u001b[0m\u001b[0m\n",
      "\u001b[0;32m/anaconda3/envs/py3/lib/python3.7/urllib/request.py\u001b[0m in \u001b[0;36m_open\u001b[0;34m(self, req, data)\u001b[0m\n\u001b[1;32m    541\u001b[0m         \u001b[0mprotocol\u001b[0m \u001b[0;34m=\u001b[0m \u001b[0mreq\u001b[0m\u001b[0;34m.\u001b[0m\u001b[0mtype\u001b[0m\u001b[0;34m\u001b[0m\u001b[0;34m\u001b[0m\u001b[0m\n\u001b[1;32m    542\u001b[0m         result = self._call_chain(self.handle_open, protocol, protocol +\n\u001b[0;32m--> 543\u001b[0;31m                                   '_open', req)\n\u001b[0m\u001b[1;32m    544\u001b[0m         \u001b[0;32mif\u001b[0m \u001b[0mresult\u001b[0m\u001b[0;34m:\u001b[0m\u001b[0;34m\u001b[0m\u001b[0;34m\u001b[0m\u001b[0m\n\u001b[1;32m    545\u001b[0m             \u001b[0;32mreturn\u001b[0m \u001b[0mresult\u001b[0m\u001b[0;34m\u001b[0m\u001b[0;34m\u001b[0m\u001b[0m\n",
      "\u001b[0;32m/anaconda3/envs/py3/lib/python3.7/urllib/request.py\u001b[0m in \u001b[0;36m_call_chain\u001b[0;34m(self, chain, kind, meth_name, *args)\u001b[0m\n\u001b[1;32m    501\u001b[0m         \u001b[0;32mfor\u001b[0m \u001b[0mhandler\u001b[0m \u001b[0;32min\u001b[0m \u001b[0mhandlers\u001b[0m\u001b[0;34m:\u001b[0m\u001b[0;34m\u001b[0m\u001b[0;34m\u001b[0m\u001b[0m\n\u001b[1;32m    502\u001b[0m             \u001b[0mfunc\u001b[0m \u001b[0;34m=\u001b[0m \u001b[0mgetattr\u001b[0m\u001b[0;34m(\u001b[0m\u001b[0mhandler\u001b[0m\u001b[0;34m,\u001b[0m \u001b[0mmeth_name\u001b[0m\u001b[0;34m)\u001b[0m\u001b[0;34m\u001b[0m\u001b[0;34m\u001b[0m\u001b[0m\n\u001b[0;32m--> 503\u001b[0;31m             \u001b[0mresult\u001b[0m \u001b[0;34m=\u001b[0m \u001b[0mfunc\u001b[0m\u001b[0;34m(\u001b[0m\u001b[0;34m*\u001b[0m\u001b[0margs\u001b[0m\u001b[0;34m)\u001b[0m\u001b[0;34m\u001b[0m\u001b[0;34m\u001b[0m\u001b[0m\n\u001b[0m\u001b[1;32m    504\u001b[0m             \u001b[0;32mif\u001b[0m \u001b[0mresult\u001b[0m \u001b[0;32mis\u001b[0m \u001b[0;32mnot\u001b[0m \u001b[0;32mNone\u001b[0m\u001b[0;34m:\u001b[0m\u001b[0;34m\u001b[0m\u001b[0;34m\u001b[0m\u001b[0m\n\u001b[1;32m    505\u001b[0m                 \u001b[0;32mreturn\u001b[0m \u001b[0mresult\u001b[0m\u001b[0;34m\u001b[0m\u001b[0;34m\u001b[0m\u001b[0m\n",
      "\u001b[0;32m/anaconda3/envs/py3/lib/python3.7/urllib/request.py\u001b[0m in \u001b[0;36mhttps_open\u001b[0;34m(self, req)\u001b[0m\n\u001b[1;32m   1358\u001b[0m         \u001b[0;32mdef\u001b[0m \u001b[0mhttps_open\u001b[0m\u001b[0;34m(\u001b[0m\u001b[0mself\u001b[0m\u001b[0;34m,\u001b[0m \u001b[0mreq\u001b[0m\u001b[0;34m)\u001b[0m\u001b[0;34m:\u001b[0m\u001b[0;34m\u001b[0m\u001b[0;34m\u001b[0m\u001b[0m\n\u001b[1;32m   1359\u001b[0m             return self.do_open(http.client.HTTPSConnection, req,\n\u001b[0;32m-> 1360\u001b[0;31m                 context=self._context, check_hostname=self._check_hostname)\n\u001b[0m\u001b[1;32m   1361\u001b[0m \u001b[0;34m\u001b[0m\u001b[0m\n\u001b[1;32m   1362\u001b[0m         \u001b[0mhttps_request\u001b[0m \u001b[0;34m=\u001b[0m \u001b[0mAbstractHTTPHandler\u001b[0m\u001b[0;34m.\u001b[0m\u001b[0mdo_request_\u001b[0m\u001b[0;34m\u001b[0m\u001b[0;34m\u001b[0m\u001b[0m\n",
      "\u001b[0;32m/anaconda3/envs/py3/lib/python3.7/urllib/request.py\u001b[0m in \u001b[0;36mdo_open\u001b[0;34m(self, http_class, req, **http_conn_args)\u001b[0m\n\u001b[1;32m   1315\u001b[0m             \u001b[0;32mtry\u001b[0m\u001b[0;34m:\u001b[0m\u001b[0;34m\u001b[0m\u001b[0;34m\u001b[0m\u001b[0m\n\u001b[1;32m   1316\u001b[0m                 h.request(req.get_method(), req.selector, req.data, headers,\n\u001b[0;32m-> 1317\u001b[0;31m                           encode_chunked=req.has_header('Transfer-encoding'))\n\u001b[0m\u001b[1;32m   1318\u001b[0m             \u001b[0;32mexcept\u001b[0m \u001b[0mOSError\u001b[0m \u001b[0;32mas\u001b[0m \u001b[0merr\u001b[0m\u001b[0;34m:\u001b[0m \u001b[0;31m# timeout error\u001b[0m\u001b[0;34m\u001b[0m\u001b[0;34m\u001b[0m\u001b[0m\n\u001b[1;32m   1319\u001b[0m                 \u001b[0;32mraise\u001b[0m \u001b[0mURLError\u001b[0m\u001b[0;34m(\u001b[0m\u001b[0merr\u001b[0m\u001b[0;34m)\u001b[0m\u001b[0;34m\u001b[0m\u001b[0;34m\u001b[0m\u001b[0m\n",
      "\u001b[0;32m/anaconda3/envs/py3/lib/python3.7/http/client.py\u001b[0m in \u001b[0;36mrequest\u001b[0;34m(self, method, url, body, headers, encode_chunked)\u001b[0m\n\u001b[1;32m   1227\u001b[0m                 encode_chunked=False):\n\u001b[1;32m   1228\u001b[0m         \u001b[0;34m\"\"\"Send a complete request to the server.\"\"\"\u001b[0m\u001b[0;34m\u001b[0m\u001b[0;34m\u001b[0m\u001b[0m\n\u001b[0;32m-> 1229\u001b[0;31m         \u001b[0mself\u001b[0m\u001b[0;34m.\u001b[0m\u001b[0m_send_request\u001b[0m\u001b[0;34m(\u001b[0m\u001b[0mmethod\u001b[0m\u001b[0;34m,\u001b[0m \u001b[0murl\u001b[0m\u001b[0;34m,\u001b[0m \u001b[0mbody\u001b[0m\u001b[0;34m,\u001b[0m \u001b[0mheaders\u001b[0m\u001b[0;34m,\u001b[0m \u001b[0mencode_chunked\u001b[0m\u001b[0;34m)\u001b[0m\u001b[0;34m\u001b[0m\u001b[0;34m\u001b[0m\u001b[0m\n\u001b[0m\u001b[1;32m   1230\u001b[0m \u001b[0;34m\u001b[0m\u001b[0m\n\u001b[1;32m   1231\u001b[0m     \u001b[0;32mdef\u001b[0m \u001b[0m_send_request\u001b[0m\u001b[0;34m(\u001b[0m\u001b[0mself\u001b[0m\u001b[0;34m,\u001b[0m \u001b[0mmethod\u001b[0m\u001b[0;34m,\u001b[0m \u001b[0murl\u001b[0m\u001b[0;34m,\u001b[0m \u001b[0mbody\u001b[0m\u001b[0;34m,\u001b[0m \u001b[0mheaders\u001b[0m\u001b[0;34m,\u001b[0m \u001b[0mencode_chunked\u001b[0m\u001b[0;34m)\u001b[0m\u001b[0;34m:\u001b[0m\u001b[0;34m\u001b[0m\u001b[0;34m\u001b[0m\u001b[0m\n",
      "\u001b[0;32m/anaconda3/envs/py3/lib/python3.7/http/client.py\u001b[0m in \u001b[0;36m_send_request\u001b[0;34m(self, method, url, body, headers, encode_chunked)\u001b[0m\n\u001b[1;32m   1273\u001b[0m             \u001b[0;31m# default charset of iso-8859-1.\u001b[0m\u001b[0;34m\u001b[0m\u001b[0;34m\u001b[0m\u001b[0;34m\u001b[0m\u001b[0m\n\u001b[1;32m   1274\u001b[0m             \u001b[0mbody\u001b[0m \u001b[0;34m=\u001b[0m \u001b[0m_encode\u001b[0m\u001b[0;34m(\u001b[0m\u001b[0mbody\u001b[0m\u001b[0;34m,\u001b[0m \u001b[0;34m'body'\u001b[0m\u001b[0;34m)\u001b[0m\u001b[0;34m\u001b[0m\u001b[0;34m\u001b[0m\u001b[0m\n\u001b[0;32m-> 1275\u001b[0;31m         \u001b[0mself\u001b[0m\u001b[0;34m.\u001b[0m\u001b[0mendheaders\u001b[0m\u001b[0;34m(\u001b[0m\u001b[0mbody\u001b[0m\u001b[0;34m,\u001b[0m \u001b[0mencode_chunked\u001b[0m\u001b[0;34m=\u001b[0m\u001b[0mencode_chunked\u001b[0m\u001b[0;34m)\u001b[0m\u001b[0;34m\u001b[0m\u001b[0;34m\u001b[0m\u001b[0m\n\u001b[0m\u001b[1;32m   1276\u001b[0m \u001b[0;34m\u001b[0m\u001b[0m\n\u001b[1;32m   1277\u001b[0m     \u001b[0;32mdef\u001b[0m \u001b[0mgetresponse\u001b[0m\u001b[0;34m(\u001b[0m\u001b[0mself\u001b[0m\u001b[0;34m)\u001b[0m\u001b[0;34m:\u001b[0m\u001b[0;34m\u001b[0m\u001b[0;34m\u001b[0m\u001b[0m\n",
      "\u001b[0;32m/anaconda3/envs/py3/lib/python3.7/http/client.py\u001b[0m in \u001b[0;36mendheaders\u001b[0;34m(self, message_body, encode_chunked)\u001b[0m\n\u001b[1;32m   1222\u001b[0m         \u001b[0;32melse\u001b[0m\u001b[0;34m:\u001b[0m\u001b[0;34m\u001b[0m\u001b[0;34m\u001b[0m\u001b[0m\n\u001b[1;32m   1223\u001b[0m             \u001b[0;32mraise\u001b[0m \u001b[0mCannotSendHeader\u001b[0m\u001b[0;34m(\u001b[0m\u001b[0;34m)\u001b[0m\u001b[0;34m\u001b[0m\u001b[0;34m\u001b[0m\u001b[0m\n\u001b[0;32m-> 1224\u001b[0;31m         \u001b[0mself\u001b[0m\u001b[0;34m.\u001b[0m\u001b[0m_send_output\u001b[0m\u001b[0;34m(\u001b[0m\u001b[0mmessage_body\u001b[0m\u001b[0;34m,\u001b[0m \u001b[0mencode_chunked\u001b[0m\u001b[0;34m=\u001b[0m\u001b[0mencode_chunked\u001b[0m\u001b[0;34m)\u001b[0m\u001b[0;34m\u001b[0m\u001b[0;34m\u001b[0m\u001b[0m\n\u001b[0m\u001b[1;32m   1225\u001b[0m \u001b[0;34m\u001b[0m\u001b[0m\n\u001b[1;32m   1226\u001b[0m     def request(self, method, url, body=None, headers={}, *,\n",
      "\u001b[0;32m/anaconda3/envs/py3/lib/python3.7/http/client.py\u001b[0m in \u001b[0;36m_send_output\u001b[0;34m(self, message_body, encode_chunked)\u001b[0m\n\u001b[1;32m   1014\u001b[0m         \u001b[0mmsg\u001b[0m \u001b[0;34m=\u001b[0m \u001b[0;34mb\"\\r\\n\"\u001b[0m\u001b[0;34m.\u001b[0m\u001b[0mjoin\u001b[0m\u001b[0;34m(\u001b[0m\u001b[0mself\u001b[0m\u001b[0;34m.\u001b[0m\u001b[0m_buffer\u001b[0m\u001b[0;34m)\u001b[0m\u001b[0;34m\u001b[0m\u001b[0;34m\u001b[0m\u001b[0m\n\u001b[1;32m   1015\u001b[0m         \u001b[0;32mdel\u001b[0m \u001b[0mself\u001b[0m\u001b[0;34m.\u001b[0m\u001b[0m_buffer\u001b[0m\u001b[0;34m[\u001b[0m\u001b[0;34m:\u001b[0m\u001b[0;34m]\u001b[0m\u001b[0;34m\u001b[0m\u001b[0;34m\u001b[0m\u001b[0m\n\u001b[0;32m-> 1016\u001b[0;31m         \u001b[0mself\u001b[0m\u001b[0;34m.\u001b[0m\u001b[0msend\u001b[0m\u001b[0;34m(\u001b[0m\u001b[0mmsg\u001b[0m\u001b[0;34m)\u001b[0m\u001b[0;34m\u001b[0m\u001b[0;34m\u001b[0m\u001b[0m\n\u001b[0m\u001b[1;32m   1017\u001b[0m \u001b[0;34m\u001b[0m\u001b[0m\n\u001b[1;32m   1018\u001b[0m         \u001b[0;32mif\u001b[0m \u001b[0mmessage_body\u001b[0m \u001b[0;32mis\u001b[0m \u001b[0;32mnot\u001b[0m \u001b[0;32mNone\u001b[0m\u001b[0;34m:\u001b[0m\u001b[0;34m\u001b[0m\u001b[0;34m\u001b[0m\u001b[0m\n",
      "\u001b[0;32m/anaconda3/envs/py3/lib/python3.7/http/client.py\u001b[0m in \u001b[0;36msend\u001b[0;34m(self, data)\u001b[0m\n\u001b[1;32m    954\u001b[0m         \u001b[0;32mif\u001b[0m \u001b[0mself\u001b[0m\u001b[0;34m.\u001b[0m\u001b[0msock\u001b[0m \u001b[0;32mis\u001b[0m \u001b[0;32mNone\u001b[0m\u001b[0;34m:\u001b[0m\u001b[0;34m\u001b[0m\u001b[0;34m\u001b[0m\u001b[0m\n\u001b[1;32m    955\u001b[0m             \u001b[0;32mif\u001b[0m \u001b[0mself\u001b[0m\u001b[0;34m.\u001b[0m\u001b[0mauto_open\u001b[0m\u001b[0;34m:\u001b[0m\u001b[0;34m\u001b[0m\u001b[0;34m\u001b[0m\u001b[0m\n\u001b[0;32m--> 956\u001b[0;31m                 \u001b[0mself\u001b[0m\u001b[0;34m.\u001b[0m\u001b[0mconnect\u001b[0m\u001b[0;34m(\u001b[0m\u001b[0;34m)\u001b[0m\u001b[0;34m\u001b[0m\u001b[0;34m\u001b[0m\u001b[0m\n\u001b[0m\u001b[1;32m    957\u001b[0m             \u001b[0;32melse\u001b[0m\u001b[0;34m:\u001b[0m\u001b[0;34m\u001b[0m\u001b[0;34m\u001b[0m\u001b[0m\n\u001b[1;32m    958\u001b[0m                 \u001b[0;32mraise\u001b[0m \u001b[0mNotConnected\u001b[0m\u001b[0;34m(\u001b[0m\u001b[0;34m)\u001b[0m\u001b[0;34m\u001b[0m\u001b[0;34m\u001b[0m\u001b[0m\n",
      "\u001b[0;32m/anaconda3/envs/py3/lib/python3.7/http/client.py\u001b[0m in \u001b[0;36mconnect\u001b[0;34m(self)\u001b[0m\n\u001b[1;32m   1382\u001b[0m             \u001b[0;34m\"Connect to a host on a given (SSL) port.\"\u001b[0m\u001b[0;34m\u001b[0m\u001b[0;34m\u001b[0m\u001b[0m\n\u001b[1;32m   1383\u001b[0m \u001b[0;34m\u001b[0m\u001b[0m\n\u001b[0;32m-> 1384\u001b[0;31m             \u001b[0msuper\u001b[0m\u001b[0;34m(\u001b[0m\u001b[0;34m)\u001b[0m\u001b[0;34m.\u001b[0m\u001b[0mconnect\u001b[0m\u001b[0;34m(\u001b[0m\u001b[0;34m)\u001b[0m\u001b[0;34m\u001b[0m\u001b[0;34m\u001b[0m\u001b[0m\n\u001b[0m\u001b[1;32m   1385\u001b[0m \u001b[0;34m\u001b[0m\u001b[0m\n\u001b[1;32m   1386\u001b[0m             \u001b[0;32mif\u001b[0m \u001b[0mself\u001b[0m\u001b[0;34m.\u001b[0m\u001b[0m_tunnel_host\u001b[0m\u001b[0;34m:\u001b[0m\u001b[0;34m\u001b[0m\u001b[0;34m\u001b[0m\u001b[0m\n",
      "\u001b[0;32m/anaconda3/envs/py3/lib/python3.7/http/client.py\u001b[0m in \u001b[0;36mconnect\u001b[0;34m(self)\u001b[0m\n\u001b[1;32m    926\u001b[0m         \u001b[0;34m\"\"\"Connect to the host and port specified in __init__.\"\"\"\u001b[0m\u001b[0;34m\u001b[0m\u001b[0;34m\u001b[0m\u001b[0m\n\u001b[1;32m    927\u001b[0m         self.sock = self._create_connection(\n\u001b[0;32m--> 928\u001b[0;31m             (self.host,self.port), self.timeout, self.source_address)\n\u001b[0m\u001b[1;32m    929\u001b[0m         \u001b[0mself\u001b[0m\u001b[0;34m.\u001b[0m\u001b[0msock\u001b[0m\u001b[0;34m.\u001b[0m\u001b[0msetsockopt\u001b[0m\u001b[0;34m(\u001b[0m\u001b[0msocket\u001b[0m\u001b[0;34m.\u001b[0m\u001b[0mIPPROTO_TCP\u001b[0m\u001b[0;34m,\u001b[0m \u001b[0msocket\u001b[0m\u001b[0;34m.\u001b[0m\u001b[0mTCP_NODELAY\u001b[0m\u001b[0;34m,\u001b[0m \u001b[0;36m1\u001b[0m\u001b[0;34m)\u001b[0m\u001b[0;34m\u001b[0m\u001b[0;34m\u001b[0m\u001b[0m\n\u001b[1;32m    930\u001b[0m \u001b[0;34m\u001b[0m\u001b[0m\n",
      "\u001b[0;32m/anaconda3/envs/py3/lib/python3.7/socket.py\u001b[0m in \u001b[0;36mcreate_connection\u001b[0;34m(address, timeout, source_address)\u001b[0m\n\u001b[1;32m    714\u001b[0m             \u001b[0;32mif\u001b[0m \u001b[0msource_address\u001b[0m\u001b[0;34m:\u001b[0m\u001b[0;34m\u001b[0m\u001b[0;34m\u001b[0m\u001b[0m\n\u001b[1;32m    715\u001b[0m                 \u001b[0msock\u001b[0m\u001b[0;34m.\u001b[0m\u001b[0mbind\u001b[0m\u001b[0;34m(\u001b[0m\u001b[0msource_address\u001b[0m\u001b[0;34m)\u001b[0m\u001b[0;34m\u001b[0m\u001b[0;34m\u001b[0m\u001b[0m\n\u001b[0;32m--> 716\u001b[0;31m             \u001b[0msock\u001b[0m\u001b[0;34m.\u001b[0m\u001b[0mconnect\u001b[0m\u001b[0;34m(\u001b[0m\u001b[0msa\u001b[0m\u001b[0;34m)\u001b[0m\u001b[0;34m\u001b[0m\u001b[0;34m\u001b[0m\u001b[0m\n\u001b[0m\u001b[1;32m    717\u001b[0m             \u001b[0;31m# Break explicitly a reference cycle\u001b[0m\u001b[0;34m\u001b[0m\u001b[0;34m\u001b[0m\u001b[0;34m\u001b[0m\u001b[0m\n\u001b[1;32m    718\u001b[0m             \u001b[0merr\u001b[0m \u001b[0;34m=\u001b[0m \u001b[0;32mNone\u001b[0m\u001b[0;34m\u001b[0m\u001b[0;34m\u001b[0m\u001b[0m\n",
      "\u001b[0;31mKeyboardInterrupt\u001b[0m: "
     ]
    }
   ],
   "source": [
    "# match address to latitude and longitude.\n",
    "from geopy.geocoders import Nominatim\n",
    "locator = Nominatim(user_agent=\"ai_drug\")\n",
    "lat, lng = [], []\n",
    "\n",
    "for i, row in df.iterrows():\n",
    "    location = locator.geocode(row.headquarters) or locator.geocode(row.city+','+row.country)\n",
    "    lat.append(location.latitude)\n",
    "    lng.append(location.longitude)\n",
    "\n",
    "df['latitude'] = lat\n",
    "df['longitude'] = lng"
   ]
  },
  {
   "cell_type": "code",
   "execution_count": null,
   "metadata": {},
   "outputs": [],
   "source": [
    "ct = df.groupby('headquarters').size().reset_index().rename(columns={0:'count'})\n",
    "df = df.merge(ct, on='headquarters')"
   ]
  },
  {
   "cell_type": "code",
   "execution_count": 8,
   "metadata": {},
   "outputs": [
    {
     "output_type": "display_data",
     "data": {
      "application/vnd.plotly.v1+json": {
       "config": {
        "plotlyServerURL": "https://plot.ly"
       },
       "data": [
        {
         "customdata": [
          [
           2017
          ],
          [
           2013
          ],
          [
           2015
          ],
          [
           2018
          ],
          [
           2016
          ],
          [
           2009
          ],
          [
           2018
          ],
          [
           2014
          ],
          [
           2016
          ],
          [
           2014
          ],
          [
           2016
          ],
          [
           1990
          ],
          [
           2017
          ],
          [
           2014
          ],
          [
           2009
          ],
          [
           2013
          ],
          [
           2014
          ],
          [
           2017
          ],
          [
           2012
          ],
          [
           2018
          ],
          [
           2013
          ],
          [
           1999
          ],
          [
           2017
          ],
          [
           2012
          ],
          [
           2006
          ],
          [
           2016
          ],
          [
           2012
          ],
          [
           2011
          ],
          [
           2010
          ],
          [
           2009
          ],
          [
           2012
          ],
          [
           2015
          ],
          [
           2017
          ],
          [
           2012
          ],
          [
           2015
          ],
          [
           2017
          ],
          [
           2014
          ],
          [
           2018
          ],
          [
           2018
          ],
          [
           2018
          ],
          [
           2015
          ],
          [
           2018
          ],
          [
           2015
          ],
          [
           2019
          ],
          [
           2012
          ],
          [
           2018
          ],
          [
           2017
          ],
          [
           2011
          ],
          [
           2017
          ],
          [
           2013
          ],
          [
           2014
          ],
          [
           2015
          ],
          [
           2017
          ],
          [
           2015
          ],
          [
           2017
          ],
          [
           2011
          ],
          [
           2017
          ],
          [
           2001
          ],
          [
           2016
          ],
          [
           2014
          ],
          [
           2012
          ],
          [
           2017
          ],
          [
           2013
          ],
          [
           2015
          ],
          [
           2014
          ],
          [
           2018
          ],
          [
           2017
          ],
          [
           2018
          ],
          [
           2014
          ],
          [
           2020
          ],
          [
           2010
          ],
          [
           2017
          ],
          [
           2016
          ],
          [
           2014
          ],
          [
           2017
          ],
          [
           2015
          ],
          [
           2013
          ],
          [
           2019
          ],
          [
           2015
          ],
          [
           2015
          ],
          [
           2004
          ],
          [
           2016
          ],
          [
           2017
          ],
          [
           2013
          ],
          [
           2007
          ],
          [
           2012
          ],
          [
           2010
          ],
          [
           2019
          ],
          [
           2017
          ],
          [
           2013
          ],
          [
           2016
          ],
          [
           2015
          ],
          [
           2017
          ],
          [
           2016
          ],
          [
           2017
          ],
          [
           2018
          ],
          [
           2018
          ],
          [
           2015
          ],
          [
           2016
          ],
          [
           2014
          ],
          [
           2000
          ],
          [
           2016
          ],
          [
           2008
          ],
          [
           2016
          ],
          [
           2018
          ],
          [
           2012
          ],
          [
           2009
          ],
          [
           2016
          ],
          [
           2013
          ],
          [
           2016
          ],
          [
           2017
          ],
          [
           2009
          ],
          [
           2014
          ],
          [
           2016
          ],
          [
           2018
          ],
          [
           2014
          ],
          [
           2012
          ],
          [
           2011
          ],
          [
           2017
          ],
          [
           2016
          ],
          [
           2015
          ],
          [
           2017
          ],
          [
           2018
          ],
          [
           2018
          ],
          [
           2019
          ],
          [
           2016
          ],
          [
           2003
          ],
          [
           2019
          ],
          [
           2019
          ],
          [
           2016
          ],
          [
           2011
          ],
          [
           2015
          ],
          [
           2016
          ],
          [
           2015
          ],
          [
           2005
          ],
          [
           2016
          ],
          [
           2014
          ],
          [
           2017
          ],
          [
           2015
          ],
          [
           2016
          ],
          [
           2012
          ],
          [
           2017
          ],
          [
           2002
          ],
          [
           2016
          ],
          [
           2017
          ],
          [
           1999
          ],
          [
           2018
          ],
          [
           2017
          ],
          [
           2013
          ],
          [
           2015
          ],
          [
           2007
          ],
          [
           2013
          ],
          [
           2012
          ],
          [
           2019
          ],
          [
           2017
          ],
          [
           2015
          ],
          [
           2011
          ],
          [
           2014
          ],
          [
           2017
          ],
          [
           2008
          ],
          [
           2015
          ],
          [
           2015
          ],
          [
           2006
          ],
          [
           2019
          ],
          [
           2017
          ],
          [
           2016
          ],
          [
           2015
          ],
          [
           2016
          ],
          [
           2015
          ],
          [
           2019
          ],
          [
           2017
          ],
          [
           2018
          ],
          [
           2011
          ],
          [
           2012
          ],
          [
           2016
          ],
          [
           2019
          ],
          [
           2008
          ],
          [
           2012
          ],
          [
           2016
          ],
          [
           2019
          ],
          [
           2015
          ],
          [
           2019
          ],
          [
           2018
          ],
          [
           2010
          ],
          [
           2011
          ],
          [
           2018
          ],
          [
           2015
          ],
          [
           2011
          ],
          [
           2014
          ],
          [
           2016
          ],
          [
           2011
          ],
          [
           2009
          ],
          [
           2015
          ],
          [
           2008
          ],
          [
           2012
          ],
          [
           2016
          ],
          [
           2012
          ],
          [
           2017
          ],
          [
           2014
          ],
          [
           2015
          ],
          [
           2018
          ],
          [
           2016
          ],
          [
           2017
          ],
          [
           2002
          ],
          [
           2016
          ],
          [
           2003
          ],
          [
           2018
          ],
          [
           2017
          ],
          [
           2018
          ],
          [
           2015
          ],
          [
           2001
          ],
          [
           2013
          ],
          [
           2015
          ],
          [
           2015
          ],
          [
           2017
          ],
          [
           2016
          ],
          [
           2007
          ],
          [
           2018
          ],
          [
           2011
          ],
          [
           2019
          ],
          [
           2017
          ],
          [
           2015
          ],
          [
           2017
          ],
          [
           2016
          ],
          [
           2014
          ],
          [
           2015
          ],
          [
           2010
          ],
          [
           2018
          ],
          [
           2017
          ],
          [
           2014
          ]
         ],
         "hoverlabel": {
          "namelength": 0
         },
         "hovertemplate": "<b>%{hovertext}</b><br><br>count=%{marker.color}<br>founded=%{customdata[0]}<br>latitude=%{lat}<br>longitude=%{lon}",
         "hovertext": [
          "Suwon, Ch'ungch'ong-namdo, South Korea",
          "Bend, Oregon, United States",
          "New York, New York, United States",
          "New York, New York, United States",
          "New York, New York, United States",
          "New York, New York, United States",
          "New York, New York, United States",
          "New York, New York, United States",
          "New York, New York, United States",
          "New York, New York, United States",
          "New York, New York, United States",
          "New York, New York, United States",
          "New York, New York, United States",
          "New York, New York, United States",
          "New York, New York, United States",
          "New York, New York, United States",
          "Oldham, Oldham, United Kingdom",
          "London, England, United Kingdom",
          "London, England, United Kingdom",
          "London, England, United Kingdom",
          "London, England, United Kingdom",
          "London, England, United Kingdom",
          "London, England, United Kingdom",
          "London, England, United Kingdom",
          "London, England, United Kingdom",
          "London, England, United Kingdom",
          "London, England, United Kingdom",
          "London, England, United Kingdom",
          "London, England, United Kingdom",
          "London, England, United Kingdom",
          "San Francisco, California, United States",
          "San Francisco, California, United States",
          "San Francisco, California, United States",
          "San Francisco, California, United States",
          "San Francisco, California, United States",
          "San Francisco, California, United States",
          "San Francisco, California, United States",
          "San Francisco, California, United States",
          "San Francisco, California, United States",
          "San Francisco, California, United States",
          "San Francisco, California, United States",
          "San Francisco, California, United States",
          "San Francisco, California, United States",
          "San Francisco, California, United States",
          "San Francisco, California, United States",
          "San Francisco, California, United States",
          "San Francisco, California, United States",
          "San Francisco, California, United States",
          "San Francisco, California, United States",
          "La Jolla, California, United States",
          "Toulouse, Midi-Pyrenees, France",
          "Delhi, Delhi, India",
          "El Segundo, California, United States",
          "Houston, Texas, United States",
          "Atlanta, Georgia, United States",
          "Eschborn, Hessen, Germany",
          "Cambridge, Cambridgeshire, United Kingdom",
          "Cambridge, Cambridgeshire, United Kingdom",
          "Cambridge, Cambridgeshire, United Kingdom",
          "Cambridge, Cambridgeshire, United Kingdom",
          "Cambridge, Cambridgeshire, United Kingdom",
          "Guilford, Connecticut, United States",
          "Guilford, Connecticut, United States",
          "Oslo, Oslo, Norway",
          "San Mateo, California, United States",
          "Berlin, Berlin, Germany",
          "Berlin, Berlin, Germany",
          "Durham, North Carolina, United States",
          "Durham, North Carolina, United States",
          "Durham, North Carolina, United States",
          "Toronto, Ontario, Canada",
          "Toronto, Ontario, Canada",
          "Toronto, Ontario, Canada",
          "Toronto, Ontario, Canada",
          "Toronto, Ontario, Canada",
          "Toronto, Ontario, Canada",
          "Toronto, Ontario, Canada",
          "Toronto, Ontario, Canada",
          "Toronto, Ontario, Canada",
          "Toronto, Ontario, Canada",
          "Heidelberg, Baden-Wurttemberg, Germany",
          "Shenzhen, Guangdong, China",
          "Shenzhen, Guangdong, China",
          "Rouen, Haute-Normandie, France",
          "Singapore, Central Region, Singapore",
          "Singapore, Central Region, Singapore",
          "Singapore, Central Region, Singapore",
          "St Louis, Missouri, United States",
          "Cambridge, Massachusetts, United States",
          "Cambridge, Massachusetts, United States",
          "Cambridge, Massachusetts, United States",
          "Cambridge, Massachusetts, United States",
          "Cambridge, Massachusetts, United States",
          "Cambridge, Massachusetts, United States",
          "Cambridge, Massachusetts, United States",
          "Cambridge, Massachusetts, United States",
          "Cambridge, Massachusetts, United States",
          "Cambridge, Massachusetts, United States",
          "Cambridge, Massachusetts, United States",
          "Cambridge, Massachusetts, United States",
          "Cambridge, Massachusetts, United States",
          "Cambridge, Massachusetts, United States",
          "Henderson, Nevada, United States",
          "Berkeley, California, United States",
          "Haidian, Beijing, China",
          "Sunnyvale, California, United States",
          "Sunnyvale, California, United States",
          "Kirkland, Washington, United States",
          "Helsinki, Southern Finland, Finland",
          "Tel Aviv, Tel Aviv, Israel",
          "Tel Aviv, Tel Aviv, Israel",
          "Mountain View, California, United States",
          "Mountain View, California, United States",
          "Mountain View, California, United States",
          "Dublin, Dublin, Ireland",
          "Dublin, Dublin, Ireland",
          "Utrecht, Utrecht, The Netherlands",
          "Boston, Massachusetts, United States",
          "Boston, Massachusetts, United States",
          "Boston, Massachusetts, United States",
          "Boston, Massachusetts, United States",
          "Boston, Massachusetts, United States",
          "Kidlington, Oxfordshire, United Kingdom",
          "Headington, Oxfordshire, United Kingdom",
          "Waltham, Massachusetts, United States",
          "Waltham, Massachusetts, United States",
          "Paris, Ile-de-France, France",
          "Paris, Ile-de-France, France",
          "Paris, Ile-de-France, France",
          "Paris, Ile-de-France, France",
          "Paris, Ile-de-France, France",
          "Paris, Ile-de-France, France",
          "Paris, Ile-de-France, France",
          "Paris, Ile-de-France, France",
          "Broomfield, Colorado, United States",
          "Palo Alto, California, United States",
          "Palo Alto, California, United States",
          "Palo Alto, California, United States",
          "Palo Alto, California, United States",
          "Palo Alto, California, United States",
          "Palo Alto, California, United States",
          "Sursee, Luzern, Switzerland",
          "Eagan, Minnesota, United States",
          "Monrovia, California, United States",
          "Branford, Connecticut, United States",
          "Charlottesville, Virginia, United States",
          "Vienna, Wien, Austria",
          "Vienna, Wien, Austria",
          "Dallas, Texas, United States",
          "Mapo, Seoul-t'ukpyolsi, South Korea",
          "Issy-les-moulineaux, Ile-de-France, France",
          "Salt Lake City, Utah, United States",
          "Vancouver, British Columbia, Canada",
          "Vancouver, British Columbia, Canada",
          "Richmond, California, United States",
          "Richmond, California, United States",
          "Suzhou, Jiangsu, China",
          "Goulier, Midi-Pyrenees, France",
          "Cardiff, Cardiff, United Kingdom",
          "Seattle, Washington, United States",
          "Seattle, Washington, United States",
          "Seattle, Washington, United States",
          "Framingham, Massachusetts, United States",
          "San Carlos, California, United States",
          "Hyderabad, Andhra Pradesh, India",
          "Budapest, Budapest, Hungary",
          "Budapest, Budapest, Hungary",
          "Jersey City, New Jersey, United States",
          "Raleigh, North Carolina, United States",
          "San Diego, California, United States",
          "San Diego, California, United States",
          "San Diego, California, United States",
          "San Diego, California, United States",
          "San Diego, California, United States",
          "San Diego, California, United States",
          "Wilmington, Delaware, United States",
          "Copenhagen, Hovedstaden, Denmark",
          "Oxford, Oxfordshire, United Kingdom",
          "Oxford, Oxfordshire, United Kingdom",
          "Shanghai, Shanghai, China",
          "Shanghai, Shanghai, China",
          "South San Francisco, California, United States",
          "South San Francisco, California, United States",
          "South San Francisco, California, United States",
          "Los Altos, California, United States",
          "Los Altos, California, United States",
          "Emeryville, California, United States",
          "Emeryville, California, United States",
          "Hong Kong, Hong Kong Island, Hong Kong",
          "Sofia, Grad Sofiya, Bulgaria",
          "Barcelona, Catalonia, Spain",
          "Barcelona, Catalonia, Spain",
          "Barcelona, Catalonia, Spain",
          "Menlo Park, California, United States",
          "Menlo Park, California, United States",
          "Anyang, Kyonggi-do, South Korea",
          "Vero Beach, Florida, United States",
          "Los Angeles, California, United States",
          "Santa Barbara, California, United States",
          "Seoul, Seoul-t'ukpyolsi, South Korea",
          "Seoul, Seoul-t'ukpyolsi, South Korea",
          "Scottsdale, Arizona, United States",
          "Santa Cruz, California, United States",
          "Adelaide, South Australia, Australia",
          "Newburyport, Massachusetts, United States",
          "Hanborough, Oxfordshire, United Kingdom",
          "Montréal, Quebec, Canada",
          "Montréal, Quebec, Canada",
          "Montréal, Quebec, Canada",
          "Montréal, Quebec, Canada",
          "Osaka, Osaka, Japan",
          "Évry, Ile-de-France, France",
          "Kraków, Malopolskie, Poland",
          "Glasgow, Glasgow City, United Kingdom",
          "Nouzilly, Centre, France",
          "Warsaw, Mazowieckie, Poland",
          "San Bruno, California, United States",
          "Wollongong, New South Wales, Australia",
          "Jerusalem, Yerushalayim, Israel",
          "Busan, Pusan-jikhalsi, South Korea",
          "Boyds, Maryland, United States",
          "Pasadena, California, United States",
          "Columbus, Ohio, United States",
          "San Jose, California, United States",
          "Foster City, California, United States",
          "Chicago, Illinois, United States",
          "Lyon, Rhone-Alpes, France",
          "Padova, Veneto, Italy",
          "Wangjing, Beijing, China",
          "Middleton, Wisconsin, United States"
         ],
         "lat": [
          37.263332500000004,
          44.058172799999994,
          40.7127281,
          40.7127281,
          40.7127281,
          40.7127281,
          40.7127281,
          40.7127281,
          40.7127281,
          40.7127281,
          40.7127281,
          40.7127281,
          40.7127281,
          40.7127281,
          40.7127281,
          40.7127281,
          53.54304485,
          51.5073219,
          51.5073219,
          51.5073219,
          51.5073219,
          51.5073219,
          51.5073219,
          51.5073219,
          51.5073219,
          51.5073219,
          51.5073219,
          51.5073219,
          51.5073219,
          51.5073219,
          37.779026200000004,
          37.779026200000004,
          37.779026200000004,
          37.779026200000004,
          37.779026200000004,
          37.779026200000004,
          37.779026200000004,
          37.779026200000004,
          37.779026200000004,
          37.779026200000004,
          37.779026200000004,
          37.779026200000004,
          37.779026200000004,
          37.779026200000004,
          37.779026200000004,
          37.779026200000004,
          37.779026200000004,
          37.779026200000004,
          37.779026200000004,
          32.83259,
          43.362058399999995,
          28.6517178,
          33.917028,
          29.7589382,
          33.749098700000005,
          50.1426423,
          52.2034823,
          52.2034823,
          52.2034823,
          52.2034823,
          52.2034823,
          41.2889866,
          41.2889866,
          59.913330099999996,
          37.496904,
          52.503400199999994,
          52.503400199999994,
          35.996653,
          35.996653,
          35.996653,
          43.6534817,
          43.6534817,
          43.6534817,
          43.6534817,
          43.6534817,
          43.6534817,
          43.6534817,
          43.6534817,
          43.6534817,
          43.6534817,
          49.40935820000001,
          22.555454,
          22.555454,
          49.4404591,
          1.357107,
          1.357107,
          1.357107,
          38.6268039,
          42.3750997,
          42.3750997,
          42.3750997,
          42.3750997,
          42.3750997,
          42.3750997,
          42.3750997,
          42.3750997,
          42.3750997,
          42.3750997,
          42.3750997,
          42.3750997,
          42.3750997,
          42.3750997,
          36.0301134,
          37.8708393,
          39.9580718,
          37.368830100000004,
          37.368830100000004,
          47.6859573,
          60.1717794,
          32.087714899999995,
          32.087714899999995,
          37.3893889,
          37.3893889,
          37.3893889,
          53.3497645,
          53.3497645,
          52.094975299999994,
          42.3602534,
          42.3602534,
          42.3602534,
          42.3602534,
          42.3602534,
          51.823462,
          51.7602314,
          42.3756401,
          42.3756401,
          48.856696899999996,
          48.856696899999996,
          48.856696899999996,
          48.856696899999996,
          48.856696899999996,
          48.856696899999996,
          48.856696899999996,
          48.856696899999996,
          39.92038270000001,
          37.44432929999999,
          37.44432929999999,
          37.44432929999999,
          37.44432929999999,
          37.44432929999999,
          37.44432929999999,
          47.17403710000001,
          44.818173,
          34.1483499,
          41.2795414,
          38.029306,
          48.2083537,
          48.2083537,
          32.7762719,
          37.5396369,
          48.8250508,
          40.759619799999996,
          49.2608724,
          49.2608724,
          37.9357576,
          37.9357576,
          31.3016935,
          42.7420921,
          51.48165460000001,
          47.6038321,
          47.6038321,
          47.6038321,
          42.2792625,
          37.504936,
          15.8142734,
          47.5577402,
          47.5577402,
          40.7281575,
          35.7803977,
          32.7174209,
          32.7174209,
          32.7174209,
          32.7174209,
          32.7174209,
          32.7174209,
          39.7459468,
          55.6867243,
          51.7520131,
          51.7520131,
          31.225298499999997,
          31.225298499999997,
          37.6549493,
          37.6549493,
          37.6549493,
          37.379062899999994,
          37.379062899999994,
          37.8314089,
          37.8314089,
          22.2850394,
          42.72582050000001,
          41.3828939,
          41.3828939,
          41.3828939,
          37.45196710000001,
          37.45196710000001,
          37.3938528,
          27.6387163,
          34.0536909,
          34.4221319,
          37.5666791,
          37.5666791,
          33.4942189,
          37.050096,
          -34.928180499999996,
          42.812591299999994,
          51.81468635,
          45.4972159,
          45.4972159,
          45.4972159,
          45.4972159,
          34.7021912,
          48.6241665,
          50.0469432,
          55.8609825,
          47.543173100000004,
          52.2319581,
          37.6304904,
          -34.4243941,
          31.7760743,
          35.1799528,
          39.1840886,
          34.14764520000001,
          39.9622601,
          37.3361905,
          37.560033600000004,
          41.87556160000001,
          45.75781370000001,
          45.4077172,
          39.991863200000004,
          43.0962919
         ],
         "legendgroup": "",
         "lon": [
          127.02874720000001,
          -121.31530959999999,
          -74.0060152,
          -74.0060152,
          -74.0060152,
          -74.0060152,
          -74.0060152,
          -74.0060152,
          -74.0060152,
          -74.0060152,
          -74.0060152,
          -74.0060152,
          -74.0060152,
          -74.0060152,
          -74.0060152,
          -74.0060152,
          -2.1206361658922197,
          -0.1276474,
          -0.1276474,
          -0.1276474,
          -0.1276474,
          -0.1276474,
          -0.1276474,
          -0.1276474,
          -0.1276474,
          -0.1276474,
          -0.1276474,
          -0.1276474,
          -0.1276474,
          -0.1276474,
          -122.4199061,
          -122.4199061,
          -122.4199061,
          -122.4199061,
          -122.4199061,
          -122.4199061,
          -122.4199061,
          -122.4199061,
          -122.4199061,
          -122.4199061,
          -122.4199061,
          -122.4199061,
          -122.4199061,
          -122.4199061,
          -122.4199061,
          -122.4199061,
          -122.4199061,
          -122.4199061,
          -122.4199061,
          -117.27168390000001,
          1.4606727,
          77.22193879999998,
          -118.4156337,
          -95.36769740000001,
          -84.39018490000002,
          8.5716274,
          0.1235817,
          0.1235817,
          0.1235817,
          0.1235817,
          0.1235817,
          -72.68176159999999,
          -72.68176159999999,
          10.7389701,
          -122.33305729999998,
          13.338637300000002,
          13.338637300000002,
          -78.90180529999998,
          -78.90180529999998,
          -78.90180529999998,
          -79.38393470000003,
          -79.38393470000003,
          -79.38393470000003,
          -79.38393470000003,
          -79.38393470000003,
          -79.38393470000003,
          -79.38393470000003,
          -79.38393470000003,
          -79.38393470000003,
          -79.38393470000003,
          8.694724,
          114.0543297,
          114.0543297,
          1.0939658,
          103.81949920000001,
          103.81949920000001,
          103.81949920000001,
          -90.1994097,
          -71.1056157,
          -71.1056157,
          -71.1056157,
          -71.1056157,
          -71.1056157,
          -71.1056157,
          -71.1056157,
          -71.1056157,
          -71.1056157,
          -71.1056157,
          -71.1056157,
          -71.1056157,
          -71.1056157,
          -71.1056157,
          -114.98261940000002,
          -122.27286389999999,
          116.292405,
          -122.03634960000001,
          -122.03634960000001,
          -122.1920249,
          24.94135480000001,
          34.784933270712344,
          34.784933270712344,
          -122.0832101,
          -122.0832101,
          -122.0832101,
          -6.2602732,
          -6.2602732,
          5.109708,
          -71.0582912,
          -71.0582912,
          -71.0582912,
          -71.0582912,
          -71.0582912,
          -1.2885316999999998,
          -1.2111655000000001,
          -71.2358004,
          -71.2358004,
          2.3514616000000004,
          2.3514616000000004,
          2.3514616000000004,
          2.3514616000000004,
          2.3514616000000004,
          2.3514616000000004,
          2.3514616000000004,
          2.3514616000000004,
          -105.06914640000002,
          -122.15984650000001,
          -122.15984650000001,
          -122.15984650000001,
          -122.15984650000001,
          -122.15984650000001,
          -122.15984650000001,
          8.1089654,
          -93.1659179,
          -118.0014517,
          -72.81509890000002,
          -78.4766781,
          16.372504199999998,
          16.372504199999998,
          -96.7968559,
          126.94599290000001,
          2.273457,
          -111.88679750000001,
          -123.11395290000002,
          -123.11395290000002,
          -122.3477486,
          -122.3477486,
          120.5810725,
          1.5069617937050437,
          -3.1791934,
          -122.3300624,
          -122.3300624,
          -122.3300624,
          -71.416172,
          -122.2618236,
          78.02675079999999,
          19.07776531737633,
          19.07776531737633,
          -74.0776417,
          -78.63909890000002,
          -117.16277140000001,
          -117.16277140000001,
          -117.16277140000001,
          -117.16277140000001,
          -117.16277140000001,
          -117.16277140000001,
          -75.546589,
          12.5700724,
          -1.2578499,
          -1.2578499,
          121.4890497,
          121.4890497,
          -122.40812509999999,
          -122.40812509999999,
          -122.40812509999999,
          -122.116578,
          -122.116578,
          -122.28652659999999,
          -122.28652659999999,
          114.15838190000001,
          23.337461800000003,
          2.1774322,
          2.1774322,
          2.1774322,
          -122.17799270000002,
          -122.17799270000002,
          126.9570605,
          -80.39753990000001,
          -118.2427666,
          -119.7026673,
          126.97829140000002,
          126.97829140000002,
          -111.92601840000002,
          -121.9905908,
          138.5999312,
          -70.87727509999998,
          -1.3757906908707596,
          -73.61036419999998,
          -73.61036419999998,
          -73.61036419999998,
          -73.61036419999998,
          135.4955866,
          2.4289667,
          19.99715343583669,
          -4.2488787000000015,
          0.7447467,
          21.0067249,
          -122.41108349999999,
          150.89385,
          35.228296059910775,
          129.0752365,
          -77.3122325,
          -118.14447790000001,
          -83.00070649999998,
          -121.89058329999999,
          -122.26885220000001,
          -87.6244212,
          4.8320114,
          11.8734455,
          116.4600088,
          -89.5119565
         ],
         "marker": {
          "color": [
           1,
           1,
           14,
           14,
           14,
           14,
           14,
           14,
           14,
           14,
           14,
           14,
           14,
           14,
           14,
           14,
           1,
           13,
           13,
           13,
           13,
           13,
           13,
           13,
           13,
           13,
           13,
           13,
           13,
           13,
           19,
           19,
           19,
           19,
           19,
           19,
           19,
           19,
           19,
           19,
           19,
           19,
           19,
           19,
           19,
           19,
           19,
           19,
           19,
           1,
           1,
           1,
           1,
           1,
           1,
           1,
           5,
           5,
           5,
           5,
           5,
           2,
           2,
           1,
           1,
           2,
           2,
           3,
           3,
           3,
           10,
           10,
           10,
           10,
           10,
           10,
           10,
           10,
           10,
           10,
           1,
           2,
           2,
           1,
           3,
           3,
           3,
           1,
           14,
           14,
           14,
           14,
           14,
           14,
           14,
           14,
           14,
           14,
           14,
           14,
           14,
           14,
           1,
           1,
           1,
           2,
           2,
           1,
           1,
           2,
           2,
           3,
           3,
           3,
           2,
           2,
           1,
           5,
           5,
           5,
           5,
           5,
           1,
           1,
           2,
           2,
           8,
           8,
           8,
           8,
           8,
           8,
           8,
           8,
           1,
           6,
           6,
           6,
           6,
           6,
           6,
           1,
           1,
           1,
           1,
           1,
           2,
           2,
           1,
           1,
           1,
           1,
           2,
           2,
           2,
           2,
           1,
           1,
           1,
           3,
           3,
           3,
           1,
           1,
           1,
           2,
           2,
           1,
           1,
           6,
           6,
           6,
           6,
           6,
           6,
           1,
           1,
           2,
           2,
           2,
           2,
           3,
           3,
           3,
           2,
           2,
           2,
           2,
           1,
           1,
           3,
           3,
           3,
           2,
           2,
           1,
           1,
           1,
           1,
           2,
           2,
           1,
           1,
           1,
           1,
           1,
           4,
           4,
           4,
           4,
           1,
           1,
           1,
           1,
           1,
           1,
           1,
           1,
           1,
           1,
           1,
           1,
           1,
           1,
           1,
           1,
           1,
           1,
           1,
           1
          ],
          "coloraxis": "coloraxis",
          "size": [
           1,
           1,
           14,
           14,
           14,
           14,
           14,
           14,
           14,
           14,
           14,
           14,
           14,
           14,
           14,
           14,
           1,
           13,
           13,
           13,
           13,
           13,
           13,
           13,
           13,
           13,
           13,
           13,
           13,
           13,
           19,
           19,
           19,
           19,
           19,
           19,
           19,
           19,
           19,
           19,
           19,
           19,
           19,
           19,
           19,
           19,
           19,
           19,
           19,
           1,
           1,
           1,
           1,
           1,
           1,
           1,
           5,
           5,
           5,
           5,
           5,
           2,
           2,
           1,
           1,
           2,
           2,
           3,
           3,
           3,
           10,
           10,
           10,
           10,
           10,
           10,
           10,
           10,
           10,
           10,
           1,
           2,
           2,
           1,
           3,
           3,
           3,
           1,
           14,
           14,
           14,
           14,
           14,
           14,
           14,
           14,
           14,
           14,
           14,
           14,
           14,
           14,
           1,
           1,
           1,
           2,
           2,
           1,
           1,
           2,
           2,
           3,
           3,
           3,
           2,
           2,
           1,
           5,
           5,
           5,
           5,
           5,
           1,
           1,
           2,
           2,
           8,
           8,
           8,
           8,
           8,
           8,
           8,
           8,
           1,
           6,
           6,
           6,
           6,
           6,
           6,
           1,
           1,
           1,
           1,
           1,
           2,
           2,
           1,
           1,
           1,
           1,
           2,
           2,
           2,
           2,
           1,
           1,
           1,
           3,
           3,
           3,
           1,
           1,
           1,
           2,
           2,
           1,
           1,
           6,
           6,
           6,
           6,
           6,
           6,
           1,
           1,
           2,
           2,
           2,
           2,
           3,
           3,
           3,
           2,
           2,
           2,
           2,
           1,
           1,
           3,
           3,
           3,
           2,
           2,
           1,
           1,
           1,
           1,
           2,
           2,
           1,
           1,
           1,
           1,
           1,
           4,
           4,
           4,
           4,
           1,
           1,
           1,
           1,
           1,
           1,
           1,
           1,
           1,
           1,
           1,
           1,
           1,
           1,
           1,
           1,
           1,
           1,
           1,
           1
          ],
          "sizemode": "area",
          "sizeref": 0.08444444444444445
         },
         "mode": "markers",
         "name": "",
         "showlegend": false,
         "subplot": "mapbox",
         "type": "scattermapbox"
        }
       ],
       "layout": {
        "coloraxis": {
         "colorbar": {
          "title": {
           "text": "count"
          }
         },
         "colorscale": [
          [
           0,
           "#440154"
          ],
          [
           0.1111111111111111,
           "#482878"
          ],
          [
           0.2222222222222222,
           "#3e4989"
          ],
          [
           0.3333333333333333,
           "#31688e"
          ],
          [
           0.4444444444444444,
           "#26828e"
          ],
          [
           0.5555555555555556,
           "#1f9e89"
          ],
          [
           0.6666666666666666,
           "#35b779"
          ],
          [
           0.7777777777777778,
           "#6ece58"
          ],
          [
           0.8888888888888888,
           "#b5de2b"
          ],
          [
           1,
           "#fde725"
          ]
         ]
        },
        "legend": {
         "itemsizing": "constant",
         "tracegroupgap": 0
        },
        "mapbox": {
         "center": {
          "lat": 40.62389196391304,
          "lon": -47.91590941691798
         },
         "domain": {
          "x": [
           0,
           1
          ],
          "y": [
           0,
           1
          ]
         },
         "style": "open-street-map",
         "zoom": 3
        },
        "margin": {
         "b": 0,
         "l": 0,
         "r": 0,
         "t": 0
        },
        "template": {
         "data": {
          "bar": [
           {
            "error_x": {
             "color": "#2a3f5f"
            },
            "error_y": {
             "color": "#2a3f5f"
            },
            "marker": {
             "line": {
              "color": "#E5ECF6",
              "width": 0.5
             }
            },
            "type": "bar"
           }
          ],
          "barpolar": [
           {
            "marker": {
             "line": {
              "color": "#E5ECF6",
              "width": 0.5
             }
            },
            "type": "barpolar"
           }
          ],
          "carpet": [
           {
            "aaxis": {
             "endlinecolor": "#2a3f5f",
             "gridcolor": "white",
             "linecolor": "white",
             "minorgridcolor": "white",
             "startlinecolor": "#2a3f5f"
            },
            "baxis": {
             "endlinecolor": "#2a3f5f",
             "gridcolor": "white",
             "linecolor": "white",
             "minorgridcolor": "white",
             "startlinecolor": "#2a3f5f"
            },
            "type": "carpet"
           }
          ],
          "choropleth": [
           {
            "colorbar": {
             "outlinewidth": 0,
             "ticks": ""
            },
            "type": "choropleth"
           }
          ],
          "contour": [
           {
            "colorbar": {
             "outlinewidth": 0,
             "ticks": ""
            },
            "colorscale": [
             [
              0,
              "#0d0887"
             ],
             [
              0.1111111111111111,
              "#46039f"
             ],
             [
              0.2222222222222222,
              "#7201a8"
             ],
             [
              0.3333333333333333,
              "#9c179e"
             ],
             [
              0.4444444444444444,
              "#bd3786"
             ],
             [
              0.5555555555555556,
              "#d8576b"
             ],
             [
              0.6666666666666666,
              "#ed7953"
             ],
             [
              0.7777777777777778,
              "#fb9f3a"
             ],
             [
              0.8888888888888888,
              "#fdca26"
             ],
             [
              1,
              "#f0f921"
             ]
            ],
            "type": "contour"
           }
          ],
          "contourcarpet": [
           {
            "colorbar": {
             "outlinewidth": 0,
             "ticks": ""
            },
            "type": "contourcarpet"
           }
          ],
          "heatmap": [
           {
            "colorbar": {
             "outlinewidth": 0,
             "ticks": ""
            },
            "colorscale": [
             [
              0,
              "#0d0887"
             ],
             [
              0.1111111111111111,
              "#46039f"
             ],
             [
              0.2222222222222222,
              "#7201a8"
             ],
             [
              0.3333333333333333,
              "#9c179e"
             ],
             [
              0.4444444444444444,
              "#bd3786"
             ],
             [
              0.5555555555555556,
              "#d8576b"
             ],
             [
              0.6666666666666666,
              "#ed7953"
             ],
             [
              0.7777777777777778,
              "#fb9f3a"
             ],
             [
              0.8888888888888888,
              "#fdca26"
             ],
             [
              1,
              "#f0f921"
             ]
            ],
            "type": "heatmap"
           }
          ],
          "heatmapgl": [
           {
            "colorbar": {
             "outlinewidth": 0,
             "ticks": ""
            },
            "colorscale": [
             [
              0,
              "#0d0887"
             ],
             [
              0.1111111111111111,
              "#46039f"
             ],
             [
              0.2222222222222222,
              "#7201a8"
             ],
             [
              0.3333333333333333,
              "#9c179e"
             ],
             [
              0.4444444444444444,
              "#bd3786"
             ],
             [
              0.5555555555555556,
              "#d8576b"
             ],
             [
              0.6666666666666666,
              "#ed7953"
             ],
             [
              0.7777777777777778,
              "#fb9f3a"
             ],
             [
              0.8888888888888888,
              "#fdca26"
             ],
             [
              1,
              "#f0f921"
             ]
            ],
            "type": "heatmapgl"
           }
          ],
          "histogram": [
           {
            "marker": {
             "colorbar": {
              "outlinewidth": 0,
              "ticks": ""
             }
            },
            "type": "histogram"
           }
          ],
          "histogram2d": [
           {
            "colorbar": {
             "outlinewidth": 0,
             "ticks": ""
            },
            "colorscale": [
             [
              0,
              "#0d0887"
             ],
             [
              0.1111111111111111,
              "#46039f"
             ],
             [
              0.2222222222222222,
              "#7201a8"
             ],
             [
              0.3333333333333333,
              "#9c179e"
             ],
             [
              0.4444444444444444,
              "#bd3786"
             ],
             [
              0.5555555555555556,
              "#d8576b"
             ],
             [
              0.6666666666666666,
              "#ed7953"
             ],
             [
              0.7777777777777778,
              "#fb9f3a"
             ],
             [
              0.8888888888888888,
              "#fdca26"
             ],
             [
              1,
              "#f0f921"
             ]
            ],
            "type": "histogram2d"
           }
          ],
          "histogram2dcontour": [
           {
            "colorbar": {
             "outlinewidth": 0,
             "ticks": ""
            },
            "colorscale": [
             [
              0,
              "#0d0887"
             ],
             [
              0.1111111111111111,
              "#46039f"
             ],
             [
              0.2222222222222222,
              "#7201a8"
             ],
             [
              0.3333333333333333,
              "#9c179e"
             ],
             [
              0.4444444444444444,
              "#bd3786"
             ],
             [
              0.5555555555555556,
              "#d8576b"
             ],
             [
              0.6666666666666666,
              "#ed7953"
             ],
             [
              0.7777777777777778,
              "#fb9f3a"
             ],
             [
              0.8888888888888888,
              "#fdca26"
             ],
             [
              1,
              "#f0f921"
             ]
            ],
            "type": "histogram2dcontour"
           }
          ],
          "mesh3d": [
           {
            "colorbar": {
             "outlinewidth": 0,
             "ticks": ""
            },
            "type": "mesh3d"
           }
          ],
          "parcoords": [
           {
            "line": {
             "colorbar": {
              "outlinewidth": 0,
              "ticks": ""
             }
            },
            "type": "parcoords"
           }
          ],
          "pie": [
           {
            "automargin": true,
            "type": "pie"
           }
          ],
          "scatter": [
           {
            "marker": {
             "colorbar": {
              "outlinewidth": 0,
              "ticks": ""
             }
            },
            "type": "scatter"
           }
          ],
          "scatter3d": [
           {
            "line": {
             "colorbar": {
              "outlinewidth": 0,
              "ticks": ""
             }
            },
            "marker": {
             "colorbar": {
              "outlinewidth": 0,
              "ticks": ""
             }
            },
            "type": "scatter3d"
           }
          ],
          "scattercarpet": [
           {
            "marker": {
             "colorbar": {
              "outlinewidth": 0,
              "ticks": ""
             }
            },
            "type": "scattercarpet"
           }
          ],
          "scattergeo": [
           {
            "marker": {
             "colorbar": {
              "outlinewidth": 0,
              "ticks": ""
             }
            },
            "type": "scattergeo"
           }
          ],
          "scattergl": [
           {
            "marker": {
             "colorbar": {
              "outlinewidth": 0,
              "ticks": ""
             }
            },
            "type": "scattergl"
           }
          ],
          "scattermapbox": [
           {
            "marker": {
             "colorbar": {
              "outlinewidth": 0,
              "ticks": ""
             }
            },
            "type": "scattermapbox"
           }
          ],
          "scatterpolar": [
           {
            "marker": {
             "colorbar": {
              "outlinewidth": 0,
              "ticks": ""
             }
            },
            "type": "scatterpolar"
           }
          ],
          "scatterpolargl": [
           {
            "marker": {
             "colorbar": {
              "outlinewidth": 0,
              "ticks": ""
             }
            },
            "type": "scatterpolargl"
           }
          ],
          "scatterternary": [
           {
            "marker": {
             "colorbar": {
              "outlinewidth": 0,
              "ticks": ""
             }
            },
            "type": "scatterternary"
           }
          ],
          "surface": [
           {
            "colorbar": {
             "outlinewidth": 0,
             "ticks": ""
            },
            "colorscale": [
             [
              0,
              "#0d0887"
             ],
             [
              0.1111111111111111,
              "#46039f"
             ],
             [
              0.2222222222222222,
              "#7201a8"
             ],
             [
              0.3333333333333333,
              "#9c179e"
             ],
             [
              0.4444444444444444,
              "#bd3786"
             ],
             [
              0.5555555555555556,
              "#d8576b"
             ],
             [
              0.6666666666666666,
              "#ed7953"
             ],
             [
              0.7777777777777778,
              "#fb9f3a"
             ],
             [
              0.8888888888888888,
              "#fdca26"
             ],
             [
              1,
              "#f0f921"
             ]
            ],
            "type": "surface"
           }
          ],
          "table": [
           {
            "cells": {
             "fill": {
              "color": "#EBF0F8"
             },
             "line": {
              "color": "white"
             }
            },
            "header": {
             "fill": {
              "color": "#C8D4E3"
             },
             "line": {
              "color": "white"
             }
            },
            "type": "table"
           }
          ]
         },
         "layout": {
          "annotationdefaults": {
           "arrowcolor": "#2a3f5f",
           "arrowhead": 0,
           "arrowwidth": 1
          },
          "coloraxis": {
           "colorbar": {
            "outlinewidth": 0,
            "ticks": ""
           }
          },
          "colorscale": {
           "diverging": [
            [
             0,
             "#8e0152"
            ],
            [
             0.1,
             "#c51b7d"
            ],
            [
             0.2,
             "#de77ae"
            ],
            [
             0.3,
             "#f1b6da"
            ],
            [
             0.4,
             "#fde0ef"
            ],
            [
             0.5,
             "#f7f7f7"
            ],
            [
             0.6,
             "#e6f5d0"
            ],
            [
             0.7,
             "#b8e186"
            ],
            [
             0.8,
             "#7fbc41"
            ],
            [
             0.9,
             "#4d9221"
            ],
            [
             1,
             "#276419"
            ]
           ],
           "sequential": [
            [
             0,
             "#0d0887"
            ],
            [
             0.1111111111111111,
             "#46039f"
            ],
            [
             0.2222222222222222,
             "#7201a8"
            ],
            [
             0.3333333333333333,
             "#9c179e"
            ],
            [
             0.4444444444444444,
             "#bd3786"
            ],
            [
             0.5555555555555556,
             "#d8576b"
            ],
            [
             0.6666666666666666,
             "#ed7953"
            ],
            [
             0.7777777777777778,
             "#fb9f3a"
            ],
            [
             0.8888888888888888,
             "#fdca26"
            ],
            [
             1,
             "#f0f921"
            ]
           ],
           "sequentialminus": [
            [
             0,
             "#0d0887"
            ],
            [
             0.1111111111111111,
             "#46039f"
            ],
            [
             0.2222222222222222,
             "#7201a8"
            ],
            [
             0.3333333333333333,
             "#9c179e"
            ],
            [
             0.4444444444444444,
             "#bd3786"
            ],
            [
             0.5555555555555556,
             "#d8576b"
            ],
            [
             0.6666666666666666,
             "#ed7953"
            ],
            [
             0.7777777777777778,
             "#fb9f3a"
            ],
            [
             0.8888888888888888,
             "#fdca26"
            ],
            [
             1,
             "#f0f921"
            ]
           ]
          },
          "colorway": [
           "#636efa",
           "#EF553B",
           "#00cc96",
           "#ab63fa",
           "#FFA15A",
           "#19d3f3",
           "#FF6692",
           "#B6E880",
           "#FF97FF",
           "#FECB52"
          ],
          "font": {
           "color": "#2a3f5f"
          },
          "geo": {
           "bgcolor": "white",
           "lakecolor": "white",
           "landcolor": "#E5ECF6",
           "showlakes": true,
           "showland": true,
           "subunitcolor": "white"
          },
          "hoverlabel": {
           "align": "left"
          },
          "hovermode": "closest",
          "mapbox": {
           "style": "light"
          },
          "paper_bgcolor": "white",
          "plot_bgcolor": "#E5ECF6",
          "polar": {
           "angularaxis": {
            "gridcolor": "white",
            "linecolor": "white",
            "ticks": ""
           },
           "bgcolor": "#E5ECF6",
           "radialaxis": {
            "gridcolor": "white",
            "linecolor": "white",
            "ticks": ""
           }
          },
          "scene": {
           "xaxis": {
            "backgroundcolor": "#E5ECF6",
            "gridcolor": "white",
            "gridwidth": 2,
            "linecolor": "white",
            "showbackground": true,
            "ticks": "",
            "zerolinecolor": "white"
           },
           "yaxis": {
            "backgroundcolor": "#E5ECF6",
            "gridcolor": "white",
            "gridwidth": 2,
            "linecolor": "white",
            "showbackground": true,
            "ticks": "",
            "zerolinecolor": "white"
           },
           "zaxis": {
            "backgroundcolor": "#E5ECF6",
            "gridcolor": "white",
            "gridwidth": 2,
            "linecolor": "white",
            "showbackground": true,
            "ticks": "",
            "zerolinecolor": "white"
           }
          },
          "shapedefaults": {
           "line": {
            "color": "#2a3f5f"
           }
          },
          "ternary": {
           "aaxis": {
            "gridcolor": "white",
            "linecolor": "white",
            "ticks": ""
           },
           "baxis": {
            "gridcolor": "white",
            "linecolor": "white",
            "ticks": ""
           },
           "bgcolor": "#E5ECF6",
           "caxis": {
            "gridcolor": "white",
            "linecolor": "white",
            "ticks": ""
           }
          },
          "title": {
           "x": 0.05
          },
          "xaxis": {
           "automargin": true,
           "gridcolor": "white",
           "linecolor": "white",
           "ticks": "",
           "title": {
            "standoff": 15
           },
           "zerolinecolor": "white",
           "zerolinewidth": 2
          },
          "yaxis": {
           "automargin": true,
           "gridcolor": "white",
           "linecolor": "white",
           "ticks": "",
           "title": {
            "standoff": 15
           },
           "zerolinecolor": "white",
           "zerolinewidth": 2
          }
         }
        }
       }
      }
     },
     "metadata": {}
    }
   ],
   "source": [
    "import plotly.express as px\n",
    "fig = px.scatter_mapbox(df, lat=\"latitude\", lon=\"longitude\", size=\"count\", color=\"count\",\n",
    "hover_name=\"headquarters\", hover_data=[\"founded\"], color_continuous_scale=px.colors.sequential.Viridis, size_max=15, zoom=3)\n",
    "fig.update_layout(mapbox_style=\"open-street-map\")\n",
    "fig.update_layout(margin={\"r\":0,\"t\":0,\"l\":0,\"b\":0})\n",
    "fig.show()"
   ]
  },
  {
   "cell_type": "code",
   "execution_count": 94,
   "metadata": {},
   "outputs": [],
   "source": [
    "# df.to_csv('/Users/caihao/VSCode/AI-drug/all_companies.csv', index=False)"
   ]
  }
 ],
 "metadata": {
  "language_info": {
   "codemirror_mode": {
    "name": "ipython",
    "version": 3
   },
   "file_extension": ".py",
   "mimetype": "text/x-python",
   "name": "python",
   "nbconvert_exporter": "python",
   "pygments_lexer": "ipython3",
   "version": "3.7.2-final"
  },
  "orig_nbformat": 2,
  "kernelspec": {
   "name": "py3",
   "display_name": "Py3"
  }
 },
 "nbformat": 4,
 "nbformat_minor": 2
}