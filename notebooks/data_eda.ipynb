{
 "cells": [
  {
   "cell_type": "markdown",
   "metadata": {},
   "source": [
    "## Chronological trend"
   ]
  },
  {
   "cell_type": "code",
   "execution_count": 2,
   "metadata": {},
   "outputs": [],
   "source": [
    "import pandas as pd\n",
    "df = pd.read_csv('/Users/caihao/VSCode/AI-drug/data/all_companies.csv')"
   ]
  },
  {
   "cell_type": "code",
   "execution_count": 2,
   "metadata": {},
   "outputs": [
    {
     "output_type": "execute_result",
     "data": {
      "text/plain": "       company_name                              category  \\\n0             3BIGS  Aggregate and synthesize information   \n1           Amplion  Aggregate and synthesize information   \n2      BioSymetrics  Aggregate and synthesize information   \n3  OneThree Biotech  Aggregate and synthesize information   \n4             Owkin  Aggregate and synthesize information   \n\n                       website  \\\n0             http://3bigs.com   \n1      https://www.amplion.com   \n2  http://www.biosymetrics.com   \n3        https://onethree.bio/   \n4         http://www.owkin.com   \n\n                                          uses_ai_to  \\\n0  Discover relationships between diseases, targe...   \n1  Synthesize biomedical knowledge and biomarker ...   \n2  Process raw phenotypic, imaging, drug, and gen...   \n3  Integrate and analyze data from over 30 types ...   \n4  Build intelligence from distributed datasets, ...   \n\n                               allows_researchers_to  founded  \\\n0                Repurpose drugs for new indications     2017   \n1  Ensure an effective mix of biomarkers, establi...     2013   \n2  Integrate rapid analytics and machine learning...     2015   \n3  Generate new insights across the drug developm...     2018   \n4  Overcome the problem of data-sharing in health...     2016   \n\n                             headquarters      city               state  \\\n0  Suwon, Ch'ungch'ong-namdo, South Korea     Suwon  Ch'ungch'ong-namdo   \n1             Bend, Oregon, United States      Bend              Oregon   \n2       New York, New York, United States  New York            New York   \n3       New York, New York, United States  New York            New York   \n4       New York, New York, United States  New York            New York   \n\n         country   latitude   longitude  count funding_stage  funding_amount  \n0    South Korea  37.263332  127.028747      1           NaN             NaN  \n1  United States  44.058173 -121.315310      1             A             2.6  \n2  United States  40.712728  -74.006015     14           NaN             NaN  \n3  United States  40.712728  -74.006015     14          Seed             2.5  \n4  United States  40.712728  -74.006015     14             A            56.1  ",
      "text/html": "<div>\n<style scoped>\n    .dataframe tbody tr th:only-of-type {\n        vertical-align: middle;\n    }\n\n    .dataframe tbody tr th {\n        vertical-align: top;\n    }\n\n    .dataframe thead th {\n        text-align: right;\n    }\n</style>\n<table border=\"1\" class=\"dataframe\">\n  <thead>\n    <tr style=\"text-align: right;\">\n      <th></th>\n      <th>company_name</th>\n      <th>category</th>\n      <th>website</th>\n      <th>uses_ai_to</th>\n      <th>allows_researchers_to</th>\n      <th>founded</th>\n      <th>headquarters</th>\n      <th>city</th>\n      <th>state</th>\n      <th>country</th>\n      <th>latitude</th>\n      <th>longitude</th>\n      <th>count</th>\n      <th>funding_stage</th>\n      <th>funding_amount</th>\n    </tr>\n  </thead>\n  <tbody>\n    <tr>\n      <th>0</th>\n      <td>3BIGS</td>\n      <td>Aggregate and synthesize information</td>\n      <td>http://3bigs.com</td>\n      <td>Discover relationships between diseases, targe...</td>\n      <td>Repurpose drugs for new indications</td>\n      <td>2017</td>\n      <td>Suwon, Ch'ungch'ong-namdo, South Korea</td>\n      <td>Suwon</td>\n      <td>Ch'ungch'ong-namdo</td>\n      <td>South Korea</td>\n      <td>37.263332</td>\n      <td>127.028747</td>\n      <td>1</td>\n      <td>NaN</td>\n      <td>NaN</td>\n    </tr>\n    <tr>\n      <th>1</th>\n      <td>Amplion</td>\n      <td>Aggregate and synthesize information</td>\n      <td>https://www.amplion.com</td>\n      <td>Synthesize biomedical knowledge and biomarker ...</td>\n      <td>Ensure an effective mix of biomarkers, establi...</td>\n      <td>2013</td>\n      <td>Bend, Oregon, United States</td>\n      <td>Bend</td>\n      <td>Oregon</td>\n      <td>United States</td>\n      <td>44.058173</td>\n      <td>-121.315310</td>\n      <td>1</td>\n      <td>A</td>\n      <td>2.6</td>\n    </tr>\n    <tr>\n      <th>2</th>\n      <td>BioSymetrics</td>\n      <td>Aggregate and synthesize information</td>\n      <td>http://www.biosymetrics.com</td>\n      <td>Process raw phenotypic, imaging, drug, and gen...</td>\n      <td>Integrate rapid analytics and machine learning...</td>\n      <td>2015</td>\n      <td>New York, New York, United States</td>\n      <td>New York</td>\n      <td>New York</td>\n      <td>United States</td>\n      <td>40.712728</td>\n      <td>-74.006015</td>\n      <td>14</td>\n      <td>NaN</td>\n      <td>NaN</td>\n    </tr>\n    <tr>\n      <th>3</th>\n      <td>OneThree Biotech</td>\n      <td>Aggregate and synthesize information</td>\n      <td>https://onethree.bio/</td>\n      <td>Integrate and analyze data from over 30 types ...</td>\n      <td>Generate new insights across the drug developm...</td>\n      <td>2018</td>\n      <td>New York, New York, United States</td>\n      <td>New York</td>\n      <td>New York</td>\n      <td>United States</td>\n      <td>40.712728</td>\n      <td>-74.006015</td>\n      <td>14</td>\n      <td>Seed</td>\n      <td>2.5</td>\n    </tr>\n    <tr>\n      <th>4</th>\n      <td>Owkin</td>\n      <td>Aggregate and synthesize information</td>\n      <td>http://www.owkin.com</td>\n      <td>Build intelligence from distributed datasets, ...</td>\n      <td>Overcome the problem of data-sharing in health...</td>\n      <td>2016</td>\n      <td>New York, New York, United States</td>\n      <td>New York</td>\n      <td>New York</td>\n      <td>United States</td>\n      <td>40.712728</td>\n      <td>-74.006015</td>\n      <td>14</td>\n      <td>A</td>\n      <td>56.1</td>\n    </tr>\n  </tbody>\n</table>\n</div>"
     },
     "metadata": {},
     "execution_count": 2
    }
   ],
   "source": [
    "df.head()"
   ]
  },
  {
   "cell_type": "code",
   "execution_count": 3,
   "metadata": {},
   "outputs": [],
   "source": [
    "# import numpy as np\n",
    "# df = df.replace('na', np.nan)\n",
    "# df.to_csv('/Users/caihao/VSCode/AI-drug/all_companies.csv', index=False)"
   ]
  },
  {
   "cell_type": "code",
   "execution_count": 4,
   "metadata": {},
   "outputs": [
    {
     "output_type": "display_data",
     "data": {
      "text/plain": "<Figure size 432x288 with 1 Axes>",
      "image/svg+xml": "<?xml version=\"1.0\" encoding=\"utf-8\" standalone=\"no\"?>\n<!DOCTYPE svg PUBLIC \"-//W3C//DTD SVG 1.1//EN\"\n  \"http://www.w3.org/Graphics/SVG/1.1/DTD/svg11.dtd\">\n<!-- Created with matplotlib (https://matplotlib.org/) -->\n<svg height=\"283.243416pt\" version=\"1.1\" viewBox=\"0 0 372.425 283.243416\" width=\"372.425pt\" xmlns=\"http://www.w3.org/2000/svg\" xmlns:xlink=\"http://www.w3.org/1999/xlink\">\n <defs>\n  <style type=\"text/css\">\n*{stroke-linecap:butt;stroke-linejoin:round;}\n  </style>\n </defs>\n <g id=\"figure_1\">\n  <g id=\"patch_1\">\n   <path d=\"M -0 283.243416 \nL 372.425 283.243416 \nL 372.425 0 \nL -0 0 \nz\n\" style=\"fill:none;\"/>\n  </g>\n  <g id=\"axes_1\">\n   <g id=\"patch_2\">\n    <path d=\"M 26.925 228.14 \nL 361.725 228.14 \nL 361.725 10.7 \nL 26.925 10.7 \nz\n\" style=\"fill:#ffffff;\"/>\n   </g>\n   <g id=\"patch_3\">\n    <path clip-path=\"url(#p98c0e108dc)\" d=\"M 30.56413 228.14 \nL 37.842391 228.14 \nL 37.842391 222.543089 \nL 30.56413 222.543089 \nz\n\" style=\"fill:#1f77b4;\"/>\n   </g>\n   <g id=\"patch_4\">\n    <path clip-path=\"url(#p98c0e108dc)\" d=\"M 45.120652 228.14 \nL 52.398913 228.14 \nL 52.398913 216.946178 \nL 45.120652 216.946178 \nz\n\" style=\"fill:#1f77b4;\"/>\n   </g>\n   <g id=\"patch_5\">\n    <path clip-path=\"url(#p98c0e108dc)\" d=\"M 59.677174 228.14 \nL 66.955435 228.14 \nL 66.955435 222.543089 \nL 59.677174 222.543089 \nz\n\" style=\"fill:#1f77b4;\"/>\n   </g>\n   <g id=\"patch_6\">\n    <path clip-path=\"url(#p98c0e108dc)\" d=\"M 74.233696 228.14 \nL 81.511957 228.14 \nL 81.511957 216.946178 \nL 74.233696 216.946178 \nz\n\" style=\"fill:#1f77b4;\"/>\n   </g>\n   <g id=\"patch_7\">\n    <path clip-path=\"url(#p98c0e108dc)\" d=\"M 88.790217 228.14 \nL 96.068478 228.14 \nL 96.068478 216.946178 \nL 88.790217 216.946178 \nz\n\" style=\"fill:#1f77b4;\"/>\n   </g>\n   <g id=\"patch_8\">\n    <path clip-path=\"url(#p98c0e108dc)\" d=\"M 103.346739 228.14 \nL 110.625 228.14 \nL 110.625 216.946178 \nL 103.346739 216.946178 \nz\n\" style=\"fill:#1f77b4;\"/>\n   </g>\n   <g id=\"patch_9\">\n    <path clip-path=\"url(#p98c0e108dc)\" d=\"M 117.903261 228.14 \nL 125.181522 228.14 \nL 125.181522 222.543089 \nL 117.903261 222.543089 \nz\n\" style=\"fill:#1f77b4;\"/>\n   </g>\n   <g id=\"patch_10\">\n    <path clip-path=\"url(#p98c0e108dc)\" d=\"M 132.459783 228.14 \nL 139.738043 228.14 \nL 139.738043 222.543089 \nL 132.459783 222.543089 \nz\n\" style=\"fill:#1f77b4;\"/>\n   </g>\n   <g id=\"patch_11\">\n    <path clip-path=\"url(#p98c0e108dc)\" d=\"M 147.016304 228.14 \nL 154.294565 228.14 \nL 154.294565 216.946178 \nL 147.016304 216.946178 \nz\n\" style=\"fill:#1f77b4;\"/>\n   </g>\n   <g id=\"patch_12\">\n    <path clip-path=\"url(#p98c0e108dc)\" d=\"M 161.572826 228.14 \nL 168.851087 228.14 \nL 168.851087 211.349266 \nL 161.572826 211.349266 \nz\n\" style=\"fill:#1f77b4;\"/>\n   </g>\n   <g id=\"patch_13\">\n    <path clip-path=\"url(#p98c0e108dc)\" d=\"M 176.129348 228.14 \nL 183.407609 228.14 \nL 183.407609 205.752355 \nL 176.129348 205.752355 \nz\n\" style=\"fill:#1f77b4;\"/>\n   </g>\n   <g id=\"patch_14\">\n    <path clip-path=\"url(#p98c0e108dc)\" d=\"M 190.68587 228.14 \nL 197.96413 228.14 \nL 197.96413 194.558533 \nL 190.68587 194.558533 \nz\n\" style=\"fill:#1f77b4;\"/>\n   </g>\n   <g id=\"patch_15\">\n    <path clip-path=\"url(#p98c0e108dc)\" d=\"M 205.242391 228.14 \nL 212.520652 228.14 \nL 212.520652 200.155444 \nL 205.242391 200.155444 \nz\n\" style=\"fill:#1f77b4;\"/>\n   </g>\n   <g id=\"patch_16\">\n    <path clip-path=\"url(#p98c0e108dc)\" d=\"M 219.798913 228.14 \nL 227.077174 228.14 \nL 227.077174 166.573977 \nL 219.798913 166.573977 \nz\n\" style=\"fill:#1f77b4;\"/>\n   </g>\n   <g id=\"patch_17\">\n    <path clip-path=\"url(#p98c0e108dc)\" d=\"M 234.355435 228.14 \nL 241.633696 228.14 \nL 241.633696 138.589421 \nL 234.355435 138.589421 \nz\n\" style=\"fill:#1f77b4;\"/>\n   </g>\n   <g id=\"patch_18\">\n    <path clip-path=\"url(#p98c0e108dc)\" d=\"M 248.911957 228.14 \nL 256.190217 228.14 \nL 256.190217 160.977066 \nL 248.911957 160.977066 \nz\n\" style=\"fill:#1f77b4;\"/>\n   </g>\n   <g id=\"patch_19\">\n    <path clip-path=\"url(#p98c0e108dc)\" d=\"M 263.468478 228.14 \nL 270.746739 228.14 \nL 270.746739 121.798687 \nL 263.468478 121.798687 \nz\n\" style=\"fill:#1f77b4;\"/>\n   </g>\n   <g id=\"patch_20\">\n    <path clip-path=\"url(#p98c0e108dc)\" d=\"M 278.025 228.14 \nL 285.303261 228.14 \nL 285.303261 49.038842 \nL 278.025 49.038842 \nz\n\" style=\"fill:#1f77b4;\"/>\n   </g>\n   <g id=\"patch_21\">\n    <path clip-path=\"url(#p98c0e108dc)\" d=\"M 292.581522 228.14 \nL 299.859783 228.14 \nL 299.859783 49.038842 \nL 292.581522 49.038842 \nz\n\" style=\"fill:#1f77b4;\"/>\n   </g>\n   <g id=\"patch_22\">\n    <path clip-path=\"url(#p98c0e108dc)\" d=\"M 307.138043 228.14 \nL 314.416304 228.14 \nL 314.416304 21.054286 \nL 307.138043 21.054286 \nz\n\" style=\"fill:#1f77b4;\"/>\n   </g>\n   <g id=\"patch_23\">\n    <path clip-path=\"url(#p98c0e108dc)\" d=\"M 321.694565 228.14 \nL 328.972826 228.14 \nL 328.972826 88.21722 \nL 321.694565 88.21722 \nz\n\" style=\"fill:#1f77b4;\"/>\n   </g>\n   <g id=\"patch_24\">\n    <path clip-path=\"url(#p98c0e108dc)\" d=\"M 336.251087 228.14 \nL 343.529348 228.14 \nL 343.529348 155.380154 \nL 336.251087 155.380154 \nz\n\" style=\"fill:#1f77b4;\"/>\n   </g>\n   <g id=\"patch_25\">\n    <path clip-path=\"url(#p98c0e108dc)\" d=\"M 350.807609 228.14 \nL 358.08587 228.14 \nL 358.08587 222.543089 \nL 350.807609 222.543089 \nz\n\" style=\"fill:#1f77b4;\"/>\n   </g>\n   <g id=\"matplotlib.axis_1\">\n    <g id=\"xtick_1\">\n     <g id=\"line2d_1\">\n      <defs>\n       <path d=\"M 0 0 \nL 0 3.5 \n\" id=\"m8928d05d21\" style=\"stroke:#000000;stroke-width:0.8;\"/>\n      </defs>\n      <g>\n       <use style=\"stroke:#000000;stroke-width:0.8;\" x=\"34.203261\" xlink:href=\"#m8928d05d21\" y=\"228.14\"/>\n      </g>\n     </g>\n     <g id=\"text_1\">\n      <!-- 1990 -->\n      <defs>\n       <path d=\"M 12.40625 8.296875 \nL 28.515625 8.296875 \nL 28.515625 63.921875 \nL 10.984375 60.40625 \nL 10.984375 69.390625 \nL 28.421875 72.90625 \nL 38.28125 72.90625 \nL 38.28125 8.296875 \nL 54.390625 8.296875 \nL 54.390625 0 \nL 12.40625 0 \nz\n\" id=\"DejaVuSans-49\"/>\n       <path d=\"M 10.984375 1.515625 \nL 10.984375 10.5 \nQ 14.703125 8.734375 18.5 7.8125 \nQ 22.3125 6.890625 25.984375 6.890625 \nQ 35.75 6.890625 40.890625 13.453125 \nQ 46.046875 20.015625 46.78125 33.40625 \nQ 43.953125 29.203125 39.59375 26.953125 \nQ 35.25 24.703125 29.984375 24.703125 \nQ 19.046875 24.703125 12.671875 31.3125 \nQ 6.296875 37.9375 6.296875 49.421875 \nQ 6.296875 60.640625 12.9375 67.421875 \nQ 19.578125 74.21875 30.609375 74.21875 \nQ 43.265625 74.21875 49.921875 64.515625 \nQ 56.59375 54.828125 56.59375 36.375 \nQ 56.59375 19.140625 48.40625 8.859375 \nQ 40.234375 -1.421875 26.421875 -1.421875 \nQ 22.703125 -1.421875 18.890625 -0.6875 \nQ 15.09375 0.046875 10.984375 1.515625 \nz\nM 30.609375 32.421875 \nQ 37.25 32.421875 41.125 36.953125 \nQ 45.015625 41.5 45.015625 49.421875 \nQ 45.015625 57.28125 41.125 61.84375 \nQ 37.25 66.40625 30.609375 66.40625 \nQ 23.96875 66.40625 20.09375 61.84375 \nQ 16.21875 57.28125 16.21875 49.421875 \nQ 16.21875 41.5 20.09375 36.953125 \nQ 23.96875 32.421875 30.609375 32.421875 \nz\n\" id=\"DejaVuSans-57\"/>\n       <path d=\"M 31.78125 66.40625 \nQ 24.171875 66.40625 20.328125 58.90625 \nQ 16.5 51.421875 16.5 36.375 \nQ 16.5 21.390625 20.328125 13.890625 \nQ 24.171875 6.390625 31.78125 6.390625 \nQ 39.453125 6.390625 43.28125 13.890625 \nQ 47.125 21.390625 47.125 36.375 \nQ 47.125 51.421875 43.28125 58.90625 \nQ 39.453125 66.40625 31.78125 66.40625 \nz\nM 31.78125 74.21875 \nQ 44.046875 74.21875 50.515625 64.515625 \nQ 56.984375 54.828125 56.984375 36.375 \nQ 56.984375 17.96875 50.515625 8.265625 \nQ 44.046875 -1.421875 31.78125 -1.421875 \nQ 19.53125 -1.421875 13.0625 8.265625 \nQ 6.59375 17.96875 6.59375 36.375 \nQ 6.59375 54.828125 13.0625 64.515625 \nQ 19.53125 74.21875 31.78125 74.21875 \nz\n\" id=\"DejaVuSans-48\"/>\n      </defs>\n      <g transform=\"translate(32.444019 261.653996)rotate(-70)scale(0.1 -0.1)\">\n       <use xlink:href=\"#DejaVuSans-49\"/>\n       <use x=\"63.623047\" xlink:href=\"#DejaVuSans-57\"/>\n       <use x=\"127.246094\" xlink:href=\"#DejaVuSans-57\"/>\n       <use x=\"190.869141\" xlink:href=\"#DejaVuSans-48\"/>\n      </g>\n     </g>\n    </g>\n    <g id=\"xtick_2\">\n     <g id=\"line2d_2\">\n      <g>\n       <use style=\"stroke:#000000;stroke-width:0.8;\" x=\"48.759783\" xlink:href=\"#m8928d05d21\" y=\"228.14\"/>\n      </g>\n     </g>\n     <g id=\"text_2\">\n      <!-- 1999 -->\n      <g transform=\"translate(47.000541 261.653996)rotate(-70)scale(0.1 -0.1)\">\n       <use xlink:href=\"#DejaVuSans-49\"/>\n       <use x=\"63.623047\" xlink:href=\"#DejaVuSans-57\"/>\n       <use x=\"127.246094\" xlink:href=\"#DejaVuSans-57\"/>\n       <use x=\"190.869141\" xlink:href=\"#DejaVuSans-57\"/>\n      </g>\n     </g>\n    </g>\n    <g id=\"xtick_3\">\n     <g id=\"line2d_3\">\n      <g>\n       <use style=\"stroke:#000000;stroke-width:0.8;\" x=\"63.316304\" xlink:href=\"#m8928d05d21\" y=\"228.14\"/>\n      </g>\n     </g>\n     <g id=\"text_3\">\n      <!-- 2000 -->\n      <defs>\n       <path d=\"M 19.1875 8.296875 \nL 53.609375 8.296875 \nL 53.609375 0 \nL 7.328125 0 \nL 7.328125 8.296875 \nQ 12.9375 14.109375 22.625 23.890625 \nQ 32.328125 33.6875 34.8125 36.53125 \nQ 39.546875 41.84375 41.421875 45.53125 \nQ 43.3125 49.21875 43.3125 52.78125 \nQ 43.3125 58.59375 39.234375 62.25 \nQ 35.15625 65.921875 28.609375 65.921875 \nQ 23.96875 65.921875 18.8125 64.3125 \nQ 13.671875 62.703125 7.8125 59.421875 \nL 7.8125 69.390625 \nQ 13.765625 71.78125 18.9375 73 \nQ 24.125 74.21875 28.421875 74.21875 \nQ 39.75 74.21875 46.484375 68.546875 \nQ 53.21875 62.890625 53.21875 53.421875 \nQ 53.21875 48.921875 51.53125 44.890625 \nQ 49.859375 40.875 45.40625 35.40625 \nQ 44.1875 33.984375 37.640625 27.21875 \nQ 31.109375 20.453125 19.1875 8.296875 \nz\n\" id=\"DejaVuSans-50\"/>\n      </defs>\n      <g transform=\"translate(61.557062 261.653996)rotate(-70)scale(0.1 -0.1)\">\n       <use xlink:href=\"#DejaVuSans-50\"/>\n       <use x=\"63.623047\" xlink:href=\"#DejaVuSans-48\"/>\n       <use x=\"127.246094\" xlink:href=\"#DejaVuSans-48\"/>\n       <use x=\"190.869141\" xlink:href=\"#DejaVuSans-48\"/>\n      </g>\n     </g>\n    </g>\n    <g id=\"xtick_4\">\n     <g id=\"line2d_4\">\n      <g>\n       <use style=\"stroke:#000000;stroke-width:0.8;\" x=\"77.872826\" xlink:href=\"#m8928d05d21\" y=\"228.14\"/>\n      </g>\n     </g>\n     <g id=\"text_4\">\n      <!-- 2001 -->\n      <g transform=\"translate(76.113584 261.653996)rotate(-70)scale(0.1 -0.1)\">\n       <use xlink:href=\"#DejaVuSans-50\"/>\n       <use x=\"63.623047\" xlink:href=\"#DejaVuSans-48\"/>\n       <use x=\"127.246094\" xlink:href=\"#DejaVuSans-48\"/>\n       <use x=\"190.869141\" xlink:href=\"#DejaVuSans-49\"/>\n      </g>\n     </g>\n    </g>\n    <g id=\"xtick_5\">\n     <g id=\"line2d_5\">\n      <g>\n       <use style=\"stroke:#000000;stroke-width:0.8;\" x=\"92.429348\" xlink:href=\"#m8928d05d21\" y=\"228.14\"/>\n      </g>\n     </g>\n     <g id=\"text_5\">\n      <!-- 2002 -->\n      <g transform=\"translate(90.670106 261.653996)rotate(-70)scale(0.1 -0.1)\">\n       <use xlink:href=\"#DejaVuSans-50\"/>\n       <use x=\"63.623047\" xlink:href=\"#DejaVuSans-48\"/>\n       <use x=\"127.246094\" xlink:href=\"#DejaVuSans-48\"/>\n       <use x=\"190.869141\" xlink:href=\"#DejaVuSans-50\"/>\n      </g>\n     </g>\n    </g>\n    <g id=\"xtick_6\">\n     <g id=\"line2d_6\">\n      <g>\n       <use style=\"stroke:#000000;stroke-width:0.8;\" x=\"106.98587\" xlink:href=\"#m8928d05d21\" y=\"228.14\"/>\n      </g>\n     </g>\n     <g id=\"text_6\">\n      <!-- 2003 -->\n      <defs>\n       <path d=\"M 40.578125 39.3125 \nQ 47.65625 37.796875 51.625 33 \nQ 55.609375 28.21875 55.609375 21.1875 \nQ 55.609375 10.40625 48.1875 4.484375 \nQ 40.765625 -1.421875 27.09375 -1.421875 \nQ 22.515625 -1.421875 17.65625 -0.515625 \nQ 12.796875 0.390625 7.625 2.203125 \nL 7.625 11.71875 \nQ 11.71875 9.328125 16.59375 8.109375 \nQ 21.484375 6.890625 26.8125 6.890625 \nQ 36.078125 6.890625 40.9375 10.546875 \nQ 45.796875 14.203125 45.796875 21.1875 \nQ 45.796875 27.640625 41.28125 31.265625 \nQ 36.765625 34.90625 28.71875 34.90625 \nL 20.21875 34.90625 \nL 20.21875 43.015625 \nL 29.109375 43.015625 \nQ 36.375 43.015625 40.234375 45.921875 \nQ 44.09375 48.828125 44.09375 54.296875 \nQ 44.09375 59.90625 40.109375 62.90625 \nQ 36.140625 65.921875 28.71875 65.921875 \nQ 24.65625 65.921875 20.015625 65.03125 \nQ 15.375 64.15625 9.8125 62.3125 \nL 9.8125 71.09375 \nQ 15.4375 72.65625 20.34375 73.4375 \nQ 25.25 74.21875 29.59375 74.21875 \nQ 40.828125 74.21875 47.359375 69.109375 \nQ 53.90625 64.015625 53.90625 55.328125 \nQ 53.90625 49.265625 50.4375 45.09375 \nQ 46.96875 40.921875 40.578125 39.3125 \nz\n\" id=\"DejaVuSans-51\"/>\n      </defs>\n      <g transform=\"translate(105.226628 261.653996)rotate(-70)scale(0.1 -0.1)\">\n       <use xlink:href=\"#DejaVuSans-50\"/>\n       <use x=\"63.623047\" xlink:href=\"#DejaVuSans-48\"/>\n       <use x=\"127.246094\" xlink:href=\"#DejaVuSans-48\"/>\n       <use x=\"190.869141\" xlink:href=\"#DejaVuSans-51\"/>\n      </g>\n     </g>\n    </g>\n    <g id=\"xtick_7\">\n     <g id=\"line2d_7\">\n      <g>\n       <use style=\"stroke:#000000;stroke-width:0.8;\" x=\"121.542391\" xlink:href=\"#m8928d05d21\" y=\"228.14\"/>\n      </g>\n     </g>\n     <g id=\"text_7\">\n      <!-- 2004 -->\n      <defs>\n       <path d=\"M 37.796875 64.3125 \nL 12.890625 25.390625 \nL 37.796875 25.390625 \nz\nM 35.203125 72.90625 \nL 47.609375 72.90625 \nL 47.609375 25.390625 \nL 58.015625 25.390625 \nL 58.015625 17.1875 \nL 47.609375 17.1875 \nL 47.609375 0 \nL 37.796875 0 \nL 37.796875 17.1875 \nL 4.890625 17.1875 \nL 4.890625 26.703125 \nz\n\" id=\"DejaVuSans-52\"/>\n      </defs>\n      <g transform=\"translate(119.783149 261.653996)rotate(-70)scale(0.1 -0.1)\">\n       <use xlink:href=\"#DejaVuSans-50\"/>\n       <use x=\"63.623047\" xlink:href=\"#DejaVuSans-48\"/>\n       <use x=\"127.246094\" xlink:href=\"#DejaVuSans-48\"/>\n       <use x=\"190.869141\" xlink:href=\"#DejaVuSans-52\"/>\n      </g>\n     </g>\n    </g>\n    <g id=\"xtick_8\">\n     <g id=\"line2d_8\">\n      <g>\n       <use style=\"stroke:#000000;stroke-width:0.8;\" x=\"136.098913\" xlink:href=\"#m8928d05d21\" y=\"228.14\"/>\n      </g>\n     </g>\n     <g id=\"text_8\">\n      <!-- 2005 -->\n      <defs>\n       <path d=\"M 10.796875 72.90625 \nL 49.515625 72.90625 \nL 49.515625 64.59375 \nL 19.828125 64.59375 \nL 19.828125 46.734375 \nQ 21.96875 47.46875 24.109375 47.828125 \nQ 26.265625 48.1875 28.421875 48.1875 \nQ 40.625 48.1875 47.75 41.5 \nQ 54.890625 34.8125 54.890625 23.390625 \nQ 54.890625 11.625 47.5625 5.09375 \nQ 40.234375 -1.421875 26.90625 -1.421875 \nQ 22.3125 -1.421875 17.546875 -0.640625 \nQ 12.796875 0.140625 7.71875 1.703125 \nL 7.71875 11.625 \nQ 12.109375 9.234375 16.796875 8.0625 \nQ 21.484375 6.890625 26.703125 6.890625 \nQ 35.15625 6.890625 40.078125 11.328125 \nQ 45.015625 15.765625 45.015625 23.390625 \nQ 45.015625 31 40.078125 35.4375 \nQ 35.15625 39.890625 26.703125 39.890625 \nQ 22.75 39.890625 18.8125 39.015625 \nQ 14.890625 38.140625 10.796875 36.28125 \nz\n\" id=\"DejaVuSans-53\"/>\n      </defs>\n      <g transform=\"translate(134.339671 261.653996)rotate(-70)scale(0.1 -0.1)\">\n       <use xlink:href=\"#DejaVuSans-50\"/>\n       <use x=\"63.623047\" xlink:href=\"#DejaVuSans-48\"/>\n       <use x=\"127.246094\" xlink:href=\"#DejaVuSans-48\"/>\n       <use x=\"190.869141\" xlink:href=\"#DejaVuSans-53\"/>\n      </g>\n     </g>\n    </g>\n    <g id=\"xtick_9\">\n     <g id=\"line2d_9\">\n      <g>\n       <use style=\"stroke:#000000;stroke-width:0.8;\" x=\"150.655435\" xlink:href=\"#m8928d05d21\" y=\"228.14\"/>\n      </g>\n     </g>\n     <g id=\"text_9\">\n      <!-- 2006 -->\n      <defs>\n       <path d=\"M 33.015625 40.375 \nQ 26.375 40.375 22.484375 35.828125 \nQ 18.609375 31.296875 18.609375 23.390625 \nQ 18.609375 15.53125 22.484375 10.953125 \nQ 26.375 6.390625 33.015625 6.390625 \nQ 39.65625 6.390625 43.53125 10.953125 \nQ 47.40625 15.53125 47.40625 23.390625 \nQ 47.40625 31.296875 43.53125 35.828125 \nQ 39.65625 40.375 33.015625 40.375 \nz\nM 52.59375 71.296875 \nL 52.59375 62.3125 \nQ 48.875 64.0625 45.09375 64.984375 \nQ 41.3125 65.921875 37.59375 65.921875 \nQ 27.828125 65.921875 22.671875 59.328125 \nQ 17.53125 52.734375 16.796875 39.40625 \nQ 19.671875 43.65625 24.015625 45.921875 \nQ 28.375 48.1875 33.59375 48.1875 \nQ 44.578125 48.1875 50.953125 41.515625 \nQ 57.328125 34.859375 57.328125 23.390625 \nQ 57.328125 12.15625 50.6875 5.359375 \nQ 44.046875 -1.421875 33.015625 -1.421875 \nQ 20.359375 -1.421875 13.671875 8.265625 \nQ 6.984375 17.96875 6.984375 36.375 \nQ 6.984375 53.65625 15.1875 63.9375 \nQ 23.390625 74.21875 37.203125 74.21875 \nQ 40.921875 74.21875 44.703125 73.484375 \nQ 48.484375 72.75 52.59375 71.296875 \nz\n\" id=\"DejaVuSans-54\"/>\n      </defs>\n      <g transform=\"translate(148.896193 261.653996)rotate(-70)scale(0.1 -0.1)\">\n       <use xlink:href=\"#DejaVuSans-50\"/>\n       <use x=\"63.623047\" xlink:href=\"#DejaVuSans-48\"/>\n       <use x=\"127.246094\" xlink:href=\"#DejaVuSans-48\"/>\n       <use x=\"190.869141\" xlink:href=\"#DejaVuSans-54\"/>\n      </g>\n     </g>\n    </g>\n    <g id=\"xtick_10\">\n     <g id=\"line2d_10\">\n      <g>\n       <use style=\"stroke:#000000;stroke-width:0.8;\" x=\"165.211957\" xlink:href=\"#m8928d05d21\" y=\"228.14\"/>\n      </g>\n     </g>\n     <g id=\"text_10\">\n      <!-- 2007 -->\n      <defs>\n       <path d=\"M 8.203125 72.90625 \nL 55.078125 72.90625 \nL 55.078125 68.703125 \nL 28.609375 0 \nL 18.3125 0 \nL 43.21875 64.59375 \nL 8.203125 64.59375 \nz\n\" id=\"DejaVuSans-55\"/>\n      </defs>\n      <g transform=\"translate(163.452715 261.653996)rotate(-70)scale(0.1 -0.1)\">\n       <use xlink:href=\"#DejaVuSans-50\"/>\n       <use x=\"63.623047\" xlink:href=\"#DejaVuSans-48\"/>\n       <use x=\"127.246094\" xlink:href=\"#DejaVuSans-48\"/>\n       <use x=\"190.869141\" xlink:href=\"#DejaVuSans-55\"/>\n      </g>\n     </g>\n    </g>\n    <g id=\"xtick_11\">\n     <g id=\"line2d_11\">\n      <g>\n       <use style=\"stroke:#000000;stroke-width:0.8;\" x=\"179.768478\" xlink:href=\"#m8928d05d21\" y=\"228.14\"/>\n      </g>\n     </g>\n     <g id=\"text_11\">\n      <!-- 2008 -->\n      <defs>\n       <path d=\"M 31.78125 34.625 \nQ 24.75 34.625 20.71875 30.859375 \nQ 16.703125 27.09375 16.703125 20.515625 \nQ 16.703125 13.921875 20.71875 10.15625 \nQ 24.75 6.390625 31.78125 6.390625 \nQ 38.8125 6.390625 42.859375 10.171875 \nQ 46.921875 13.96875 46.921875 20.515625 \nQ 46.921875 27.09375 42.890625 30.859375 \nQ 38.875 34.625 31.78125 34.625 \nz\nM 21.921875 38.8125 \nQ 15.578125 40.375 12.03125 44.71875 \nQ 8.5 49.078125 8.5 55.328125 \nQ 8.5 64.0625 14.71875 69.140625 \nQ 20.953125 74.21875 31.78125 74.21875 \nQ 42.671875 74.21875 48.875 69.140625 \nQ 55.078125 64.0625 55.078125 55.328125 \nQ 55.078125 49.078125 51.53125 44.71875 \nQ 48 40.375 41.703125 38.8125 \nQ 48.828125 37.15625 52.796875 32.3125 \nQ 56.78125 27.484375 56.78125 20.515625 \nQ 56.78125 9.90625 50.3125 4.234375 \nQ 43.84375 -1.421875 31.78125 -1.421875 \nQ 19.734375 -1.421875 13.25 4.234375 \nQ 6.78125 9.90625 6.78125 20.515625 \nQ 6.78125 27.484375 10.78125 32.3125 \nQ 14.796875 37.15625 21.921875 38.8125 \nz\nM 18.3125 54.390625 \nQ 18.3125 48.734375 21.84375 45.5625 \nQ 25.390625 42.390625 31.78125 42.390625 \nQ 38.140625 42.390625 41.71875 45.5625 \nQ 45.3125 48.734375 45.3125 54.390625 \nQ 45.3125 60.0625 41.71875 63.234375 \nQ 38.140625 66.40625 31.78125 66.40625 \nQ 25.390625 66.40625 21.84375 63.234375 \nQ 18.3125 60.0625 18.3125 54.390625 \nz\n\" id=\"DejaVuSans-56\"/>\n      </defs>\n      <g transform=\"translate(178.009236 261.653996)rotate(-70)scale(0.1 -0.1)\">\n       <use xlink:href=\"#DejaVuSans-50\"/>\n       <use x=\"63.623047\" xlink:href=\"#DejaVuSans-48\"/>\n       <use x=\"127.246094\" xlink:href=\"#DejaVuSans-48\"/>\n       <use x=\"190.869141\" xlink:href=\"#DejaVuSans-56\"/>\n      </g>\n     </g>\n    </g>\n    <g id=\"xtick_12\">\n     <g id=\"line2d_12\">\n      <g>\n       <use style=\"stroke:#000000;stroke-width:0.8;\" x=\"194.325\" xlink:href=\"#m8928d05d21\" y=\"228.14\"/>\n      </g>\n     </g>\n     <g id=\"text_12\">\n      <!-- 2009 -->\n      <g transform=\"translate(192.565758 261.653996)rotate(-70)scale(0.1 -0.1)\">\n       <use xlink:href=\"#DejaVuSans-50\"/>\n       <use x=\"63.623047\" xlink:href=\"#DejaVuSans-48\"/>\n       <use x=\"127.246094\" xlink:href=\"#DejaVuSans-48\"/>\n       <use x=\"190.869141\" xlink:href=\"#DejaVuSans-57\"/>\n      </g>\n     </g>\n    </g>\n    <g id=\"xtick_13\">\n     <g id=\"line2d_13\">\n      <g>\n       <use style=\"stroke:#000000;stroke-width:0.8;\" x=\"208.881522\" xlink:href=\"#m8928d05d21\" y=\"228.14\"/>\n      </g>\n     </g>\n     <g id=\"text_13\">\n      <!-- 2010 -->\n      <g transform=\"translate(207.12228 261.653996)rotate(-70)scale(0.1 -0.1)\">\n       <use xlink:href=\"#DejaVuSans-50\"/>\n       <use x=\"63.623047\" xlink:href=\"#DejaVuSans-48\"/>\n       <use x=\"127.246094\" xlink:href=\"#DejaVuSans-49\"/>\n       <use x=\"190.869141\" xlink:href=\"#DejaVuSans-48\"/>\n      </g>\n     </g>\n    </g>\n    <g id=\"xtick_14\">\n     <g id=\"line2d_14\">\n      <g>\n       <use style=\"stroke:#000000;stroke-width:0.8;\" x=\"223.438043\" xlink:href=\"#m8928d05d21\" y=\"228.14\"/>\n      </g>\n     </g>\n     <g id=\"text_14\">\n      <!-- 2011 -->\n      <g transform=\"translate(221.678801 261.653996)rotate(-70)scale(0.1 -0.1)\">\n       <use xlink:href=\"#DejaVuSans-50\"/>\n       <use x=\"63.623047\" xlink:href=\"#DejaVuSans-48\"/>\n       <use x=\"127.246094\" xlink:href=\"#DejaVuSans-49\"/>\n       <use x=\"190.869141\" xlink:href=\"#DejaVuSans-49\"/>\n      </g>\n     </g>\n    </g>\n    <g id=\"xtick_15\">\n     <g id=\"line2d_15\">\n      <g>\n       <use style=\"stroke:#000000;stroke-width:0.8;\" x=\"237.994565\" xlink:href=\"#m8928d05d21\" y=\"228.14\"/>\n      </g>\n     </g>\n     <g id=\"text_15\">\n      <!-- 2012 -->\n      <g transform=\"translate(236.235323 261.653996)rotate(-70)scale(0.1 -0.1)\">\n       <use xlink:href=\"#DejaVuSans-50\"/>\n       <use x=\"63.623047\" xlink:href=\"#DejaVuSans-48\"/>\n       <use x=\"127.246094\" xlink:href=\"#DejaVuSans-49\"/>\n       <use x=\"190.869141\" xlink:href=\"#DejaVuSans-50\"/>\n      </g>\n     </g>\n    </g>\n    <g id=\"xtick_16\">\n     <g id=\"line2d_16\">\n      <g>\n       <use style=\"stroke:#000000;stroke-width:0.8;\" x=\"252.551087\" xlink:href=\"#m8928d05d21\" y=\"228.14\"/>\n      </g>\n     </g>\n     <g id=\"text_16\">\n      <!-- 2013 -->\n      <g transform=\"translate(250.791845 261.653996)rotate(-70)scale(0.1 -0.1)\">\n       <use xlink:href=\"#DejaVuSans-50\"/>\n       <use x=\"63.623047\" xlink:href=\"#DejaVuSans-48\"/>\n       <use x=\"127.246094\" xlink:href=\"#DejaVuSans-49\"/>\n       <use x=\"190.869141\" xlink:href=\"#DejaVuSans-51\"/>\n      </g>\n     </g>\n    </g>\n    <g id=\"xtick_17\">\n     <g id=\"line2d_17\">\n      <g>\n       <use style=\"stroke:#000000;stroke-width:0.8;\" x=\"267.107609\" xlink:href=\"#m8928d05d21\" y=\"228.14\"/>\n      </g>\n     </g>\n     <g id=\"text_17\">\n      <!-- 2014 -->\n      <g transform=\"translate(265.348367 261.653996)rotate(-70)scale(0.1 -0.1)\">\n       <use xlink:href=\"#DejaVuSans-50\"/>\n       <use x=\"63.623047\" xlink:href=\"#DejaVuSans-48\"/>\n       <use x=\"127.246094\" xlink:href=\"#DejaVuSans-49\"/>\n       <use x=\"190.869141\" xlink:href=\"#DejaVuSans-52\"/>\n      </g>\n     </g>\n    </g>\n    <g id=\"xtick_18\">\n     <g id=\"line2d_18\">\n      <g>\n       <use style=\"stroke:#000000;stroke-width:0.8;\" x=\"281.66413\" xlink:href=\"#m8928d05d21\" y=\"228.14\"/>\n      </g>\n     </g>\n     <g id=\"text_18\">\n      <!-- 2015 -->\n      <g transform=\"translate(279.904888 261.653996)rotate(-70)scale(0.1 -0.1)\">\n       <use xlink:href=\"#DejaVuSans-50\"/>\n       <use x=\"63.623047\" xlink:href=\"#DejaVuSans-48\"/>\n       <use x=\"127.246094\" xlink:href=\"#DejaVuSans-49\"/>\n       <use x=\"190.869141\" xlink:href=\"#DejaVuSans-53\"/>\n      </g>\n     </g>\n    </g>\n    <g id=\"xtick_19\">\n     <g id=\"line2d_19\">\n      <g>\n       <use style=\"stroke:#000000;stroke-width:0.8;\" x=\"296.220652\" xlink:href=\"#m8928d05d21\" y=\"228.14\"/>\n      </g>\n     </g>\n     <g id=\"text_19\">\n      <!-- 2016 -->\n      <g transform=\"translate(294.46141 261.653996)rotate(-70)scale(0.1 -0.1)\">\n       <use xlink:href=\"#DejaVuSans-50\"/>\n       <use x=\"63.623047\" xlink:href=\"#DejaVuSans-48\"/>\n       <use x=\"127.246094\" xlink:href=\"#DejaVuSans-49\"/>\n       <use x=\"190.869141\" xlink:href=\"#DejaVuSans-54\"/>\n      </g>\n     </g>\n    </g>\n    <g id=\"xtick_20\">\n     <g id=\"line2d_20\">\n      <g>\n       <use style=\"stroke:#000000;stroke-width:0.8;\" x=\"310.777174\" xlink:href=\"#m8928d05d21\" y=\"228.14\"/>\n      </g>\n     </g>\n     <g id=\"text_20\">\n      <!-- 2017 -->\n      <g transform=\"translate(309.017932 261.653996)rotate(-70)scale(0.1 -0.1)\">\n       <use xlink:href=\"#DejaVuSans-50\"/>\n       <use x=\"63.623047\" xlink:href=\"#DejaVuSans-48\"/>\n       <use x=\"127.246094\" xlink:href=\"#DejaVuSans-49\"/>\n       <use x=\"190.869141\" xlink:href=\"#DejaVuSans-55\"/>\n      </g>\n     </g>\n    </g>\n    <g id=\"xtick_21\">\n     <g id=\"line2d_21\">\n      <g>\n       <use style=\"stroke:#000000;stroke-width:0.8;\" x=\"325.333696\" xlink:href=\"#m8928d05d21\" y=\"228.14\"/>\n      </g>\n     </g>\n     <g id=\"text_21\">\n      <!-- 2018 -->\n      <g transform=\"translate(323.574454 261.653996)rotate(-70)scale(0.1 -0.1)\">\n       <use xlink:href=\"#DejaVuSans-50\"/>\n       <use x=\"63.623047\" xlink:href=\"#DejaVuSans-48\"/>\n       <use x=\"127.246094\" xlink:href=\"#DejaVuSans-49\"/>\n       <use x=\"190.869141\" xlink:href=\"#DejaVuSans-56\"/>\n      </g>\n     </g>\n    </g>\n    <g id=\"xtick_22\">\n     <g id=\"line2d_22\">\n      <g>\n       <use style=\"stroke:#000000;stroke-width:0.8;\" x=\"339.890217\" xlink:href=\"#m8928d05d21\" y=\"228.14\"/>\n      </g>\n     </g>\n     <g id=\"text_22\">\n      <!-- 2019 -->\n      <g transform=\"translate(338.130975 261.653996)rotate(-70)scale(0.1 -0.1)\">\n       <use xlink:href=\"#DejaVuSans-50\"/>\n       <use x=\"63.623047\" xlink:href=\"#DejaVuSans-48\"/>\n       <use x=\"127.246094\" xlink:href=\"#DejaVuSans-49\"/>\n       <use x=\"190.869141\" xlink:href=\"#DejaVuSans-57\"/>\n      </g>\n     </g>\n    </g>\n    <g id=\"xtick_23\">\n     <g id=\"line2d_23\">\n      <g>\n       <use style=\"stroke:#000000;stroke-width:0.8;\" x=\"354.446739\" xlink:href=\"#m8928d05d21\" y=\"228.14\"/>\n      </g>\n     </g>\n     <g id=\"text_23\">\n      <!-- 2020 -->\n      <g transform=\"translate(352.687497 261.653996)rotate(-70)scale(0.1 -0.1)\">\n       <use xlink:href=\"#DejaVuSans-50\"/>\n       <use x=\"63.623047\" xlink:href=\"#DejaVuSans-48\"/>\n       <use x=\"127.246094\" xlink:href=\"#DejaVuSans-50\"/>\n       <use x=\"190.869141\" xlink:href=\"#DejaVuSans-48\"/>\n      </g>\n     </g>\n    </g>\n    <g id=\"text_24\">\n     <!-- founded -->\n     <defs>\n      <path d=\"M 37.109375 75.984375 \nL 37.109375 68.5 \nL 28.515625 68.5 \nQ 23.6875 68.5 21.796875 66.546875 \nQ 19.921875 64.59375 19.921875 59.515625 \nL 19.921875 54.6875 \nL 34.71875 54.6875 \nL 34.71875 47.703125 \nL 19.921875 47.703125 \nL 19.921875 0 \nL 10.890625 0 \nL 10.890625 47.703125 \nL 2.296875 47.703125 \nL 2.296875 54.6875 \nL 10.890625 54.6875 \nL 10.890625 58.5 \nQ 10.890625 67.625 15.140625 71.796875 \nQ 19.390625 75.984375 28.609375 75.984375 \nz\n\" id=\"DejaVuSans-102\"/>\n      <path d=\"M 30.609375 48.390625 \nQ 23.390625 48.390625 19.1875 42.75 \nQ 14.984375 37.109375 14.984375 27.296875 \nQ 14.984375 17.484375 19.15625 11.84375 \nQ 23.34375 6.203125 30.609375 6.203125 \nQ 37.796875 6.203125 41.984375 11.859375 \nQ 46.1875 17.53125 46.1875 27.296875 \nQ 46.1875 37.015625 41.984375 42.703125 \nQ 37.796875 48.390625 30.609375 48.390625 \nz\nM 30.609375 56 \nQ 42.328125 56 49.015625 48.375 \nQ 55.71875 40.765625 55.71875 27.296875 \nQ 55.71875 13.875 49.015625 6.21875 \nQ 42.328125 -1.421875 30.609375 -1.421875 \nQ 18.84375 -1.421875 12.171875 6.21875 \nQ 5.515625 13.875 5.515625 27.296875 \nQ 5.515625 40.765625 12.171875 48.375 \nQ 18.84375 56 30.609375 56 \nz\n\" id=\"DejaVuSans-111\"/>\n      <path d=\"M 8.5 21.578125 \nL 8.5 54.6875 \nL 17.484375 54.6875 \nL 17.484375 21.921875 \nQ 17.484375 14.15625 20.5 10.265625 \nQ 23.53125 6.390625 29.59375 6.390625 \nQ 36.859375 6.390625 41.078125 11.03125 \nQ 45.3125 15.671875 45.3125 23.6875 \nL 45.3125 54.6875 \nL 54.296875 54.6875 \nL 54.296875 0 \nL 45.3125 0 \nL 45.3125 8.40625 \nQ 42.046875 3.421875 37.71875 1 \nQ 33.40625 -1.421875 27.6875 -1.421875 \nQ 18.265625 -1.421875 13.375 4.4375 \nQ 8.5 10.296875 8.5 21.578125 \nz\nM 31.109375 56 \nz\n\" id=\"DejaVuSans-117\"/>\n      <path d=\"M 54.890625 33.015625 \nL 54.890625 0 \nL 45.90625 0 \nL 45.90625 32.71875 \nQ 45.90625 40.484375 42.875 44.328125 \nQ 39.84375 48.1875 33.796875 48.1875 \nQ 26.515625 48.1875 22.3125 43.546875 \nQ 18.109375 38.921875 18.109375 30.90625 \nL 18.109375 0 \nL 9.078125 0 \nL 9.078125 54.6875 \nL 18.109375 54.6875 \nL 18.109375 46.1875 \nQ 21.34375 51.125 25.703125 53.5625 \nQ 30.078125 56 35.796875 56 \nQ 45.21875 56 50.046875 50.171875 \nQ 54.890625 44.34375 54.890625 33.015625 \nz\n\" id=\"DejaVuSans-110\"/>\n      <path d=\"M 45.40625 46.390625 \nL 45.40625 75.984375 \nL 54.390625 75.984375 \nL 54.390625 0 \nL 45.40625 0 \nL 45.40625 8.203125 \nQ 42.578125 3.328125 38.25 0.953125 \nQ 33.9375 -1.421875 27.875 -1.421875 \nQ 17.96875 -1.421875 11.734375 6.484375 \nQ 5.515625 14.40625 5.515625 27.296875 \nQ 5.515625 40.1875 11.734375 48.09375 \nQ 17.96875 56 27.875 56 \nQ 33.9375 56 38.25 53.625 \nQ 42.578125 51.265625 45.40625 46.390625 \nz\nM 14.796875 27.296875 \nQ 14.796875 17.390625 18.875 11.75 \nQ 22.953125 6.109375 30.078125 6.109375 \nQ 37.203125 6.109375 41.296875 11.75 \nQ 45.40625 17.390625 45.40625 27.296875 \nQ 45.40625 37.203125 41.296875 42.84375 \nQ 37.203125 48.484375 30.078125 48.484375 \nQ 22.953125 48.484375 18.875 42.84375 \nQ 14.796875 37.203125 14.796875 27.296875 \nz\n\" id=\"DejaVuSans-100\"/>\n      <path d=\"M 56.203125 29.59375 \nL 56.203125 25.203125 \nL 14.890625 25.203125 \nQ 15.484375 15.921875 20.484375 11.0625 \nQ 25.484375 6.203125 34.421875 6.203125 \nQ 39.59375 6.203125 44.453125 7.46875 \nQ 49.3125 8.734375 54.109375 11.28125 \nL 54.109375 2.78125 \nQ 49.265625 0.734375 44.1875 -0.34375 \nQ 39.109375 -1.421875 33.890625 -1.421875 \nQ 20.796875 -1.421875 13.15625 6.1875 \nQ 5.515625 13.8125 5.515625 26.8125 \nQ 5.515625 40.234375 12.765625 48.109375 \nQ 20.015625 56 32.328125 56 \nQ 43.359375 56 49.78125 48.890625 \nQ 56.203125 41.796875 56.203125 29.59375 \nz\nM 47.21875 32.234375 \nQ 47.125 39.59375 43.09375 43.984375 \nQ 39.0625 48.390625 32.421875 48.390625 \nQ 24.90625 48.390625 20.390625 44.140625 \nQ 15.875 39.890625 15.1875 32.171875 \nz\n\" id=\"DejaVuSans-101\"/>\n     </defs>\n     <g transform=\"translate(173.742969 273.963728)scale(0.1 -0.1)\">\n      <use xlink:href=\"#DejaVuSans-102\"/>\n      <use x=\"35.205078\" xlink:href=\"#DejaVuSans-111\"/>\n      <use x=\"96.386719\" xlink:href=\"#DejaVuSans-117\"/>\n      <use x=\"159.765625\" xlink:href=\"#DejaVuSans-110\"/>\n      <use x=\"223.144531\" xlink:href=\"#DejaVuSans-100\"/>\n      <use x=\"286.621094\" xlink:href=\"#DejaVuSans-101\"/>\n      <use x=\"348.144531\" xlink:href=\"#DejaVuSans-100\"/>\n     </g>\n    </g>\n   </g>\n   <g id=\"matplotlib.axis_2\">\n    <g id=\"ytick_1\">\n     <g id=\"line2d_24\">\n      <defs>\n       <path d=\"M 0 0 \nL -3.5 0 \n\" id=\"mea757725e3\" style=\"stroke:#000000;stroke-width:0.8;\"/>\n      </defs>\n      <g>\n       <use style=\"stroke:#000000;stroke-width:0.8;\" x=\"26.925\" xlink:href=\"#mea757725e3\" y=\"228.14\"/>\n      </g>\n     </g>\n     <g id=\"text_25\">\n      <!-- 0 -->\n      <g transform=\"translate(13.5625 231.939219)scale(0.1 -0.1)\">\n       <use xlink:href=\"#DejaVuSans-48\"/>\n      </g>\n     </g>\n    </g>\n    <g id=\"ytick_2\">\n     <g id=\"line2d_25\">\n      <g>\n       <use style=\"stroke:#000000;stroke-width:0.8;\" x=\"26.925\" xlink:href=\"#mea757725e3\" y=\"200.155444\"/>\n      </g>\n     </g>\n     <g id=\"text_26\">\n      <!-- 5 -->\n      <g transform=\"translate(13.5625 203.954663)scale(0.1 -0.1)\">\n       <use xlink:href=\"#DejaVuSans-53\"/>\n      </g>\n     </g>\n    </g>\n    <g id=\"ytick_3\">\n     <g id=\"line2d_26\">\n      <g>\n       <use style=\"stroke:#000000;stroke-width:0.8;\" x=\"26.925\" xlink:href=\"#mea757725e3\" y=\"172.170888\"/>\n      </g>\n     </g>\n     <g id=\"text_27\">\n      <!-- 10 -->\n      <g transform=\"translate(7.2 175.970107)scale(0.1 -0.1)\">\n       <use xlink:href=\"#DejaVuSans-49\"/>\n       <use x=\"63.623047\" xlink:href=\"#DejaVuSans-48\"/>\n      </g>\n     </g>\n    </g>\n    <g id=\"ytick_4\">\n     <g id=\"line2d_27\">\n      <g>\n       <use style=\"stroke:#000000;stroke-width:0.8;\" x=\"26.925\" xlink:href=\"#mea757725e3\" y=\"144.186332\"/>\n      </g>\n     </g>\n     <g id=\"text_28\">\n      <!-- 15 -->\n      <g transform=\"translate(7.2 147.985551)scale(0.1 -0.1)\">\n       <use xlink:href=\"#DejaVuSans-49\"/>\n       <use x=\"63.623047\" xlink:href=\"#DejaVuSans-53\"/>\n      </g>\n     </g>\n    </g>\n    <g id=\"ytick_5\">\n     <g id=\"line2d_28\">\n      <g>\n       <use style=\"stroke:#000000;stroke-width:0.8;\" x=\"26.925\" xlink:href=\"#mea757725e3\" y=\"116.201776\"/>\n      </g>\n     </g>\n     <g id=\"text_29\">\n      <!-- 20 -->\n      <g transform=\"translate(7.2 120.000995)scale(0.1 -0.1)\">\n       <use xlink:href=\"#DejaVuSans-50\"/>\n       <use x=\"63.623047\" xlink:href=\"#DejaVuSans-48\"/>\n      </g>\n     </g>\n    </g>\n    <g id=\"ytick_6\">\n     <g id=\"line2d_29\">\n      <g>\n       <use style=\"stroke:#000000;stroke-width:0.8;\" x=\"26.925\" xlink:href=\"#mea757725e3\" y=\"88.21722\"/>\n      </g>\n     </g>\n     <g id=\"text_30\">\n      <!-- 25 -->\n      <g transform=\"translate(7.2 92.016439)scale(0.1 -0.1)\">\n       <use xlink:href=\"#DejaVuSans-50\"/>\n       <use x=\"63.623047\" xlink:href=\"#DejaVuSans-53\"/>\n      </g>\n     </g>\n    </g>\n    <g id=\"ytick_7\">\n     <g id=\"line2d_30\">\n      <g>\n       <use style=\"stroke:#000000;stroke-width:0.8;\" x=\"26.925\" xlink:href=\"#mea757725e3\" y=\"60.232664\"/>\n      </g>\n     </g>\n     <g id=\"text_31\">\n      <!-- 30 -->\n      <g transform=\"translate(7.2 64.031883)scale(0.1 -0.1)\">\n       <use xlink:href=\"#DejaVuSans-51\"/>\n       <use x=\"63.623047\" xlink:href=\"#DejaVuSans-48\"/>\n      </g>\n     </g>\n    </g>\n    <g id=\"ytick_8\">\n     <g id=\"line2d_31\">\n      <g>\n       <use style=\"stroke:#000000;stroke-width:0.8;\" x=\"26.925\" xlink:href=\"#mea757725e3\" y=\"32.248108\"/>\n      </g>\n     </g>\n     <g id=\"text_32\">\n      <!-- 35 -->\n      <g transform=\"translate(7.2 36.047327)scale(0.1 -0.1)\">\n       <use xlink:href=\"#DejaVuSans-51\"/>\n       <use x=\"63.623047\" xlink:href=\"#DejaVuSans-53\"/>\n      </g>\n     </g>\n    </g>\n   </g>\n   <g id=\"patch_26\">\n    <path d=\"M 26.925 228.14 \nL 26.925 10.7 \n\" style=\"fill:none;stroke:#000000;stroke-linecap:square;stroke-linejoin:miter;stroke-width:0.8;\"/>\n   </g>\n   <g id=\"patch_27\">\n    <path d=\"M 361.725 228.14 \nL 361.725 10.7 \n\" style=\"fill:none;stroke:#000000;stroke-linecap:square;stroke-linejoin:miter;stroke-width:0.8;\"/>\n   </g>\n   <g id=\"patch_28\">\n    <path d=\"M 26.925 228.14 \nL 361.725 228.14 \n\" style=\"fill:none;stroke:#000000;stroke-linecap:square;stroke-linejoin:miter;stroke-width:0.8;\"/>\n   </g>\n   <g id=\"patch_29\">\n    <path d=\"M 26.925 10.7 \nL 361.725 10.7 \n\" style=\"fill:none;stroke:#000000;stroke-linecap:square;stroke-linejoin:miter;stroke-width:0.8;\"/>\n   </g>\n  </g>\n </g>\n <defs>\n  <clipPath id=\"p98c0e108dc\">\n   <rect height=\"217.44\" width=\"334.8\" x=\"26.925\" y=\"10.7\"/>\n  </clipPath>\n </defs>\n</svg>\n",
      "image/png": "[encoded data removed]"
     },
     "metadata": {
      "needs_background": "light"
     }
    }
   ],
   "source": [
    "# Number of companies founded in each year.\n",
    "import matplotlib.pyplot as plt\n",
    "df.groupby('founded').size().plot(kind='bar')\n",
    "plt.xticks(rotation=70)\n",
    "plt.show()"
   ]
  },
  {
   "cell_type": "markdown",
   "metadata": {},
   "source": [
    "## R&D and clinical phases"
   ]
  },
  {
   "cell_type": "code",
   "execution_count": 5,
   "metadata": {},
   "outputs": [
    {
     "output_type": "display_data",
     "data": {
      "text/plain": "<Figure size 432x288 with 1 Axes>",
      "image/svg+xml": "<?xml version=\"1.0\" encoding=\"utf-8\" standalone=\"no\"?>\n<!DOCTYPE svg PUBLIC \"-//W3C//DTD SVG 1.1//EN\"\n  \"http://www.w3.org/Graphics/SVG/1.1/DTD/svg11.dtd\">\n<!-- Created with matplotlib (https://matplotlib.org/) -->\n<svg height=\"252.018125pt\" version=\"1.1\" viewBox=\"0 0 567.05 252.018125\" width=\"567.05pt\" xmlns=\"http://www.w3.org/2000/svg\" xmlns:xlink=\"http://www.w3.org/1999/xlink\">\n <defs>\n  <style type=\"text/css\">\n*{stroke-linecap:butt;stroke-linejoin:round;}\n  </style>\n </defs>\n <g id=\"figure_1\">\n  <g id=\"patch_1\">\n   <path d=\"M 0 252.018125 \nL 567.05 252.018125 \nL 567.05 0 \nL 0 0 \nz\n\" style=\"fill:none;\"/>\n  </g>\n  <g id=\"axes_1\">\n   <g id=\"patch_2\">\n    <path d=\"M 221.55 228.14 \nL 556.35 228.14 \nL 556.35 10.7 \nL 221.55 10.7 \nz\n\" style=\"fill:#ffffff;\"/>\n   </g>\n   <g id=\"patch_3\">\n    <path clip-path=\"url(#p89b7f31d60)\" d=\"M 221.55 224.516 \nL 229.423016 224.516 \nL 229.423016 217.268 \nL 221.55 217.268 \nz\n\" style=\"fill:#1f77b4;\"/>\n   </g>\n   <g id=\"patch_4\">\n    <path clip-path=\"url(#p89b7f31d60)\" d=\"M 221.55 210.02 \nL 229.423016 210.02 \nL 229.423016 202.772 \nL 221.55 202.772 \nz\n\" style=\"fill:#1f77b4;\"/>\n   </g>\n   <g id=\"patch_5\">\n    <path clip-path=\"url(#p89b7f31d60)\" d=\"M 221.55 195.524 \nL 276.661111 195.524 \nL 276.661111 188.276 \nL 221.55 188.276 \nz\n\" style=\"fill:#1f77b4;\"/>\n   </g>\n   <g id=\"patch_6\">\n    <path clip-path=\"url(#p89b7f31d60)\" d=\"M 221.55 181.028 \nL 256.978571 181.028 \nL 256.978571 173.78 \nL 221.55 173.78 \nz\n\" style=\"fill:#1f77b4;\"/>\n   </g>\n   <g id=\"patch_7\">\n    <path clip-path=\"url(#p89b7f31d60)\" d=\"M 221.55 166.532 \nL 256.978571 166.532 \nL 256.978571 159.284 \nL 221.55 159.284 \nz\n\" style=\"fill:#1f77b4;\"/>\n   </g>\n   <g id=\"patch_8\">\n    <path clip-path=\"url(#p89b7f31d60)\" d=\"M 221.55 152.036 \nL 241.23254 152.036 \nL 241.23254 144.788 \nL 221.55 144.788 \nz\n\" style=\"fill:#1f77b4;\"/>\n   </g>\n   <g id=\"patch_9\">\n    <path clip-path=\"url(#p89b7f31d60)\" d=\"M 221.55 137.54 \nL 229.423016 137.54 \nL 229.423016 130.292 \nL 221.55 130.292 \nz\n\" style=\"fill:#1f77b4;\"/>\n   </g>\n   <g id=\"patch_10\">\n    <path clip-path=\"url(#p89b7f31d60)\" d=\"M 221.55 123.044 \nL 284.534127 123.044 \nL 284.534127 115.796 \nL 221.55 115.796 \nz\n\" style=\"fill:#1f77b4;\"/>\n   </g>\n   <g id=\"patch_11\">\n    <path clip-path=\"url(#p89b7f31d60)\" d=\"M 221.55 108.548 \nL 276.661111 108.548 \nL 276.661111 101.3 \nL 221.55 101.3 \nz\n\" style=\"fill:#1f77b4;\"/>\n   </g>\n   <g id=\"patch_12\">\n    <path clip-path=\"url(#p89b7f31d60)\" d=\"M 221.55 94.052 \nL 540.407143 94.052 \nL 540.407143 86.804 \nL 221.55 86.804 \nz\n\" style=\"fill:#1f77b4;\"/>\n   </g>\n   <g id=\"patch_13\">\n    <path clip-path=\"url(#p89b7f31d60)\" d=\"M 221.55 79.556 \nL 264.851587 79.556 \nL 264.851587 72.308 \nL 221.55 72.308 \nz\n\" style=\"fill:#1f77b4;\"/>\n   </g>\n   <g id=\"patch_14\">\n    <path clip-path=\"url(#p89b7f31d60)\" d=\"M 221.55 65.06 \nL 229.423016 65.06 \nL 229.423016 57.812 \nL 221.55 57.812 \nz\n\" style=\"fill:#1f77b4;\"/>\n   </g>\n   <g id=\"patch_15\">\n    <path clip-path=\"url(#p89b7f31d60)\" d=\"M 221.55 50.564 \nL 268.788095 50.564 \nL 268.788095 43.316 \nL 221.55 43.316 \nz\n\" style=\"fill:#1f77b4;\"/>\n   </g>\n   <g id=\"patch_16\">\n    <path clip-path=\"url(#p89b7f31d60)\" d=\"M 221.55 36.068 \nL 280.597619 36.068 \nL 280.597619 28.82 \nL 221.55 28.82 \nz\n\" style=\"fill:#1f77b4;\"/>\n   </g>\n   <g id=\"patch_17\">\n    <path clip-path=\"url(#p89b7f31d60)\" d=\"M 221.55 21.572 \nL 363.264286 21.572 \nL 363.264286 14.324 \nL 221.55 14.324 \nz\n\" style=\"fill:#1f77b4;\"/>\n   </g>\n   <g id=\"matplotlib.axis_1\">\n    <g id=\"xtick_1\">\n     <g id=\"line2d_1\">\n      <defs>\n       <path d=\"M 0 0 \nL 0 3.5 \n\" id=\"m47b315cd5b\" style=\"stroke:#000000;stroke-width:0.8;\"/>\n      </defs>\n      <g>\n       <use style=\"stroke:#000000;stroke-width:0.8;\" x=\"221.55\" xlink:href=\"#m47b315cd5b\" y=\"228.14\"/>\n      </g>\n     </g>\n     <g id=\"text_1\">\n      <!-- 0 -->\n      <defs>\n       <path d=\"M 31.78125 66.40625 \nQ 24.171875 66.40625 20.328125 58.90625 \nQ 16.5 51.421875 16.5 36.375 \nQ 16.5 21.390625 20.328125 13.890625 \nQ 24.171875 6.390625 31.78125 6.390625 \nQ 39.453125 6.390625 43.28125 13.890625 \nQ 47.125 21.390625 47.125 36.375 \nQ 47.125 51.421875 43.28125 58.90625 \nQ 39.453125 66.40625 31.78125 66.40625 \nz\nM 31.78125 74.21875 \nQ 44.046875 74.21875 50.515625 64.515625 \nQ 56.984375 54.828125 56.984375 36.375 \nQ 56.984375 17.96875 50.515625 8.265625 \nQ 44.046875 -1.421875 31.78125 -1.421875 \nQ 19.53125 -1.421875 13.0625 8.265625 \nQ 6.59375 17.96875 6.59375 36.375 \nQ 6.59375 54.828125 13.0625 64.515625 \nQ 19.53125 74.21875 31.78125 74.21875 \nz\n\" id=\"DejaVuSans-48\"/>\n      </defs>\n      <g transform=\"translate(218.36875 242.738437)scale(0.1 -0.1)\">\n       <use xlink:href=\"#DejaVuSans-48\"/>\n      </g>\n     </g>\n    </g>\n    <g id=\"xtick_2\">\n     <g id=\"line2d_2\">\n      <g>\n       <use style=\"stroke:#000000;stroke-width:0.8;\" x=\"260.915079\" xlink:href=\"#m47b315cd5b\" y=\"228.14\"/>\n      </g>\n     </g>\n     <g id=\"text_2\">\n      <!-- 10 -->\n      <defs>\n       <path d=\"M 12.40625 8.296875 \nL 28.515625 8.296875 \nL 28.515625 63.921875 \nL 10.984375 60.40625 \nL 10.984375 69.390625 \nL 28.421875 72.90625 \nL 38.28125 72.90625 \nL 38.28125 8.296875 \nL 54.390625 8.296875 \nL 54.390625 0 \nL 12.40625 0 \nz\n\" id=\"DejaVuSans-49\"/>\n      </defs>\n      <g transform=\"translate(254.552579 242.738437)scale(0.1 -0.1)\">\n       <use xlink:href=\"#DejaVuSans-49\"/>\n       <use x=\"63.623047\" xlink:href=\"#DejaVuSans-48\"/>\n      </g>\n     </g>\n    </g>\n    <g id=\"xtick_3\">\n     <g id=\"line2d_3\">\n      <g>\n       <use style=\"stroke:#000000;stroke-width:0.8;\" x=\"300.280159\" xlink:href=\"#m47b315cd5b\" y=\"228.14\"/>\n      </g>\n     </g>\n     <g id=\"text_3\">\n      <!-- 20 -->\n      <defs>\n       <path d=\"M 19.1875 8.296875 \nL 53.609375 8.296875 \nL 53.609375 0 \nL 7.328125 0 \nL 7.328125 8.296875 \nQ 12.9375 14.109375 22.625 23.890625 \nQ 32.328125 33.6875 34.8125 36.53125 \nQ 39.546875 41.84375 41.421875 45.53125 \nQ 43.3125 49.21875 43.3125 52.78125 \nQ 43.3125 58.59375 39.234375 62.25 \nQ 35.15625 65.921875 28.609375 65.921875 \nQ 23.96875 65.921875 18.8125 64.3125 \nQ 13.671875 62.703125 7.8125 59.421875 \nL 7.8125 69.390625 \nQ 13.765625 71.78125 18.9375 73 \nQ 24.125 74.21875 28.421875 74.21875 \nQ 39.75 74.21875 46.484375 68.546875 \nQ 53.21875 62.890625 53.21875 53.421875 \nQ 53.21875 48.921875 51.53125 44.890625 \nQ 49.859375 40.875 45.40625 35.40625 \nQ 44.1875 33.984375 37.640625 27.21875 \nQ 31.109375 20.453125 19.1875 8.296875 \nz\n\" id=\"DejaVuSans-50\"/>\n      </defs>\n      <g transform=\"translate(293.917659 242.738437)scale(0.1 -0.1)\">\n       <use xlink:href=\"#DejaVuSans-50\"/>\n       <use x=\"63.623047\" xlink:href=\"#DejaVuSans-48\"/>\n      </g>\n     </g>\n    </g>\n    <g id=\"xtick_4\">\n     <g id=\"line2d_4\">\n      <g>\n       <use style=\"stroke:#000000;stroke-width:0.8;\" x=\"339.645238\" xlink:href=\"#m47b315cd5b\" y=\"228.14\"/>\n      </g>\n     </g>\n     <g id=\"text_4\">\n      <!-- 30 -->\n      <defs>\n       <path d=\"M 40.578125 39.3125 \nQ 47.65625 37.796875 51.625 33 \nQ 55.609375 28.21875 55.609375 21.1875 \nQ 55.609375 10.40625 48.1875 4.484375 \nQ 40.765625 -1.421875 27.09375 -1.421875 \nQ 22.515625 -1.421875 17.65625 -0.515625 \nQ 12.796875 0.390625 7.625 2.203125 \nL 7.625 11.71875 \nQ 11.71875 9.328125 16.59375 8.109375 \nQ 21.484375 6.890625 26.8125 6.890625 \nQ 36.078125 6.890625 40.9375 10.546875 \nQ 45.796875 14.203125 45.796875 21.1875 \nQ 45.796875 27.640625 41.28125 31.265625 \nQ 36.765625 34.90625 28.71875 34.90625 \nL 20.21875 34.90625 \nL 20.21875 43.015625 \nL 29.109375 43.015625 \nQ 36.375 43.015625 40.234375 45.921875 \nQ 44.09375 48.828125 44.09375 54.296875 \nQ 44.09375 59.90625 40.109375 62.90625 \nQ 36.140625 65.921875 28.71875 65.921875 \nQ 24.65625 65.921875 20.015625 65.03125 \nQ 15.375 64.15625 9.8125 62.3125 \nL 9.8125 71.09375 \nQ 15.4375 72.65625 20.34375 73.4375 \nQ 25.25 74.21875 29.59375 74.21875 \nQ 40.828125 74.21875 47.359375 69.109375 \nQ 53.90625 64.015625 53.90625 55.328125 \nQ 53.90625 49.265625 50.4375 45.09375 \nQ 46.96875 40.921875 40.578125 39.3125 \nz\n\" id=\"DejaVuSans-51\"/>\n      </defs>\n      <g transform=\"translate(333.282738 242.738437)scale(0.1 -0.1)\">\n       <use xlink:href=\"#DejaVuSans-51\"/>\n       <use x=\"63.623047\" xlink:href=\"#DejaVuSans-48\"/>\n      </g>\n     </g>\n    </g>\n    <g id=\"xtick_5\">\n     <g id=\"line2d_5\">\n      <g>\n       <use style=\"stroke:#000000;stroke-width:0.8;\" x=\"379.010317\" xlink:href=\"#m47b315cd5b\" y=\"228.14\"/>\n      </g>\n     </g>\n     <g id=\"text_5\">\n      <!-- 40 -->\n      <defs>\n       <path d=\"M 37.796875 64.3125 \nL 12.890625 25.390625 \nL 37.796875 25.390625 \nz\nM 35.203125 72.90625 \nL 47.609375 72.90625 \nL 47.609375 25.390625 \nL 58.015625 25.390625 \nL 58.015625 17.1875 \nL 47.609375 17.1875 \nL 47.609375 0 \nL 37.796875 0 \nL 37.796875 17.1875 \nL 4.890625 17.1875 \nL 4.890625 26.703125 \nz\n\" id=\"DejaVuSans-52\"/>\n      </defs>\n      <g transform=\"translate(372.647817 242.738437)scale(0.1 -0.1)\">\n       <use xlink:href=\"#DejaVuSans-52\"/>\n       <use x=\"63.623047\" xlink:href=\"#DejaVuSans-48\"/>\n      </g>\n     </g>\n    </g>\n    <g id=\"xtick_6\">\n     <g id=\"line2d_6\">\n      <g>\n       <use style=\"stroke:#000000;stroke-width:0.8;\" x=\"418.375397\" xlink:href=\"#m47b315cd5b\" y=\"228.14\"/>\n      </g>\n     </g>\n     <g id=\"text_6\">\n      <!-- 50 -->\n      <defs>\n       <path d=\"M 10.796875 72.90625 \nL 49.515625 72.90625 \nL 49.515625 64.59375 \nL 19.828125 64.59375 \nL 19.828125 46.734375 \nQ 21.96875 47.46875 24.109375 47.828125 \nQ 26.265625 48.1875 28.421875 48.1875 \nQ 40.625 48.1875 47.75 41.5 \nQ 54.890625 34.8125 54.890625 23.390625 \nQ 54.890625 11.625 47.5625 5.09375 \nQ 40.234375 -1.421875 26.90625 -1.421875 \nQ 22.3125 -1.421875 17.546875 -0.640625 \nQ 12.796875 0.140625 7.71875 1.703125 \nL 7.71875 11.625 \nQ 12.109375 9.234375 16.796875 8.0625 \nQ 21.484375 6.890625 26.703125 6.890625 \nQ 35.15625 6.890625 40.078125 11.328125 \nQ 45.015625 15.765625 45.015625 23.390625 \nQ 45.015625 31 40.078125 35.4375 \nQ 35.15625 39.890625 26.703125 39.890625 \nQ 22.75 39.890625 18.8125 39.015625 \nQ 14.890625 38.140625 10.796875 36.28125 \nz\n\" id=\"DejaVuSans-53\"/>\n      </defs>\n      <g transform=\"translate(412.012897 242.738437)scale(0.1 -0.1)\">\n       <use xlink:href=\"#DejaVuSans-53\"/>\n       <use x=\"63.623047\" xlink:href=\"#DejaVuSans-48\"/>\n      </g>\n     </g>\n    </g>\n    <g id=\"xtick_7\">\n     <g id=\"line2d_7\">\n      <g>\n       <use style=\"stroke:#000000;stroke-width:0.8;\" x=\"457.740476\" xlink:href=\"#m47b315cd5b\" y=\"228.14\"/>\n      </g>\n     </g>\n     <g id=\"text_7\">\n      <!-- 60 -->\n      <defs>\n       <path d=\"M 33.015625 40.375 \nQ 26.375 40.375 22.484375 35.828125 \nQ 18.609375 31.296875 18.609375 23.390625 \nQ 18.609375 15.53125 22.484375 10.953125 \nQ 26.375 6.390625 33.015625 6.390625 \nQ 39.65625 6.390625 43.53125 10.953125 \nQ 47.40625 15.53125 47.40625 23.390625 \nQ 47.40625 31.296875 43.53125 35.828125 \nQ 39.65625 40.375 33.015625 40.375 \nz\nM 52.59375 71.296875 \nL 52.59375 62.3125 \nQ 48.875 64.0625 45.09375 64.984375 \nQ 41.3125 65.921875 37.59375 65.921875 \nQ 27.828125 65.921875 22.671875 59.328125 \nQ 17.53125 52.734375 16.796875 39.40625 \nQ 19.671875 43.65625 24.015625 45.921875 \nQ 28.375 48.1875 33.59375 48.1875 \nQ 44.578125 48.1875 50.953125 41.515625 \nQ 57.328125 34.859375 57.328125 23.390625 \nQ 57.328125 12.15625 50.6875 5.359375 \nQ 44.046875 -1.421875 33.015625 -1.421875 \nQ 20.359375 -1.421875 13.671875 8.265625 \nQ 6.984375 17.96875 6.984375 36.375 \nQ 6.984375 53.65625 15.1875 63.9375 \nQ 23.390625 74.21875 37.203125 74.21875 \nQ 40.921875 74.21875 44.703125 73.484375 \nQ 48.484375 72.75 52.59375 71.296875 \nz\n\" id=\"DejaVuSans-54\"/>\n      </defs>\n      <g transform=\"translate(451.377976 242.738437)scale(0.1 -0.1)\">\n       <use xlink:href=\"#DejaVuSans-54\"/>\n       <use x=\"63.623047\" xlink:href=\"#DejaVuSans-48\"/>\n      </g>\n     </g>\n    </g>\n    <g id=\"xtick_8\">\n     <g id=\"line2d_8\">\n      <g>\n       <use style=\"stroke:#000000;stroke-width:0.8;\" x=\"497.105556\" xlink:href=\"#m47b315cd5b\" y=\"228.14\"/>\n      </g>\n     </g>\n     <g id=\"text_8\">\n      <!-- 70 -->\n      <defs>\n       <path d=\"M 8.203125 72.90625 \nL 55.078125 72.90625 \nL 55.078125 68.703125 \nL 28.609375 0 \nL 18.3125 0 \nL 43.21875 64.59375 \nL 8.203125 64.59375 \nz\n\" id=\"DejaVuSans-55\"/>\n      </defs>\n      <g transform=\"translate(490.743056 242.738437)scale(0.1 -0.1)\">\n       <use xlink:href=\"#DejaVuSans-55\"/>\n       <use x=\"63.623047\" xlink:href=\"#DejaVuSans-48\"/>\n      </g>\n     </g>\n    </g>\n    <g id=\"xtick_9\">\n     <g id=\"line2d_9\">\n      <g>\n       <use style=\"stroke:#000000;stroke-width:0.8;\" x=\"536.470635\" xlink:href=\"#m47b315cd5b\" y=\"228.14\"/>\n      </g>\n     </g>\n     <g id=\"text_9\">\n      <!-- 80 -->\n      <defs>\n       <path d=\"M 31.78125 34.625 \nQ 24.75 34.625 20.71875 30.859375 \nQ 16.703125 27.09375 16.703125 20.515625 \nQ 16.703125 13.921875 20.71875 10.15625 \nQ 24.75 6.390625 31.78125 6.390625 \nQ 38.8125 6.390625 42.859375 10.171875 \nQ 46.921875 13.96875 46.921875 20.515625 \nQ 46.921875 27.09375 42.890625 30.859375 \nQ 38.875 34.625 31.78125 34.625 \nz\nM 21.921875 38.8125 \nQ 15.578125 40.375 12.03125 44.71875 \nQ 8.5 49.078125 8.5 55.328125 \nQ 8.5 64.0625 14.71875 69.140625 \nQ 20.953125 74.21875 31.78125 74.21875 \nQ 42.671875 74.21875 48.875 69.140625 \nQ 55.078125 64.0625 55.078125 55.328125 \nQ 55.078125 49.078125 51.53125 44.71875 \nQ 48 40.375 41.703125 38.8125 \nQ 48.828125 37.15625 52.796875 32.3125 \nQ 56.78125 27.484375 56.78125 20.515625 \nQ 56.78125 9.90625 50.3125 4.234375 \nQ 43.84375 -1.421875 31.78125 -1.421875 \nQ 19.734375 -1.421875 13.25 4.234375 \nQ 6.78125 9.90625 6.78125 20.515625 \nQ 6.78125 27.484375 10.78125 32.3125 \nQ 14.796875 37.15625 21.921875 38.8125 \nz\nM 18.3125 54.390625 \nQ 18.3125 48.734375 21.84375 45.5625 \nQ 25.390625 42.390625 31.78125 42.390625 \nQ 38.140625 42.390625 41.71875 45.5625 \nQ 45.3125 48.734375 45.3125 54.390625 \nQ 45.3125 60.0625 41.71875 63.234375 \nQ 38.140625 66.40625 31.78125 66.40625 \nQ 25.390625 66.40625 21.84375 63.234375 \nQ 18.3125 60.0625 18.3125 54.390625 \nz\n\" id=\"DejaVuSans-56\"/>\n      </defs>\n      <g transform=\"translate(530.108135 242.738437)scale(0.1 -0.1)\">\n       <use xlink:href=\"#DejaVuSans-56\"/>\n       <use x=\"63.623047\" xlink:href=\"#DejaVuSans-48\"/>\n      </g>\n     </g>\n    </g>\n   </g>\n   <g id=\"matplotlib.axis_2\">\n    <g id=\"ytick_1\">\n     <g id=\"line2d_10\">\n      <defs>\n       <path d=\"M 0 0 \nL -3.5 0 \n\" id=\"m0ddbfe9327\" style=\"stroke:#000000;stroke-width:0.8;\"/>\n      </defs>\n      <g>\n       <use style=\"stroke:#000000;stroke-width:0.8;\" x=\"221.55\" xlink:href=\"#m0ddbfe9327\" y=\"220.892\"/>\n      </g>\n     </g>\n     <g id=\"text_10\">\n      <!-- Analyze real world evidence -->\n      <defs>\n       <path d=\"M 34.1875 63.1875 \nL 20.796875 26.90625 \nL 47.609375 26.90625 \nz\nM 28.609375 72.90625 \nL 39.796875 72.90625 \nL 67.578125 0 \nL 57.328125 0 \nL 50.6875 18.703125 \nL 17.828125 18.703125 \nL 11.1875 0 \nL 0.78125 0 \nz\n\" id=\"DejaVuSans-65\"/>\n       <path d=\"M 54.890625 33.015625 \nL 54.890625 0 \nL 45.90625 0 \nL 45.90625 32.71875 \nQ 45.90625 40.484375 42.875 44.328125 \nQ 39.84375 48.1875 33.796875 48.1875 \nQ 26.515625 48.1875 22.3125 43.546875 \nQ 18.109375 38.921875 18.109375 30.90625 \nL 18.109375 0 \nL 9.078125 0 \nL 9.078125 54.6875 \nL 18.109375 54.6875 \nL 18.109375 46.1875 \nQ 21.34375 51.125 25.703125 53.5625 \nQ 30.078125 56 35.796875 56 \nQ 45.21875 56 50.046875 50.171875 \nQ 54.890625 44.34375 54.890625 33.015625 \nz\n\" id=\"DejaVuSans-110\"/>\n       <path d=\"M 34.28125 27.484375 \nQ 23.390625 27.484375 19.1875 25 \nQ 14.984375 22.515625 14.984375 16.5 \nQ 14.984375 11.71875 18.140625 8.90625 \nQ 21.296875 6.109375 26.703125 6.109375 \nQ 34.1875 6.109375 38.703125 11.40625 \nQ 43.21875 16.703125 43.21875 25.484375 \nL 43.21875 27.484375 \nz\nM 52.203125 31.203125 \nL 52.203125 0 \nL 43.21875 0 \nL 43.21875 8.296875 \nQ 40.140625 3.328125 35.546875 0.953125 \nQ 30.953125 -1.421875 24.3125 -1.421875 \nQ 15.921875 -1.421875 10.953125 3.296875 \nQ 6 8.015625 6 15.921875 \nQ 6 25.140625 12.171875 29.828125 \nQ 18.359375 34.515625 30.609375 34.515625 \nL 43.21875 34.515625 \nL 43.21875 35.40625 \nQ 43.21875 41.609375 39.140625 45 \nQ 35.0625 48.390625 27.6875 48.390625 \nQ 23 48.390625 18.546875 47.265625 \nQ 14.109375 46.140625 10.015625 43.890625 \nL 10.015625 52.203125 \nQ 14.9375 54.109375 19.578125 55.046875 \nQ 24.21875 56 28.609375 56 \nQ 40.484375 56 46.34375 49.84375 \nQ 52.203125 43.703125 52.203125 31.203125 \nz\n\" id=\"DejaVuSans-97\"/>\n       <path d=\"M 9.421875 75.984375 \nL 18.40625 75.984375 \nL 18.40625 0 \nL 9.421875 0 \nz\n\" id=\"DejaVuSans-108\"/>\n       <path d=\"M 32.171875 -5.078125 \nQ 28.375 -14.84375 24.75 -17.8125 \nQ 21.140625 -20.796875 15.09375 -20.796875 \nL 7.90625 -20.796875 \nL 7.90625 -13.28125 \nL 13.1875 -13.28125 \nQ 16.890625 -13.28125 18.9375 -11.515625 \nQ 21 -9.765625 23.484375 -3.21875 \nL 25.09375 0.875 \nL 2.984375 54.6875 \nL 12.5 54.6875 \nL 29.59375 11.921875 \nL 46.6875 54.6875 \nL 56.203125 54.6875 \nz\n\" id=\"DejaVuSans-121\"/>\n       <path d=\"M 5.515625 54.6875 \nL 48.1875 54.6875 \nL 48.1875 46.484375 \nL 14.40625 7.171875 \nL 48.1875 7.171875 \nL 48.1875 0 \nL 4.296875 0 \nL 4.296875 8.203125 \nL 38.09375 47.515625 \nL 5.515625 47.515625 \nz\n\" id=\"DejaVuSans-122\"/>\n       <path d=\"M 56.203125 29.59375 \nL 56.203125 25.203125 \nL 14.890625 25.203125 \nQ 15.484375 15.921875 20.484375 11.0625 \nQ 25.484375 6.203125 34.421875 6.203125 \nQ 39.59375 6.203125 44.453125 7.46875 \nQ 49.3125 8.734375 54.109375 11.28125 \nL 54.109375 2.78125 \nQ 49.265625 0.734375 44.1875 -0.34375 \nQ 39.109375 -1.421875 33.890625 -1.421875 \nQ 20.796875 -1.421875 13.15625 6.1875 \nQ 5.515625 13.8125 5.515625 26.8125 \nQ 5.515625 40.234375 12.765625 48.109375 \nQ 20.015625 56 32.328125 56 \nQ 43.359375 56 49.78125 48.890625 \nQ 56.203125 41.796875 56.203125 29.59375 \nz\nM 47.21875 32.234375 \nQ 47.125 39.59375 43.09375 43.984375 \nQ 39.0625 48.390625 32.421875 48.390625 \nQ 24.90625 48.390625 20.390625 44.140625 \nQ 15.875 39.890625 15.1875 32.171875 \nz\n\" id=\"DejaVuSans-101\"/>\n       <path id=\"DejaVuSans-32\"/>\n       <path d=\"M 41.109375 46.296875 \nQ 39.59375 47.171875 37.8125 47.578125 \nQ 36.03125 48 33.890625 48 \nQ 26.265625 48 22.1875 43.046875 \nQ 18.109375 38.09375 18.109375 28.8125 \nL 18.109375 0 \nL 9.078125 0 \nL 9.078125 54.6875 \nL 18.109375 54.6875 \nL 18.109375 46.1875 \nQ 20.953125 51.171875 25.484375 53.578125 \nQ 30.03125 56 36.53125 56 \nQ 37.453125 56 38.578125 55.875 \nQ 39.703125 55.765625 41.0625 55.515625 \nz\n\" id=\"DejaVuSans-114\"/>\n       <path d=\"M 4.203125 54.6875 \nL 13.1875 54.6875 \nL 24.421875 12.015625 \nL 35.59375 54.6875 \nL 46.1875 54.6875 \nL 57.421875 12.015625 \nL 68.609375 54.6875 \nL 77.59375 54.6875 \nL 63.28125 0 \nL 52.6875 0 \nL 40.921875 44.828125 \nL 29.109375 0 \nL 18.5 0 \nz\n\" id=\"DejaVuSans-119\"/>\n       <path d=\"M 30.609375 48.390625 \nQ 23.390625 48.390625 19.1875 42.75 \nQ 14.984375 37.109375 14.984375 27.296875 \nQ 14.984375 17.484375 19.15625 11.84375 \nQ 23.34375 6.203125 30.609375 6.203125 \nQ 37.796875 6.203125 41.984375 11.859375 \nQ 46.1875 17.53125 46.1875 27.296875 \nQ 46.1875 37.015625 41.984375 42.703125 \nQ 37.796875 48.390625 30.609375 48.390625 \nz\nM 30.609375 56 \nQ 42.328125 56 49.015625 48.375 \nQ 55.71875 40.765625 55.71875 27.296875 \nQ 55.71875 13.875 49.015625 6.21875 \nQ 42.328125 -1.421875 30.609375 -1.421875 \nQ 18.84375 -1.421875 12.171875 6.21875 \nQ 5.515625 13.875 5.515625 27.296875 \nQ 5.515625 40.765625 12.171875 48.375 \nQ 18.84375 56 30.609375 56 \nz\n\" id=\"DejaVuSans-111\"/>\n       <path d=\"M 45.40625 46.390625 \nL 45.40625 75.984375 \nL 54.390625 75.984375 \nL 54.390625 0 \nL 45.40625 0 \nL 45.40625 8.203125 \nQ 42.578125 3.328125 38.25 0.953125 \nQ 33.9375 -1.421875 27.875 -1.421875 \nQ 17.96875 -1.421875 11.734375 6.484375 \nQ 5.515625 14.40625 5.515625 27.296875 \nQ 5.515625 40.1875 11.734375 48.09375 \nQ 17.96875 56 27.875 56 \nQ 33.9375 56 38.25 53.625 \nQ 42.578125 51.265625 45.40625 46.390625 \nz\nM 14.796875 27.296875 \nQ 14.796875 17.390625 18.875 11.75 \nQ 22.953125 6.109375 30.078125 6.109375 \nQ 37.203125 6.109375 41.296875 11.75 \nQ 45.40625 17.390625 45.40625 27.296875 \nQ 45.40625 37.203125 41.296875 42.84375 \nQ 37.203125 48.484375 30.078125 48.484375 \nQ 22.953125 48.484375 18.875 42.84375 \nQ 14.796875 37.203125 14.796875 27.296875 \nz\n\" id=\"DejaVuSans-100\"/>\n       <path d=\"M 2.984375 54.6875 \nL 12.5 54.6875 \nL 29.59375 8.796875 \nL 46.6875 54.6875 \nL 56.203125 54.6875 \nL 35.6875 0 \nL 23.484375 0 \nz\n\" id=\"DejaVuSans-118\"/>\n       <path d=\"M 9.421875 54.6875 \nL 18.40625 54.6875 \nL 18.40625 0 \nL 9.421875 0 \nz\nM 9.421875 75.984375 \nL 18.40625 75.984375 \nL 18.40625 64.59375 \nL 9.421875 64.59375 \nz\n\" id=\"DejaVuSans-105\"/>\n       <path d=\"M 48.78125 52.59375 \nL 48.78125 44.1875 \nQ 44.96875 46.296875 41.140625 47.34375 \nQ 37.3125 48.390625 33.40625 48.390625 \nQ 24.65625 48.390625 19.8125 42.84375 \nQ 14.984375 37.3125 14.984375 27.296875 \nQ 14.984375 17.28125 19.8125 11.734375 \nQ 24.65625 6.203125 33.40625 6.203125 \nQ 37.3125 6.203125 41.140625 7.25 \nQ 44.96875 8.296875 48.78125 10.40625 \nL 48.78125 2.09375 \nQ 45.015625 0.34375 40.984375 -0.53125 \nQ 36.96875 -1.421875 32.421875 -1.421875 \nQ 20.0625 -1.421875 12.78125 6.34375 \nQ 5.515625 14.109375 5.515625 27.296875 \nQ 5.515625 40.671875 12.859375 48.328125 \nQ 20.21875 56 33.015625 56 \nQ 37.15625 56 41.109375 55.140625 \nQ 45.0625 54.296875 48.78125 52.59375 \nz\n\" id=\"DejaVuSans-99\"/>\n      </defs>\n      <g transform=\"translate(73.56875 224.691219)scale(0.1 -0.1)\">\n       <use xlink:href=\"#DejaVuSans-65\"/>\n       <use x=\"68.408203\" xlink:href=\"#DejaVuSans-110\"/>\n       <use x=\"131.787109\" xlink:href=\"#DejaVuSans-97\"/>\n       <use x=\"193.066406\" xlink:href=\"#DejaVuSans-108\"/>\n       <use x=\"220.849609\" xlink:href=\"#DejaVuSans-121\"/>\n       <use x=\"280.029297\" xlink:href=\"#DejaVuSans-122\"/>\n       <use x=\"332.519531\" xlink:href=\"#DejaVuSans-101\"/>\n       <use x=\"394.042969\" xlink:href=\"#DejaVuSans-32\"/>\n       <use x=\"425.830078\" xlink:href=\"#DejaVuSans-114\"/>\n       <use x=\"466.912109\" xlink:href=\"#DejaVuSans-101\"/>\n       <use x=\"528.435547\" xlink:href=\"#DejaVuSans-97\"/>\n       <use x=\"589.714844\" xlink:href=\"#DejaVuSans-108\"/>\n       <use x=\"617.498047\" xlink:href=\"#DejaVuSans-32\"/>\n       <use x=\"649.285156\" xlink:href=\"#DejaVuSans-119\"/>\n       <use x=\"731.072266\" xlink:href=\"#DejaVuSans-111\"/>\n       <use x=\"792.253906\" xlink:href=\"#DejaVuSans-114\"/>\n       <use x=\"833.367188\" xlink:href=\"#DejaVuSans-108\"/>\n       <use x=\"861.150391\" xlink:href=\"#DejaVuSans-100\"/>\n       <use x=\"924.626953\" xlink:href=\"#DejaVuSans-32\"/>\n       <use x=\"956.414062\" xlink:href=\"#DejaVuSans-101\"/>\n       <use x=\"1017.9375\" xlink:href=\"#DejaVuSans-118\"/>\n       <use x=\"1077.117188\" xlink:href=\"#DejaVuSans-105\"/>\n       <use x=\"1104.900391\" xlink:href=\"#DejaVuSans-100\"/>\n       <use x=\"1168.376953\" xlink:href=\"#DejaVuSans-101\"/>\n       <use x=\"1229.900391\" xlink:href=\"#DejaVuSans-110\"/>\n       <use x=\"1293.279297\" xlink:href=\"#DejaVuSans-99\"/>\n       <use x=\"1348.259766\" xlink:href=\"#DejaVuSans-101\"/>\n      </g>\n     </g>\n    </g>\n    <g id=\"ytick_2\">\n     <g id=\"line2d_11\">\n      <g>\n       <use style=\"stroke:#000000;stroke-width:0.8;\" x=\"221.55\" xlink:href=\"#m0ddbfe9327\" y=\"206.396\"/>\n      </g>\n     </g>\n     <g id=\"text_11\">\n      <!-- Publish data -->\n      <defs>\n       <path d=\"M 19.671875 64.796875 \nL 19.671875 37.40625 \nL 32.078125 37.40625 \nQ 38.96875 37.40625 42.71875 40.96875 \nQ 46.484375 44.53125 46.484375 51.125 \nQ 46.484375 57.671875 42.71875 61.234375 \nQ 38.96875 64.796875 32.078125 64.796875 \nz\nM 9.8125 72.90625 \nL 32.078125 72.90625 \nQ 44.34375 72.90625 50.609375 67.359375 \nQ 56.890625 61.8125 56.890625 51.125 \nQ 56.890625 40.328125 50.609375 34.8125 \nQ 44.34375 29.296875 32.078125 29.296875 \nL 19.671875 29.296875 \nL 19.671875 0 \nL 9.8125 0 \nz\n\" id=\"DejaVuSans-80\"/>\n       <path d=\"M 8.5 21.578125 \nL 8.5 54.6875 \nL 17.484375 54.6875 \nL 17.484375 21.921875 \nQ 17.484375 14.15625 20.5 10.265625 \nQ 23.53125 6.390625 29.59375 6.390625 \nQ 36.859375 6.390625 41.078125 11.03125 \nQ 45.3125 15.671875 45.3125 23.6875 \nL 45.3125 54.6875 \nL 54.296875 54.6875 \nL 54.296875 0 \nL 45.3125 0 \nL 45.3125 8.40625 \nQ 42.046875 3.421875 37.71875 1 \nQ 33.40625 -1.421875 27.6875 -1.421875 \nQ 18.265625 -1.421875 13.375 4.4375 \nQ 8.5 10.296875 8.5 21.578125 \nz\nM 31.109375 56 \nz\n\" id=\"DejaVuSans-117\"/>\n       <path d=\"M 48.6875 27.296875 \nQ 48.6875 37.203125 44.609375 42.84375 \nQ 40.53125 48.484375 33.40625 48.484375 \nQ 26.265625 48.484375 22.1875 42.84375 \nQ 18.109375 37.203125 18.109375 27.296875 \nQ 18.109375 17.390625 22.1875 11.75 \nQ 26.265625 6.109375 33.40625 6.109375 \nQ 40.53125 6.109375 44.609375 11.75 \nQ 48.6875 17.390625 48.6875 27.296875 \nz\nM 18.109375 46.390625 \nQ 20.953125 51.265625 25.265625 53.625 \nQ 29.59375 56 35.59375 56 \nQ 45.5625 56 51.78125 48.09375 \nQ 58.015625 40.1875 58.015625 27.296875 \nQ 58.015625 14.40625 51.78125 6.484375 \nQ 45.5625 -1.421875 35.59375 -1.421875 \nQ 29.59375 -1.421875 25.265625 0.953125 \nQ 20.953125 3.328125 18.109375 8.203125 \nL 18.109375 0 \nL 9.078125 0 \nL 9.078125 75.984375 \nL 18.109375 75.984375 \nz\n\" id=\"DejaVuSans-98\"/>\n       <path d=\"M 44.28125 53.078125 \nL 44.28125 44.578125 \nQ 40.484375 46.53125 36.375 47.5 \nQ 32.28125 48.484375 27.875 48.484375 \nQ 21.1875 48.484375 17.84375 46.4375 \nQ 14.5 44.390625 14.5 40.28125 \nQ 14.5 37.15625 16.890625 35.375 \nQ 19.28125 33.59375 26.515625 31.984375 \nL 29.59375 31.296875 \nQ 39.15625 29.25 43.1875 25.515625 \nQ 47.21875 21.78125 47.21875 15.09375 \nQ 47.21875 7.46875 41.1875 3.015625 \nQ 35.15625 -1.421875 24.609375 -1.421875 \nQ 20.21875 -1.421875 15.453125 -0.5625 \nQ 10.6875 0.296875 5.421875 2 \nL 5.421875 11.28125 \nQ 10.40625 8.6875 15.234375 7.390625 \nQ 20.0625 6.109375 24.8125 6.109375 \nQ 31.15625 6.109375 34.5625 8.28125 \nQ 37.984375 10.453125 37.984375 14.40625 \nQ 37.984375 18.0625 35.515625 20.015625 \nQ 33.0625 21.96875 24.703125 23.78125 \nL 21.578125 24.515625 \nQ 13.234375 26.265625 9.515625 29.90625 \nQ 5.8125 33.546875 5.8125 39.890625 \nQ 5.8125 47.609375 11.28125 51.796875 \nQ 16.75 56 26.8125 56 \nQ 31.78125 56 36.171875 55.265625 \nQ 40.578125 54.546875 44.28125 53.078125 \nz\n\" id=\"DejaVuSans-115\"/>\n       <path d=\"M 54.890625 33.015625 \nL 54.890625 0 \nL 45.90625 0 \nL 45.90625 32.71875 \nQ 45.90625 40.484375 42.875 44.328125 \nQ 39.84375 48.1875 33.796875 48.1875 \nQ 26.515625 48.1875 22.3125 43.546875 \nQ 18.109375 38.921875 18.109375 30.90625 \nL 18.109375 0 \nL 9.078125 0 \nL 9.078125 75.984375 \nL 18.109375 75.984375 \nL 18.109375 46.1875 \nQ 21.34375 51.125 25.703125 53.5625 \nQ 30.078125 56 35.796875 56 \nQ 45.21875 56 50.046875 50.171875 \nQ 54.890625 44.34375 54.890625 33.015625 \nz\n\" id=\"DejaVuSans-104\"/>\n       <path d=\"M 18.3125 70.21875 \nL 18.3125 54.6875 \nL 36.8125 54.6875 \nL 36.8125 47.703125 \nL 18.3125 47.703125 \nL 18.3125 18.015625 \nQ 18.3125 11.328125 20.140625 9.421875 \nQ 21.96875 7.515625 27.59375 7.515625 \nL 36.8125 7.515625 \nL 36.8125 0 \nL 27.59375 0 \nQ 17.1875 0 13.234375 3.875 \nQ 9.28125 7.765625 9.28125 18.015625 \nL 9.28125 47.703125 \nL 2.6875 47.703125 \nL 2.6875 54.6875 \nL 9.28125 54.6875 \nL 9.28125 70.21875 \nz\n\" id=\"DejaVuSans-116\"/>\n      </defs>\n      <g transform=\"translate(153.029688 210.195219)scale(0.1 -0.1)\">\n       <use xlink:href=\"#DejaVuSans-80\"/>\n       <use x=\"60.287109\" xlink:href=\"#DejaVuSans-117\"/>\n       <use x=\"123.666016\" xlink:href=\"#DejaVuSans-98\"/>\n       <use x=\"187.142578\" xlink:href=\"#DejaVuSans-108\"/>\n       <use x=\"214.925781\" xlink:href=\"#DejaVuSans-105\"/>\n       <use x=\"242.708984\" xlink:href=\"#DejaVuSans-115\"/>\n       <use x=\"294.808594\" xlink:href=\"#DejaVuSans-104\"/>\n       <use x=\"358.1875\" xlink:href=\"#DejaVuSans-32\"/>\n       <use x=\"389.974609\" xlink:href=\"#DejaVuSans-100\"/>\n       <use x=\"453.451172\" xlink:href=\"#DejaVuSans-97\"/>\n       <use x=\"514.730469\" xlink:href=\"#DejaVuSans-116\"/>\n       <use x=\"553.939453\" xlink:href=\"#DejaVuSans-97\"/>\n      </g>\n     </g>\n    </g>\n    <g id=\"ytick_3\">\n     <g id=\"line2d_12\">\n      <g>\n       <use style=\"stroke:#000000;stroke-width:0.8;\" x=\"221.55\" xlink:href=\"#m0ddbfe9327\" y=\"191.9\"/>\n      </g>\n     </g>\n     <g id=\"text_12\">\n      <!-- Optimize clinical trials -->\n      <defs>\n       <path d=\"M 39.40625 66.21875 \nQ 28.65625 66.21875 22.328125 58.203125 \nQ 16.015625 50.203125 16.015625 36.375 \nQ 16.015625 22.609375 22.328125 14.59375 \nQ 28.65625 6.59375 39.40625 6.59375 \nQ 50.140625 6.59375 56.421875 14.59375 \nQ 62.703125 22.609375 62.703125 36.375 \nQ 62.703125 50.203125 56.421875 58.203125 \nQ 50.140625 66.21875 39.40625 66.21875 \nz\nM 39.40625 74.21875 \nQ 54.734375 74.21875 63.90625 63.9375 \nQ 73.09375 53.65625 73.09375 36.375 \nQ 73.09375 19.140625 63.90625 8.859375 \nQ 54.734375 -1.421875 39.40625 -1.421875 \nQ 24.03125 -1.421875 14.8125 8.828125 \nQ 5.609375 19.09375 5.609375 36.375 \nQ 5.609375 53.65625 14.8125 63.9375 \nQ 24.03125 74.21875 39.40625 74.21875 \nz\n\" id=\"DejaVuSans-79\"/>\n       <path d=\"M 18.109375 8.203125 \nL 18.109375 -20.796875 \nL 9.078125 -20.796875 \nL 9.078125 54.6875 \nL 18.109375 54.6875 \nL 18.109375 46.390625 \nQ 20.953125 51.265625 25.265625 53.625 \nQ 29.59375 56 35.59375 56 \nQ 45.5625 56 51.78125 48.09375 \nQ 58.015625 40.1875 58.015625 27.296875 \nQ 58.015625 14.40625 51.78125 6.484375 \nQ 45.5625 -1.421875 35.59375 -1.421875 \nQ 29.59375 -1.421875 25.265625 0.953125 \nQ 20.953125 3.328125 18.109375 8.203125 \nz\nM 48.6875 27.296875 \nQ 48.6875 37.203125 44.609375 42.84375 \nQ 40.53125 48.484375 33.40625 48.484375 \nQ 26.265625 48.484375 22.1875 42.84375 \nQ 18.109375 37.203125 18.109375 27.296875 \nQ 18.109375 17.390625 22.1875 11.75 \nQ 26.265625 6.109375 33.40625 6.109375 \nQ 40.53125 6.109375 44.609375 11.75 \nQ 48.6875 17.390625 48.6875 27.296875 \nz\n\" id=\"DejaVuSans-112\"/>\n       <path d=\"M 52 44.1875 \nQ 55.375 50.25 60.0625 53.125 \nQ 64.75 56 71.09375 56 \nQ 79.640625 56 84.28125 50.015625 \nQ 88.921875 44.046875 88.921875 33.015625 \nL 88.921875 0 \nL 79.890625 0 \nL 79.890625 32.71875 \nQ 79.890625 40.578125 77.09375 44.375 \nQ 74.3125 48.1875 68.609375 48.1875 \nQ 61.625 48.1875 57.5625 43.546875 \nQ 53.515625 38.921875 53.515625 30.90625 \nL 53.515625 0 \nL 44.484375 0 \nL 44.484375 32.71875 \nQ 44.484375 40.625 41.703125 44.40625 \nQ 38.921875 48.1875 33.109375 48.1875 \nQ 26.21875 48.1875 22.15625 43.53125 \nQ 18.109375 38.875 18.109375 30.90625 \nL 18.109375 0 \nL 9.078125 0 \nL 9.078125 54.6875 \nL 18.109375 54.6875 \nL 18.109375 46.1875 \nQ 21.1875 51.21875 25.484375 53.609375 \nQ 29.78125 56 35.6875 56 \nQ 41.65625 56 45.828125 52.96875 \nQ 50 49.953125 52 44.1875 \nz\n\" id=\"DejaVuSans-109\"/>\n      </defs>\n      <g transform=\"translate(103.854688 195.699219)scale(0.1 -0.1)\">\n       <use xlink:href=\"#DejaVuSans-79\"/>\n       <use x=\"78.710938\" xlink:href=\"#DejaVuSans-112\"/>\n       <use x=\"142.1875\" xlink:href=\"#DejaVuSans-116\"/>\n       <use x=\"181.396484\" xlink:href=\"#DejaVuSans-105\"/>\n       <use x=\"209.179688\" xlink:href=\"#DejaVuSans-109\"/>\n       <use x=\"306.591797\" xlink:href=\"#DejaVuSans-105\"/>\n       <use x=\"334.375\" xlink:href=\"#DejaVuSans-122\"/>\n       <use x=\"386.865234\" xlink:href=\"#DejaVuSans-101\"/>\n       <use x=\"448.388672\" xlink:href=\"#DejaVuSans-32\"/>\n       <use x=\"480.175781\" xlink:href=\"#DejaVuSans-99\"/>\n       <use x=\"535.15625\" xlink:href=\"#DejaVuSans-108\"/>\n       <use x=\"562.939453\" xlink:href=\"#DejaVuSans-105\"/>\n       <use x=\"590.722656\" xlink:href=\"#DejaVuSans-110\"/>\n       <use x=\"654.101562\" xlink:href=\"#DejaVuSans-105\"/>\n       <use x=\"681.884766\" xlink:href=\"#DejaVuSans-99\"/>\n       <use x=\"736.865234\" xlink:href=\"#DejaVuSans-97\"/>\n       <use x=\"798.144531\" xlink:href=\"#DejaVuSans-108\"/>\n       <use x=\"825.927734\" xlink:href=\"#DejaVuSans-32\"/>\n       <use x=\"857.714844\" xlink:href=\"#DejaVuSans-116\"/>\n       <use x=\"896.923828\" xlink:href=\"#DejaVuSans-114\"/>\n       <use x=\"938.037109\" xlink:href=\"#DejaVuSans-105\"/>\n       <use x=\"965.820312\" xlink:href=\"#DejaVuSans-97\"/>\n       <use x=\"1027.099609\" xlink:href=\"#DejaVuSans-108\"/>\n       <use x=\"1054.882812\" xlink:href=\"#DejaVuSans-115\"/>\n      </g>\n     </g>\n    </g>\n    <g id=\"ytick_4\">\n     <g id=\"line2d_13\">\n      <g>\n       <use style=\"stroke:#000000;stroke-width:0.8;\" x=\"221.55\" xlink:href=\"#m0ddbfe9327\" y=\"177.404\"/>\n      </g>\n     </g>\n     <g id=\"text_13\">\n      <!-- Recruit for clinical trials -->\n      <defs>\n       <path d=\"M 44.390625 34.1875 \nQ 47.5625 33.109375 50.5625 29.59375 \nQ 53.5625 26.078125 56.59375 19.921875 \nL 66.609375 0 \nL 56 0 \nL 46.6875 18.703125 \nQ 43.0625 26.03125 39.671875 28.421875 \nQ 36.28125 30.8125 30.421875 30.8125 \nL 19.671875 30.8125 \nL 19.671875 0 \nL 9.8125 0 \nL 9.8125 72.90625 \nL 32.078125 72.90625 \nQ 44.578125 72.90625 50.734375 67.671875 \nQ 56.890625 62.453125 56.890625 51.90625 \nQ 56.890625 45.015625 53.6875 40.46875 \nQ 50.484375 35.9375 44.390625 34.1875 \nz\nM 19.671875 64.796875 \nL 19.671875 38.921875 \nL 32.078125 38.921875 \nQ 39.203125 38.921875 42.84375 42.21875 \nQ 46.484375 45.515625 46.484375 51.90625 \nQ 46.484375 58.296875 42.84375 61.546875 \nQ 39.203125 64.796875 32.078125 64.796875 \nz\n\" id=\"DejaVuSans-82\"/>\n       <path d=\"M 37.109375 75.984375 \nL 37.109375 68.5 \nL 28.515625 68.5 \nQ 23.6875 68.5 21.796875 66.546875 \nQ 19.921875 64.59375 19.921875 59.515625 \nL 19.921875 54.6875 \nL 34.71875 54.6875 \nL 34.71875 47.703125 \nL 19.921875 47.703125 \nL 19.921875 0 \nL 10.890625 0 \nL 10.890625 47.703125 \nL 2.296875 47.703125 \nL 2.296875 54.6875 \nL 10.890625 54.6875 \nL 10.890625 58.5 \nQ 10.890625 67.625 15.140625 71.796875 \nQ 19.390625 75.984375 28.609375 75.984375 \nz\n\" id=\"DejaVuSans-102\"/>\n      </defs>\n      <g transform=\"translate(96.025 181.203219)scale(0.1 -0.1)\">\n       <use xlink:href=\"#DejaVuSans-82\"/>\n       <use x=\"69.419922\" xlink:href=\"#DejaVuSans-101\"/>\n       <use x=\"130.943359\" xlink:href=\"#DejaVuSans-99\"/>\n       <use x=\"185.923828\" xlink:href=\"#DejaVuSans-114\"/>\n       <use x=\"227.037109\" xlink:href=\"#DejaVuSans-117\"/>\n       <use x=\"290.416016\" xlink:href=\"#DejaVuSans-105\"/>\n       <use x=\"318.199219\" xlink:href=\"#DejaVuSans-116\"/>\n       <use x=\"357.408203\" xlink:href=\"#DejaVuSans-32\"/>\n       <use x=\"389.195312\" xlink:href=\"#DejaVuSans-102\"/>\n       <use x=\"424.400391\" xlink:href=\"#DejaVuSans-111\"/>\n       <use x=\"485.582031\" xlink:href=\"#DejaVuSans-114\"/>\n       <use x=\"526.695312\" xlink:href=\"#DejaVuSans-32\"/>\n       <use x=\"558.482422\" xlink:href=\"#DejaVuSans-99\"/>\n       <use x=\"613.462891\" xlink:href=\"#DejaVuSans-108\"/>\n       <use x=\"641.246094\" xlink:href=\"#DejaVuSans-105\"/>\n       <use x=\"669.029297\" xlink:href=\"#DejaVuSans-110\"/>\n       <use x=\"732.408203\" xlink:href=\"#DejaVuSans-105\"/>\n       <use x=\"760.191406\" xlink:href=\"#DejaVuSans-99\"/>\n       <use x=\"815.171875\" xlink:href=\"#DejaVuSans-97\"/>\n       <use x=\"876.451172\" xlink:href=\"#DejaVuSans-108\"/>\n       <use x=\"904.234375\" xlink:href=\"#DejaVuSans-32\"/>\n       <use x=\"936.021484\" xlink:href=\"#DejaVuSans-116\"/>\n       <use x=\"975.230469\" xlink:href=\"#DejaVuSans-114\"/>\n       <use x=\"1016.34375\" xlink:href=\"#DejaVuSans-105\"/>\n       <use x=\"1044.126953\" xlink:href=\"#DejaVuSans-97\"/>\n       <use x=\"1105.40625\" xlink:href=\"#DejaVuSans-108\"/>\n       <use x=\"1133.189453\" xlink:href=\"#DejaVuSans-115\"/>\n      </g>\n     </g>\n    </g>\n    <g id=\"ytick_5\">\n     <g id=\"line2d_14\">\n      <g>\n       <use style=\"stroke:#000000;stroke-width:0.8;\" x=\"221.55\" xlink:href=\"#m0ddbfe9327\" y=\"162.908\"/>\n      </g>\n     </g>\n     <g id=\"text_14\">\n      <!-- Design clinical trials -->\n      <defs>\n       <path d=\"M 19.671875 64.796875 \nL 19.671875 8.109375 \nL 31.59375 8.109375 \nQ 46.6875 8.109375 53.6875 14.9375 \nQ 60.6875 21.78125 60.6875 36.53125 \nQ 60.6875 51.171875 53.6875 57.984375 \nQ 46.6875 64.796875 31.59375 64.796875 \nz\nM 9.8125 72.90625 \nL 30.078125 72.90625 \nQ 51.265625 72.90625 61.171875 64.09375 \nQ 71.09375 55.28125 71.09375 36.53125 \nQ 71.09375 17.671875 61.125 8.828125 \nQ 51.171875 0 30.078125 0 \nL 9.8125 0 \nz\n\" id=\"DejaVuSans-68\"/>\n       <path d=\"M 45.40625 27.984375 \nQ 45.40625 37.75 41.375 43.109375 \nQ 37.359375 48.484375 30.078125 48.484375 \nQ 22.859375 48.484375 18.828125 43.109375 \nQ 14.796875 37.75 14.796875 27.984375 \nQ 14.796875 18.265625 18.828125 12.890625 \nQ 22.859375 7.515625 30.078125 7.515625 \nQ 37.359375 7.515625 41.375 12.890625 \nQ 45.40625 18.265625 45.40625 27.984375 \nz\nM 54.390625 6.78125 \nQ 54.390625 -7.171875 48.1875 -13.984375 \nQ 42 -20.796875 29.203125 -20.796875 \nQ 24.46875 -20.796875 20.265625 -20.09375 \nQ 16.0625 -19.390625 12.109375 -17.921875 \nL 12.109375 -9.1875 \nQ 16.0625 -11.328125 19.921875 -12.34375 \nQ 23.78125 -13.375 27.78125 -13.375 \nQ 36.625 -13.375 41.015625 -8.765625 \nQ 45.40625 -4.15625 45.40625 5.171875 \nL 45.40625 9.625 \nQ 42.625 4.78125 38.28125 2.390625 \nQ 33.9375 0 27.875 0 \nQ 17.828125 0 11.671875 7.65625 \nQ 5.515625 15.328125 5.515625 27.984375 \nQ 5.515625 40.671875 11.671875 48.328125 \nQ 17.828125 56 27.875 56 \nQ 33.9375 56 38.28125 53.609375 \nQ 42.625 51.21875 45.40625 46.390625 \nL 45.40625 54.6875 \nL 54.390625 54.6875 \nz\n\" id=\"DejaVuSans-103\"/>\n      </defs>\n      <g transform=\"translate(114.167188 166.707219)scale(0.1 -0.1)\">\n       <use xlink:href=\"#DejaVuSans-68\"/>\n       <use x=\"77.001953\" xlink:href=\"#DejaVuSans-101\"/>\n       <use x=\"138.525391\" xlink:href=\"#DejaVuSans-115\"/>\n       <use x=\"190.625\" xlink:href=\"#DejaVuSans-105\"/>\n       <use x=\"218.408203\" xlink:href=\"#DejaVuSans-103\"/>\n       <use x=\"281.884766\" xlink:href=\"#DejaVuSans-110\"/>\n       <use x=\"345.263672\" xlink:href=\"#DejaVuSans-32\"/>\n       <use x=\"377.050781\" xlink:href=\"#DejaVuSans-99\"/>\n       <use x=\"432.03125\" xlink:href=\"#DejaVuSans-108\"/>\n       <use x=\"459.814453\" xlink:href=\"#DejaVuSans-105\"/>\n       <use x=\"487.597656\" xlink:href=\"#DejaVuSans-110\"/>\n       <use x=\"550.976562\" xlink:href=\"#DejaVuSans-105\"/>\n       <use x=\"578.759766\" xlink:href=\"#DejaVuSans-99\"/>\n       <use x=\"633.740234\" xlink:href=\"#DejaVuSans-97\"/>\n       <use x=\"695.019531\" xlink:href=\"#DejaVuSans-108\"/>\n       <use x=\"722.802734\" xlink:href=\"#DejaVuSans-32\"/>\n       <use x=\"754.589844\" xlink:href=\"#DejaVuSans-116\"/>\n       <use x=\"793.798828\" xlink:href=\"#DejaVuSans-114\"/>\n       <use x=\"834.912109\" xlink:href=\"#DejaVuSans-105\"/>\n       <use x=\"862.695312\" xlink:href=\"#DejaVuSans-97\"/>\n       <use x=\"923.974609\" xlink:href=\"#DejaVuSans-108\"/>\n       <use x=\"951.757812\" xlink:href=\"#DejaVuSans-115\"/>\n      </g>\n     </g>\n    </g>\n    <g id=\"ytick_6\">\n     <g id=\"line2d_15\">\n      <g>\n       <use style=\"stroke:#000000;stroke-width:0.8;\" x=\"221.55\" xlink:href=\"#m0ddbfe9327\" y=\"148.412\"/>\n      </g>\n     </g>\n     <g id=\"text_15\">\n      <!-- Run preclinical experiments -->\n      <defs>\n       <path d=\"M 54.890625 54.6875 \nL 35.109375 28.078125 \nL 55.90625 0 \nL 45.3125 0 \nL 29.390625 21.484375 \nL 13.484375 0 \nL 2.875 0 \nL 24.125 28.609375 \nL 4.6875 54.6875 \nL 15.28125 54.6875 \nL 29.78125 35.203125 \nL 44.28125 54.6875 \nz\n\" id=\"DejaVuSans-120\"/>\n      </defs>\n      <g transform=\"translate(74.570312 152.211219)scale(0.1 -0.1)\">\n       <use xlink:href=\"#DejaVuSans-82\"/>\n       <use x=\"69.419922\" xlink:href=\"#DejaVuSans-117\"/>\n       <use x=\"132.798828\" xlink:href=\"#DejaVuSans-110\"/>\n       <use x=\"196.177734\" xlink:href=\"#DejaVuSans-32\"/>\n       <use x=\"227.964844\" xlink:href=\"#DejaVuSans-112\"/>\n       <use x=\"291.441406\" xlink:href=\"#DejaVuSans-114\"/>\n       <use x=\"332.523438\" xlink:href=\"#DejaVuSans-101\"/>\n       <use x=\"394.046875\" xlink:href=\"#DejaVuSans-99\"/>\n       <use x=\"449.027344\" xlink:href=\"#DejaVuSans-108\"/>\n       <use x=\"476.810547\" xlink:href=\"#DejaVuSans-105\"/>\n       <use x=\"504.59375\" xlink:href=\"#DejaVuSans-110\"/>\n       <use x=\"567.972656\" xlink:href=\"#DejaVuSans-105\"/>\n       <use x=\"595.755859\" xlink:href=\"#DejaVuSans-99\"/>\n       <use x=\"650.736328\" xlink:href=\"#DejaVuSans-97\"/>\n       <use x=\"712.015625\" xlink:href=\"#DejaVuSans-108\"/>\n       <use x=\"739.798828\" xlink:href=\"#DejaVuSans-32\"/>\n       <use x=\"771.585938\" xlink:href=\"#DejaVuSans-101\"/>\n       <use x=\"833.09375\" xlink:href=\"#DejaVuSans-120\"/>\n       <use x=\"892.273438\" xlink:href=\"#DejaVuSans-112\"/>\n       <use x=\"955.75\" xlink:href=\"#DejaVuSans-101\"/>\n       <use x=\"1017.273438\" xlink:href=\"#DejaVuSans-114\"/>\n       <use x=\"1058.386719\" xlink:href=\"#DejaVuSans-105\"/>\n       <use x=\"1086.169922\" xlink:href=\"#DejaVuSans-109\"/>\n       <use x=\"1183.582031\" xlink:href=\"#DejaVuSans-101\"/>\n       <use x=\"1245.105469\" xlink:href=\"#DejaVuSans-110\"/>\n       <use x=\"1308.484375\" xlink:href=\"#DejaVuSans-116\"/>\n       <use x=\"1347.693359\" xlink:href=\"#DejaVuSans-115\"/>\n      </g>\n     </g>\n    </g>\n    <g id=\"ytick_7\">\n     <g id=\"line2d_16\">\n      <g>\n       <use style=\"stroke:#000000;stroke-width:0.8;\" x=\"221.55\" xlink:href=\"#m0ddbfe9327\" y=\"133.916\"/>\n      </g>\n     </g>\n     <g id=\"text_16\">\n      <!-- Design preclinical experiments -->\n      <g transform=\"translate(59.660937 137.715219)scale(0.1 -0.1)\">\n       <use xlink:href=\"#DejaVuSans-68\"/>\n       <use x=\"77.001953\" xlink:href=\"#DejaVuSans-101\"/>\n       <use x=\"138.525391\" xlink:href=\"#DejaVuSans-115\"/>\n       <use x=\"190.625\" xlink:href=\"#DejaVuSans-105\"/>\n       <use x=\"218.408203\" xlink:href=\"#DejaVuSans-103\"/>\n       <use x=\"281.884766\" xlink:href=\"#DejaVuSans-110\"/>\n       <use x=\"345.263672\" xlink:href=\"#DejaVuSans-32\"/>\n       <use x=\"377.050781\" xlink:href=\"#DejaVuSans-112\"/>\n       <use x=\"440.527344\" xlink:href=\"#DejaVuSans-114\"/>\n       <use x=\"481.609375\" xlink:href=\"#DejaVuSans-101\"/>\n       <use x=\"543.132812\" xlink:href=\"#DejaVuSans-99\"/>\n       <use x=\"598.113281\" xlink:href=\"#DejaVuSans-108\"/>\n       <use x=\"625.896484\" xlink:href=\"#DejaVuSans-105\"/>\n       <use x=\"653.679688\" xlink:href=\"#DejaVuSans-110\"/>\n       <use x=\"717.058594\" xlink:href=\"#DejaVuSans-105\"/>\n       <use x=\"744.841797\" xlink:href=\"#DejaVuSans-99\"/>\n       <use x=\"799.822266\" xlink:href=\"#DejaVuSans-97\"/>\n       <use x=\"861.101562\" xlink:href=\"#DejaVuSans-108\"/>\n       <use x=\"888.884766\" xlink:href=\"#DejaVuSans-32\"/>\n       <use x=\"920.671875\" xlink:href=\"#DejaVuSans-101\"/>\n       <use x=\"982.179688\" xlink:href=\"#DejaVuSans-120\"/>\n       <use x=\"1041.359375\" xlink:href=\"#DejaVuSans-112\"/>\n       <use x=\"1104.835938\" xlink:href=\"#DejaVuSans-101\"/>\n       <use x=\"1166.359375\" xlink:href=\"#DejaVuSans-114\"/>\n       <use x=\"1207.472656\" xlink:href=\"#DejaVuSans-105\"/>\n       <use x=\"1235.255859\" xlink:href=\"#DejaVuSans-109\"/>\n       <use x=\"1332.667969\" xlink:href=\"#DejaVuSans-101\"/>\n       <use x=\"1394.191406\" xlink:href=\"#DejaVuSans-110\"/>\n       <use x=\"1457.570312\" xlink:href=\"#DejaVuSans-116\"/>\n       <use x=\"1496.779297\" xlink:href=\"#DejaVuSans-115\"/>\n      </g>\n     </g>\n    </g>\n    <g id=\"ytick_8\">\n     <g id=\"line2d_17\">\n      <g>\n       <use style=\"stroke:#000000;stroke-width:0.8;\" x=\"221.55\" xlink:href=\"#m0ddbfe9327\" y=\"119.42\"/>\n      </g>\n     </g>\n     <g id=\"text_17\">\n      <!-- Design drugs -->\n      <g transform=\"translate(148.490625 123.219219)scale(0.1 -0.1)\">\n       <use xlink:href=\"#DejaVuSans-68\"/>\n       <use x=\"77.001953\" xlink:href=\"#DejaVuSans-101\"/>\n       <use x=\"138.525391\" xlink:href=\"#DejaVuSans-115\"/>\n       <use x=\"190.625\" xlink:href=\"#DejaVuSans-105\"/>\n       <use x=\"218.408203\" xlink:href=\"#DejaVuSans-103\"/>\n       <use x=\"281.884766\" xlink:href=\"#DejaVuSans-110\"/>\n       <use x=\"345.263672\" xlink:href=\"#DejaVuSans-32\"/>\n       <use x=\"377.050781\" xlink:href=\"#DejaVuSans-100\"/>\n       <use x=\"440.527344\" xlink:href=\"#DejaVuSans-114\"/>\n       <use x=\"481.640625\" xlink:href=\"#DejaVuSans-117\"/>\n       <use x=\"545.019531\" xlink:href=\"#DejaVuSans-103\"/>\n       <use x=\"608.496094\" xlink:href=\"#DejaVuSans-115\"/>\n      </g>\n     </g>\n    </g>\n    <g id=\"ytick_9\">\n     <g id=\"line2d_18\">\n      <g>\n       <use style=\"stroke:#000000;stroke-width:0.8;\" x=\"221.55\" xlink:href=\"#m0ddbfe9327\" y=\"104.924\"/>\n      </g>\n     </g>\n     <g id=\"text_18\">\n      <!-- Validate and optimize drug candidates -->\n      <defs>\n       <path d=\"M 28.609375 0 \nL 0.78125 72.90625 \nL 11.078125 72.90625 \nL 34.1875 11.53125 \nL 57.328125 72.90625 \nL 67.578125 72.90625 \nL 39.796875 0 \nz\n\" id=\"DejaVuSans-86\"/>\n      </defs>\n      <g transform=\"translate(20.878125 108.723219)scale(0.1 -0.1)\">\n       <use xlink:href=\"#DejaVuSans-86\"/>\n       <use x=\"68.298828\" xlink:href=\"#DejaVuSans-97\"/>\n       <use x=\"129.578125\" xlink:href=\"#DejaVuSans-108\"/>\n       <use x=\"157.361328\" xlink:href=\"#DejaVuSans-105\"/>\n       <use x=\"185.144531\" xlink:href=\"#DejaVuSans-100\"/>\n       <use x=\"248.621094\" xlink:href=\"#DejaVuSans-97\"/>\n       <use x=\"309.900391\" xlink:href=\"#DejaVuSans-116\"/>\n       <use x=\"349.109375\" xlink:href=\"#DejaVuSans-101\"/>\n       <use x=\"410.632812\" xlink:href=\"#DejaVuSans-32\"/>\n       <use x=\"442.419922\" xlink:href=\"#DejaVuSans-97\"/>\n       <use x=\"503.699219\" xlink:href=\"#DejaVuSans-110\"/>\n       <use x=\"567.078125\" xlink:href=\"#DejaVuSans-100\"/>\n       <use x=\"630.554688\" xlink:href=\"#DejaVuSans-32\"/>\n       <use x=\"662.341797\" xlink:href=\"#DejaVuSans-111\"/>\n       <use x=\"723.523438\" xlink:href=\"#DejaVuSans-112\"/>\n       <use x=\"787\" xlink:href=\"#DejaVuSans-116\"/>\n       <use x=\"826.208984\" xlink:href=\"#DejaVuSans-105\"/>\n       <use x=\"853.992188\" xlink:href=\"#DejaVuSans-109\"/>\n       <use x=\"951.404297\" xlink:href=\"#DejaVuSans-105\"/>\n       <use x=\"979.1875\" xlink:href=\"#DejaVuSans-122\"/>\n       <use x=\"1031.677734\" xlink:href=\"#DejaVuSans-101\"/>\n       <use x=\"1093.201172\" xlink:href=\"#DejaVuSans-32\"/>\n       <use x=\"1124.988281\" xlink:href=\"#DejaVuSans-100\"/>\n       <use x=\"1188.464844\" xlink:href=\"#DejaVuSans-114\"/>\n       <use x=\"1229.578125\" xlink:href=\"#DejaVuSans-117\"/>\n       <use x=\"1292.957031\" xlink:href=\"#DejaVuSans-103\"/>\n       <use x=\"1356.433594\" xlink:href=\"#DejaVuSans-32\"/>\n       <use x=\"1388.220703\" xlink:href=\"#DejaVuSans-99\"/>\n       <use x=\"1443.201172\" xlink:href=\"#DejaVuSans-97\"/>\n       <use x=\"1504.480469\" xlink:href=\"#DejaVuSans-110\"/>\n       <use x=\"1567.859375\" xlink:href=\"#DejaVuSans-100\"/>\n       <use x=\"1631.335938\" xlink:href=\"#DejaVuSans-105\"/>\n       <use x=\"1659.119141\" xlink:href=\"#DejaVuSans-100\"/>\n       <use x=\"1722.595703\" xlink:href=\"#DejaVuSans-97\"/>\n       <use x=\"1783.875\" xlink:href=\"#DejaVuSans-116\"/>\n       <use x=\"1823.083984\" xlink:href=\"#DejaVuSans-101\"/>\n       <use x=\"1884.607422\" xlink:href=\"#DejaVuSans-115\"/>\n      </g>\n     </g>\n    </g>\n    <g id=\"ytick_10\">\n     <g id=\"line2d_19\">\n      <g>\n       <use style=\"stroke:#000000;stroke-width:0.8;\" x=\"221.55\" xlink:href=\"#m0ddbfe9327\" y=\"90.428\"/>\n      </g>\n     </g>\n     <g id=\"text_19\">\n      <!-- Generate novel drug candidates -->\n      <defs>\n       <path d=\"M 59.515625 10.40625 \nL 59.515625 29.984375 \nL 43.40625 29.984375 \nL 43.40625 38.09375 \nL 69.28125 38.09375 \nL 69.28125 6.78125 \nQ 63.578125 2.734375 56.6875 0.65625 \nQ 49.8125 -1.421875 42 -1.421875 \nQ 24.90625 -1.421875 15.25 8.5625 \nQ 5.609375 18.5625 5.609375 36.375 \nQ 5.609375 54.25 15.25 64.234375 \nQ 24.90625 74.21875 42 74.21875 \nQ 49.125 74.21875 55.546875 72.453125 \nQ 61.96875 70.703125 67.390625 67.28125 \nL 67.390625 56.78125 \nQ 61.921875 61.421875 55.765625 63.765625 \nQ 49.609375 66.109375 42.828125 66.109375 \nQ 29.4375 66.109375 22.71875 58.640625 \nQ 16.015625 51.171875 16.015625 36.375 \nQ 16.015625 21.625 22.71875 14.15625 \nQ 29.4375 6.6875 42.828125 6.6875 \nQ 48.046875 6.6875 52.140625 7.59375 \nQ 56.25 8.5 59.515625 10.40625 \nz\n\" id=\"DejaVuSans-71\"/>\n      </defs>\n      <g transform=\"translate(53.009375 94.227219)scale(0.1 -0.1)\">\n       <use xlink:href=\"#DejaVuSans-71\"/>\n       <use x=\"77.490234\" xlink:href=\"#DejaVuSans-101\"/>\n       <use x=\"139.013672\" xlink:href=\"#DejaVuSans-110\"/>\n       <use x=\"202.392578\" xlink:href=\"#DejaVuSans-101\"/>\n       <use x=\"263.916016\" xlink:href=\"#DejaVuSans-114\"/>\n       <use x=\"305.029297\" xlink:href=\"#DejaVuSans-97\"/>\n       <use x=\"366.308594\" xlink:href=\"#DejaVuSans-116\"/>\n       <use x=\"405.517578\" xlink:href=\"#DejaVuSans-101\"/>\n       <use x=\"467.041016\" xlink:href=\"#DejaVuSans-32\"/>\n       <use x=\"498.828125\" xlink:href=\"#DejaVuSans-110\"/>\n       <use x=\"562.207031\" xlink:href=\"#DejaVuSans-111\"/>\n       <use x=\"623.388672\" xlink:href=\"#DejaVuSans-118\"/>\n       <use x=\"682.568359\" xlink:href=\"#DejaVuSans-101\"/>\n       <use x=\"744.091797\" xlink:href=\"#DejaVuSans-108\"/>\n       <use x=\"771.875\" xlink:href=\"#DejaVuSans-32\"/>\n       <use x=\"803.662109\" xlink:href=\"#DejaVuSans-100\"/>\n       <use x=\"867.138672\" xlink:href=\"#DejaVuSans-114\"/>\n       <use x=\"908.251953\" xlink:href=\"#DejaVuSans-117\"/>\n       <use x=\"971.630859\" xlink:href=\"#DejaVuSans-103\"/>\n       <use x=\"1035.107422\" xlink:href=\"#DejaVuSans-32\"/>\n       <use x=\"1066.894531\" xlink:href=\"#DejaVuSans-99\"/>\n       <use x=\"1121.875\" xlink:href=\"#DejaVuSans-97\"/>\n       <use x=\"1183.154297\" xlink:href=\"#DejaVuSans-110\"/>\n       <use x=\"1246.533203\" xlink:href=\"#DejaVuSans-100\"/>\n       <use x=\"1310.009766\" xlink:href=\"#DejaVuSans-105\"/>\n       <use x=\"1337.792969\" xlink:href=\"#DejaVuSans-100\"/>\n       <use x=\"1401.269531\" xlink:href=\"#DejaVuSans-97\"/>\n       <use x=\"1462.548828\" xlink:href=\"#DejaVuSans-116\"/>\n       <use x=\"1501.757812\" xlink:href=\"#DejaVuSans-101\"/>\n       <use x=\"1563.28125\" xlink:href=\"#DejaVuSans-115\"/>\n      </g>\n     </g>\n    </g>\n    <g id=\"ytick_11\">\n     <g id=\"line2d_20\">\n      <g>\n       <use style=\"stroke:#000000;stroke-width:0.8;\" x=\"221.55\" xlink:href=\"#m0ddbfe9327\" y=\"75.932\"/>\n      </g>\n     </g>\n     <g id=\"text_20\">\n      <!-- Repurpose existing drugs -->\n      <g transform=\"translate(86.675 79.731219)scale(0.1 -0.1)\">\n       <use xlink:href=\"#DejaVuSans-82\"/>\n       <use x=\"69.419922\" xlink:href=\"#DejaVuSans-101\"/>\n       <use x=\"130.943359\" xlink:href=\"#DejaVuSans-112\"/>\n       <use x=\"194.419922\" xlink:href=\"#DejaVuSans-117\"/>\n       <use x=\"257.798828\" xlink:href=\"#DejaVuSans-114\"/>\n       <use x=\"298.912109\" xlink:href=\"#DejaVuSans-112\"/>\n       <use x=\"362.388672\" xlink:href=\"#DejaVuSans-111\"/>\n       <use x=\"423.570312\" xlink:href=\"#DejaVuSans-115\"/>\n       <use x=\"475.669922\" xlink:href=\"#DejaVuSans-101\"/>\n       <use x=\"537.193359\" xlink:href=\"#DejaVuSans-32\"/>\n       <use x=\"568.980469\" xlink:href=\"#DejaVuSans-101\"/>\n       <use x=\"630.488281\" xlink:href=\"#DejaVuSans-120\"/>\n       <use x=\"689.667969\" xlink:href=\"#DejaVuSans-105\"/>\n       <use x=\"717.451172\" xlink:href=\"#DejaVuSans-115\"/>\n       <use x=\"769.550781\" xlink:href=\"#DejaVuSans-116\"/>\n       <use x=\"808.759766\" xlink:href=\"#DejaVuSans-105\"/>\n       <use x=\"836.542969\" xlink:href=\"#DejaVuSans-110\"/>\n       <use x=\"899.921875\" xlink:href=\"#DejaVuSans-103\"/>\n       <use x=\"963.398438\" xlink:href=\"#DejaVuSans-32\"/>\n       <use x=\"995.185547\" xlink:href=\"#DejaVuSans-100\"/>\n       <use x=\"1058.662109\" xlink:href=\"#DejaVuSans-114\"/>\n       <use x=\"1099.775391\" xlink:href=\"#DejaVuSans-117\"/>\n       <use x=\"1163.154297\" xlink:href=\"#DejaVuSans-103\"/>\n       <use x=\"1226.630859\" xlink:href=\"#DejaVuSans-115\"/>\n      </g>\n     </g>\n    </g>\n    <g id=\"ytick_12\">\n     <g id=\"line2d_21\">\n      <g>\n       <use style=\"stroke:#000000;stroke-width:0.8;\" x=\"221.55\" xlink:href=\"#m0ddbfe9327\" y=\"61.436\"/>\n      </g>\n     </g>\n     <g id=\"text_21\">\n      <!-- Generate data and models -->\n      <g transform=\"translate(80.623437 65.235219)scale(0.1 -0.1)\">\n       <use xlink:href=\"#DejaVuSans-71\"/>\n       <use x=\"77.490234\" xlink:href=\"#DejaVuSans-101\"/>\n       <use x=\"139.013672\" xlink:href=\"#DejaVuSans-110\"/>\n       <use x=\"202.392578\" xlink:href=\"#DejaVuSans-101\"/>\n       <use x=\"263.916016\" xlink:href=\"#DejaVuSans-114\"/>\n       <use x=\"305.029297\" xlink:href=\"#DejaVuSans-97\"/>\n       <use x=\"366.308594\" xlink:href=\"#DejaVuSans-116\"/>\n       <use x=\"405.517578\" xlink:href=\"#DejaVuSans-101\"/>\n       <use x=\"467.041016\" xlink:href=\"#DejaVuSans-32\"/>\n       <use x=\"498.828125\" xlink:href=\"#DejaVuSans-100\"/>\n       <use x=\"562.304688\" xlink:href=\"#DejaVuSans-97\"/>\n       <use x=\"623.583984\" xlink:href=\"#DejaVuSans-116\"/>\n       <use x=\"662.792969\" xlink:href=\"#DejaVuSans-97\"/>\n       <use x=\"724.072266\" xlink:href=\"#DejaVuSans-32\"/>\n       <use x=\"755.859375\" xlink:href=\"#DejaVuSans-97\"/>\n       <use x=\"817.138672\" xlink:href=\"#DejaVuSans-110\"/>\n       <use x=\"880.517578\" xlink:href=\"#DejaVuSans-100\"/>\n       <use x=\"943.994141\" xlink:href=\"#DejaVuSans-32\"/>\n       <use x=\"975.78125\" xlink:href=\"#DejaVuSans-109\"/>\n       <use x=\"1073.193359\" xlink:href=\"#DejaVuSans-111\"/>\n       <use x=\"1134.375\" xlink:href=\"#DejaVuSans-100\"/>\n       <use x=\"1197.851562\" xlink:href=\"#DejaVuSans-101\"/>\n       <use x=\"1259.375\" xlink:href=\"#DejaVuSans-108\"/>\n       <use x=\"1287.158203\" xlink:href=\"#DejaVuSans-115\"/>\n      </g>\n     </g>\n    </g>\n    <g id=\"ytick_13\">\n     <g id=\"line2d_22\">\n      <g>\n       <use style=\"stroke:#000000;stroke-width:0.8;\" x=\"221.55\" xlink:href=\"#m0ddbfe9327\" y=\"46.94\"/>\n      </g>\n     </g>\n     <g id=\"text_22\">\n      <!-- Establish biomarkers -->\n      <defs>\n       <path d=\"M 9.8125 72.90625 \nL 55.90625 72.90625 \nL 55.90625 64.59375 \nL 19.671875 64.59375 \nL 19.671875 43.015625 \nL 54.390625 43.015625 \nL 54.390625 34.71875 \nL 19.671875 34.71875 \nL 19.671875 8.296875 \nL 56.78125 8.296875 \nL 56.78125 0 \nL 9.8125 0 \nz\n\" id=\"DejaVuSans-69\"/>\n       <path d=\"M 9.078125 75.984375 \nL 18.109375 75.984375 \nL 18.109375 31.109375 \nL 44.921875 54.6875 \nL 56.390625 54.6875 \nL 27.390625 29.109375 \nL 57.625 0 \nL 45.90625 0 \nL 18.109375 26.703125 \nL 18.109375 0 \nL 9.078125 0 \nz\n\" id=\"DejaVuSans-107\"/>\n      </defs>\n      <g transform=\"translate(109.859375 50.739219)scale(0.1 -0.1)\">\n       <use xlink:href=\"#DejaVuSans-69\"/>\n       <use x=\"63.183594\" xlink:href=\"#DejaVuSans-115\"/>\n       <use x=\"115.283203\" xlink:href=\"#DejaVuSans-116\"/>\n       <use x=\"154.492188\" xlink:href=\"#DejaVuSans-97\"/>\n       <use x=\"215.771484\" xlink:href=\"#DejaVuSans-98\"/>\n       <use x=\"279.248047\" xlink:href=\"#DejaVuSans-108\"/>\n       <use x=\"307.03125\" xlink:href=\"#DejaVuSans-105\"/>\n       <use x=\"334.814453\" xlink:href=\"#DejaVuSans-115\"/>\n       <use x=\"386.914062\" xlink:href=\"#DejaVuSans-104\"/>\n       <use x=\"450.292969\" xlink:href=\"#DejaVuSans-32\"/>\n       <use x=\"482.080078\" xlink:href=\"#DejaVuSans-98\"/>\n       <use x=\"545.556641\" xlink:href=\"#DejaVuSans-105\"/>\n       <use x=\"573.339844\" xlink:href=\"#DejaVuSans-111\"/>\n       <use x=\"634.521484\" xlink:href=\"#DejaVuSans-109\"/>\n       <use x=\"731.933594\" xlink:href=\"#DejaVuSans-97\"/>\n       <use x=\"793.212891\" xlink:href=\"#DejaVuSans-114\"/>\n       <use x=\"834.326172\" xlink:href=\"#DejaVuSans-107\"/>\n       <use x=\"892.189453\" xlink:href=\"#DejaVuSans-101\"/>\n       <use x=\"953.712891\" xlink:href=\"#DejaVuSans-114\"/>\n       <use x=\"994.826172\" xlink:href=\"#DejaVuSans-115\"/>\n      </g>\n     </g>\n    </g>\n    <g id=\"ytick_14\">\n     <g id=\"line2d_23\">\n      <g>\n       <use style=\"stroke:#000000;stroke-width:0.8;\" x=\"221.55\" xlink:href=\"#m0ddbfe9327\" y=\"32.444\"/>\n      </g>\n     </g>\n     <g id=\"text_23\">\n      <!-- Understand mechanisms of disease -->\n      <defs>\n       <path d=\"M 8.6875 72.90625 \nL 18.609375 72.90625 \nL 18.609375 28.609375 \nQ 18.609375 16.890625 22.84375 11.734375 \nQ 27.09375 6.59375 36.625 6.59375 \nQ 46.09375 6.59375 50.34375 11.734375 \nQ 54.59375 16.890625 54.59375 28.609375 \nL 54.59375 72.90625 \nL 64.5 72.90625 \nL 64.5 27.390625 \nQ 64.5 13.140625 57.4375 5.859375 \nQ 50.390625 -1.421875 36.625 -1.421875 \nQ 22.796875 -1.421875 15.734375 5.859375 \nQ 8.6875 13.140625 8.6875 27.390625 \nz\n\" id=\"DejaVuSans-85\"/>\n      </defs>\n      <g transform=\"translate(36.051562 36.243219)scale(0.1 -0.1)\">\n       <use xlink:href=\"#DejaVuSans-85\"/>\n       <use x=\"73.193359\" xlink:href=\"#DejaVuSans-110\"/>\n       <use x=\"136.572266\" xlink:href=\"#DejaVuSans-100\"/>\n       <use x=\"200.048828\" xlink:href=\"#DejaVuSans-101\"/>\n       <use x=\"261.572266\" xlink:href=\"#DejaVuSans-114\"/>\n       <use x=\"302.685547\" xlink:href=\"#DejaVuSans-115\"/>\n       <use x=\"354.785156\" xlink:href=\"#DejaVuSans-116\"/>\n       <use x=\"393.994141\" xlink:href=\"#DejaVuSans-97\"/>\n       <use x=\"455.273438\" xlink:href=\"#DejaVuSans-110\"/>\n       <use x=\"518.652344\" xlink:href=\"#DejaVuSans-100\"/>\n       <use x=\"582.128906\" xlink:href=\"#DejaVuSans-32\"/>\n       <use x=\"613.916016\" xlink:href=\"#DejaVuSans-109\"/>\n       <use x=\"711.328125\" xlink:href=\"#DejaVuSans-101\"/>\n       <use x=\"772.851562\" xlink:href=\"#DejaVuSans-99\"/>\n       <use x=\"827.832031\" xlink:href=\"#DejaVuSans-104\"/>\n       <use x=\"891.210938\" xlink:href=\"#DejaVuSans-97\"/>\n       <use x=\"952.490234\" xlink:href=\"#DejaVuSans-110\"/>\n       <use x=\"1015.869141\" xlink:href=\"#DejaVuSans-105\"/>\n       <use x=\"1043.652344\" xlink:href=\"#DejaVuSans-115\"/>\n       <use x=\"1095.751953\" xlink:href=\"#DejaVuSans-109\"/>\n       <use x=\"1193.164062\" xlink:href=\"#DejaVuSans-115\"/>\n       <use x=\"1245.263672\" xlink:href=\"#DejaVuSans-32\"/>\n       <use x=\"1277.050781\" xlink:href=\"#DejaVuSans-111\"/>\n       <use x=\"1338.232422\" xlink:href=\"#DejaVuSans-102\"/>\n       <use x=\"1373.4375\" xlink:href=\"#DejaVuSans-32\"/>\n       <use x=\"1405.224609\" xlink:href=\"#DejaVuSans-100\"/>\n       <use x=\"1468.701172\" xlink:href=\"#DejaVuSans-105\"/>\n       <use x=\"1496.484375\" xlink:href=\"#DejaVuSans-115\"/>\n       <use x=\"1548.583984\" xlink:href=\"#DejaVuSans-101\"/>\n       <use x=\"1610.107422\" xlink:href=\"#DejaVuSans-97\"/>\n       <use x=\"1671.386719\" xlink:href=\"#DejaVuSans-115\"/>\n       <use x=\"1723.486328\" xlink:href=\"#DejaVuSans-101\"/>\n      </g>\n     </g>\n    </g>\n    <g id=\"ytick_15\">\n     <g id=\"line2d_24\">\n      <g>\n       <use style=\"stroke:#000000;stroke-width:0.8;\" x=\"221.55\" xlink:href=\"#m0ddbfe9327\" y=\"17.948\"/>\n      </g>\n     </g>\n     <g id=\"text_24\">\n      <!-- Aggregate and synthesize information -->\n      <g transform=\"translate(22.7 21.747219)scale(0.1 -0.1)\">\n       <use xlink:href=\"#DejaVuSans-65\"/>\n       <use x=\"68.408203\" xlink:href=\"#DejaVuSans-103\"/>\n       <use x=\"131.884766\" xlink:href=\"#DejaVuSans-103\"/>\n       <use x=\"195.361328\" xlink:href=\"#DejaVuSans-114\"/>\n       <use x=\"236.443359\" xlink:href=\"#DejaVuSans-101\"/>\n       <use x=\"297.966797\" xlink:href=\"#DejaVuSans-103\"/>\n       <use x=\"361.443359\" xlink:href=\"#DejaVuSans-97\"/>\n       <use x=\"422.722656\" xlink:href=\"#DejaVuSans-116\"/>\n       <use x=\"461.931641\" xlink:href=\"#DejaVuSans-101\"/>\n       <use x=\"523.455078\" xlink:href=\"#DejaVuSans-32\"/>\n       <use x=\"555.242188\" xlink:href=\"#DejaVuSans-97\"/>\n       <use x=\"616.521484\" xlink:href=\"#DejaVuSans-110\"/>\n       <use x=\"679.900391\" xlink:href=\"#DejaVuSans-100\"/>\n       <use x=\"743.376953\" xlink:href=\"#DejaVuSans-32\"/>\n       <use x=\"775.164062\" xlink:href=\"#DejaVuSans-115\"/>\n       <use x=\"827.263672\" xlink:href=\"#DejaVuSans-121\"/>\n       <use x=\"886.443359\" xlink:href=\"#DejaVuSans-110\"/>\n       <use x=\"949.822266\" xlink:href=\"#DejaVuSans-116\"/>\n       <use x=\"989.03125\" xlink:href=\"#DejaVuSans-104\"/>\n       <use x=\"1052.410156\" xlink:href=\"#DejaVuSans-101\"/>\n       <use x=\"1113.933594\" xlink:href=\"#DejaVuSans-115\"/>\n       <use x=\"1166.033203\" xlink:href=\"#DejaVuSans-105\"/>\n       <use x=\"1193.816406\" xlink:href=\"#DejaVuSans-122\"/>\n       <use x=\"1246.306641\" xlink:href=\"#DejaVuSans-101\"/>\n       <use x=\"1307.830078\" xlink:href=\"#DejaVuSans-32\"/>\n       <use x=\"1339.617188\" xlink:href=\"#DejaVuSans-105\"/>\n       <use x=\"1367.400391\" xlink:href=\"#DejaVuSans-110\"/>\n       <use x=\"1430.779297\" xlink:href=\"#DejaVuSans-102\"/>\n       <use x=\"1465.984375\" xlink:href=\"#DejaVuSans-111\"/>\n       <use x=\"1527.166016\" xlink:href=\"#DejaVuSans-114\"/>\n       <use x=\"1568.263672\" xlink:href=\"#DejaVuSans-109\"/>\n       <use x=\"1665.675781\" xlink:href=\"#DejaVuSans-97\"/>\n       <use x=\"1726.955078\" xlink:href=\"#DejaVuSans-116\"/>\n       <use x=\"1766.164062\" xlink:href=\"#DejaVuSans-105\"/>\n       <use x=\"1793.947266\" xlink:href=\"#DejaVuSans-111\"/>\n       <use x=\"1855.128906\" xlink:href=\"#DejaVuSans-110\"/>\n      </g>\n     </g>\n    </g>\n    <g id=\"text_25\">\n     <!-- category -->\n     <g transform=\"translate(14.798438 141.518437)rotate(-90)scale(0.1 -0.1)\">\n      <use xlink:href=\"#DejaVuSans-99\"/>\n      <use x=\"54.980469\" xlink:href=\"#DejaVuSans-97\"/>\n      <use x=\"116.259766\" xlink:href=\"#DejaVuSans-116\"/>\n      <use x=\"155.46875\" xlink:href=\"#DejaVuSans-101\"/>\n      <use x=\"216.992188\" xlink:href=\"#DejaVuSans-103\"/>\n      <use x=\"280.46875\" xlink:href=\"#DejaVuSans-111\"/>\n      <use x=\"341.650391\" xlink:href=\"#DejaVuSans-114\"/>\n      <use x=\"382.763672\" xlink:href=\"#DejaVuSans-121\"/>\n     </g>\n    </g>\n   </g>\n   <g id=\"patch_18\">\n    <path d=\"M 221.55 228.14 \nL 221.55 10.7 \n\" style=\"fill:none;stroke:#000000;stroke-linecap:square;stroke-linejoin:miter;stroke-width:0.8;\"/>\n   </g>\n   <g id=\"patch_19\">\n    <path d=\"M 556.35 228.14 \nL 556.35 10.7 \n\" style=\"fill:none;stroke:#000000;stroke-linecap:square;stroke-linejoin:miter;stroke-width:0.8;\"/>\n   </g>\n   <g id=\"patch_20\">\n    <path d=\"M 221.55 228.14 \nL 556.35 228.14 \n\" style=\"fill:none;stroke:#000000;stroke-linecap:square;stroke-linejoin:miter;stroke-width:0.8;\"/>\n   </g>\n   <g id=\"patch_21\">\n    <path d=\"M 221.55 10.7 \nL 556.35 10.7 \n\" style=\"fill:none;stroke:#000000;stroke-linecap:square;stroke-linejoin:miter;stroke-width:0.8;\"/>\n   </g>\n  </g>\n </g>\n <defs>\n  <clipPath id=\"p89b7f31d60\">\n   <rect height=\"217.44\" width=\"334.8\" x=\"221.55\" y=\"10.7\"/>\n  </clipPath>\n </defs>\n</svg>\n",
      "image/png": "[encoded data removed]"
     },
     "metadata": {
      "needs_background": "light"
     }
    }
   ],
   "source": [
    "# Number of companies.\n",
    "phases = ['Aggregate and synthesize information', 'Understand mechanisms of disease', 'Establish biomarkers', 'Generate data and models', 'Repurpose existing drugs', 'Generate novel drug candidates', 'Validate and optimize drug candidates', 'Design drugs', 'Design preclinical experiments', 'Run preclinical experiments', 'Design clinical trials', 'Recruit for clinical trials', 'Optimize clinical trials', 'Publish data', 'Analyze real world evidence']\n",
    "df['category'] = pd.Categorical(df['category'], phases)\n",
    "df.groupby('category').size().sort_index(ascending=False).plot(kind='barh')\n",
    "plt.show()"
   ]
  },
  {
   "cell_type": "code",
   "execution_count": 6,
   "metadata": {},
   "outputs": [
    {
     "output_type": "display_data",
     "data": {
      "text/plain": "<Figure size 432x288 with 1 Axes>",
      "image/svg+xml": "<?xml version=\"1.0\" encoding=\"utf-8\" standalone=\"no\"?>\n<!DOCTYPE svg PUBLIC \"-//W3C//DTD SVG 1.1//EN\"\n  \"http://www.w3.org/Graphics/SVG/1.1/DTD/svg11.dtd\">\n<!-- Created with matplotlib (https://matplotlib.org/) -->\n<svg height=\"252.018125pt\" version=\"1.1\" viewBox=\"0 0 567.05 252.018125\" width=\"567.05pt\" xmlns=\"http://www.w3.org/2000/svg\" xmlns:xlink=\"http://www.w3.org/1999/xlink\">\n <defs>\n  <style type=\"text/css\">\n*{stroke-linecap:butt;stroke-linejoin:round;}\n  </style>\n </defs>\n <g id=\"figure_1\">\n  <g id=\"patch_1\">\n   <path d=\"M 0 252.018125 \nL 567.05 252.018125 \nL 567.05 0 \nL 0 0 \nz\n\" style=\"fill:none;\"/>\n  </g>\n  <g id=\"axes_1\">\n   <g id=\"patch_2\">\n    <path d=\"M 221.55 228.14 \nL 556.35 228.14 \nL 556.35 10.7 \nL 221.55 10.7 \nz\n\" style=\"fill:#ffffff;\"/>\n   </g>\n   <g id=\"patch_3\">\n    <path clip-path=\"url(#pceefc106b7)\" d=\"M 221.55 224.516 \nL 243.581882 224.516 \nL 243.581882 217.268 \nL 221.55 217.268 \nz\n\" style=\"fill:#1f77b4;\"/>\n   </g>\n   <g id=\"patch_4\">\n    <path clip-path=\"url(#pceefc106b7)\" d=\"M 221.55 210.02 \nL 223.669808 210.02 \nL 223.669808 202.772 \nL 221.55 202.772 \nz\n\" style=\"fill:#1f77b4;\"/>\n   </g>\n   <g id=\"patch_5\">\n    <path clip-path=\"url(#pceefc106b7)\" d=\"M 221.55 195.524 \nL 245.380236 195.524 \nL 245.380236 188.276 \nL 221.55 188.276 \nz\n\" style=\"fill:#1f77b4;\"/>\n   </g>\n   <g id=\"patch_6\">\n    <path clip-path=\"url(#pceefc106b7)\" d=\"M 221.55 181.028 \nL 297.710075 181.028 \nL 297.710075 173.78 \nL 221.55 173.78 \nz\n\" style=\"fill:#1f77b4;\"/>\n   </g>\n   <g id=\"patch_7\">\n    <path clip-path=\"url(#pceefc106b7)\" d=\"M 221.55 166.532 \nL 239.862162 166.532 \nL 239.862162 159.284 \nL 221.55 159.284 \nz\n\" style=\"fill:#1f77b4;\"/>\n   </g>\n   <g id=\"patch_8\">\n    <path clip-path=\"url(#pceefc106b7)\" d=\"M 221.55 152.036 \nL 254.695916 152.036 \nL 254.695916 144.788 \nL 221.55 144.788 \nz\n\" style=\"fill:#1f77b4;\"/>\n   </g>\n   <g id=\"patch_9\">\n    <path clip-path=\"url(#pceefc106b7)\" d=\"M 221.55 137.54 \nL 226.739165 137.54 \nL 226.739165 130.292 \nL 221.55 130.292 \nz\n\" style=\"fill:#1f77b4;\"/>\n   </g>\n   <g id=\"patch_10\">\n    <path clip-path=\"url(#pceefc106b7)\" d=\"M 221.55 123.044 \nL 309.576882 123.044 \nL 309.576882 115.796 \nL 221.55 115.796 \nz\n\" style=\"fill:#1f77b4;\"/>\n   </g>\n   <g id=\"patch_11\">\n    <path clip-path=\"url(#pceefc106b7)\" d=\"M 221.55 108.548 \nL 230.709711 108.548 \nL 230.709711 101.3 \nL 221.55 101.3 \nz\n\" style=\"fill:#1f77b4;\"/>\n   </g>\n   <g id=\"patch_12\">\n    <path clip-path=\"url(#pceefc106b7)\" d=\"M 221.55 94.052 \nL 540.407143 94.052 \nL 540.407143 86.804 \nL 221.55 86.804 \nz\n\" style=\"fill:#1f77b4;\"/>\n   </g>\n   <g id=\"patch_13\">\n    <path clip-path=\"url(#pceefc106b7)\" d=\"M 221.55 79.556 \nL 264.475874 79.556 \nL 264.475874 72.308 \nL 221.55 72.308 \nz\n\" style=\"fill:#1f77b4;\"/>\n   </g>\n   <g id=\"patch_14\">\n    <path clip-path=\"url(#pceefc106b7)\" d=\"M 221.55 65.06 \nL 223.335308 65.06 \nL 223.335308 57.812 \nL 221.55 57.812 \nz\n\" style=\"fill:#1f77b4;\"/>\n   </g>\n   <g id=\"patch_15\">\n    <path clip-path=\"url(#pceefc106b7)\" d=\"M 221.55 50.564 \nL 251.034759 50.564 \nL 251.034759 43.316 \nL 221.55 43.316 \nz\n\" style=\"fill:#1f77b4;\"/>\n   </g>\n   <g id=\"patch_16\">\n    <path clip-path=\"url(#pceefc106b7)\" d=\"M 221.55 36.068 \nL 262.327128 36.068 \nL 262.327128 28.82 \nL 221.55 28.82 \nz\n\" style=\"fill:#1f77b4;\"/>\n   </g>\n   <g id=\"patch_17\">\n    <path clip-path=\"url(#pceefc106b7)\" d=\"M 221.55 21.572 \nL 327.228481 21.572 \nL 327.228481 14.324 \nL 221.55 14.324 \nz\n\" style=\"fill:#1f77b4;\"/>\n   </g>\n   <g id=\"matplotlib.axis_1\">\n    <g id=\"xtick_1\">\n     <g id=\"line2d_1\">\n      <defs>\n       <path d=\"M 0 0 \nL 0 3.5 \n\" id=\"me53916e3ab\" style=\"stroke:#000000;stroke-width:0.8;\"/>\n      </defs>\n      <g>\n       <use style=\"stroke:#000000;stroke-width:0.8;\" x=\"221.55\" xlink:href=\"#me53916e3ab\" y=\"228.14\"/>\n      </g>\n     </g>\n     <g id=\"text_1\">\n      <!-- 0 -->\n      <defs>\n       <path d=\"M 31.78125 66.40625 \nQ 24.171875 66.40625 20.328125 58.90625 \nQ 16.5 51.421875 16.5 36.375 \nQ 16.5 21.390625 20.328125 13.890625 \nQ 24.171875 6.390625 31.78125 6.390625 \nQ 39.453125 6.390625 43.28125 13.890625 \nQ 47.125 21.390625 47.125 36.375 \nQ 47.125 51.421875 43.28125 58.90625 \nQ 39.453125 66.40625 31.78125 66.40625 \nz\nM 31.78125 74.21875 \nQ 44.046875 74.21875 50.515625 64.515625 \nQ 56.984375 54.828125 56.984375 36.375 \nQ 56.984375 17.96875 50.515625 8.265625 \nQ 44.046875 -1.421875 31.78125 -1.421875 \nQ 19.53125 -1.421875 13.0625 8.265625 \nQ 6.59375 17.96875 6.59375 36.375 \nQ 6.59375 54.828125 13.0625 64.515625 \nQ 19.53125 74.21875 31.78125 74.21875 \nz\n\" id=\"DejaVuSans-48\"/>\n      </defs>\n      <g transform=\"translate(218.36875 242.738437)scale(0.1 -0.1)\">\n       <use xlink:href=\"#DejaVuSans-48\"/>\n      </g>\n     </g>\n    </g>\n    <g id=\"xtick_2\">\n     <g id=\"line2d_2\">\n      <g>\n       <use style=\"stroke:#000000;stroke-width:0.8;\" x=\"270.596932\" xlink:href=\"#me53916e3ab\" y=\"228.14\"/>\n      </g>\n     </g>\n     <g id=\"text_2\">\n      <!-- 500 -->\n      <defs>\n       <path d=\"M 10.796875 72.90625 \nL 49.515625 72.90625 \nL 49.515625 64.59375 \nL 19.828125 64.59375 \nL 19.828125 46.734375 \nQ 21.96875 47.46875 24.109375 47.828125 \nQ 26.265625 48.1875 28.421875 48.1875 \nQ 40.625 48.1875 47.75 41.5 \nQ 54.890625 34.8125 54.890625 23.390625 \nQ 54.890625 11.625 47.5625 5.09375 \nQ 40.234375 -1.421875 26.90625 -1.421875 \nQ 22.3125 -1.421875 17.546875 -0.640625 \nQ 12.796875 0.140625 7.71875 1.703125 \nL 7.71875 11.625 \nQ 12.109375 9.234375 16.796875 8.0625 \nQ 21.484375 6.890625 26.703125 6.890625 \nQ 35.15625 6.890625 40.078125 11.328125 \nQ 45.015625 15.765625 45.015625 23.390625 \nQ 45.015625 31 40.078125 35.4375 \nQ 35.15625 39.890625 26.703125 39.890625 \nQ 22.75 39.890625 18.8125 39.015625 \nQ 14.890625 38.140625 10.796875 36.28125 \nz\n\" id=\"DejaVuSans-53\"/>\n      </defs>\n      <g transform=\"translate(261.053182 242.738437)scale(0.1 -0.1)\">\n       <use xlink:href=\"#DejaVuSans-53\"/>\n       <use x=\"63.623047\" xlink:href=\"#DejaVuSans-48\"/>\n       <use x=\"127.246094\" xlink:href=\"#DejaVuSans-48\"/>\n      </g>\n     </g>\n    </g>\n    <g id=\"xtick_3\">\n     <g id=\"line2d_3\">\n      <g>\n       <use style=\"stroke:#000000;stroke-width:0.8;\" x=\"319.643863\" xlink:href=\"#me53916e3ab\" y=\"228.14\"/>\n      </g>\n     </g>\n     <g id=\"text_3\">\n      <!-- 1000 -->\n      <defs>\n       <path d=\"M 12.40625 8.296875 \nL 28.515625 8.296875 \nL 28.515625 63.921875 \nL 10.984375 60.40625 \nL 10.984375 69.390625 \nL 28.421875 72.90625 \nL 38.28125 72.90625 \nL 38.28125 8.296875 \nL 54.390625 8.296875 \nL 54.390625 0 \nL 12.40625 0 \nz\n\" id=\"DejaVuSans-49\"/>\n      </defs>\n      <g transform=\"translate(306.918863 242.738437)scale(0.1 -0.1)\">\n       <use xlink:href=\"#DejaVuSans-49\"/>\n       <use x=\"63.623047\" xlink:href=\"#DejaVuSans-48\"/>\n       <use x=\"127.246094\" xlink:href=\"#DejaVuSans-48\"/>\n       <use x=\"190.869141\" xlink:href=\"#DejaVuSans-48\"/>\n      </g>\n     </g>\n    </g>\n    <g id=\"xtick_4\">\n     <g id=\"line2d_4\">\n      <g>\n       <use style=\"stroke:#000000;stroke-width:0.8;\" x=\"368.690795\" xlink:href=\"#me53916e3ab\" y=\"228.14\"/>\n      </g>\n     </g>\n     <g id=\"text_4\">\n      <!-- 1500 -->\n      <g transform=\"translate(355.965795 242.738437)scale(0.1 -0.1)\">\n       <use xlink:href=\"#DejaVuSans-49\"/>\n       <use x=\"63.623047\" xlink:href=\"#DejaVuSans-53\"/>\n       <use x=\"127.246094\" xlink:href=\"#DejaVuSans-48\"/>\n       <use x=\"190.869141\" xlink:href=\"#DejaVuSans-48\"/>\n      </g>\n     </g>\n    </g>\n    <g id=\"xtick_5\">\n     <g id=\"line2d_5\">\n      <g>\n       <use style=\"stroke:#000000;stroke-width:0.8;\" x=\"417.737726\" xlink:href=\"#me53916e3ab\" y=\"228.14\"/>\n      </g>\n     </g>\n     <g id=\"text_5\">\n      <!-- 2000 -->\n      <defs>\n       <path d=\"M 19.1875 8.296875 \nL 53.609375 8.296875 \nL 53.609375 0 \nL 7.328125 0 \nL 7.328125 8.296875 \nQ 12.9375 14.109375 22.625 23.890625 \nQ 32.328125 33.6875 34.8125 36.53125 \nQ 39.546875 41.84375 41.421875 45.53125 \nQ 43.3125 49.21875 43.3125 52.78125 \nQ 43.3125 58.59375 39.234375 62.25 \nQ 35.15625 65.921875 28.609375 65.921875 \nQ 23.96875 65.921875 18.8125 64.3125 \nQ 13.671875 62.703125 7.8125 59.421875 \nL 7.8125 69.390625 \nQ 13.765625 71.78125 18.9375 73 \nQ 24.125 74.21875 28.421875 74.21875 \nQ 39.75 74.21875 46.484375 68.546875 \nQ 53.21875 62.890625 53.21875 53.421875 \nQ 53.21875 48.921875 51.53125 44.890625 \nQ 49.859375 40.875 45.40625 35.40625 \nQ 44.1875 33.984375 37.640625 27.21875 \nQ 31.109375 20.453125 19.1875 8.296875 \nz\n\" id=\"DejaVuSans-50\"/>\n      </defs>\n      <g transform=\"translate(405.012726 242.738437)scale(0.1 -0.1)\">\n       <use xlink:href=\"#DejaVuSans-50\"/>\n       <use x=\"63.623047\" xlink:href=\"#DejaVuSans-48\"/>\n       <use x=\"127.246094\" xlink:href=\"#DejaVuSans-48\"/>\n       <use x=\"190.869141\" xlink:href=\"#DejaVuSans-48\"/>\n      </g>\n     </g>\n    </g>\n    <g id=\"xtick_6\">\n     <g id=\"line2d_6\">\n      <g>\n       <use style=\"stroke:#000000;stroke-width:0.8;\" x=\"466.784658\" xlink:href=\"#me53916e3ab\" y=\"228.14\"/>\n      </g>\n     </g>\n     <g id=\"text_6\">\n      <!-- 2500 -->\n      <g transform=\"translate(454.059658 242.738437)scale(0.1 -0.1)\">\n       <use xlink:href=\"#DejaVuSans-50\"/>\n       <use x=\"63.623047\" xlink:href=\"#DejaVuSans-53\"/>\n       <use x=\"127.246094\" xlink:href=\"#DejaVuSans-48\"/>\n       <use x=\"190.869141\" xlink:href=\"#DejaVuSans-48\"/>\n      </g>\n     </g>\n    </g>\n    <g id=\"xtick_7\">\n     <g id=\"line2d_7\">\n      <g>\n       <use style=\"stroke:#000000;stroke-width:0.8;\" x=\"515.831589\" xlink:href=\"#me53916e3ab\" y=\"228.14\"/>\n      </g>\n     </g>\n     <g id=\"text_7\">\n      <!-- 3000 -->\n      <defs>\n       <path d=\"M 40.578125 39.3125 \nQ 47.65625 37.796875 51.625 33 \nQ 55.609375 28.21875 55.609375 21.1875 \nQ 55.609375 10.40625 48.1875 4.484375 \nQ 40.765625 -1.421875 27.09375 -1.421875 \nQ 22.515625 -1.421875 17.65625 -0.515625 \nQ 12.796875 0.390625 7.625 2.203125 \nL 7.625 11.71875 \nQ 11.71875 9.328125 16.59375 8.109375 \nQ 21.484375 6.890625 26.8125 6.890625 \nQ 36.078125 6.890625 40.9375 10.546875 \nQ 45.796875 14.203125 45.796875 21.1875 \nQ 45.796875 27.640625 41.28125 31.265625 \nQ 36.765625 34.90625 28.71875 34.90625 \nL 20.21875 34.90625 \nL 20.21875 43.015625 \nL 29.109375 43.015625 \nQ 36.375 43.015625 40.234375 45.921875 \nQ 44.09375 48.828125 44.09375 54.296875 \nQ 44.09375 59.90625 40.109375 62.90625 \nQ 36.140625 65.921875 28.71875 65.921875 \nQ 24.65625 65.921875 20.015625 65.03125 \nQ 15.375 64.15625 9.8125 62.3125 \nL 9.8125 71.09375 \nQ 15.4375 72.65625 20.34375 73.4375 \nQ 25.25 74.21875 29.59375 74.21875 \nQ 40.828125 74.21875 47.359375 69.109375 \nQ 53.90625 64.015625 53.90625 55.328125 \nQ 53.90625 49.265625 50.4375 45.09375 \nQ 46.96875 40.921875 40.578125 39.3125 \nz\n\" id=\"DejaVuSans-51\"/>\n      </defs>\n      <g transform=\"translate(503.106589 242.738437)scale(0.1 -0.1)\">\n       <use xlink:href=\"#DejaVuSans-51\"/>\n       <use x=\"63.623047\" xlink:href=\"#DejaVuSans-48\"/>\n       <use x=\"127.246094\" xlink:href=\"#DejaVuSans-48\"/>\n       <use x=\"190.869141\" xlink:href=\"#DejaVuSans-48\"/>\n      </g>\n     </g>\n    </g>\n   </g>\n   <g id=\"matplotlib.axis_2\">\n    <g id=\"ytick_1\">\n     <g id=\"line2d_8\">\n      <defs>\n       <path d=\"M 0 0 \nL -3.5 0 \n\" id=\"m58699215c3\" style=\"stroke:#000000;stroke-width:0.8;\"/>\n      </defs>\n      <g>\n       <use style=\"stroke:#000000;stroke-width:0.8;\" x=\"221.55\" xlink:href=\"#m58699215c3\" y=\"220.892\"/>\n      </g>\n     </g>\n     <g id=\"text_8\">\n      <!-- Analyze real world evidence -->\n      <defs>\n       <path d=\"M 34.1875 63.1875 \nL 20.796875 26.90625 \nL 47.609375 26.90625 \nz\nM 28.609375 72.90625 \nL 39.796875 72.90625 \nL 67.578125 0 \nL 57.328125 0 \nL 50.6875 18.703125 \nL 17.828125 18.703125 \nL 11.1875 0 \nL 0.78125 0 \nz\n\" id=\"DejaVuSans-65\"/>\n       <path d=\"M 54.890625 33.015625 \nL 54.890625 0 \nL 45.90625 0 \nL 45.90625 32.71875 \nQ 45.90625 40.484375 42.875 44.328125 \nQ 39.84375 48.1875 33.796875 48.1875 \nQ 26.515625 48.1875 22.3125 43.546875 \nQ 18.109375 38.921875 18.109375 30.90625 \nL 18.109375 0 \nL 9.078125 0 \nL 9.078125 54.6875 \nL 18.109375 54.6875 \nL 18.109375 46.1875 \nQ 21.34375 51.125 25.703125 53.5625 \nQ 30.078125 56 35.796875 56 \nQ 45.21875 56 50.046875 50.171875 \nQ 54.890625 44.34375 54.890625 33.015625 \nz\n\" id=\"DejaVuSans-110\"/>\n       <path d=\"M 34.28125 27.484375 \nQ 23.390625 27.484375 19.1875 25 \nQ 14.984375 22.515625 14.984375 16.5 \nQ 14.984375 11.71875 18.140625 8.90625 \nQ 21.296875 6.109375 26.703125 6.109375 \nQ 34.1875 6.109375 38.703125 11.40625 \nQ 43.21875 16.703125 43.21875 25.484375 \nL 43.21875 27.484375 \nz\nM 52.203125 31.203125 \nL 52.203125 0 \nL 43.21875 0 \nL 43.21875 8.296875 \nQ 40.140625 3.328125 35.546875 0.953125 \nQ 30.953125 -1.421875 24.3125 -1.421875 \nQ 15.921875 -1.421875 10.953125 3.296875 \nQ 6 8.015625 6 15.921875 \nQ 6 25.140625 12.171875 29.828125 \nQ 18.359375 34.515625 30.609375 34.515625 \nL 43.21875 34.515625 \nL 43.21875 35.40625 \nQ 43.21875 41.609375 39.140625 45 \nQ 35.0625 48.390625 27.6875 48.390625 \nQ 23 48.390625 18.546875 47.265625 \nQ 14.109375 46.140625 10.015625 43.890625 \nL 10.015625 52.203125 \nQ 14.9375 54.109375 19.578125 55.046875 \nQ 24.21875 56 28.609375 56 \nQ 40.484375 56 46.34375 49.84375 \nQ 52.203125 43.703125 52.203125 31.203125 \nz\n\" id=\"DejaVuSans-97\"/>\n       <path d=\"M 9.421875 75.984375 \nL 18.40625 75.984375 \nL 18.40625 0 \nL 9.421875 0 \nz\n\" id=\"DejaVuSans-108\"/>\n       <path d=\"M 32.171875 -5.078125 \nQ 28.375 -14.84375 24.75 -17.8125 \nQ 21.140625 -20.796875 15.09375 -20.796875 \nL 7.90625 -20.796875 \nL 7.90625 -13.28125 \nL 13.1875 -13.28125 \nQ 16.890625 -13.28125 18.9375 -11.515625 \nQ 21 -9.765625 23.484375 -3.21875 \nL 25.09375 0.875 \nL 2.984375 54.6875 \nL 12.5 54.6875 \nL 29.59375 11.921875 \nL 46.6875 54.6875 \nL 56.203125 54.6875 \nz\n\" id=\"DejaVuSans-121\"/>\n       <path d=\"M 5.515625 54.6875 \nL 48.1875 54.6875 \nL 48.1875 46.484375 \nL 14.40625 7.171875 \nL 48.1875 7.171875 \nL 48.1875 0 \nL 4.296875 0 \nL 4.296875 8.203125 \nL 38.09375 47.515625 \nL 5.515625 47.515625 \nz\n\" id=\"DejaVuSans-122\"/>\n       <path d=\"M 56.203125 29.59375 \nL 56.203125 25.203125 \nL 14.890625 25.203125 \nQ 15.484375 15.921875 20.484375 11.0625 \nQ 25.484375 6.203125 34.421875 6.203125 \nQ 39.59375 6.203125 44.453125 7.46875 \nQ 49.3125 8.734375 54.109375 11.28125 \nL 54.109375 2.78125 \nQ 49.265625 0.734375 44.1875 -0.34375 \nQ 39.109375 -1.421875 33.890625 -1.421875 \nQ 20.796875 -1.421875 13.15625 6.1875 \nQ 5.515625 13.8125 5.515625 26.8125 \nQ 5.515625 40.234375 12.765625 48.109375 \nQ 20.015625 56 32.328125 56 \nQ 43.359375 56 49.78125 48.890625 \nQ 56.203125 41.796875 56.203125 29.59375 \nz\nM 47.21875 32.234375 \nQ 47.125 39.59375 43.09375 43.984375 \nQ 39.0625 48.390625 32.421875 48.390625 \nQ 24.90625 48.390625 20.390625 44.140625 \nQ 15.875 39.890625 15.1875 32.171875 \nz\n\" id=\"DejaVuSans-101\"/>\n       <path id=\"DejaVuSans-32\"/>\n       <path d=\"M 41.109375 46.296875 \nQ 39.59375 47.171875 37.8125 47.578125 \nQ 36.03125 48 33.890625 48 \nQ 26.265625 48 22.1875 43.046875 \nQ 18.109375 38.09375 18.109375 28.8125 \nL 18.109375 0 \nL 9.078125 0 \nL 9.078125 54.6875 \nL 18.109375 54.6875 \nL 18.109375 46.1875 \nQ 20.953125 51.171875 25.484375 53.578125 \nQ 30.03125 56 36.53125 56 \nQ 37.453125 56 38.578125 55.875 \nQ 39.703125 55.765625 41.0625 55.515625 \nz\n\" id=\"DejaVuSans-114\"/>\n       <path d=\"M 4.203125 54.6875 \nL 13.1875 54.6875 \nL 24.421875 12.015625 \nL 35.59375 54.6875 \nL 46.1875 54.6875 \nL 57.421875 12.015625 \nL 68.609375 54.6875 \nL 77.59375 54.6875 \nL 63.28125 0 \nL 52.6875 0 \nL 40.921875 44.828125 \nL 29.109375 0 \nL 18.5 0 \nz\n\" id=\"DejaVuSans-119\"/>\n       <path d=\"M 30.609375 48.390625 \nQ 23.390625 48.390625 19.1875 42.75 \nQ 14.984375 37.109375 14.984375 27.296875 \nQ 14.984375 17.484375 19.15625 11.84375 \nQ 23.34375 6.203125 30.609375 6.203125 \nQ 37.796875 6.203125 41.984375 11.859375 \nQ 46.1875 17.53125 46.1875 27.296875 \nQ 46.1875 37.015625 41.984375 42.703125 \nQ 37.796875 48.390625 30.609375 48.390625 \nz\nM 30.609375 56 \nQ 42.328125 56 49.015625 48.375 \nQ 55.71875 40.765625 55.71875 27.296875 \nQ 55.71875 13.875 49.015625 6.21875 \nQ 42.328125 -1.421875 30.609375 -1.421875 \nQ 18.84375 -1.421875 12.171875 6.21875 \nQ 5.515625 13.875 5.515625 27.296875 \nQ 5.515625 40.765625 12.171875 48.375 \nQ 18.84375 56 30.609375 56 \nz\n\" id=\"DejaVuSans-111\"/>\n       <path d=\"M 45.40625 46.390625 \nL 45.40625 75.984375 \nL 54.390625 75.984375 \nL 54.390625 0 \nL 45.40625 0 \nL 45.40625 8.203125 \nQ 42.578125 3.328125 38.25 0.953125 \nQ 33.9375 -1.421875 27.875 -1.421875 \nQ 17.96875 -1.421875 11.734375 6.484375 \nQ 5.515625 14.40625 5.515625 27.296875 \nQ 5.515625 40.1875 11.734375 48.09375 \nQ 17.96875 56 27.875 56 \nQ 33.9375 56 38.25 53.625 \nQ 42.578125 51.265625 45.40625 46.390625 \nz\nM 14.796875 27.296875 \nQ 14.796875 17.390625 18.875 11.75 \nQ 22.953125 6.109375 30.078125 6.109375 \nQ 37.203125 6.109375 41.296875 11.75 \nQ 45.40625 17.390625 45.40625 27.296875 \nQ 45.40625 37.203125 41.296875 42.84375 \nQ 37.203125 48.484375 30.078125 48.484375 \nQ 22.953125 48.484375 18.875 42.84375 \nQ 14.796875 37.203125 14.796875 27.296875 \nz\n\" id=\"DejaVuSans-100\"/>\n       <path d=\"M 2.984375 54.6875 \nL 12.5 54.6875 \nL 29.59375 8.796875 \nL 46.6875 54.6875 \nL 56.203125 54.6875 \nL 35.6875 0 \nL 23.484375 0 \nz\n\" id=\"DejaVuSans-118\"/>\n       <path d=\"M 9.421875 54.6875 \nL 18.40625 54.6875 \nL 18.40625 0 \nL 9.421875 0 \nz\nM 9.421875 75.984375 \nL 18.40625 75.984375 \nL 18.40625 64.59375 \nL 9.421875 64.59375 \nz\n\" id=\"DejaVuSans-105\"/>\n       <path d=\"M 48.78125 52.59375 \nL 48.78125 44.1875 \nQ 44.96875 46.296875 41.140625 47.34375 \nQ 37.3125 48.390625 33.40625 48.390625 \nQ 24.65625 48.390625 19.8125 42.84375 \nQ 14.984375 37.3125 14.984375 27.296875 \nQ 14.984375 17.28125 19.8125 11.734375 \nQ 24.65625 6.203125 33.40625 6.203125 \nQ 37.3125 6.203125 41.140625 7.25 \nQ 44.96875 8.296875 48.78125 10.40625 \nL 48.78125 2.09375 \nQ 45.015625 0.34375 40.984375 -0.53125 \nQ 36.96875 -1.421875 32.421875 -1.421875 \nQ 20.0625 -1.421875 12.78125 6.34375 \nQ 5.515625 14.109375 5.515625 27.296875 \nQ 5.515625 40.671875 12.859375 48.328125 \nQ 20.21875 56 33.015625 56 \nQ 37.15625 56 41.109375 55.140625 \nQ 45.0625 54.296875 48.78125 52.59375 \nz\n\" id=\"DejaVuSans-99\"/>\n      </defs>\n      <g transform=\"translate(73.56875 224.691219)scale(0.1 -0.1)\">\n       <use xlink:href=\"#DejaVuSans-65\"/>\n       <use x=\"68.408203\" xlink:href=\"#DejaVuSans-110\"/>\n       <use x=\"131.787109\" xlink:href=\"#DejaVuSans-97\"/>\n       <use x=\"193.066406\" xlink:href=\"#DejaVuSans-108\"/>\n       <use x=\"220.849609\" xlink:href=\"#DejaVuSans-121\"/>\n       <use x=\"280.029297\" xlink:href=\"#DejaVuSans-122\"/>\n       <use x=\"332.519531\" xlink:href=\"#DejaVuSans-101\"/>\n       <use x=\"394.042969\" xlink:href=\"#DejaVuSans-32\"/>\n       <use x=\"425.830078\" xlink:href=\"#DejaVuSans-114\"/>\n       <use x=\"466.912109\" xlink:href=\"#DejaVuSans-101\"/>\n       <use x=\"528.435547\" xlink:href=\"#DejaVuSans-97\"/>\n       <use x=\"589.714844\" xlink:href=\"#DejaVuSans-108\"/>\n       <use x=\"617.498047\" xlink:href=\"#DejaVuSans-32\"/>\n       <use x=\"649.285156\" xlink:href=\"#DejaVuSans-119\"/>\n       <use x=\"731.072266\" xlink:href=\"#DejaVuSans-111\"/>\n       <use x=\"792.253906\" xlink:href=\"#DejaVuSans-114\"/>\n       <use x=\"833.367188\" xlink:href=\"#DejaVuSans-108\"/>\n       <use x=\"861.150391\" xlink:href=\"#DejaVuSans-100\"/>\n       <use x=\"924.626953\" xlink:href=\"#DejaVuSans-32\"/>\n       <use x=\"956.414062\" xlink:href=\"#DejaVuSans-101\"/>\n       <use x=\"1017.9375\" xlink:href=\"#DejaVuSans-118\"/>\n       <use x=\"1077.117188\" xlink:href=\"#DejaVuSans-105\"/>\n       <use x=\"1104.900391\" xlink:href=\"#DejaVuSans-100\"/>\n       <use x=\"1168.376953\" xlink:href=\"#DejaVuSans-101\"/>\n       <use x=\"1229.900391\" xlink:href=\"#DejaVuSans-110\"/>\n       <use x=\"1293.279297\" xlink:href=\"#DejaVuSans-99\"/>\n       <use x=\"1348.259766\" xlink:href=\"#DejaVuSans-101\"/>\n      </g>\n     </g>\n    </g>\n    <g id=\"ytick_2\">\n     <g id=\"line2d_9\">\n      <g>\n       <use style=\"stroke:#000000;stroke-width:0.8;\" x=\"221.55\" xlink:href=\"#m58699215c3\" y=\"206.396\"/>\n      </g>\n     </g>\n     <g id=\"text_9\">\n      <!-- Publish data -->\n      <defs>\n       <path d=\"M 19.671875 64.796875 \nL 19.671875 37.40625 \nL 32.078125 37.40625 \nQ 38.96875 37.40625 42.71875 40.96875 \nQ 46.484375 44.53125 46.484375 51.125 \nQ 46.484375 57.671875 42.71875 61.234375 \nQ 38.96875 64.796875 32.078125 64.796875 \nz\nM 9.8125 72.90625 \nL 32.078125 72.90625 \nQ 44.34375 72.90625 50.609375 67.359375 \nQ 56.890625 61.8125 56.890625 51.125 \nQ 56.890625 40.328125 50.609375 34.8125 \nQ 44.34375 29.296875 32.078125 29.296875 \nL 19.671875 29.296875 \nL 19.671875 0 \nL 9.8125 0 \nz\n\" id=\"DejaVuSans-80\"/>\n       <path d=\"M 8.5 21.578125 \nL 8.5 54.6875 \nL 17.484375 54.6875 \nL 17.484375 21.921875 \nQ 17.484375 14.15625 20.5 10.265625 \nQ 23.53125 6.390625 29.59375 6.390625 \nQ 36.859375 6.390625 41.078125 11.03125 \nQ 45.3125 15.671875 45.3125 23.6875 \nL 45.3125 54.6875 \nL 54.296875 54.6875 \nL 54.296875 0 \nL 45.3125 0 \nL 45.3125 8.40625 \nQ 42.046875 3.421875 37.71875 1 \nQ 33.40625 -1.421875 27.6875 -1.421875 \nQ 18.265625 -1.421875 13.375 4.4375 \nQ 8.5 10.296875 8.5 21.578125 \nz\nM 31.109375 56 \nz\n\" id=\"DejaVuSans-117\"/>\n       <path d=\"M 48.6875 27.296875 \nQ 48.6875 37.203125 44.609375 42.84375 \nQ 40.53125 48.484375 33.40625 48.484375 \nQ 26.265625 48.484375 22.1875 42.84375 \nQ 18.109375 37.203125 18.109375 27.296875 \nQ 18.109375 17.390625 22.1875 11.75 \nQ 26.265625 6.109375 33.40625 6.109375 \nQ 40.53125 6.109375 44.609375 11.75 \nQ 48.6875 17.390625 48.6875 27.296875 \nz\nM 18.109375 46.390625 \nQ 20.953125 51.265625 25.265625 53.625 \nQ 29.59375 56 35.59375 56 \nQ 45.5625 56 51.78125 48.09375 \nQ 58.015625 40.1875 58.015625 27.296875 \nQ 58.015625 14.40625 51.78125 6.484375 \nQ 45.5625 -1.421875 35.59375 -1.421875 \nQ 29.59375 -1.421875 25.265625 0.953125 \nQ 20.953125 3.328125 18.109375 8.203125 \nL 18.109375 0 \nL 9.078125 0 \nL 9.078125 75.984375 \nL 18.109375 75.984375 \nz\n\" id=\"DejaVuSans-98\"/>\n       <path d=\"M 44.28125 53.078125 \nL 44.28125 44.578125 \nQ 40.484375 46.53125 36.375 47.5 \nQ 32.28125 48.484375 27.875 48.484375 \nQ 21.1875 48.484375 17.84375 46.4375 \nQ 14.5 44.390625 14.5 40.28125 \nQ 14.5 37.15625 16.890625 35.375 \nQ 19.28125 33.59375 26.515625 31.984375 \nL 29.59375 31.296875 \nQ 39.15625 29.25 43.1875 25.515625 \nQ 47.21875 21.78125 47.21875 15.09375 \nQ 47.21875 7.46875 41.1875 3.015625 \nQ 35.15625 -1.421875 24.609375 -1.421875 \nQ 20.21875 -1.421875 15.453125 -0.5625 \nQ 10.6875 0.296875 5.421875 2 \nL 5.421875 11.28125 \nQ 10.40625 8.6875 15.234375 7.390625 \nQ 20.0625 6.109375 24.8125 6.109375 \nQ 31.15625 6.109375 34.5625 8.28125 \nQ 37.984375 10.453125 37.984375 14.40625 \nQ 37.984375 18.0625 35.515625 20.015625 \nQ 33.0625 21.96875 24.703125 23.78125 \nL 21.578125 24.515625 \nQ 13.234375 26.265625 9.515625 29.90625 \nQ 5.8125 33.546875 5.8125 39.890625 \nQ 5.8125 47.609375 11.28125 51.796875 \nQ 16.75 56 26.8125 56 \nQ 31.78125 56 36.171875 55.265625 \nQ 40.578125 54.546875 44.28125 53.078125 \nz\n\" id=\"DejaVuSans-115\"/>\n       <path d=\"M 54.890625 33.015625 \nL 54.890625 0 \nL 45.90625 0 \nL 45.90625 32.71875 \nQ 45.90625 40.484375 42.875 44.328125 \nQ 39.84375 48.1875 33.796875 48.1875 \nQ 26.515625 48.1875 22.3125 43.546875 \nQ 18.109375 38.921875 18.109375 30.90625 \nL 18.109375 0 \nL 9.078125 0 \nL 9.078125 75.984375 \nL 18.109375 75.984375 \nL 18.109375 46.1875 \nQ 21.34375 51.125 25.703125 53.5625 \nQ 30.078125 56 35.796875 56 \nQ 45.21875 56 50.046875 50.171875 \nQ 54.890625 44.34375 54.890625 33.015625 \nz\n\" id=\"DejaVuSans-104\"/>\n       <path d=\"M 18.3125 70.21875 \nL 18.3125 54.6875 \nL 36.8125 54.6875 \nL 36.8125 47.703125 \nL 18.3125 47.703125 \nL 18.3125 18.015625 \nQ 18.3125 11.328125 20.140625 9.421875 \nQ 21.96875 7.515625 27.59375 7.515625 \nL 36.8125 7.515625 \nL 36.8125 0 \nL 27.59375 0 \nQ 17.1875 0 13.234375 3.875 \nQ 9.28125 7.765625 9.28125 18.015625 \nL 9.28125 47.703125 \nL 2.6875 47.703125 \nL 2.6875 54.6875 \nL 9.28125 54.6875 \nL 9.28125 70.21875 \nz\n\" id=\"DejaVuSans-116\"/>\n      </defs>\n      <g transform=\"translate(153.029688 210.195219)scale(0.1 -0.1)\">\n       <use xlink:href=\"#DejaVuSans-80\"/>\n       <use x=\"60.287109\" xlink:href=\"#DejaVuSans-117\"/>\n       <use x=\"123.666016\" xlink:href=\"#DejaVuSans-98\"/>\n       <use x=\"187.142578\" xlink:href=\"#DejaVuSans-108\"/>\n       <use x=\"214.925781\" xlink:href=\"#DejaVuSans-105\"/>\n       <use x=\"242.708984\" xlink:href=\"#DejaVuSans-115\"/>\n       <use x=\"294.808594\" xlink:href=\"#DejaVuSans-104\"/>\n       <use x=\"358.1875\" xlink:href=\"#DejaVuSans-32\"/>\n       <use x=\"389.974609\" xlink:href=\"#DejaVuSans-100\"/>\n       <use x=\"453.451172\" xlink:href=\"#DejaVuSans-97\"/>\n       <use x=\"514.730469\" xlink:href=\"#DejaVuSans-116\"/>\n       <use x=\"553.939453\" xlink:href=\"#DejaVuSans-97\"/>\n      </g>\n     </g>\n    </g>\n    <g id=\"ytick_3\">\n     <g id=\"line2d_10\">\n      <g>\n       <use style=\"stroke:#000000;stroke-width:0.8;\" x=\"221.55\" xlink:href=\"#m58699215c3\" y=\"191.9\"/>\n      </g>\n     </g>\n     <g id=\"text_10\">\n      <!-- Optimize clinical trials -->\n      <defs>\n       <path d=\"M 39.40625 66.21875 \nQ 28.65625 66.21875 22.328125 58.203125 \nQ 16.015625 50.203125 16.015625 36.375 \nQ 16.015625 22.609375 22.328125 14.59375 \nQ 28.65625 6.59375 39.40625 6.59375 \nQ 50.140625 6.59375 56.421875 14.59375 \nQ 62.703125 22.609375 62.703125 36.375 \nQ 62.703125 50.203125 56.421875 58.203125 \nQ 50.140625 66.21875 39.40625 66.21875 \nz\nM 39.40625 74.21875 \nQ 54.734375 74.21875 63.90625 63.9375 \nQ 73.09375 53.65625 73.09375 36.375 \nQ 73.09375 19.140625 63.90625 8.859375 \nQ 54.734375 -1.421875 39.40625 -1.421875 \nQ 24.03125 -1.421875 14.8125 8.828125 \nQ 5.609375 19.09375 5.609375 36.375 \nQ 5.609375 53.65625 14.8125 63.9375 \nQ 24.03125 74.21875 39.40625 74.21875 \nz\n\" id=\"DejaVuSans-79\"/>\n       <path d=\"M 18.109375 8.203125 \nL 18.109375 -20.796875 \nL 9.078125 -20.796875 \nL 9.078125 54.6875 \nL 18.109375 54.6875 \nL 18.109375 46.390625 \nQ 20.953125 51.265625 25.265625 53.625 \nQ 29.59375 56 35.59375 56 \nQ 45.5625 56 51.78125 48.09375 \nQ 58.015625 40.1875 58.015625 27.296875 \nQ 58.015625 14.40625 51.78125 6.484375 \nQ 45.5625 -1.421875 35.59375 -1.421875 \nQ 29.59375 -1.421875 25.265625 0.953125 \nQ 20.953125 3.328125 18.109375 8.203125 \nz\nM 48.6875 27.296875 \nQ 48.6875 37.203125 44.609375 42.84375 \nQ 40.53125 48.484375 33.40625 48.484375 \nQ 26.265625 48.484375 22.1875 42.84375 \nQ 18.109375 37.203125 18.109375 27.296875 \nQ 18.109375 17.390625 22.1875 11.75 \nQ 26.265625 6.109375 33.40625 6.109375 \nQ 40.53125 6.109375 44.609375 11.75 \nQ 48.6875 17.390625 48.6875 27.296875 \nz\n\" id=\"DejaVuSans-112\"/>\n       <path d=\"M 52 44.1875 \nQ 55.375 50.25 60.0625 53.125 \nQ 64.75 56 71.09375 56 \nQ 79.640625 56 84.28125 50.015625 \nQ 88.921875 44.046875 88.921875 33.015625 \nL 88.921875 0 \nL 79.890625 0 \nL 79.890625 32.71875 \nQ 79.890625 40.578125 77.09375 44.375 \nQ 74.3125 48.1875 68.609375 48.1875 \nQ 61.625 48.1875 57.5625 43.546875 \nQ 53.515625 38.921875 53.515625 30.90625 \nL 53.515625 0 \nL 44.484375 0 \nL 44.484375 32.71875 \nQ 44.484375 40.625 41.703125 44.40625 \nQ 38.921875 48.1875 33.109375 48.1875 \nQ 26.21875 48.1875 22.15625 43.53125 \nQ 18.109375 38.875 18.109375 30.90625 \nL 18.109375 0 \nL 9.078125 0 \nL 9.078125 54.6875 \nL 18.109375 54.6875 \nL 18.109375 46.1875 \nQ 21.1875 51.21875 25.484375 53.609375 \nQ 29.78125 56 35.6875 56 \nQ 41.65625 56 45.828125 52.96875 \nQ 50 49.953125 52 44.1875 \nz\n\" id=\"DejaVuSans-109\"/>\n      </defs>\n      <g transform=\"translate(103.854688 195.699219)scale(0.1 -0.1)\">\n       <use xlink:href=\"#DejaVuSans-79\"/>\n       <use x=\"78.710938\" xlink:href=\"#DejaVuSans-112\"/>\n       <use x=\"142.1875\" xlink:href=\"#DejaVuSans-116\"/>\n       <use x=\"181.396484\" xlink:href=\"#DejaVuSans-105\"/>\n       <use x=\"209.179688\" xlink:href=\"#DejaVuSans-109\"/>\n       <use x=\"306.591797\" xlink:href=\"#DejaVuSans-105\"/>\n       <use x=\"334.375\" xlink:href=\"#DejaVuSans-122\"/>\n       <use x=\"386.865234\" xlink:href=\"#DejaVuSans-101\"/>\n       <use x=\"448.388672\" xlink:href=\"#DejaVuSans-32\"/>\n       <use x=\"480.175781\" xlink:href=\"#DejaVuSans-99\"/>\n       <use x=\"535.15625\" xlink:href=\"#DejaVuSans-108\"/>\n       <use x=\"562.939453\" xlink:href=\"#DejaVuSans-105\"/>\n       <use x=\"590.722656\" xlink:href=\"#DejaVuSans-110\"/>\n       <use x=\"654.101562\" xlink:href=\"#DejaVuSans-105\"/>\n       <use x=\"681.884766\" xlink:href=\"#DejaVuSans-99\"/>\n       <use x=\"736.865234\" xlink:href=\"#DejaVuSans-97\"/>\n       <use x=\"798.144531\" xlink:href=\"#DejaVuSans-108\"/>\n       <use x=\"825.927734\" xlink:href=\"#DejaVuSans-32\"/>\n       <use x=\"857.714844\" xlink:href=\"#DejaVuSans-116\"/>\n       <use x=\"896.923828\" xlink:href=\"#DejaVuSans-114\"/>\n       <use x=\"938.037109\" xlink:href=\"#DejaVuSans-105\"/>\n       <use x=\"965.820312\" xlink:href=\"#DejaVuSans-97\"/>\n       <use x=\"1027.099609\" xlink:href=\"#DejaVuSans-108\"/>\n       <use x=\"1054.882812\" xlink:href=\"#DejaVuSans-115\"/>\n      </g>\n     </g>\n    </g>\n    <g id=\"ytick_4\">\n     <g id=\"line2d_11\">\n      <g>\n       <use style=\"stroke:#000000;stroke-width:0.8;\" x=\"221.55\" xlink:href=\"#m58699215c3\" y=\"177.404\"/>\n      </g>\n     </g>\n     <g id=\"text_11\">\n      <!-- Recruit for clinical trials -->\n      <defs>\n       <path d=\"M 44.390625 34.1875 \nQ 47.5625 33.109375 50.5625 29.59375 \nQ 53.5625 26.078125 56.59375 19.921875 \nL 66.609375 0 \nL 56 0 \nL 46.6875 18.703125 \nQ 43.0625 26.03125 39.671875 28.421875 \nQ 36.28125 30.8125 30.421875 30.8125 \nL 19.671875 30.8125 \nL 19.671875 0 \nL 9.8125 0 \nL 9.8125 72.90625 \nL 32.078125 72.90625 \nQ 44.578125 72.90625 50.734375 67.671875 \nQ 56.890625 62.453125 56.890625 51.90625 \nQ 56.890625 45.015625 53.6875 40.46875 \nQ 50.484375 35.9375 44.390625 34.1875 \nz\nM 19.671875 64.796875 \nL 19.671875 38.921875 \nL 32.078125 38.921875 \nQ 39.203125 38.921875 42.84375 42.21875 \nQ 46.484375 45.515625 46.484375 51.90625 \nQ 46.484375 58.296875 42.84375 61.546875 \nQ 39.203125 64.796875 32.078125 64.796875 \nz\n\" id=\"DejaVuSans-82\"/>\n       <path d=\"M 37.109375 75.984375 \nL 37.109375 68.5 \nL 28.515625 68.5 \nQ 23.6875 68.5 21.796875 66.546875 \nQ 19.921875 64.59375 19.921875 59.515625 \nL 19.921875 54.6875 \nL 34.71875 54.6875 \nL 34.71875 47.703125 \nL 19.921875 47.703125 \nL 19.921875 0 \nL 10.890625 0 \nL 10.890625 47.703125 \nL 2.296875 47.703125 \nL 2.296875 54.6875 \nL 10.890625 54.6875 \nL 10.890625 58.5 \nQ 10.890625 67.625 15.140625 71.796875 \nQ 19.390625 75.984375 28.609375 75.984375 \nz\n\" id=\"DejaVuSans-102\"/>\n      </defs>\n      <g transform=\"translate(96.025 181.203219)scale(0.1 -0.1)\">\n       <use xlink:href=\"#DejaVuSans-82\"/>\n       <use x=\"69.419922\" xlink:href=\"#DejaVuSans-101\"/>\n       <use x=\"130.943359\" xlink:href=\"#DejaVuSans-99\"/>\n       <use x=\"185.923828\" xlink:href=\"#DejaVuSans-114\"/>\n       <use x=\"227.037109\" xlink:href=\"#DejaVuSans-117\"/>\n       <use x=\"290.416016\" xlink:href=\"#DejaVuSans-105\"/>\n       <use x=\"318.199219\" xlink:href=\"#DejaVuSans-116\"/>\n       <use x=\"357.408203\" xlink:href=\"#DejaVuSans-32\"/>\n       <use x=\"389.195312\" xlink:href=\"#DejaVuSans-102\"/>\n       <use x=\"424.400391\" xlink:href=\"#DejaVuSans-111\"/>\n       <use x=\"485.582031\" xlink:href=\"#DejaVuSans-114\"/>\n       <use x=\"526.695312\" xlink:href=\"#DejaVuSans-32\"/>\n       <use x=\"558.482422\" xlink:href=\"#DejaVuSans-99\"/>\n       <use x=\"613.462891\" xlink:href=\"#DejaVuSans-108\"/>\n       <use x=\"641.246094\" xlink:href=\"#DejaVuSans-105\"/>\n       <use x=\"669.029297\" xlink:href=\"#DejaVuSans-110\"/>\n       <use x=\"732.408203\" xlink:href=\"#DejaVuSans-105\"/>\n       <use x=\"760.191406\" xlink:href=\"#DejaVuSans-99\"/>\n       <use x=\"815.171875\" xlink:href=\"#DejaVuSans-97\"/>\n       <use x=\"876.451172\" xlink:href=\"#DejaVuSans-108\"/>\n       <use x=\"904.234375\" xlink:href=\"#DejaVuSans-32\"/>\n       <use x=\"936.021484\" xlink:href=\"#DejaVuSans-116\"/>\n       <use x=\"975.230469\" xlink:href=\"#DejaVuSans-114\"/>\n       <use x=\"1016.34375\" xlink:href=\"#DejaVuSans-105\"/>\n       <use x=\"1044.126953\" xlink:href=\"#DejaVuSans-97\"/>\n       <use x=\"1105.40625\" xlink:href=\"#DejaVuSans-108\"/>\n       <use x=\"1133.189453\" xlink:href=\"#DejaVuSans-115\"/>\n      </g>\n     </g>\n    </g>\n    <g id=\"ytick_5\">\n     <g id=\"line2d_12\">\n      <g>\n       <use style=\"stroke:#000000;stroke-width:0.8;\" x=\"221.55\" xlink:href=\"#m58699215c3\" y=\"162.908\"/>\n      </g>\n     </g>\n     <g id=\"text_12\">\n      <!-- Design clinical trials -->\n      <defs>\n       <path d=\"M 19.671875 64.796875 \nL 19.671875 8.109375 \nL 31.59375 8.109375 \nQ 46.6875 8.109375 53.6875 14.9375 \nQ 60.6875 21.78125 60.6875 36.53125 \nQ 60.6875 51.171875 53.6875 57.984375 \nQ 46.6875 64.796875 31.59375 64.796875 \nz\nM 9.8125 72.90625 \nL 30.078125 72.90625 \nQ 51.265625 72.90625 61.171875 64.09375 \nQ 71.09375 55.28125 71.09375 36.53125 \nQ 71.09375 17.671875 61.125 8.828125 \nQ 51.171875 0 30.078125 0 \nL 9.8125 0 \nz\n\" id=\"DejaVuSans-68\"/>\n       <path d=\"M 45.40625 27.984375 \nQ 45.40625 37.75 41.375 43.109375 \nQ 37.359375 48.484375 30.078125 48.484375 \nQ 22.859375 48.484375 18.828125 43.109375 \nQ 14.796875 37.75 14.796875 27.984375 \nQ 14.796875 18.265625 18.828125 12.890625 \nQ 22.859375 7.515625 30.078125 7.515625 \nQ 37.359375 7.515625 41.375 12.890625 \nQ 45.40625 18.265625 45.40625 27.984375 \nz\nM 54.390625 6.78125 \nQ 54.390625 -7.171875 48.1875 -13.984375 \nQ 42 -20.796875 29.203125 -20.796875 \nQ 24.46875 -20.796875 20.265625 -20.09375 \nQ 16.0625 -19.390625 12.109375 -17.921875 \nL 12.109375 -9.1875 \nQ 16.0625 -11.328125 19.921875 -12.34375 \nQ 23.78125 -13.375 27.78125 -13.375 \nQ 36.625 -13.375 41.015625 -8.765625 \nQ 45.40625 -4.15625 45.40625 5.171875 \nL 45.40625 9.625 \nQ 42.625 4.78125 38.28125 2.390625 \nQ 33.9375 0 27.875 0 \nQ 17.828125 0 11.671875 7.65625 \nQ 5.515625 15.328125 5.515625 27.984375 \nQ 5.515625 40.671875 11.671875 48.328125 \nQ 17.828125 56 27.875 56 \nQ 33.9375 56 38.28125 53.609375 \nQ 42.625 51.21875 45.40625 46.390625 \nL 45.40625 54.6875 \nL 54.390625 54.6875 \nz\n\" id=\"DejaVuSans-103\"/>\n      </defs>\n      <g transform=\"translate(114.167188 166.707219)scale(0.1 -0.1)\">\n       <use xlink:href=\"#DejaVuSans-68\"/>\n       <use x=\"77.001953\" xlink:href=\"#DejaVuSans-101\"/>\n       <use x=\"138.525391\" xlink:href=\"#DejaVuSans-115\"/>\n       <use x=\"190.625\" xlink:href=\"#DejaVuSans-105\"/>\n       <use x=\"218.408203\" xlink:href=\"#DejaVuSans-103\"/>\n       <use x=\"281.884766\" xlink:href=\"#DejaVuSans-110\"/>\n       <use x=\"345.263672\" xlink:href=\"#DejaVuSans-32\"/>\n       <use x=\"377.050781\" xlink:href=\"#DejaVuSans-99\"/>\n       <use x=\"432.03125\" xlink:href=\"#DejaVuSans-108\"/>\n       <use x=\"459.814453\" xlink:href=\"#DejaVuSans-105\"/>\n       <use x=\"487.597656\" xlink:href=\"#DejaVuSans-110\"/>\n       <use x=\"550.976562\" xlink:href=\"#DejaVuSans-105\"/>\n       <use x=\"578.759766\" xlink:href=\"#DejaVuSans-99\"/>\n       <use x=\"633.740234\" xlink:href=\"#DejaVuSans-97\"/>\n       <use x=\"695.019531\" xlink:href=\"#DejaVuSans-108\"/>\n       <use x=\"722.802734\" xlink:href=\"#DejaVuSans-32\"/>\n       <use x=\"754.589844\" xlink:href=\"#DejaVuSans-116\"/>\n       <use x=\"793.798828\" xlink:href=\"#DejaVuSans-114\"/>\n       <use x=\"834.912109\" xlink:href=\"#DejaVuSans-105\"/>\n       <use x=\"862.695312\" xlink:href=\"#DejaVuSans-97\"/>\n       <use x=\"923.974609\" xlink:href=\"#DejaVuSans-108\"/>\n       <use x=\"951.757812\" xlink:href=\"#DejaVuSans-115\"/>\n      </g>\n     </g>\n    </g>\n    <g id=\"ytick_6\">\n     <g id=\"line2d_13\">\n      <g>\n       <use style=\"stroke:#000000;stroke-width:0.8;\" x=\"221.55\" xlink:href=\"#m58699215c3\" y=\"148.412\"/>\n      </g>\n     </g>\n     <g id=\"text_13\">\n      <!-- Run preclinical experiments -->\n      <defs>\n       <path d=\"M 54.890625 54.6875 \nL 35.109375 28.078125 \nL 55.90625 0 \nL 45.3125 0 \nL 29.390625 21.484375 \nL 13.484375 0 \nL 2.875 0 \nL 24.125 28.609375 \nL 4.6875 54.6875 \nL 15.28125 54.6875 \nL 29.78125 35.203125 \nL 44.28125 54.6875 \nz\n\" id=\"DejaVuSans-120\"/>\n      </defs>\n      <g transform=\"translate(74.570312 152.211219)scale(0.1 -0.1)\">\n       <use xlink:href=\"#DejaVuSans-82\"/>\n       <use x=\"69.419922\" xlink:href=\"#DejaVuSans-117\"/>\n       <use x=\"132.798828\" xlink:href=\"#DejaVuSans-110\"/>\n       <use x=\"196.177734\" xlink:href=\"#DejaVuSans-32\"/>\n       <use x=\"227.964844\" xlink:href=\"#DejaVuSans-112\"/>\n       <use x=\"291.441406\" xlink:href=\"#DejaVuSans-114\"/>\n       <use x=\"332.523438\" xlink:href=\"#DejaVuSans-101\"/>\n       <use x=\"394.046875\" xlink:href=\"#DejaVuSans-99\"/>\n       <use x=\"449.027344\" xlink:href=\"#DejaVuSans-108\"/>\n       <use x=\"476.810547\" xlink:href=\"#DejaVuSans-105\"/>\n       <use x=\"504.59375\" xlink:href=\"#DejaVuSans-110\"/>\n       <use x=\"567.972656\" xlink:href=\"#DejaVuSans-105\"/>\n       <use x=\"595.755859\" xlink:href=\"#DejaVuSans-99\"/>\n       <use x=\"650.736328\" xlink:href=\"#DejaVuSans-97\"/>\n       <use x=\"712.015625\" xlink:href=\"#DejaVuSans-108\"/>\n       <use x=\"739.798828\" xlink:href=\"#DejaVuSans-32\"/>\n       <use x=\"771.585938\" xlink:href=\"#DejaVuSans-101\"/>\n       <use x=\"833.09375\" xlink:href=\"#DejaVuSans-120\"/>\n       <use x=\"892.273438\" xlink:href=\"#DejaVuSans-112\"/>\n       <use x=\"955.75\" xlink:href=\"#DejaVuSans-101\"/>\n       <use x=\"1017.273438\" xlink:href=\"#DejaVuSans-114\"/>\n       <use x=\"1058.386719\" xlink:href=\"#DejaVuSans-105\"/>\n       <use x=\"1086.169922\" xlink:href=\"#DejaVuSans-109\"/>\n       <use x=\"1183.582031\" xlink:href=\"#DejaVuSans-101\"/>\n       <use x=\"1245.105469\" xlink:href=\"#DejaVuSans-110\"/>\n       <use x=\"1308.484375\" xlink:href=\"#DejaVuSans-116\"/>\n       <use x=\"1347.693359\" xlink:href=\"#DejaVuSans-115\"/>\n      </g>\n     </g>\n    </g>\n    <g id=\"ytick_7\">\n     <g id=\"line2d_14\">\n      <g>\n       <use style=\"stroke:#000000;stroke-width:0.8;\" x=\"221.55\" xlink:href=\"#m58699215c3\" y=\"133.916\"/>\n      </g>\n     </g>\n     <g id=\"text_14\">\n      <!-- Design preclinical experiments -->\n      <g transform=\"translate(59.660937 137.715219)scale(0.1 -0.1)\">\n       <use xlink:href=\"#DejaVuSans-68\"/>\n       <use x=\"77.001953\" xlink:href=\"#DejaVuSans-101\"/>\n       <use x=\"138.525391\" xlink:href=\"#DejaVuSans-115\"/>\n       <use x=\"190.625\" xlink:href=\"#DejaVuSans-105\"/>\n       <use x=\"218.408203\" xlink:href=\"#DejaVuSans-103\"/>\n       <use x=\"281.884766\" xlink:href=\"#DejaVuSans-110\"/>\n       <use x=\"345.263672\" xlink:href=\"#DejaVuSans-32\"/>\n       <use x=\"377.050781\" xlink:href=\"#DejaVuSans-112\"/>\n       <use x=\"440.527344\" xlink:href=\"#DejaVuSans-114\"/>\n       <use x=\"481.609375\" xlink:href=\"#DejaVuSans-101\"/>\n       <use x=\"543.132812\" xlink:href=\"#DejaVuSans-99\"/>\n       <use x=\"598.113281\" xlink:href=\"#DejaVuSans-108\"/>\n       <use x=\"625.896484\" xlink:href=\"#DejaVuSans-105\"/>\n       <use x=\"653.679688\" xlink:href=\"#DejaVuSans-110\"/>\n       <use x=\"717.058594\" xlink:href=\"#DejaVuSans-105\"/>\n       <use x=\"744.841797\" xlink:href=\"#DejaVuSans-99\"/>\n       <use x=\"799.822266\" xlink:href=\"#DejaVuSans-97\"/>\n       <use x=\"861.101562\" xlink:href=\"#DejaVuSans-108\"/>\n       <use x=\"888.884766\" xlink:href=\"#DejaVuSans-32\"/>\n       <use x=\"920.671875\" xlink:href=\"#DejaVuSans-101\"/>\n       <use x=\"982.179688\" xlink:href=\"#DejaVuSans-120\"/>\n       <use x=\"1041.359375\" xlink:href=\"#DejaVuSans-112\"/>\n       <use x=\"1104.835938\" xlink:href=\"#DejaVuSans-101\"/>\n       <use x=\"1166.359375\" xlink:href=\"#DejaVuSans-114\"/>\n       <use x=\"1207.472656\" xlink:href=\"#DejaVuSans-105\"/>\n       <use x=\"1235.255859\" xlink:href=\"#DejaVuSans-109\"/>\n       <use x=\"1332.667969\" xlink:href=\"#DejaVuSans-101\"/>\n       <use x=\"1394.191406\" xlink:href=\"#DejaVuSans-110\"/>\n       <use x=\"1457.570312\" xlink:href=\"#DejaVuSans-116\"/>\n       <use x=\"1496.779297\" xlink:href=\"#DejaVuSans-115\"/>\n      </g>\n     </g>\n    </g>\n    <g id=\"ytick_8\">\n     <g id=\"line2d_15\">\n      <g>\n       <use style=\"stroke:#000000;stroke-width:0.8;\" x=\"221.55\" xlink:href=\"#m58699215c3\" y=\"119.42\"/>\n      </g>\n     </g>\n     <g id=\"text_15\">\n      <!-- Design drugs -->\n      <g transform=\"translate(148.490625 123.219219)scale(0.1 -0.1)\">\n       <use xlink:href=\"#DejaVuSans-68\"/>\n       <use x=\"77.001953\" xlink:href=\"#DejaVuSans-101\"/>\n       <use x=\"138.525391\" xlink:href=\"#DejaVuSans-115\"/>\n       <use x=\"190.625\" xlink:href=\"#DejaVuSans-105\"/>\n       <use x=\"218.408203\" xlink:href=\"#DejaVuSans-103\"/>\n       <use x=\"281.884766\" xlink:href=\"#DejaVuSans-110\"/>\n       <use x=\"345.263672\" xlink:href=\"#DejaVuSans-32\"/>\n       <use x=\"377.050781\" xlink:href=\"#DejaVuSans-100\"/>\n       <use x=\"440.527344\" xlink:href=\"#DejaVuSans-114\"/>\n       <use x=\"481.640625\" xlink:href=\"#DejaVuSans-117\"/>\n       <use x=\"545.019531\" xlink:href=\"#DejaVuSans-103\"/>\n       <use x=\"608.496094\" xlink:href=\"#DejaVuSans-115\"/>\n      </g>\n     </g>\n    </g>\n    <g id=\"ytick_9\">\n     <g id=\"line2d_16\">\n      <g>\n       <use style=\"stroke:#000000;stroke-width:0.8;\" x=\"221.55\" xlink:href=\"#m58699215c3\" y=\"104.924\"/>\n      </g>\n     </g>\n     <g id=\"text_16\">\n      <!-- Validate and optimize drug candidates -->\n      <defs>\n       <path d=\"M 28.609375 0 \nL 0.78125 72.90625 \nL 11.078125 72.90625 \nL 34.1875 11.53125 \nL 57.328125 72.90625 \nL 67.578125 72.90625 \nL 39.796875 0 \nz\n\" id=\"DejaVuSans-86\"/>\n      </defs>\n      <g transform=\"translate(20.878125 108.723219)scale(0.1 -0.1)\">\n       <use xlink:href=\"#DejaVuSans-86\"/>\n       <use x=\"68.298828\" xlink:href=\"#DejaVuSans-97\"/>\n       <use x=\"129.578125\" xlink:href=\"#DejaVuSans-108\"/>\n       <use x=\"157.361328\" xlink:href=\"#DejaVuSans-105\"/>\n       <use x=\"185.144531\" xlink:href=\"#DejaVuSans-100\"/>\n       <use x=\"248.621094\" xlink:href=\"#DejaVuSans-97\"/>\n       <use x=\"309.900391\" xlink:href=\"#DejaVuSans-116\"/>\n       <use x=\"349.109375\" xlink:href=\"#DejaVuSans-101\"/>\n       <use x=\"410.632812\" xlink:href=\"#DejaVuSans-32\"/>\n       <use x=\"442.419922\" xlink:href=\"#DejaVuSans-97\"/>\n       <use x=\"503.699219\" xlink:href=\"#DejaVuSans-110\"/>\n       <use x=\"567.078125\" xlink:href=\"#DejaVuSans-100\"/>\n       <use x=\"630.554688\" xlink:href=\"#DejaVuSans-32\"/>\n       <use x=\"662.341797\" xlink:href=\"#DejaVuSans-111\"/>\n       <use x=\"723.523438\" xlink:href=\"#DejaVuSans-112\"/>\n       <use x=\"787\" xlink:href=\"#DejaVuSans-116\"/>\n       <use x=\"826.208984\" xlink:href=\"#DejaVuSans-105\"/>\n       <use x=\"853.992188\" xlink:href=\"#DejaVuSans-109\"/>\n       <use x=\"951.404297\" xlink:href=\"#DejaVuSans-105\"/>\n       <use x=\"979.1875\" xlink:href=\"#DejaVuSans-122\"/>\n       <use x=\"1031.677734\" xlink:href=\"#DejaVuSans-101\"/>\n       <use x=\"1093.201172\" xlink:href=\"#DejaVuSans-32\"/>\n       <use x=\"1124.988281\" xlink:href=\"#DejaVuSans-100\"/>\n       <use x=\"1188.464844\" xlink:href=\"#DejaVuSans-114\"/>\n       <use x=\"1229.578125\" xlink:href=\"#DejaVuSans-117\"/>\n       <use x=\"1292.957031\" xlink:href=\"#DejaVuSans-103\"/>\n       <use x=\"1356.433594\" xlink:href=\"#DejaVuSans-32\"/>\n       <use x=\"1388.220703\" xlink:href=\"#DejaVuSans-99\"/>\n       <use x=\"1443.201172\" xlink:href=\"#DejaVuSans-97\"/>\n       <use x=\"1504.480469\" xlink:href=\"#DejaVuSans-110\"/>\n       <use x=\"1567.859375\" xlink:href=\"#DejaVuSans-100\"/>\n       <use x=\"1631.335938\" xlink:href=\"#DejaVuSans-105\"/>\n       <use x=\"1659.119141\" xlink:href=\"#DejaVuSans-100\"/>\n       <use x=\"1722.595703\" xlink:href=\"#DejaVuSans-97\"/>\n       <use x=\"1783.875\" xlink:href=\"#DejaVuSans-116\"/>\n       <use x=\"1823.083984\" xlink:href=\"#DejaVuSans-101\"/>\n       <use x=\"1884.607422\" xlink:href=\"#DejaVuSans-115\"/>\n      </g>\n     </g>\n    </g>\n    <g id=\"ytick_10\">\n     <g id=\"line2d_17\">\n      <g>\n       <use style=\"stroke:#000000;stroke-width:0.8;\" x=\"221.55\" xlink:href=\"#m58699215c3\" y=\"90.428\"/>\n      </g>\n     </g>\n     <g id=\"text_17\">\n      <!-- Generate novel drug candidates -->\n      <defs>\n       <path d=\"M 59.515625 10.40625 \nL 59.515625 29.984375 \nL 43.40625 29.984375 \nL 43.40625 38.09375 \nL 69.28125 38.09375 \nL 69.28125 6.78125 \nQ 63.578125 2.734375 56.6875 0.65625 \nQ 49.8125 -1.421875 42 -1.421875 \nQ 24.90625 -1.421875 15.25 8.5625 \nQ 5.609375 18.5625 5.609375 36.375 \nQ 5.609375 54.25 15.25 64.234375 \nQ 24.90625 74.21875 42 74.21875 \nQ 49.125 74.21875 55.546875 72.453125 \nQ 61.96875 70.703125 67.390625 67.28125 \nL 67.390625 56.78125 \nQ 61.921875 61.421875 55.765625 63.765625 \nQ 49.609375 66.109375 42.828125 66.109375 \nQ 29.4375 66.109375 22.71875 58.640625 \nQ 16.015625 51.171875 16.015625 36.375 \nQ 16.015625 21.625 22.71875 14.15625 \nQ 29.4375 6.6875 42.828125 6.6875 \nQ 48.046875 6.6875 52.140625 7.59375 \nQ 56.25 8.5 59.515625 10.40625 \nz\n\" id=\"DejaVuSans-71\"/>\n      </defs>\n      <g transform=\"translate(53.009375 94.227219)scale(0.1 -0.1)\">\n       <use xlink:href=\"#DejaVuSans-71\"/>\n       <use x=\"77.490234\" xlink:href=\"#DejaVuSans-101\"/>\n       <use x=\"139.013672\" xlink:href=\"#DejaVuSans-110\"/>\n       <use x=\"202.392578\" xlink:href=\"#DejaVuSans-101\"/>\n       <use x=\"263.916016\" xlink:href=\"#DejaVuSans-114\"/>\n       <use x=\"305.029297\" xlink:href=\"#DejaVuSans-97\"/>\n       <use x=\"366.308594\" xlink:href=\"#DejaVuSans-116\"/>\n       <use x=\"405.517578\" xlink:href=\"#DejaVuSans-101\"/>\n       <use x=\"467.041016\" xlink:href=\"#DejaVuSans-32\"/>\n       <use x=\"498.828125\" xlink:href=\"#DejaVuSans-110\"/>\n       <use x=\"562.207031\" xlink:href=\"#DejaVuSans-111\"/>\n       <use x=\"623.388672\" xlink:href=\"#DejaVuSans-118\"/>\n       <use x=\"682.568359\" xlink:href=\"#DejaVuSans-101\"/>\n       <use x=\"744.091797\" xlink:href=\"#DejaVuSans-108\"/>\n       <use x=\"771.875\" xlink:href=\"#DejaVuSans-32\"/>\n       <use x=\"803.662109\" xlink:href=\"#DejaVuSans-100\"/>\n       <use x=\"867.138672\" xlink:href=\"#DejaVuSans-114\"/>\n       <use x=\"908.251953\" xlink:href=\"#DejaVuSans-117\"/>\n       <use x=\"971.630859\" xlink:href=\"#DejaVuSans-103\"/>\n       <use x=\"1035.107422\" xlink:href=\"#DejaVuSans-32\"/>\n       <use x=\"1066.894531\" xlink:href=\"#DejaVuSans-99\"/>\n       <use x=\"1121.875\" xlink:href=\"#DejaVuSans-97\"/>\n       <use x=\"1183.154297\" xlink:href=\"#DejaVuSans-110\"/>\n       <use x=\"1246.533203\" xlink:href=\"#DejaVuSans-100\"/>\n       <use x=\"1310.009766\" xlink:href=\"#DejaVuSans-105\"/>\n       <use x=\"1337.792969\" xlink:href=\"#DejaVuSans-100\"/>\n       <use x=\"1401.269531\" xlink:href=\"#DejaVuSans-97\"/>\n       <use x=\"1462.548828\" xlink:href=\"#DejaVuSans-116\"/>\n       <use x=\"1501.757812\" xlink:href=\"#DejaVuSans-101\"/>\n       <use x=\"1563.28125\" xlink:href=\"#DejaVuSans-115\"/>\n      </g>\n     </g>\n    </g>\n    <g id=\"ytick_11\">\n     <g id=\"line2d_18\">\n      <g>\n       <use style=\"stroke:#000000;stroke-width:0.8;\" x=\"221.55\" xlink:href=\"#m58699215c3\" y=\"75.932\"/>\n      </g>\n     </g>\n     <g id=\"text_18\">\n      <!-- Repurpose existing drugs -->\n      <g transform=\"translate(86.675 79.731219)scale(0.1 -0.1)\">\n       <use xlink:href=\"#DejaVuSans-82\"/>\n       <use x=\"69.419922\" xlink:href=\"#DejaVuSans-101\"/>\n       <use x=\"130.943359\" xlink:href=\"#DejaVuSans-112\"/>\n       <use x=\"194.419922\" xlink:href=\"#DejaVuSans-117\"/>\n       <use x=\"257.798828\" xlink:href=\"#DejaVuSans-114\"/>\n       <use x=\"298.912109\" xlink:href=\"#DejaVuSans-112\"/>\n       <use x=\"362.388672\" xlink:href=\"#DejaVuSans-111\"/>\n       <use x=\"423.570312\" xlink:href=\"#DejaVuSans-115\"/>\n       <use x=\"475.669922\" xlink:href=\"#DejaVuSans-101\"/>\n       <use x=\"537.193359\" xlink:href=\"#DejaVuSans-32\"/>\n       <use x=\"568.980469\" xlink:href=\"#DejaVuSans-101\"/>\n       <use x=\"630.488281\" xlink:href=\"#DejaVuSans-120\"/>\n       <use x=\"689.667969\" xlink:href=\"#DejaVuSans-105\"/>\n       <use x=\"717.451172\" xlink:href=\"#DejaVuSans-115\"/>\n       <use x=\"769.550781\" xlink:href=\"#DejaVuSans-116\"/>\n       <use x=\"808.759766\" xlink:href=\"#DejaVuSans-105\"/>\n       <use x=\"836.542969\" xlink:href=\"#DejaVuSans-110\"/>\n       <use x=\"899.921875\" xlink:href=\"#DejaVuSans-103\"/>\n       <use x=\"963.398438\" xlink:href=\"#DejaVuSans-32\"/>\n       <use x=\"995.185547\" xlink:href=\"#DejaVuSans-100\"/>\n       <use x=\"1058.662109\" xlink:href=\"#DejaVuSans-114\"/>\n       <use x=\"1099.775391\" xlink:href=\"#DejaVuSans-117\"/>\n       <use x=\"1163.154297\" xlink:href=\"#DejaVuSans-103\"/>\n       <use x=\"1226.630859\" xlink:href=\"#DejaVuSans-115\"/>\n      </g>\n     </g>\n    </g>\n    <g id=\"ytick_12\">\n     <g id=\"line2d_19\">\n      <g>\n       <use style=\"stroke:#000000;stroke-width:0.8;\" x=\"221.55\" xlink:href=\"#m58699215c3\" y=\"61.436\"/>\n      </g>\n     </g>\n     <g id=\"text_19\">\n      <!-- Generate data and models -->\n      <g transform=\"translate(80.623437 65.235219)scale(0.1 -0.1)\">\n       <use xlink:href=\"#DejaVuSans-71\"/>\n       <use x=\"77.490234\" xlink:href=\"#DejaVuSans-101\"/>\n       <use x=\"139.013672\" xlink:href=\"#DejaVuSans-110\"/>\n       <use x=\"202.392578\" xlink:href=\"#DejaVuSans-101\"/>\n       <use x=\"263.916016\" xlink:href=\"#DejaVuSans-114\"/>\n       <use x=\"305.029297\" xlink:href=\"#DejaVuSans-97\"/>\n       <use x=\"366.308594\" xlink:href=\"#DejaVuSans-116\"/>\n       <use x=\"405.517578\" xlink:href=\"#DejaVuSans-101\"/>\n       <use x=\"467.041016\" xlink:href=\"#DejaVuSans-32\"/>\n       <use x=\"498.828125\" xlink:href=\"#DejaVuSans-100\"/>\n       <use x=\"562.304688\" xlink:href=\"#DejaVuSans-97\"/>\n       <use x=\"623.583984\" xlink:href=\"#DejaVuSans-116\"/>\n       <use x=\"662.792969\" xlink:href=\"#DejaVuSans-97\"/>\n       <use x=\"724.072266\" xlink:href=\"#DejaVuSans-32\"/>\n       <use x=\"755.859375\" xlink:href=\"#DejaVuSans-97\"/>\n       <use x=\"817.138672\" xlink:href=\"#DejaVuSans-110\"/>\n       <use x=\"880.517578\" xlink:href=\"#DejaVuSans-100\"/>\n       <use x=\"943.994141\" xlink:href=\"#DejaVuSans-32\"/>\n       <use x=\"975.78125\" xlink:href=\"#DejaVuSans-109\"/>\n       <use x=\"1073.193359\" xlink:href=\"#DejaVuSans-111\"/>\n       <use x=\"1134.375\" xlink:href=\"#DejaVuSans-100\"/>\n       <use x=\"1197.851562\" xlink:href=\"#DejaVuSans-101\"/>\n       <use x=\"1259.375\" xlink:href=\"#DejaVuSans-108\"/>\n       <use x=\"1287.158203\" xlink:href=\"#DejaVuSans-115\"/>\n      </g>\n     </g>\n    </g>\n    <g id=\"ytick_13\">\n     <g id=\"line2d_20\">\n      <g>\n       <use style=\"stroke:#000000;stroke-width:0.8;\" x=\"221.55\" xlink:href=\"#m58699215c3\" y=\"46.94\"/>\n      </g>\n     </g>\n     <g id=\"text_20\">\n      <!-- Establish biomarkers -->\n      <defs>\n       <path d=\"M 9.8125 72.90625 \nL 55.90625 72.90625 \nL 55.90625 64.59375 \nL 19.671875 64.59375 \nL 19.671875 43.015625 \nL 54.390625 43.015625 \nL 54.390625 34.71875 \nL 19.671875 34.71875 \nL 19.671875 8.296875 \nL 56.78125 8.296875 \nL 56.78125 0 \nL 9.8125 0 \nz\n\" id=\"DejaVuSans-69\"/>\n       <path d=\"M 9.078125 75.984375 \nL 18.109375 75.984375 \nL 18.109375 31.109375 \nL 44.921875 54.6875 \nL 56.390625 54.6875 \nL 27.390625 29.109375 \nL 57.625 0 \nL 45.90625 0 \nL 18.109375 26.703125 \nL 18.109375 0 \nL 9.078125 0 \nz\n\" id=\"DejaVuSans-107\"/>\n      </defs>\n      <g transform=\"translate(109.859375 50.739219)scale(0.1 -0.1)\">\n       <use xlink:href=\"#DejaVuSans-69\"/>\n       <use x=\"63.183594\" xlink:href=\"#DejaVuSans-115\"/>\n       <use x=\"115.283203\" xlink:href=\"#DejaVuSans-116\"/>\n       <use x=\"154.492188\" xlink:href=\"#DejaVuSans-97\"/>\n       <use x=\"215.771484\" xlink:href=\"#DejaVuSans-98\"/>\n       <use x=\"279.248047\" xlink:href=\"#DejaVuSans-108\"/>\n       <use x=\"307.03125\" xlink:href=\"#DejaVuSans-105\"/>\n       <use x=\"334.814453\" xlink:href=\"#DejaVuSans-115\"/>\n       <use x=\"386.914062\" xlink:href=\"#DejaVuSans-104\"/>\n       <use x=\"450.292969\" xlink:href=\"#DejaVuSans-32\"/>\n       <use x=\"482.080078\" xlink:href=\"#DejaVuSans-98\"/>\n       <use x=\"545.556641\" xlink:href=\"#DejaVuSans-105\"/>\n       <use x=\"573.339844\" xlink:href=\"#DejaVuSans-111\"/>\n       <use x=\"634.521484\" xlink:href=\"#DejaVuSans-109\"/>\n       <use x=\"731.933594\" xlink:href=\"#DejaVuSans-97\"/>\n       <use x=\"793.212891\" xlink:href=\"#DejaVuSans-114\"/>\n       <use x=\"834.326172\" xlink:href=\"#DejaVuSans-107\"/>\n       <use x=\"892.189453\" xlink:href=\"#DejaVuSans-101\"/>\n       <use x=\"953.712891\" xlink:href=\"#DejaVuSans-114\"/>\n       <use x=\"994.826172\" xlink:href=\"#DejaVuSans-115\"/>\n      </g>\n     </g>\n    </g>\n    <g id=\"ytick_14\">\n     <g id=\"line2d_21\">\n      <g>\n       <use style=\"stroke:#000000;stroke-width:0.8;\" x=\"221.55\" xlink:href=\"#m58699215c3\" y=\"32.444\"/>\n      </g>\n     </g>\n     <g id=\"text_21\">\n      <!-- Understand mechanisms of disease -->\n      <defs>\n       <path d=\"M 8.6875 72.90625 \nL 18.609375 72.90625 \nL 18.609375 28.609375 \nQ 18.609375 16.890625 22.84375 11.734375 \nQ 27.09375 6.59375 36.625 6.59375 \nQ 46.09375 6.59375 50.34375 11.734375 \nQ 54.59375 16.890625 54.59375 28.609375 \nL 54.59375 72.90625 \nL 64.5 72.90625 \nL 64.5 27.390625 \nQ 64.5 13.140625 57.4375 5.859375 \nQ 50.390625 -1.421875 36.625 -1.421875 \nQ 22.796875 -1.421875 15.734375 5.859375 \nQ 8.6875 13.140625 8.6875 27.390625 \nz\n\" id=\"DejaVuSans-85\"/>\n      </defs>\n      <g transform=\"translate(36.051562 36.243219)scale(0.1 -0.1)\">\n       <use xlink:href=\"#DejaVuSans-85\"/>\n       <use x=\"73.193359\" xlink:href=\"#DejaVuSans-110\"/>\n       <use x=\"136.572266\" xlink:href=\"#DejaVuSans-100\"/>\n       <use x=\"200.048828\" xlink:href=\"#DejaVuSans-101\"/>\n       <use x=\"261.572266\" xlink:href=\"#DejaVuSans-114\"/>\n       <use x=\"302.685547\" xlink:href=\"#DejaVuSans-115\"/>\n       <use x=\"354.785156\" xlink:href=\"#DejaVuSans-116\"/>\n       <use x=\"393.994141\" xlink:href=\"#DejaVuSans-97\"/>\n       <use x=\"455.273438\" xlink:href=\"#DejaVuSans-110\"/>\n       <use x=\"518.652344\" xlink:href=\"#DejaVuSans-100\"/>\n       <use x=\"582.128906\" xlink:href=\"#DejaVuSans-32\"/>\n       <use x=\"613.916016\" xlink:href=\"#DejaVuSans-109\"/>\n       <use x=\"711.328125\" xlink:href=\"#DejaVuSans-101\"/>\n       <use x=\"772.851562\" xlink:href=\"#DejaVuSans-99\"/>\n       <use x=\"827.832031\" xlink:href=\"#DejaVuSans-104\"/>\n       <use x=\"891.210938\" xlink:href=\"#DejaVuSans-97\"/>\n       <use x=\"952.490234\" xlink:href=\"#DejaVuSans-110\"/>\n       <use x=\"1015.869141\" xlink:href=\"#DejaVuSans-105\"/>\n       <use x=\"1043.652344\" xlink:href=\"#DejaVuSans-115\"/>\n       <use x=\"1095.751953\" xlink:href=\"#DejaVuSans-109\"/>\n       <use x=\"1193.164062\" xlink:href=\"#DejaVuSans-115\"/>\n       <use x=\"1245.263672\" xlink:href=\"#DejaVuSans-32\"/>\n       <use x=\"1277.050781\" xlink:href=\"#DejaVuSans-111\"/>\n       <use x=\"1338.232422\" xlink:href=\"#DejaVuSans-102\"/>\n       <use x=\"1373.4375\" xlink:href=\"#DejaVuSans-32\"/>\n       <use x=\"1405.224609\" xlink:href=\"#DejaVuSans-100\"/>\n       <use x=\"1468.701172\" xlink:href=\"#DejaVuSans-105\"/>\n       <use x=\"1496.484375\" xlink:href=\"#DejaVuSans-115\"/>\n       <use x=\"1548.583984\" xlink:href=\"#DejaVuSans-101\"/>\n       <use x=\"1610.107422\" xlink:href=\"#DejaVuSans-97\"/>\n       <use x=\"1671.386719\" xlink:href=\"#DejaVuSans-115\"/>\n       <use x=\"1723.486328\" xlink:href=\"#DejaVuSans-101\"/>\n      </g>\n     </g>\n    </g>\n    <g id=\"ytick_15\">\n     <g id=\"line2d_22\">\n      <g>\n       <use style=\"stroke:#000000;stroke-width:0.8;\" x=\"221.55\" xlink:href=\"#m58699215c3\" y=\"17.948\"/>\n      </g>\n     </g>\n     <g id=\"text_22\">\n      <!-- Aggregate and synthesize information -->\n      <g transform=\"translate(22.7 21.747219)scale(0.1 -0.1)\">\n       <use xlink:href=\"#DejaVuSans-65\"/>\n       <use x=\"68.408203\" xlink:href=\"#DejaVuSans-103\"/>\n       <use x=\"131.884766\" xlink:href=\"#DejaVuSans-103\"/>\n       <use x=\"195.361328\" xlink:href=\"#DejaVuSans-114\"/>\n       <use x=\"236.443359\" xlink:href=\"#DejaVuSans-101\"/>\n       <use x=\"297.966797\" xlink:href=\"#DejaVuSans-103\"/>\n       <use x=\"361.443359\" xlink:href=\"#DejaVuSans-97\"/>\n       <use x=\"422.722656\" xlink:href=\"#DejaVuSans-116\"/>\n       <use x=\"461.931641\" xlink:href=\"#DejaVuSans-101\"/>\n       <use x=\"523.455078\" xlink:href=\"#DejaVuSans-32\"/>\n       <use x=\"555.242188\" xlink:href=\"#DejaVuSans-97\"/>\n       <use x=\"616.521484\" xlink:href=\"#DejaVuSans-110\"/>\n       <use x=\"679.900391\" xlink:href=\"#DejaVuSans-100\"/>\n       <use x=\"743.376953\" xlink:href=\"#DejaVuSans-32\"/>\n       <use x=\"775.164062\" xlink:href=\"#DejaVuSans-115\"/>\n       <use x=\"827.263672\" xlink:href=\"#DejaVuSans-121\"/>\n       <use x=\"886.443359\" xlink:href=\"#DejaVuSans-110\"/>\n       <use x=\"949.822266\" xlink:href=\"#DejaVuSans-116\"/>\n       <use x=\"989.03125\" xlink:href=\"#DejaVuSans-104\"/>\n       <use x=\"1052.410156\" xlink:href=\"#DejaVuSans-101\"/>\n       <use x=\"1113.933594\" xlink:href=\"#DejaVuSans-115\"/>\n       <use x=\"1166.033203\" xlink:href=\"#DejaVuSans-105\"/>\n       <use x=\"1193.816406\" xlink:href=\"#DejaVuSans-122\"/>\n       <use x=\"1246.306641\" xlink:href=\"#DejaVuSans-101\"/>\n       <use x=\"1307.830078\" xlink:href=\"#DejaVuSans-32\"/>\n       <use x=\"1339.617188\" xlink:href=\"#DejaVuSans-105\"/>\n       <use x=\"1367.400391\" xlink:href=\"#DejaVuSans-110\"/>\n       <use x=\"1430.779297\" xlink:href=\"#DejaVuSans-102\"/>\n       <use x=\"1465.984375\" xlink:href=\"#DejaVuSans-111\"/>\n       <use x=\"1527.166016\" xlink:href=\"#DejaVuSans-114\"/>\n       <use x=\"1568.263672\" xlink:href=\"#DejaVuSans-109\"/>\n       <use x=\"1665.675781\" xlink:href=\"#DejaVuSans-97\"/>\n       <use x=\"1726.955078\" xlink:href=\"#DejaVuSans-116\"/>\n       <use x=\"1766.164062\" xlink:href=\"#DejaVuSans-105\"/>\n       <use x=\"1793.947266\" xlink:href=\"#DejaVuSans-111\"/>\n       <use x=\"1855.128906\" xlink:href=\"#DejaVuSans-110\"/>\n      </g>\n     </g>\n    </g>\n    <g id=\"text_23\">\n     <!-- category -->\n     <g transform=\"translate(14.798438 141.518437)rotate(-90)scale(0.1 -0.1)\">\n      <use xlink:href=\"#DejaVuSans-99\"/>\n      <use x=\"54.980469\" xlink:href=\"#DejaVuSans-97\"/>\n      <use x=\"116.259766\" xlink:href=\"#DejaVuSans-116\"/>\n      <use x=\"155.46875\" xlink:href=\"#DejaVuSans-101\"/>\n      <use x=\"216.992188\" xlink:href=\"#DejaVuSans-103\"/>\n      <use x=\"280.46875\" xlink:href=\"#DejaVuSans-111\"/>\n      <use x=\"341.650391\" xlink:href=\"#DejaVuSans-114\"/>\n      <use x=\"382.763672\" xlink:href=\"#DejaVuSans-121\"/>\n     </g>\n    </g>\n   </g>\n   <g id=\"patch_18\">\n    <path d=\"M 221.55 228.14 \nL 221.55 10.7 \n\" style=\"fill:none;stroke:#000000;stroke-linecap:square;stroke-linejoin:miter;stroke-width:0.8;\"/>\n   </g>\n   <g id=\"patch_19\">\n    <path d=\"M 556.35 228.14 \nL 556.35 10.7 \n\" style=\"fill:none;stroke:#000000;stroke-linecap:square;stroke-linejoin:miter;stroke-width:0.8;\"/>\n   </g>\n   <g id=\"patch_20\">\n    <path d=\"M 221.55 228.14 \nL 556.35 228.14 \n\" style=\"fill:none;stroke:#000000;stroke-linecap:square;stroke-linejoin:miter;stroke-width:0.8;\"/>\n   </g>\n   <g id=\"patch_21\">\n    <path d=\"M 221.55 10.7 \nL 556.35 10.7 \n\" style=\"fill:none;stroke:#000000;stroke-linecap:square;stroke-linejoin:miter;stroke-width:0.8;\"/>\n   </g>\n  </g>\n </g>\n <defs>\n  <clipPath id=\"pceefc106b7\">\n   <rect height=\"217.44\" width=\"334.8\" x=\"221.55\" y=\"10.7\"/>\n  </clipPath>\n </defs>\n</svg>\n",
      "image/png": "[encoded data removed]"
     },
     "metadata": {
      "needs_background": "light"
     }
    }
   ],
   "source": [
    "# Funding amount.\n",
    "df.groupby('category')['funding_amount'].sum().sort_index(ascending=False).plot(kind='barh')\n",
    "plt.show()"
   ]
  },
  {
   "cell_type": "markdown",
   "metadata": {},
   "source": [
    "## Geographical distribution"
   ]
  },
  {
   "cell_type": "code",
   "execution_count": 7,
   "metadata": {},
   "outputs": [
    {
     "output_type": "display_data",
     "data": {
      "application/vnd.plotly.v1+json": {
       "config": {
        "plotlyServerURL": "https://plot.ly"
       },
       "data": [
        {
         "domain": {
          "x": [
           0,
           1
          ],
          "y": [
           0,
           1
          ]
         },
         "hoverlabel": {
          "namelength": 0
         },
         "hovertemplate": "country=%{label}<br>count=%{value}",
         "labels": [
          "The Netherlands",
          "Bulgaria",
          "Switzerland",
          "Denmark",
          "Finland",
          "Norway",
          "Japan",
          "Hong Kong",
          "Italy",
          "Australia",
          "Poland",
          "Ireland",
          "Hungary",
          "Austria",
          "India",
          "Israel",
          "Singapore",
          "Spain",
          "Germany",
          "South Korea",
          "China",
          "France",
          "Canada",
          "United Kingdom",
          "United States"
         ],
         "legendgroup": "",
         "name": "",
         "showlegend": true,
         "textinfo": "value",
         "type": "pie",
         "values": [
          1,
          1,
          1,
          1,
          1,
          1,
          1,
          1,
          1,
          2,
          2,
          2,
          2,
          2,
          2,
          3,
          3,
          3,
          4,
          6,
          7,
          15,
          16,
          26,
          126
         ]
        }
       ],
       "layout": {
        "legend": {
         "tracegroupgap": 0
        },
        "template": {
         "data": {
          "bar": [
           {
            "error_x": {
             "color": "#2a3f5f"
            },
            "error_y": {
             "color": "#2a3f5f"
            },
            "marker": {
             "line": {
              "color": "#E5ECF6",
              "width": 0.5
             }
            },
            "type": "bar"
           }
          ],
          "barpolar": [
           {
            "marker": {
             "line": {
              "color": "#E5ECF6",
              "width": 0.5
             }
            },
            "type": "barpolar"
           }
          ],
          "carpet": [
           {
            "aaxis": {
             "endlinecolor": "#2a3f5f",
             "gridcolor": "white",
             "linecolor": "white",
             "minorgridcolor": "white",
             "startlinecolor": "#2a3f5f"
            },
            "baxis": {
             "endlinecolor": "#2a3f5f",
             "gridcolor": "white",
             "linecolor": "white",
             "minorgridcolor": "white",
             "startlinecolor": "#2a3f5f"
            },
            "type": "carpet"
           }
          ],
          "choropleth": [
           {
            "colorbar": {
             "outlinewidth": 0,
             "ticks": ""
            },
            "type": "choropleth"
           }
          ],
          "contour": [
           {
            "colorbar": {
             "outlinewidth": 0,
             "ticks": ""
            },
            "colorscale": [
             [
              0,
              "#0d0887"
             ],
             [
              0.1111111111111111,
              "#46039f"
             ],
             [
              0.2222222222222222,
              "#7201a8"
             ],
             [
              0.3333333333333333,
              "#9c179e"
             ],
             [
              0.4444444444444444,
              "#bd3786"
             ],
             [
              0.5555555555555556,
              "#d8576b"
             ],
             [
              0.6666666666666666,
              "#ed7953"
             ],
             [
              0.7777777777777778,
              "#fb9f3a"
             ],
             [
              0.8888888888888888,
              "#fdca26"
             ],
             [
              1,
              "#f0f921"
             ]
            ],
            "type": "contour"
           }
          ],
          "contourcarpet": [
           {
            "colorbar": {
             "outlinewidth": 0,
             "ticks": ""
            },
            "type": "contourcarpet"
           }
          ],
          "heatmap": [
           {
            "colorbar": {
             "outlinewidth": 0,
             "ticks": ""
            },
            "colorscale": [
             [
              0,
              "#0d0887"
             ],
             [
              0.1111111111111111,
              "#46039f"
             ],
             [
              0.2222222222222222,
              "#7201a8"
             ],
             [
              0.3333333333333333,
              "#9c179e"
             ],
             [
              0.4444444444444444,
              "#bd3786"
             ],
             [
              0.5555555555555556,
              "#d8576b"
             ],
             [
              0.6666666666666666,
              "#ed7953"
             ],
             [
              0.7777777777777778,
              "#fb9f3a"
             ],
             [
              0.8888888888888888,
              "#fdca26"
             ],
             [
              1,
              "#f0f921"
             ]
            ],
            "type": "heatmap"
           }
          ],
          "heatmapgl": [
           {
            "colorbar": {
             "outlinewidth": 0,
             "ticks": ""
            },
            "colorscale": [
             [
              0,
              "#0d0887"
             ],
             [
              0.1111111111111111,
              "#46039f"
             ],
             [
              0.2222222222222222,
              "#7201a8"
             ],
             [
              0.3333333333333333,
              "#9c179e"
             ],
             [
              0.4444444444444444,
              "#bd3786"
             ],
             [
              0.5555555555555556,
              "#d8576b"
             ],
             [
              0.6666666666666666,
              "#ed7953"
             ],
             [
              0.7777777777777778,
              "#fb9f3a"
             ],
             [
              0.8888888888888888,
              "#fdca26"
             ],
             [
              1,
              "#f0f921"
             ]
            ],
            "type": "heatmapgl"
           }
          ],
          "histogram": [
           {
            "marker": {
             "colorbar": {
              "outlinewidth": 0,
              "ticks": ""
             }
            },
            "type": "histogram"
           }
          ],
          "histogram2d": [
           {
            "colorbar": {
             "outlinewidth": 0,
             "ticks": ""
            },
            "colorscale": [
             [
              0,
              "#0d0887"
             ],
             [
              0.1111111111111111,
              "#46039f"
             ],
             [
              0.2222222222222222,
              "#7201a8"
             ],
             [
              0.3333333333333333,
              "#9c179e"
             ],
             [
              0.4444444444444444,
              "#bd3786"
             ],
             [
              0.5555555555555556,
              "#d8576b"
             ],
             [
              0.6666666666666666,
              "#ed7953"
             ],
             [
              0.7777777777777778,
              "#fb9f3a"
             ],
             [
              0.8888888888888888,
              "#fdca26"
             ],
             [
              1,
              "#f0f921"
             ]
            ],
            "type": "histogram2d"
           }
          ],
          "histogram2dcontour": [
           {
            "colorbar": {
             "outlinewidth": 0,
             "ticks": ""
            },
            "colorscale": [
             [
              0,
              "#0d0887"
             ],
             [
              0.1111111111111111,
              "#46039f"
             ],
             [
              0.2222222222222222,
              "#7201a8"
             ],
             [
              0.3333333333333333,
              "#9c179e"
             ],
             [
              0.4444444444444444,
              "#bd3786"
             ],
             [
              0.5555555555555556,
              "#d8576b"
             ],
             [
              0.6666666666666666,
              "#ed7953"
             ],
             [
              0.7777777777777778,
              "#fb9f3a"
             ],
             [
              0.8888888888888888,
              "#fdca26"
             ],
             [
              1,
              "#f0f921"
             ]
            ],
            "type": "histogram2dcontour"
           }
          ],
          "mesh3d": [
           {
            "colorbar": {
             "outlinewidth": 0,
             "ticks": ""
            },
            "type": "mesh3d"
           }
          ],
          "parcoords": [
           {
            "line": {
             "colorbar": {
              "outlinewidth": 0,
              "ticks": ""
             }
            },
            "type": "parcoords"
           }
          ],
          "pie": [
           {
            "automargin": true,
            "type": "pie"
           }
          ],
          "scatter": [
           {
            "marker": {
             "colorbar": {
              "outlinewidth": 0,
              "ticks": ""
             }
            },
            "type": "scatter"
           }
          ],
          "scatter3d": [
           {
            "line": {
             "colorbar": {
              "outlinewidth": 0,
              "ticks": ""
             }
            },
            "marker": {
             "colorbar": {
              "outlinewidth": 0,
              "ticks": ""
             }
            },
            "type": "scatter3d"
           }
          ],
          "scattercarpet": [
           {
            "marker": {
             "colorbar": {
              "outlinewidth": 0,
              "ticks": ""
             }
            },
            "type": "scattercarpet"
           }
          ],
          "scattergeo": [
           {
            "marker": {
             "colorbar": {
              "outlinewidth": 0,
              "ticks": ""
             }
            },
            "type": "scattergeo"
           }
          ],
          "scattergl": [
           {
            "marker": {
             "colorbar": {
              "outlinewidth": 0,
              "ticks": ""
             }
            },
            "type": "scattergl"
           }
          ],
          "scattermapbox": [
           {
            "marker": {
             "colorbar": {
              "outlinewidth": 0,
              "ticks": ""
             }
            },
            "type": "scattermapbox"
           }
          ],
          "scatterpolar": [
           {
            "marker": {
             "colorbar": {
              "outlinewidth": 0,
              "ticks": ""
             }
            },
            "type": "scatterpolar"
           }
          ],
          "scatterpolargl": [
           {
            "marker": {
             "colorbar": {
              "outlinewidth": 0,
              "ticks": ""
             }
            },
            "type": "scatterpolargl"
           }
          ],
          "scatterternary": [
           {
            "marker": {
             "colorbar": {
              "outlinewidth": 0,
              "ticks": ""
             }
            },
            "type": "scatterternary"
           }
          ],
          "surface": [
           {
            "colorbar": {
             "outlinewidth": 0,
             "ticks": ""
            },
            "colorscale": [
             [
              0,
              "#0d0887"
             ],
             [
              0.1111111111111111,
              "#46039f"
             ],
             [
              0.2222222222222222,
              "#7201a8"
             ],
             [
              0.3333333333333333,
              "#9c179e"
             ],
             [
              0.4444444444444444,
              "#bd3786"
             ],
             [
              0.5555555555555556,
              "#d8576b"
             ],
             [
              0.6666666666666666,
              "#ed7953"
             ],
             [
              0.7777777777777778,
              "#fb9f3a"
             ],
             [
              0.8888888888888888,
              "#fdca26"
             ],
             [
              1,
              "#f0f921"
             ]
            ],
            "type": "surface"
           }
          ],
          "table": [
           {
            "cells": {
             "fill": {
              "color": "#EBF0F8"
             },
             "line": {
              "color": "white"
             }
            },
            "header": {
             "fill": {
              "color": "#C8D4E3"
             },
             "line": {
              "color": "white"
             }
            },
            "type": "table"
           }
          ]
         },
         "layout": {
          "annotationdefaults": {
           "arrowcolor": "#2a3f5f",
           "arrowhead": 0,
           "arrowwidth": 1
          },
          "coloraxis": {
           "colorbar": {
            "outlinewidth": 0,
            "ticks": ""
           }
          },
          "colorscale": {
           "diverging": [
            [
             0,
             "#8e0152"
            ],
            [
             0.1,
             "#c51b7d"
            ],
            [
             0.2,
             "#de77ae"
            ],
            [
             0.3,
             "#f1b6da"
            ],
            [
             0.4,
             "#fde0ef"
            ],
            [
             0.5,
             "#f7f7f7"
            ],
            [
             0.6,
             "#e6f5d0"
            ],
            [
             0.7,
             "#b8e186"
            ],
            [
             0.8,
             "#7fbc41"
            ],
            [
             0.9,
             "#4d9221"
            ],
            [
             1,
             "#276419"
            ]
           ],
           "sequential": [
            [
             0,
             "#0d0887"
            ],
            [
             0.1111111111111111,
             "#46039f"
            ],
            [
             0.2222222222222222,
             "#7201a8"
            ],
            [
             0.3333333333333333,
             "#9c179e"
            ],
            [
             0.4444444444444444,
             "#bd3786"
            ],
            [
             0.5555555555555556,
             "#d8576b"
            ],
            [
             0.6666666666666666,
             "#ed7953"
            ],
            [
             0.7777777777777778,
             "#fb9f3a"
            ],
            [
             0.8888888888888888,
             "#fdca26"
            ],
            [
             1,
             "#f0f921"
            ]
           ],
           "sequentialminus": [
            [
             0,
             "#0d0887"
            ],
            [
             0.1111111111111111,
             "#46039f"
            ],
            [
             0.2222222222222222,
             "#7201a8"
            ],
            [
             0.3333333333333333,
             "#9c179e"
            ],
            [
             0.4444444444444444,
             "#bd3786"
            ],
            [
             0.5555555555555556,
             "#d8576b"
            ],
            [
             0.6666666666666666,
             "#ed7953"
            ],
            [
             0.7777777777777778,
             "#fb9f3a"
            ],
            [
             0.8888888888888888,
             "#fdca26"
            ],
            [
             1,
             "#f0f921"
            ]
           ]
          },
          "colorway": [
           "#636efa",
           "#EF553B",
           "#00cc96",
           "#ab63fa",
           "#FFA15A",
           "#19d3f3",
           "#FF6692",
           "#B6E880",
           "#FF97FF",
           "#FECB52"
          ],
          "font": {
           "color": "#2a3f5f"
          },
          "geo": {
           "bgcolor": "white",
           "lakecolor": "white",
           "landcolor": "#E5ECF6",
           "showlakes": true,
           "showland": true,
           "subunitcolor": "white"
          },
          "hoverlabel": {
           "align": "left"
          },
          "hovermode": "closest",
          "mapbox": {
           "style": "light"
          },
          "paper_bgcolor": "white",
          "plot_bgcolor": "#E5ECF6",
          "polar": {
           "angularaxis": {
            "gridcolor": "white",
            "linecolor": "white",
            "ticks": ""
           },
           "bgcolor": "#E5ECF6",
           "radialaxis": {
            "gridcolor": "white",
            "linecolor": "white",
            "ticks": ""
           }
          },
          "scene": {
           "xaxis": {
            "backgroundcolor": "#E5ECF6",
            "gridcolor": "white",
            "gridwidth": 2,
            "linecolor": "white",
            "showbackground": true,
            "ticks": "",
            "zerolinecolor": "white"
           },
           "yaxis": {
            "backgroundcolor": "#E5ECF6",
            "gridcolor": "white",
            "gridwidth": 2,
            "linecolor": "white",
            "showbackground": true,
            "ticks": "",
            "zerolinecolor": "white"
           },
           "zaxis": {
            "backgroundcolor": "#E5ECF6",
            "gridcolor": "white",
            "gridwidth": 2,
            "linecolor": "white",
            "showbackground": true,
            "ticks": "",
            "zerolinecolor": "white"
           }
          },
          "shapedefaults": {
           "line": {
            "color": "#2a3f5f"
           }
          },
          "ternary": {
           "aaxis": {
            "gridcolor": "white",
            "linecolor": "white",
            "ticks": ""
           },
           "baxis": {
            "gridcolor": "white",
            "linecolor": "white",
            "ticks": ""
           },
           "bgcolor": "#E5ECF6",
           "caxis": {
            "gridcolor": "white",
            "linecolor": "white",
            "ticks": ""
           }
          },
          "title": {
           "x": 0.05
          },
          "xaxis": {
           "automargin": true,
           "gridcolor": "white",
           "linecolor": "white",
           "ticks": "",
           "title": {
            "standoff": 15
           },
           "zerolinecolor": "white",
           "zerolinewidth": 2
          },
          "yaxis": {
           "automargin": true,
           "gridcolor": "white",
           "linecolor": "white",
           "ticks": "",
           "title": {
            "standoff": 15
           },
           "zerolinecolor": "white",
           "zerolinewidth": 2
          }
         }
        },
        "title": {
         "text": "AI-drug startups in the world"
        }
       }
      }
     },
     "metadata": {}
    }
   ],
   "source": [
    "# Number of companies.\n",
    "import plotly.express as px\n",
    "plot_df = df.groupby('country').size().sort_values(ascending=True).reset_index().rename(columns={0:'count'})\n",
    "fig = px.pie(plot_df, values='count', names='country', title='AI-drug startups in the world')\n",
    "fig.update_traces(textinfo='value')\n",
    "fig.show()"
   ]
  },
  {
   "cell_type": "code",
   "execution_count": 8,
   "metadata": {},
   "outputs": [
    {
     "output_type": "display_data",
     "data": {
      "application/vnd.plotly.v1+json": {
       "config": {
        "plotlyServerURL": "https://plot.ly"
       },
       "data": [
        {
         "domain": {
          "x": [
           0,
           1
          ],
          "y": [
           0,
           1
          ]
         },
         "hoverlabel": {
          "namelength": 0
         },
         "hovertemplate": "country=%{label}<br>funding_amount=%{value}",
         "labels": [
          "Australia",
          "Japan",
          "Bulgaria",
          "The Netherlands",
          "Poland",
          "Italy",
          "Austria",
          "India",
          "Norway",
          "Hungary",
          "Switzerland",
          "Finland",
          "Israel",
          "Spain",
          "Denmark",
          "South Korea",
          "Hong Kong",
          "Singapore",
          "Ireland",
          "Germany",
          "France",
          "Canada",
          "China",
          "United Kingdom",
          "United States"
         ],
         "legendgroup": "",
         "name": "",
         "showlegend": true,
         "textinfo": "value",
         "type": "pie",
         "values": [
          0,
          0,
          0,
          0,
          0.485,
          0.973,
          1.47,
          2.4,
          2.5,
          3.8310000000000004,
          7.1,
          9.7,
          10,
          10.959999999999999,
          17,
          22.689999999999998,
          51.3,
          51.6,
          53.945,
          74.5,
          82.64,
          170.558,
          255.6,
          770.656,
          6733.788999999998
         ]
        }
       ],
       "layout": {
        "legend": {
         "tracegroupgap": 0
        },
        "template": {
         "data": {
          "bar": [
           {
            "error_x": {
             "color": "#2a3f5f"
            },
            "error_y": {
             "color": "#2a3f5f"
            },
            "marker": {
             "line": {
              "color": "#E5ECF6",
              "width": 0.5
             }
            },
            "type": "bar"
           }
          ],
          "barpolar": [
           {
            "marker": {
             "line": {
              "color": "#E5ECF6",
              "width": 0.5
             }
            },
            "type": "barpolar"
           }
          ],
          "carpet": [
           {
            "aaxis": {
             "endlinecolor": "#2a3f5f",
             "gridcolor": "white",
             "linecolor": "white",
             "minorgridcolor": "white",
             "startlinecolor": "#2a3f5f"
            },
            "baxis": {
             "endlinecolor": "#2a3f5f",
             "gridcolor": "white",
             "linecolor": "white",
             "minorgridcolor": "white",
             "startlinecolor": "#2a3f5f"
            },
            "type": "carpet"
           }
          ],
          "choropleth": [
           {
            "colorbar": {
             "outlinewidth": 0,
             "ticks": ""
            },
            "type": "choropleth"
           }
          ],
          "contour": [
           {
            "colorbar": {
             "outlinewidth": 0,
             "ticks": ""
            },
            "colorscale": [
             [
              0,
              "#0d0887"
             ],
             [
              0.1111111111111111,
              "#46039f"
             ],
             [
              0.2222222222222222,
              "#7201a8"
             ],
             [
              0.3333333333333333,
              "#9c179e"
             ],
             [
              0.4444444444444444,
              "#bd3786"
             ],
             [
              0.5555555555555556,
              "#d8576b"
             ],
             [
              0.6666666666666666,
              "#ed7953"
             ],
             [
              0.7777777777777778,
              "#fb9f3a"
             ],
             [
              0.8888888888888888,
              "#fdca26"
             ],
             [
              1,
              "#f0f921"
             ]
            ],
            "type": "contour"
           }
          ],
          "contourcarpet": [
           {
            "colorbar": {
             "outlinewidth": 0,
             "ticks": ""
            },
            "type": "contourcarpet"
           }
          ],
          "heatmap": [
           {
            "colorbar": {
             "outlinewidth": 0,
             "ticks": ""
            },
            "colorscale": [
             [
              0,
              "#0d0887"
             ],
             [
              0.1111111111111111,
              "#46039f"
             ],
             [
              0.2222222222222222,
              "#7201a8"
             ],
             [
              0.3333333333333333,
              "#9c179e"
             ],
             [
              0.4444444444444444,
              "#bd3786"
             ],
             [
              0.5555555555555556,
              "#d8576b"
             ],
             [
              0.6666666666666666,
              "#ed7953"
             ],
             [
              0.7777777777777778,
              "#fb9f3a"
             ],
             [
              0.8888888888888888,
              "#fdca26"
             ],
             [
              1,
              "#f0f921"
             ]
            ],
            "type": "heatmap"
           }
          ],
          "heatmapgl": [
           {
            "colorbar": {
             "outlinewidth": 0,
             "ticks": ""
            },
            "colorscale": [
             [
              0,
              "#0d0887"
             ],
             [
              0.1111111111111111,
              "#46039f"
             ],
             [
              0.2222222222222222,
              "#7201a8"
             ],
             [
              0.3333333333333333,
              "#9c179e"
             ],
             [
              0.4444444444444444,
              "#bd3786"
             ],
             [
              0.5555555555555556,
              "#d8576b"
             ],
             [
              0.6666666666666666,
              "#ed7953"
             ],
             [
              0.7777777777777778,
              "#fb9f3a"
             ],
             [
              0.8888888888888888,
              "#fdca26"
             ],
             [
              1,
              "#f0f921"
             ]
            ],
            "type": "heatmapgl"
           }
          ],
          "histogram": [
           {
            "marker": {
             "colorbar": {
              "outlinewidth": 0,
              "ticks": ""
             }
            },
            "type": "histogram"
           }
          ],
          "histogram2d": [
           {
            "colorbar": {
             "outlinewidth": 0,
             "ticks": ""
            },
            "colorscale": [
             [
              0,
              "#0d0887"
             ],
             [
              0.1111111111111111,
              "#46039f"
             ],
             [
              0.2222222222222222,
              "#7201a8"
             ],
             [
              0.3333333333333333,
              "#9c179e"
             ],
             [
              0.4444444444444444,
              "#bd3786"
             ],
             [
              0.5555555555555556,
              "#d8576b"
             ],
             [
              0.6666666666666666,
              "#ed7953"
             ],
             [
              0.7777777777777778,
              "#fb9f3a"
             ],
             [
              0.8888888888888888,
              "#fdca26"
             ],
             [
              1,
              "#f0f921"
             ]
            ],
            "type": "histogram2d"
           }
          ],
          "histogram2dcontour": [
           {
            "colorbar": {
             "outlinewidth": 0,
             "ticks": ""
            },
            "colorscale": [
             [
              0,
              "#0d0887"
             ],
             [
              0.1111111111111111,
              "#46039f"
             ],
             [
              0.2222222222222222,
              "#7201a8"
             ],
             [
              0.3333333333333333,
              "#9c179e"
             ],
             [
              0.4444444444444444,
              "#bd3786"
             ],
             [
              0.5555555555555556,
              "#d8576b"
             ],
             [
              0.6666666666666666,
              "#ed7953"
             ],
             [
              0.7777777777777778,
              "#fb9f3a"
             ],
             [
              0.8888888888888888,
              "#fdca26"
             ],
             [
              1,
              "#f0f921"
             ]
            ],
            "type": "histogram2dcontour"
           }
          ],
          "mesh3d": [
           {
            "colorbar": {
             "outlinewidth": 0,
             "ticks": ""
            },
            "type": "mesh3d"
           }
          ],
          "parcoords": [
           {
            "line": {
             "colorbar": {
              "outlinewidth": 0,
              "ticks": ""
             }
            },
            "type": "parcoords"
           }
          ],
          "pie": [
           {
            "automargin": true,
            "type": "pie"
           }
          ],
          "scatter": [
           {
            "marker": {
             "colorbar": {
              "outlinewidth": 0,
              "ticks": ""
             }
            },
            "type": "scatter"
           }
          ],
          "scatter3d": [
           {
            "line": {
             "colorbar": {
              "outlinewidth": 0,
              "ticks": ""
             }
            },
            "marker": {
             "colorbar": {
              "outlinewidth": 0,
              "ticks": ""
             }
            },
            "type": "scatter3d"
           }
          ],
          "scattercarpet": [
           {
            "marker": {
             "colorbar": {
              "outlinewidth": 0,
              "ticks": ""
             }
            },
            "type": "scattercarpet"
           }
          ],
          "scattergeo": [
           {
            "marker": {
             "colorbar": {
              "outlinewidth": 0,
              "ticks": ""
             }
            },
            "type": "scattergeo"
           }
          ],
          "scattergl": [
           {
            "marker": {
             "colorbar": {
              "outlinewidth": 0,
              "ticks": ""
             }
            },
            "type": "scattergl"
           }
          ],
          "scattermapbox": [
           {
            "marker": {
             "colorbar": {
              "outlinewidth": 0,
              "ticks": ""
             }
            },
            "type": "scattermapbox"
           }
          ],
          "scatterpolar": [
           {
            "marker": {
             "colorbar": {
              "outlinewidth": 0,
              "ticks": ""
             }
            },
            "type": "scatterpolar"
           }
          ],
          "scatterpolargl": [
           {
            "marker": {
             "colorbar": {
              "outlinewidth": 0,
              "ticks": ""
             }
            },
            "type": "scatterpolargl"
           }
          ],
          "scatterternary": [
           {
            "marker": {
             "colorbar": {
              "outlinewidth": 0,
              "ticks": ""
             }
            },
            "type": "scatterternary"
           }
          ],
          "surface": [
           {
            "colorbar": {
             "outlinewidth": 0,
             "ticks": ""
            },
            "colorscale": [
             [
              0,
              "#0d0887"
             ],
             [
              0.1111111111111111,
              "#46039f"
             ],
             [
              0.2222222222222222,
              "#7201a8"
             ],
             [
              0.3333333333333333,
              "#9c179e"
             ],
             [
              0.4444444444444444,
              "#bd3786"
             ],
             [
              0.5555555555555556,
              "#d8576b"
             ],
             [
              0.6666666666666666,
              "#ed7953"
             ],
             [
              0.7777777777777778,
              "#fb9f3a"
             ],
             [
              0.8888888888888888,
              "#fdca26"
             ],
             [
              1,
              "#f0f921"
             ]
            ],
            "type": "surface"
           }
          ],
          "table": [
           {
            "cells": {
             "fill": {
              "color": "#EBF0F8"
             },
             "line": {
              "color": "white"
             }
            },
            "header": {
             "fill": {
              "color": "#C8D4E3"
             },
             "line": {
              "color": "white"
             }
            },
            "type": "table"
           }
          ]
         },
         "layout": {
          "annotationdefaults": {
           "arrowcolor": "#2a3f5f",
           "arrowhead": 0,
           "arrowwidth": 1
          },
          "coloraxis": {
           "colorbar": {
            "outlinewidth": 0,
            "ticks": ""
           }
          },
          "colorscale": {
           "diverging": [
            [
             0,
             "#8e0152"
            ],
            [
             0.1,
             "#c51b7d"
            ],
            [
             0.2,
             "#de77ae"
            ],
            [
             0.3,
             "#f1b6da"
            ],
            [
             0.4,
             "#fde0ef"
            ],
            [
             0.5,
             "#f7f7f7"
            ],
            [
             0.6,
             "#e6f5d0"
            ],
            [
             0.7,
             "#b8e186"
            ],
            [
             0.8,
             "#7fbc41"
            ],
            [
             0.9,
             "#4d9221"
            ],
            [
             1,
             "#276419"
            ]
           ],
           "sequential": [
            [
             0,
             "#0d0887"
            ],
            [
             0.1111111111111111,
             "#46039f"
            ],
            [
             0.2222222222222222,
             "#7201a8"
            ],
            [
             0.3333333333333333,
             "#9c179e"
            ],
            [
             0.4444444444444444,
             "#bd3786"
            ],
            [
             0.5555555555555556,
             "#d8576b"
            ],
            [
             0.6666666666666666,
             "#ed7953"
            ],
            [
             0.7777777777777778,
             "#fb9f3a"
            ],
            [
             0.8888888888888888,
             "#fdca26"
            ],
            [
             1,
             "#f0f921"
            ]
           ],
           "sequentialminus": [
            [
             0,
             "#0d0887"
            ],
            [
             0.1111111111111111,
             "#46039f"
            ],
            [
             0.2222222222222222,
             "#7201a8"
            ],
            [
             0.3333333333333333,
             "#9c179e"
            ],
            [
             0.4444444444444444,
             "#bd3786"
            ],
            [
             0.5555555555555556,
             "#d8576b"
            ],
            [
             0.6666666666666666,
             "#ed7953"
            ],
            [
             0.7777777777777778,
             "#fb9f3a"
            ],
            [
             0.8888888888888888,
             "#fdca26"
            ],
            [
             1,
             "#f0f921"
            ]
           ]
          },
          "colorway": [
           "#636efa",
           "#EF553B",
           "#00cc96",
           "#ab63fa",
           "#FFA15A",
           "#19d3f3",
           "#FF6692",
           "#B6E880",
           "#FF97FF",
           "#FECB52"
          ],
          "font": {
           "color": "#2a3f5f"
          },
          "geo": {
           "bgcolor": "white",
           "lakecolor": "white",
           "landcolor": "#E5ECF6",
           "showlakes": true,
           "showland": true,
           "subunitcolor": "white"
          },
          "hoverlabel": {
           "align": "left"
          },
          "hovermode": "closest",
          "mapbox": {
           "style": "light"
          },
          "paper_bgcolor": "white",
          "plot_bgcolor": "#E5ECF6",
          "polar": {
           "angularaxis": {
            "gridcolor": "white",
            "linecolor": "white",
            "ticks": ""
           },
           "bgcolor": "#E5ECF6",
           "radialaxis": {
            "gridcolor": "white",
            "linecolor": "white",
            "ticks": ""
           }
          },
          "scene": {
           "xaxis": {
            "backgroundcolor": "#E5ECF6",
            "gridcolor": "white",
            "gridwidth": 2,
            "linecolor": "white",
            "showbackground": true,
            "ticks": "",
            "zerolinecolor": "white"
           },
           "yaxis": {
            "backgroundcolor": "#E5ECF6",
            "gridcolor": "white",
            "gridwidth": 2,
            "linecolor": "white",
            "showbackground": true,
            "ticks": "",
            "zerolinecolor": "white"
           },
           "zaxis": {
            "backgroundcolor": "#E5ECF6",
            "gridcolor": "white",
            "gridwidth": 2,
            "linecolor": "white",
            "showbackground": true,
            "ticks": "",
            "zerolinecolor": "white"
           }
          },
          "shapedefaults": {
           "line": {
            "color": "#2a3f5f"
           }
          },
          "ternary": {
           "aaxis": {
            "gridcolor": "white",
            "linecolor": "white",
            "ticks": ""
           },
           "baxis": {
            "gridcolor": "white",
            "linecolor": "white",
            "ticks": ""
           },
           "bgcolor": "#E5ECF6",
           "caxis": {
            "gridcolor": "white",
            "linecolor": "white",
            "ticks": ""
           }
          },
          "title": {
           "x": 0.05
          },
          "xaxis": {
           "automargin": true,
           "gridcolor": "white",
           "linecolor": "white",
           "ticks": "",
           "title": {
            "standoff": 15
           },
           "zerolinecolor": "white",
           "zerolinewidth": 2
          },
          "yaxis": {
           "automargin": true,
           "gridcolor": "white",
           "linecolor": "white",
           "ticks": "",
           "title": {
            "standoff": 15
           },
           "zerolinecolor": "white",
           "zerolinewidth": 2
          }
         }
        },
        "title": {
         "text": "AI-drug startups in the world"
        }
       }
      }
     },
     "metadata": {}
    }
   ],
   "source": [
    "# Funding amount.\n",
    "plot_df = df.groupby('country')['funding_amount'].sum().sort_values(ascending=True).reset_index()\n",
    "fig = px.pie(plot_df, values='funding_amount', names='country', title='AI-drug startups in the world')\n",
    "fig.update_traces(textinfo='value')\n",
    "fig.show()"
   ]
  },
  {
   "cell_type": "markdown",
   "metadata": {},
   "source": [
    "## Venture stages"
   ]
  },
  {
   "cell_type": "code",
   "execution_count": 9,
   "metadata": {},
   "outputs": [
    {
     "output_type": "display_data",
     "data": {
      "text/plain": "<Figure size 432x288 with 1 Axes>",
      "image/svg+xml": "<?xml version=\"1.0\" encoding=\"utf-8\" standalone=\"no\"?>\n<!DOCTYPE svg PUBLIC \"-//W3C//DTD SVG 1.1//EN\"\n  \"http://www.w3.org/Graphics/SVG/1.1/DTD/svg11.dtd\">\n<!-- Created with matplotlib (https://matplotlib.org/) -->\n<svg height=\"301.338994pt\" version=\"1.1\" viewBox=\"0 0 372.425 301.338994\" width=\"372.425pt\" xmlns=\"http://www.w3.org/2000/svg\" xmlns:xlink=\"http://www.w3.org/1999/xlink\">\n <defs>\n  <style type=\"text/css\">\n*{stroke-linecap:butt;stroke-linejoin:round;}\n  </style>\n </defs>\n <g id=\"figure_1\">\n  <g id=\"patch_1\">\n   <path d=\"M -0 301.338994 \nL 372.425 301.338994 \nL 372.425 0 \nL -0 0 \nz\n\" style=\"fill:none;\"/>\n  </g>\n  <g id=\"axes_1\">\n   <g id=\"patch_2\">\n    <path d=\"M 26.925 228.14 \nL 361.725 228.14 \nL 361.725 10.7 \nL 26.925 10.7 \nz\n\" style=\"fill:#ffffff;\"/>\n   </g>\n   <g id=\"patch_3\">\n    <path clip-path=\"url(#p8df36af36b)\" d=\"M 33.9 228.14 \nL 47.85 228.14 \nL 47.85 135.747912 \nL 33.9 135.747912 \nz\n\" style=\"fill:#1f77b4;\"/>\n   </g>\n   <g id=\"patch_4\">\n    <path clip-path=\"url(#p8df36af36b)\" d=\"M 61.8 228.14 \nL 75.75 228.14 \nL 75.75 21.054286 \nL 61.8 21.054286 \nz\n\" style=\"fill:#1f77b4;\"/>\n   </g>\n   <g id=\"patch_5\">\n    <path clip-path=\"url(#p8df36af36b)\" d=\"M 89.7 228.14 \nL 103.65 228.14 \nL 103.65 72.029231 \nL 89.7 72.029231 \nz\n\" style=\"fill:#1f77b4;\"/>\n   </g>\n   <g id=\"patch_6\">\n    <path clip-path=\"url(#p8df36af36b)\" d=\"M 117.6 228.14 \nL 131.55 228.14 \nL 131.55 142.11978 \nL 117.6 142.11978 \nz\n\" style=\"fill:#1f77b4;\"/>\n   </g>\n   <g id=\"patch_7\">\n    <path clip-path=\"url(#p8df36af36b)\" d=\"M 145.5 228.14 \nL 159.45 228.14 \nL 159.45 199.466593 \nL 145.5 199.466593 \nz\n\" style=\"fill:#1f77b4;\"/>\n   </g>\n   <g id=\"patch_8\">\n    <path clip-path=\"url(#p8df36af36b)\" d=\"M 173.4 228.14 \nL 187.35 228.14 \nL 187.35 218.582198 \nL 173.4 218.582198 \nz\n\" style=\"fill:#1f77b4;\"/>\n   </g>\n   <g id=\"patch_9\">\n    <path clip-path=\"url(#p8df36af36b)\" d=\"M 201.3 228.14 \nL 215.25 228.14 \nL 215.25 221.768132 \nL 201.3 221.768132 \nz\n\" style=\"fill:#1f77b4;\"/>\n   </g>\n   <g id=\"patch_10\">\n    <path clip-path=\"url(#p8df36af36b)\" d=\"M 229.2 228.14 \nL 243.15 228.14 \nL 243.15 224.954066 \nL 229.2 224.954066 \nz\n\" style=\"fill:#1f77b4;\"/>\n   </g>\n   <g id=\"patch_11\">\n    <path clip-path=\"url(#p8df36af36b)\" d=\"M 257.1 228.14 \nL 271.05 228.14 \nL 271.05 221.768132 \nL 257.1 221.768132 \nz\n\" style=\"fill:#1f77b4;\"/>\n   </g>\n   <g id=\"patch_12\">\n    <path clip-path=\"url(#p8df36af36b)\" d=\"M 285 228.14 \nL 298.95 228.14 \nL 298.95 218.582198 \nL 285 218.582198 \nz\n\" style=\"fill:#1f77b4;\"/>\n   </g>\n   <g id=\"patch_13\">\n    <path clip-path=\"url(#p8df36af36b)\" d=\"M 312.9 228.14 \nL 326.85 228.14 \nL 326.85 196.280659 \nL 312.9 196.280659 \nz\n\" style=\"fill:#1f77b4;\"/>\n   </g>\n   <g id=\"patch_14\">\n    <path clip-path=\"url(#p8df36af36b)\" d=\"M 340.8 228.14 \nL 354.75 228.14 \nL 354.75 224.954066 \nL 340.8 224.954066 \nz\n\" style=\"fill:#1f77b4;\"/>\n   </g>\n   <g id=\"matplotlib.axis_1\">\n    <g id=\"xtick_1\">\n     <g id=\"line2d_1\">\n      <defs>\n       <path d=\"M 0 0 \nL 0 3.5 \n\" id=\"ma48a433841\" style=\"stroke:#000000;stroke-width:0.8;\"/>\n      </defs>\n      <g>\n       <use style=\"stroke:#000000;stroke-width:0.8;\" x=\"40.875\" xlink:href=\"#ma48a433841\" y=\"228.14\"/>\n      </g>\n     </g>\n     <g id=\"text_1\">\n      <!-- Pre-seed -->\n      <defs>\n       <path d=\"M 19.671875 64.796875 \nL 19.671875 37.40625 \nL 32.078125 37.40625 \nQ 38.96875 37.40625 42.71875 40.96875 \nQ 46.484375 44.53125 46.484375 51.125 \nQ 46.484375 57.671875 42.71875 61.234375 \nQ 38.96875 64.796875 32.078125 64.796875 \nz\nM 9.8125 72.90625 \nL 32.078125 72.90625 \nQ 44.34375 72.90625 50.609375 67.359375 \nQ 56.890625 61.8125 56.890625 51.125 \nQ 56.890625 40.328125 50.609375 34.8125 \nQ 44.34375 29.296875 32.078125 29.296875 \nL 19.671875 29.296875 \nL 19.671875 0 \nL 9.8125 0 \nz\n\" id=\"DejaVuSans-80\"/>\n       <path d=\"M 41.109375 46.296875 \nQ 39.59375 47.171875 37.8125 47.578125 \nQ 36.03125 48 33.890625 48 \nQ 26.265625 48 22.1875 43.046875 \nQ 18.109375 38.09375 18.109375 28.8125 \nL 18.109375 0 \nL 9.078125 0 \nL 9.078125 54.6875 \nL 18.109375 54.6875 \nL 18.109375 46.1875 \nQ 20.953125 51.171875 25.484375 53.578125 \nQ 30.03125 56 36.53125 56 \nQ 37.453125 56 38.578125 55.875 \nQ 39.703125 55.765625 41.0625 55.515625 \nz\n\" id=\"DejaVuSans-114\"/>\n       <path d=\"M 56.203125 29.59375 \nL 56.203125 25.203125 \nL 14.890625 25.203125 \nQ 15.484375 15.921875 20.484375 11.0625 \nQ 25.484375 6.203125 34.421875 6.203125 \nQ 39.59375 6.203125 44.453125 7.46875 \nQ 49.3125 8.734375 54.109375 11.28125 \nL 54.109375 2.78125 \nQ 49.265625 0.734375 44.1875 -0.34375 \nQ 39.109375 -1.421875 33.890625 -1.421875 \nQ 20.796875 -1.421875 13.15625 6.1875 \nQ 5.515625 13.8125 5.515625 26.8125 \nQ 5.515625 40.234375 12.765625 48.109375 \nQ 20.015625 56 32.328125 56 \nQ 43.359375 56 49.78125 48.890625 \nQ 56.203125 41.796875 56.203125 29.59375 \nz\nM 47.21875 32.234375 \nQ 47.125 39.59375 43.09375 43.984375 \nQ 39.0625 48.390625 32.421875 48.390625 \nQ 24.90625 48.390625 20.390625 44.140625 \nQ 15.875 39.890625 15.1875 32.171875 \nz\n\" id=\"DejaVuSans-101\"/>\n       <path d=\"M 4.890625 31.390625 \nL 31.203125 31.390625 \nL 31.203125 23.390625 \nL 4.890625 23.390625 \nz\n\" id=\"DejaVuSans-45\"/>\n       <path d=\"M 44.28125 53.078125 \nL 44.28125 44.578125 \nQ 40.484375 46.53125 36.375 47.5 \nQ 32.28125 48.484375 27.875 48.484375 \nQ 21.1875 48.484375 17.84375 46.4375 \nQ 14.5 44.390625 14.5 40.28125 \nQ 14.5 37.15625 16.890625 35.375 \nQ 19.28125 33.59375 26.515625 31.984375 \nL 29.59375 31.296875 \nQ 39.15625 29.25 43.1875 25.515625 \nQ 47.21875 21.78125 47.21875 15.09375 \nQ 47.21875 7.46875 41.1875 3.015625 \nQ 35.15625 -1.421875 24.609375 -1.421875 \nQ 20.21875 -1.421875 15.453125 -0.5625 \nQ 10.6875 0.296875 5.421875 2 \nL 5.421875 11.28125 \nQ 10.40625 8.6875 15.234375 7.390625 \nQ 20.0625 6.109375 24.8125 6.109375 \nQ 31.15625 6.109375 34.5625 8.28125 \nQ 37.984375 10.453125 37.984375 14.40625 \nQ 37.984375 18.0625 35.515625 20.015625 \nQ 33.0625 21.96875 24.703125 23.78125 \nL 21.578125 24.515625 \nQ 13.234375 26.265625 9.515625 29.90625 \nQ 5.8125 33.546875 5.8125 39.890625 \nQ 5.8125 47.609375 11.28125 51.796875 \nQ 16.75 56 26.8125 56 \nQ 31.78125 56 36.171875 55.265625 \nQ 40.578125 54.546875 44.28125 53.078125 \nz\n\" id=\"DejaVuSans-115\"/>\n       <path d=\"M 45.40625 46.390625 \nL 45.40625 75.984375 \nL 54.390625 75.984375 \nL 54.390625 0 \nL 45.40625 0 \nL 45.40625 8.203125 \nQ 42.578125 3.328125 38.25 0.953125 \nQ 33.9375 -1.421875 27.875 -1.421875 \nQ 17.96875 -1.421875 11.734375 6.484375 \nQ 5.515625 14.40625 5.515625 27.296875 \nQ 5.515625 40.1875 11.734375 48.09375 \nQ 17.96875 56 27.875 56 \nQ 33.9375 56 38.25 53.625 \nQ 42.578125 51.265625 45.40625 46.390625 \nz\nM 14.796875 27.296875 \nQ 14.796875 17.390625 18.875 11.75 \nQ 22.953125 6.109375 30.078125 6.109375 \nQ 37.203125 6.109375 41.296875 11.75 \nQ 45.40625 17.390625 45.40625 27.296875 \nQ 45.40625 37.203125 41.296875 42.84375 \nQ 37.203125 48.484375 30.078125 48.484375 \nQ 22.953125 48.484375 18.875 42.84375 \nQ 14.796875 37.203125 14.796875 27.296875 \nz\n\" id=\"DejaVuSans-100\"/>\n      </defs>\n      <g transform=\"translate(35.984403 278.860649)rotate(-70)scale(0.1 -0.1)\">\n       <use xlink:href=\"#DejaVuSans-80\"/>\n       <use x=\"60.287109\" xlink:href=\"#DejaVuSans-114\"/>\n       <use x=\"101.369141\" xlink:href=\"#DejaVuSans-101\"/>\n       <use x=\"162.892578\" xlink:href=\"#DejaVuSans-45\"/>\n       <use x=\"198.976562\" xlink:href=\"#DejaVuSans-115\"/>\n       <use x=\"251.076172\" xlink:href=\"#DejaVuSans-101\"/>\n       <use x=\"312.599609\" xlink:href=\"#DejaVuSans-101\"/>\n       <use x=\"374.123047\" xlink:href=\"#DejaVuSans-100\"/>\n      </g>\n     </g>\n    </g>\n    <g id=\"xtick_2\">\n     <g id=\"line2d_2\">\n      <g>\n       <use style=\"stroke:#000000;stroke-width:0.8;\" x=\"68.775\" xlink:href=\"#ma48a433841\" y=\"228.14\"/>\n      </g>\n     </g>\n     <g id=\"text_2\">\n      <!-- Seed -->\n      <defs>\n       <path d=\"M 53.515625 70.515625 \nL 53.515625 60.890625 \nQ 47.90625 63.578125 42.921875 64.890625 \nQ 37.9375 66.21875 33.296875 66.21875 \nQ 25.25 66.21875 20.875 63.09375 \nQ 16.5 59.96875 16.5 54.203125 \nQ 16.5 49.359375 19.40625 46.890625 \nQ 22.3125 44.4375 30.421875 42.921875 \nL 36.375 41.703125 \nQ 47.40625 39.59375 52.65625 34.296875 \nQ 57.90625 29 57.90625 20.125 \nQ 57.90625 9.515625 50.796875 4.046875 \nQ 43.703125 -1.421875 29.984375 -1.421875 \nQ 24.8125 -1.421875 18.96875 -0.25 \nQ 13.140625 0.921875 6.890625 3.21875 \nL 6.890625 13.375 \nQ 12.890625 10.015625 18.65625 8.296875 \nQ 24.421875 6.59375 29.984375 6.59375 \nQ 38.421875 6.59375 43.015625 9.90625 \nQ 47.609375 13.234375 47.609375 19.390625 \nQ 47.609375 24.75 44.3125 27.78125 \nQ 41.015625 30.8125 33.5 32.328125 \nL 27.484375 33.5 \nQ 16.453125 35.6875 11.515625 40.375 \nQ 6.59375 45.0625 6.59375 53.421875 \nQ 6.59375 63.09375 13.40625 68.65625 \nQ 20.21875 74.21875 32.171875 74.21875 \nQ 37.3125 74.21875 42.625 73.28125 \nQ 47.953125 72.359375 53.515625 70.515625 \nz\n\" id=\"DejaVuSans-83\"/>\n      </defs>\n      <g transform=\"translate(67.092178 261.234071)rotate(-70)scale(0.1 -0.1)\">\n       <use xlink:href=\"#DejaVuSans-83\"/>\n       <use x=\"63.476562\" xlink:href=\"#DejaVuSans-101\"/>\n       <use x=\"125\" xlink:href=\"#DejaVuSans-101\"/>\n       <use x=\"186.523438\" xlink:href=\"#DejaVuSans-100\"/>\n      </g>\n     </g>\n    </g>\n    <g id=\"xtick_3\">\n     <g id=\"line2d_3\">\n      <g>\n       <use style=\"stroke:#000000;stroke-width:0.8;\" x=\"96.675\" xlink:href=\"#ma48a433841\" y=\"228.14\"/>\n      </g>\n     </g>\n     <g id=\"text_3\">\n      <!-- A -->\n      <defs>\n       <path d=\"M 34.1875 63.1875 \nL 20.796875 26.90625 \nL 47.609375 26.90625 \nz\nM 28.609375 72.90625 \nL 39.796875 72.90625 \nL 67.578125 0 \nL 57.328125 0 \nL 50.6875 18.703125 \nL 17.828125 18.703125 \nL 11.1875 0 \nL 0.78125 0 \nz\n\" id=\"DejaVuSans-65\"/>\n      </defs>\n      <g transform=\"translate(98.098149 244.166904)rotate(-70)scale(0.1 -0.1)\">\n       <use xlink:href=\"#DejaVuSans-65\"/>\n      </g>\n     </g>\n    </g>\n    <g id=\"xtick_4\">\n     <g id=\"line2d_4\">\n      <g>\n       <use style=\"stroke:#000000;stroke-width:0.8;\" x=\"124.575\" xlink:href=\"#ma48a433841\" y=\"228.14\"/>\n      </g>\n     </g>\n     <g id=\"text_4\">\n      <!-- B -->\n      <defs>\n       <path d=\"M 19.671875 34.8125 \nL 19.671875 8.109375 \nL 35.5 8.109375 \nQ 43.453125 8.109375 47.28125 11.40625 \nQ 51.125 14.703125 51.125 21.484375 \nQ 51.125 28.328125 47.28125 31.5625 \nQ 43.453125 34.8125 35.5 34.8125 \nz\nM 19.671875 64.796875 \nL 19.671875 42.828125 \nL 34.28125 42.828125 \nQ 41.5 42.828125 45.03125 45.53125 \nQ 48.578125 48.25 48.578125 53.8125 \nQ 48.578125 59.328125 45.03125 62.0625 \nQ 41.5 64.796875 34.28125 64.796875 \nz\nM 9.8125 72.90625 \nL 35.015625 72.90625 \nQ 46.296875 72.90625 52.390625 68.21875 \nQ 58.5 63.53125 58.5 54.890625 \nQ 58.5 48.1875 55.375 44.234375 \nQ 52.25 40.28125 46.1875 39.3125 \nQ 53.46875 37.75 57.5 32.78125 \nQ 61.53125 27.828125 61.53125 20.40625 \nQ 61.53125 10.640625 54.890625 5.3125 \nQ 48.25 0 35.984375 0 \nL 9.8125 0 \nz\n\" id=\"DejaVuSans-66\"/>\n      </defs>\n      <g transform=\"translate(125.994675 244.185991)rotate(-70)scale(0.1 -0.1)\">\n       <use xlink:href=\"#DejaVuSans-66\"/>\n      </g>\n     </g>\n    </g>\n    <g id=\"xtick_5\">\n     <g id=\"line2d_5\">\n      <g>\n       <use style=\"stroke:#000000;stroke-width:0.8;\" x=\"152.475\" xlink:href=\"#ma48a433841\" y=\"228.14\"/>\n      </g>\n     </g>\n     <g id=\"text_5\">\n      <!-- C -->\n      <defs>\n       <path d=\"M 64.40625 67.28125 \nL 64.40625 56.890625 \nQ 59.421875 61.53125 53.78125 63.8125 \nQ 48.140625 66.109375 41.796875 66.109375 \nQ 29.296875 66.109375 22.65625 58.46875 \nQ 16.015625 50.828125 16.015625 36.375 \nQ 16.015625 21.96875 22.65625 14.328125 \nQ 29.296875 6.6875 41.796875 6.6875 \nQ 48.140625 6.6875 53.78125 8.984375 \nQ 59.421875 11.28125 64.40625 15.921875 \nL 64.40625 5.609375 \nQ 59.234375 2.09375 53.4375 0.328125 \nQ 47.65625 -1.421875 41.21875 -1.421875 \nQ 24.65625 -1.421875 15.125 8.703125 \nQ 5.609375 18.84375 5.609375 36.375 \nQ 5.609375 53.953125 15.125 64.078125 \nQ 24.65625 74.21875 41.21875 74.21875 \nQ 47.75 74.21875 53.53125 72.484375 \nQ 59.328125 70.75 64.40625 67.28125 \nz\n\" id=\"DejaVuSans-67\"/>\n      </defs>\n      <g transform=\"translate(153.873833 244.300516)rotate(-70)scale(0.1 -0.1)\">\n       <use xlink:href=\"#DejaVuSans-67\"/>\n      </g>\n     </g>\n    </g>\n    <g id=\"xtick_6\">\n     <g id=\"line2d_6\">\n      <g>\n       <use style=\"stroke:#000000;stroke-width:0.8;\" x=\"180.375\" xlink:href=\"#ma48a433841\" y=\"228.14\"/>\n      </g>\n     </g>\n     <g id=\"text_6\">\n      <!-- D -->\n      <defs>\n       <path d=\"M 19.671875 64.796875 \nL 19.671875 8.109375 \nL 31.59375 8.109375 \nQ 46.6875 8.109375 53.6875 14.9375 \nQ 60.6875 21.78125 60.6875 36.53125 \nQ 60.6875 51.171875 53.6875 57.984375 \nQ 46.6875 64.796875 31.59375 64.796875 \nz\nM 9.8125 72.90625 \nL 30.078125 72.90625 \nQ 51.265625 72.90625 61.171875 64.09375 \nQ 71.09375 55.28125 71.09375 36.53125 \nQ 71.09375 17.671875 61.125 8.828125 \nQ 51.171875 0 30.078125 0 \nL 9.8125 0 \nz\n\" id=\"DejaVuSans-68\"/>\n      </defs>\n      <g transform=\"translate(181.651187 244.974452)rotate(-70)scale(0.1 -0.1)\">\n       <use xlink:href=\"#DejaVuSans-68\"/>\n      </g>\n     </g>\n    </g>\n    <g id=\"xtick_7\">\n     <g id=\"line2d_7\">\n      <g>\n       <use style=\"stroke:#000000;stroke-width:0.8;\" x=\"208.275\" xlink:href=\"#ma48a433841\" y=\"228.14\"/>\n      </g>\n     </g>\n     <g id=\"text_7\">\n      <!-- E -->\n      <defs>\n       <path d=\"M 9.8125 72.90625 \nL 55.90625 72.90625 \nL 55.90625 64.59375 \nL 19.671875 64.59375 \nL 19.671875 43.015625 \nL 54.390625 43.015625 \nL 54.390625 34.71875 \nL 19.671875 34.71875 \nL 19.671875 8.296875 \nL 56.78125 8.296875 \nL 56.78125 0 \nL 9.8125 0 \nz\n\" id=\"DejaVuSans-69\"/>\n      </defs>\n      <g transform=\"translate(209.787394 243.676501)rotate(-70)scale(0.1 -0.1)\">\n       <use xlink:href=\"#DejaVuSans-69\"/>\n      </g>\n     </g>\n    </g>\n    <g id=\"xtick_8\">\n     <g id=\"line2d_8\">\n      <g>\n       <use style=\"stroke:#000000;stroke-width:0.8;\" x=\"236.175\" xlink:href=\"#ma48a433841\" y=\"228.14\"/>\n      </g>\n     </g>\n     <g id=\"text_8\">\n      <!-- F -->\n      <defs>\n       <path d=\"M 9.8125 72.90625 \nL 51.703125 72.90625 \nL 51.703125 64.59375 \nL 19.671875 64.59375 \nL 19.671875 43.109375 \nL 48.578125 43.109375 \nL 48.578125 34.8125 \nL 19.671875 34.8125 \nL 19.671875 0 \nL 9.8125 0 \nz\n\" id=\"DejaVuSans-70\"/>\n      </defs>\n      <g transform=\"translate(237.784389 243.14352)rotate(-70)scale(0.1 -0.1)\">\n       <use xlink:href=\"#DejaVuSans-70\"/>\n      </g>\n     </g>\n    </g>\n    <g id=\"xtick_9\">\n     <g id=\"line2d_9\">\n      <g>\n       <use style=\"stroke:#000000;stroke-width:0.8;\" x=\"264.075\" xlink:href=\"#ma48a433841\" y=\"228.14\"/>\n      </g>\n     </g>\n     <g id=\"text_9\">\n      <!-- G -->\n      <defs>\n       <path d=\"M 59.515625 10.40625 \nL 59.515625 29.984375 \nL 43.40625 29.984375 \nL 43.40625 38.09375 \nL 69.28125 38.09375 \nL 69.28125 6.78125 \nQ 63.578125 2.734375 56.6875 0.65625 \nQ 49.8125 -1.421875 42 -1.421875 \nQ 24.90625 -1.421875 15.25 8.5625 \nQ 5.609375 18.5625 5.609375 36.375 \nQ 5.609375 54.25 15.25 64.234375 \nQ 24.90625 74.21875 42 74.21875 \nQ 49.125 74.21875 55.546875 72.453125 \nQ 61.96875 70.703125 67.390625 67.28125 \nL 67.390625 56.78125 \nQ 61.921875 61.421875 55.765625 63.765625 \nQ 49.609375 66.109375 42.828125 66.109375 \nQ 29.4375 66.109375 22.71875 58.640625 \nQ 16.015625 51.171875 16.015625 36.375 \nQ 16.015625 21.625 22.71875 14.15625 \nQ 29.4375 6.6875 42.828125 6.6875 \nQ 48.046875 6.6875 52.140625 7.59375 \nQ 56.25 8.5 59.515625 10.40625 \nz\n\" id=\"DejaVuSans-71\"/>\n      </defs>\n      <g transform=\"translate(265.342903 245.019968)rotate(-70)scale(0.1 -0.1)\">\n       <use xlink:href=\"#DejaVuSans-71\"/>\n      </g>\n     </g>\n    </g>\n    <g id=\"xtick_10\">\n     <g id=\"line2d_10\">\n      <g>\n       <use style=\"stroke:#000000;stroke-width:0.8;\" x=\"291.975\" xlink:href=\"#ma48a433841\" y=\"228.14\"/>\n      </g>\n     </g>\n     <g id=\"text_10\">\n      <!-- Acquired -->\n      <defs>\n       <path d=\"M 48.78125 52.59375 \nL 48.78125 44.1875 \nQ 44.96875 46.296875 41.140625 47.34375 \nQ 37.3125 48.390625 33.40625 48.390625 \nQ 24.65625 48.390625 19.8125 42.84375 \nQ 14.984375 37.3125 14.984375 27.296875 \nQ 14.984375 17.28125 19.8125 11.734375 \nQ 24.65625 6.203125 33.40625 6.203125 \nQ 37.3125 6.203125 41.140625 7.25 \nQ 44.96875 8.296875 48.78125 10.40625 \nL 48.78125 2.09375 \nQ 45.015625 0.34375 40.984375 -0.53125 \nQ 36.96875 -1.421875 32.421875 -1.421875 \nQ 20.0625 -1.421875 12.78125 6.34375 \nQ 5.515625 14.109375 5.515625 27.296875 \nQ 5.515625 40.671875 12.859375 48.328125 \nQ 20.21875 56 33.015625 56 \nQ 37.15625 56 41.109375 55.140625 \nQ 45.0625 54.296875 48.78125 52.59375 \nz\n\" id=\"DejaVuSans-99\"/>\n       <path d=\"M 14.796875 27.296875 \nQ 14.796875 17.390625 18.875 11.75 \nQ 22.953125 6.109375 30.078125 6.109375 \nQ 37.203125 6.109375 41.296875 11.75 \nQ 45.40625 17.390625 45.40625 27.296875 \nQ 45.40625 37.203125 41.296875 42.84375 \nQ 37.203125 48.484375 30.078125 48.484375 \nQ 22.953125 48.484375 18.875 42.84375 \nQ 14.796875 37.203125 14.796875 27.296875 \nz\nM 45.40625 8.203125 \nQ 42.578125 3.328125 38.25 0.953125 \nQ 33.9375 -1.421875 27.875 -1.421875 \nQ 17.96875 -1.421875 11.734375 6.484375 \nQ 5.515625 14.40625 5.515625 27.296875 \nQ 5.515625 40.1875 11.734375 48.09375 \nQ 17.96875 56 27.875 56 \nQ 33.9375 56 38.25 53.625 \nQ 42.578125 51.265625 45.40625 46.390625 \nL 45.40625 54.6875 \nL 54.390625 54.6875 \nL 54.390625 -20.796875 \nL 45.40625 -20.796875 \nz\n\" id=\"DejaVuSans-113\"/>\n       <path d=\"M 8.5 21.578125 \nL 8.5 54.6875 \nL 17.484375 54.6875 \nL 17.484375 21.921875 \nQ 17.484375 14.15625 20.5 10.265625 \nQ 23.53125 6.390625 29.59375 6.390625 \nQ 36.859375 6.390625 41.078125 11.03125 \nQ 45.3125 15.671875 45.3125 23.6875 \nL 45.3125 54.6875 \nL 54.296875 54.6875 \nL 54.296875 0 \nL 45.3125 0 \nL 45.3125 8.40625 \nQ 42.046875 3.421875 37.71875 1 \nQ 33.40625 -1.421875 27.6875 -1.421875 \nQ 18.265625 -1.421875 13.375 4.4375 \nQ 8.5 10.296875 8.5 21.578125 \nz\nM 31.109375 56 \nz\n\" id=\"DejaVuSans-117\"/>\n       <path d=\"M 9.421875 54.6875 \nL 18.40625 54.6875 \nL 18.40625 0 \nL 9.421875 0 \nz\nM 9.421875 75.984375 \nL 18.40625 75.984375 \nL 18.40625 64.59375 \nL 9.421875 64.59375 \nz\n\" id=\"DejaVuSans-105\"/>\n      </defs>\n      <g transform=\"translate(286.973247 279.471449)rotate(-70)scale(0.1 -0.1)\">\n       <use xlink:href=\"#DejaVuSans-65\"/>\n       <use x=\"68.392578\" xlink:href=\"#DejaVuSans-99\"/>\n       <use x=\"123.373047\" xlink:href=\"#DejaVuSans-113\"/>\n       <use x=\"186.849609\" xlink:href=\"#DejaVuSans-117\"/>\n       <use x=\"250.228516\" xlink:href=\"#DejaVuSans-105\"/>\n       <use x=\"278.011719\" xlink:href=\"#DejaVuSans-114\"/>\n       <use x=\"319.09375\" xlink:href=\"#DejaVuSans-101\"/>\n       <use x=\"380.617188\" xlink:href=\"#DejaVuSans-100\"/>\n      </g>\n     </g>\n    </g>\n    <g id=\"xtick_11\">\n     <g id=\"line2d_11\">\n      <g>\n       <use style=\"stroke:#000000;stroke-width:0.8;\" x=\"319.875\" xlink:href=\"#ma48a433841\" y=\"228.14\"/>\n      </g>\n     </g>\n     <g id=\"text_11\">\n      <!-- IPO -->\n      <defs>\n       <path d=\"M 9.8125 72.90625 \nL 19.671875 72.90625 \nL 19.671875 0 \nL 9.8125 0 \nz\n\" id=\"DejaVuSans-73\"/>\n       <path d=\"M 39.40625 66.21875 \nQ 28.65625 66.21875 22.328125 58.203125 \nQ 16.015625 50.203125 16.015625 36.375 \nQ 16.015625 22.609375 22.328125 14.59375 \nQ 28.65625 6.59375 39.40625 6.59375 \nQ 50.140625 6.59375 56.421875 14.59375 \nQ 62.703125 22.609375 62.703125 36.375 \nQ 62.703125 50.203125 56.421875 58.203125 \nQ 50.140625 66.21875 39.40625 66.21875 \nz\nM 39.40625 74.21875 \nQ 54.734375 74.21875 63.90625 63.9375 \nQ 73.09375 53.65625 73.09375 36.375 \nQ 73.09375 19.140625 63.90625 8.859375 \nQ 54.734375 -1.421875 39.40625 -1.421875 \nQ 24.03125 -1.421875 14.8125 8.828125 \nQ 5.609375 19.09375 5.609375 36.375 \nQ 5.609375 53.65625 14.8125 63.9375 \nQ 24.03125 74.21875 39.40625 74.21875 \nz\n\" id=\"DejaVuSans-79\"/>\n      </defs>\n      <g transform=\"translate(319.586177 253.574108)rotate(-70)scale(0.1 -0.1)\">\n       <use xlink:href=\"#DejaVuSans-73\"/>\n       <use x=\"29.492188\" xlink:href=\"#DejaVuSans-80\"/>\n       <use x=\"89.794922\" xlink:href=\"#DejaVuSans-79\"/>\n      </g>\n     </g>\n    </g>\n    <g id=\"xtick_12\">\n     <g id=\"line2d_12\">\n      <g>\n       <use style=\"stroke:#000000;stroke-width:0.8;\" x=\"347.775\" xlink:href=\"#ma48a433841\" y=\"228.14\"/>\n      </g>\n     </g>\n     <g id=\"text_12\">\n      <!-- Closed -->\n      <defs>\n       <path d=\"M 9.421875 75.984375 \nL 18.40625 75.984375 \nL 18.40625 0 \nL 9.421875 0 \nz\n\" id=\"DejaVuSans-108\"/>\n       <path d=\"M 30.609375 48.390625 \nQ 23.390625 48.390625 19.1875 42.75 \nQ 14.984375 37.109375 14.984375 27.296875 \nQ 14.984375 17.484375 19.15625 11.84375 \nQ 23.34375 6.203125 30.609375 6.203125 \nQ 37.796875 6.203125 41.984375 11.859375 \nQ 46.1875 17.53125 46.1875 27.296875 \nQ 46.1875 37.015625 41.984375 42.703125 \nQ 37.796875 48.390625 30.609375 48.390625 \nz\nM 30.609375 56 \nQ 42.328125 56 49.015625 48.375 \nQ 55.71875 40.765625 55.71875 27.296875 \nQ 55.71875 13.875 49.015625 6.21875 \nQ 42.328125 -1.421875 30.609375 -1.421875 \nQ 18.84375 -1.421875 12.171875 6.21875 \nQ 5.515625 13.875 5.515625 27.296875 \nQ 5.515625 40.765625 12.171875 48.375 \nQ 18.84375 56 30.609375 56 \nz\n\" id=\"DejaVuSans-111\"/>\n      </defs>\n      <g transform=\"translate(344.623629 269.303681)rotate(-70)scale(0.1 -0.1)\">\n       <use xlink:href=\"#DejaVuSans-67\"/>\n       <use x=\"69.824219\" xlink:href=\"#DejaVuSans-108\"/>\n       <use x=\"97.607422\" xlink:href=\"#DejaVuSans-111\"/>\n       <use x=\"158.789062\" xlink:href=\"#DejaVuSans-115\"/>\n       <use x=\"210.888672\" xlink:href=\"#DejaVuSans-101\"/>\n       <use x=\"272.412109\" xlink:href=\"#DejaVuSans-100\"/>\n      </g>\n     </g>\n    </g>\n    <g id=\"text_13\">\n     <!-- funding_stage -->\n     <defs>\n      <path d=\"M 37.109375 75.984375 \nL 37.109375 68.5 \nL 28.515625 68.5 \nQ 23.6875 68.5 21.796875 66.546875 \nQ 19.921875 64.59375 19.921875 59.515625 \nL 19.921875 54.6875 \nL 34.71875 54.6875 \nL 34.71875 47.703125 \nL 19.921875 47.703125 \nL 19.921875 0 \nL 10.890625 0 \nL 10.890625 47.703125 \nL 2.296875 47.703125 \nL 2.296875 54.6875 \nL 10.890625 54.6875 \nL 10.890625 58.5 \nQ 10.890625 67.625 15.140625 71.796875 \nQ 19.390625 75.984375 28.609375 75.984375 \nz\n\" id=\"DejaVuSans-102\"/>\n      <path d=\"M 54.890625 33.015625 \nL 54.890625 0 \nL 45.90625 0 \nL 45.90625 32.71875 \nQ 45.90625 40.484375 42.875 44.328125 \nQ 39.84375 48.1875 33.796875 48.1875 \nQ 26.515625 48.1875 22.3125 43.546875 \nQ 18.109375 38.921875 18.109375 30.90625 \nL 18.109375 0 \nL 9.078125 0 \nL 9.078125 54.6875 \nL 18.109375 54.6875 \nL 18.109375 46.1875 \nQ 21.34375 51.125 25.703125 53.5625 \nQ 30.078125 56 35.796875 56 \nQ 45.21875 56 50.046875 50.171875 \nQ 54.890625 44.34375 54.890625 33.015625 \nz\n\" id=\"DejaVuSans-110\"/>\n      <path d=\"M 45.40625 27.984375 \nQ 45.40625 37.75 41.375 43.109375 \nQ 37.359375 48.484375 30.078125 48.484375 \nQ 22.859375 48.484375 18.828125 43.109375 \nQ 14.796875 37.75 14.796875 27.984375 \nQ 14.796875 18.265625 18.828125 12.890625 \nQ 22.859375 7.515625 30.078125 7.515625 \nQ 37.359375 7.515625 41.375 12.890625 \nQ 45.40625 18.265625 45.40625 27.984375 \nz\nM 54.390625 6.78125 \nQ 54.390625 -7.171875 48.1875 -13.984375 \nQ 42 -20.796875 29.203125 -20.796875 \nQ 24.46875 -20.796875 20.265625 -20.09375 \nQ 16.0625 -19.390625 12.109375 -17.921875 \nL 12.109375 -9.1875 \nQ 16.0625 -11.328125 19.921875 -12.34375 \nQ 23.78125 -13.375 27.78125 -13.375 \nQ 36.625 -13.375 41.015625 -8.765625 \nQ 45.40625 -4.15625 45.40625 5.171875 \nL 45.40625 9.625 \nQ 42.625 4.78125 38.28125 2.390625 \nQ 33.9375 0 27.875 0 \nQ 17.828125 0 11.671875 7.65625 \nQ 5.515625 15.328125 5.515625 27.984375 \nQ 5.515625 40.671875 11.671875 48.328125 \nQ 17.828125 56 27.875 56 \nQ 33.9375 56 38.28125 53.609375 \nQ 42.625 51.21875 45.40625 46.390625 \nL 45.40625 54.6875 \nL 54.390625 54.6875 \nz\n\" id=\"DejaVuSans-103\"/>\n      <path d=\"M 50.984375 -16.609375 \nL 50.984375 -23.578125 \nL -0.984375 -23.578125 \nL -0.984375 -16.609375 \nz\n\" id=\"DejaVuSans-95\"/>\n      <path d=\"M 18.3125 70.21875 \nL 18.3125 54.6875 \nL 36.8125 54.6875 \nL 36.8125 47.703125 \nL 18.3125 47.703125 \nL 18.3125 18.015625 \nQ 18.3125 11.328125 20.140625 9.421875 \nQ 21.96875 7.515625 27.59375 7.515625 \nL 36.8125 7.515625 \nL 36.8125 0 \nL 27.59375 0 \nQ 17.1875 0 13.234375 3.875 \nQ 9.28125 7.765625 9.28125 18.015625 \nL 9.28125 47.703125 \nL 2.6875 47.703125 \nL 2.6875 54.6875 \nL 9.28125 54.6875 \nL 9.28125 70.21875 \nz\n\" id=\"DejaVuSans-116\"/>\n      <path d=\"M 34.28125 27.484375 \nQ 23.390625 27.484375 19.1875 25 \nQ 14.984375 22.515625 14.984375 16.5 \nQ 14.984375 11.71875 18.140625 8.90625 \nQ 21.296875 6.109375 26.703125 6.109375 \nQ 34.1875 6.109375 38.703125 11.40625 \nQ 43.21875 16.703125 43.21875 25.484375 \nL 43.21875 27.484375 \nz\nM 52.203125 31.203125 \nL 52.203125 0 \nL 43.21875 0 \nL 43.21875 8.296875 \nQ 40.140625 3.328125 35.546875 0.953125 \nQ 30.953125 -1.421875 24.3125 -1.421875 \nQ 15.921875 -1.421875 10.953125 3.296875 \nQ 6 8.015625 6 15.921875 \nQ 6 25.140625 12.171875 29.828125 \nQ 18.359375 34.515625 30.609375 34.515625 \nL 43.21875 34.515625 \nL 43.21875 35.40625 \nQ 43.21875 41.609375 39.140625 45 \nQ 35.0625 48.390625 27.6875 48.390625 \nQ 23 48.390625 18.546875 47.265625 \nQ 14.109375 46.140625 10.015625 43.890625 \nL 10.015625 52.203125 \nQ 14.9375 54.109375 19.578125 55.046875 \nQ 24.21875 56 28.609375 56 \nQ 40.484375 56 46.34375 49.84375 \nQ 52.203125 43.703125 52.203125 31.203125 \nz\n\" id=\"DejaVuSans-97\"/>\n     </defs>\n     <g transform=\"translate(158.941406 291.781181)scale(0.1 -0.1)\">\n      <use xlink:href=\"#DejaVuSans-102\"/>\n      <use x=\"35.205078\" xlink:href=\"#DejaVuSans-117\"/>\n      <use x=\"98.583984\" xlink:href=\"#DejaVuSans-110\"/>\n      <use x=\"161.962891\" xlink:href=\"#DejaVuSans-100\"/>\n      <use x=\"225.439453\" xlink:href=\"#DejaVuSans-105\"/>\n      <use x=\"253.222656\" xlink:href=\"#DejaVuSans-110\"/>\n      <use x=\"316.601562\" xlink:href=\"#DejaVuSans-103\"/>\n      <use x=\"380.078125\" xlink:href=\"#DejaVuSans-95\"/>\n      <use x=\"430.078125\" xlink:href=\"#DejaVuSans-115\"/>\n      <use x=\"482.177734\" xlink:href=\"#DejaVuSans-116\"/>\n      <use x=\"521.386719\" xlink:href=\"#DejaVuSans-97\"/>\n      <use x=\"582.666016\" xlink:href=\"#DejaVuSans-103\"/>\n      <use x=\"646.142578\" xlink:href=\"#DejaVuSans-101\"/>\n     </g>\n    </g>\n   </g>\n   <g id=\"matplotlib.axis_2\">\n    <g id=\"ytick_1\">\n     <g id=\"line2d_13\">\n      <defs>\n       <path d=\"M 0 0 \nL -3.5 0 \n\" id=\"mef1e191c3b\" style=\"stroke:#000000;stroke-width:0.8;\"/>\n      </defs>\n      <g>\n       <use style=\"stroke:#000000;stroke-width:0.8;\" x=\"26.925\" xlink:href=\"#mef1e191c3b\" y=\"228.14\"/>\n      </g>\n     </g>\n     <g id=\"text_14\">\n      <!-- 0 -->\n      <defs>\n       <path d=\"M 31.78125 66.40625 \nQ 24.171875 66.40625 20.328125 58.90625 \nQ 16.5 51.421875 16.5 36.375 \nQ 16.5 21.390625 20.328125 13.890625 \nQ 24.171875 6.390625 31.78125 6.390625 \nQ 39.453125 6.390625 43.28125 13.890625 \nQ 47.125 21.390625 47.125 36.375 \nQ 47.125 51.421875 43.28125 58.90625 \nQ 39.453125 66.40625 31.78125 66.40625 \nz\nM 31.78125 74.21875 \nQ 44.046875 74.21875 50.515625 64.515625 \nQ 56.984375 54.828125 56.984375 36.375 \nQ 56.984375 17.96875 50.515625 8.265625 \nQ 44.046875 -1.421875 31.78125 -1.421875 \nQ 19.53125 -1.421875 13.0625 8.265625 \nQ 6.59375 17.96875 6.59375 36.375 \nQ 6.59375 54.828125 13.0625 64.515625 \nQ 19.53125 74.21875 31.78125 74.21875 \nz\n\" id=\"DejaVuSans-48\"/>\n      </defs>\n      <g transform=\"translate(13.5625 231.939219)scale(0.1 -0.1)\">\n       <use xlink:href=\"#DejaVuSans-48\"/>\n      </g>\n     </g>\n    </g>\n    <g id=\"ytick_2\">\n     <g id=\"line2d_14\">\n      <g>\n       <use style=\"stroke:#000000;stroke-width:0.8;\" x=\"26.925\" xlink:href=\"#mef1e191c3b\" y=\"196.280659\"/>\n      </g>\n     </g>\n     <g id=\"text_15\">\n      <!-- 10 -->\n      <defs>\n       <path d=\"M 12.40625 8.296875 \nL 28.515625 8.296875 \nL 28.515625 63.921875 \nL 10.984375 60.40625 \nL 10.984375 69.390625 \nL 28.421875 72.90625 \nL 38.28125 72.90625 \nL 38.28125 8.296875 \nL 54.390625 8.296875 \nL 54.390625 0 \nL 12.40625 0 \nz\n\" id=\"DejaVuSans-49\"/>\n      </defs>\n      <g transform=\"translate(7.2 200.079878)scale(0.1 -0.1)\">\n       <use xlink:href=\"#DejaVuSans-49\"/>\n       <use x=\"63.623047\" xlink:href=\"#DejaVuSans-48\"/>\n      </g>\n     </g>\n    </g>\n    <g id=\"ytick_3\">\n     <g id=\"line2d_15\">\n      <g>\n       <use style=\"stroke:#000000;stroke-width:0.8;\" x=\"26.925\" xlink:href=\"#mef1e191c3b\" y=\"164.421319\"/>\n      </g>\n     </g>\n     <g id=\"text_16\">\n      <!-- 20 -->\n      <defs>\n       <path d=\"M 19.1875 8.296875 \nL 53.609375 8.296875 \nL 53.609375 0 \nL 7.328125 0 \nL 7.328125 8.296875 \nQ 12.9375 14.109375 22.625 23.890625 \nQ 32.328125 33.6875 34.8125 36.53125 \nQ 39.546875 41.84375 41.421875 45.53125 \nQ 43.3125 49.21875 43.3125 52.78125 \nQ 43.3125 58.59375 39.234375 62.25 \nQ 35.15625 65.921875 28.609375 65.921875 \nQ 23.96875 65.921875 18.8125 64.3125 \nQ 13.671875 62.703125 7.8125 59.421875 \nL 7.8125 69.390625 \nQ 13.765625 71.78125 18.9375 73 \nQ 24.125 74.21875 28.421875 74.21875 \nQ 39.75 74.21875 46.484375 68.546875 \nQ 53.21875 62.890625 53.21875 53.421875 \nQ 53.21875 48.921875 51.53125 44.890625 \nQ 49.859375 40.875 45.40625 35.40625 \nQ 44.1875 33.984375 37.640625 27.21875 \nQ 31.109375 20.453125 19.1875 8.296875 \nz\n\" id=\"DejaVuSans-50\"/>\n      </defs>\n      <g transform=\"translate(7.2 168.220537)scale(0.1 -0.1)\">\n       <use xlink:href=\"#DejaVuSans-50\"/>\n       <use x=\"63.623047\" xlink:href=\"#DejaVuSans-48\"/>\n      </g>\n     </g>\n    </g>\n    <g id=\"ytick_4\">\n     <g id=\"line2d_16\">\n      <g>\n       <use style=\"stroke:#000000;stroke-width:0.8;\" x=\"26.925\" xlink:href=\"#mef1e191c3b\" y=\"132.561978\"/>\n      </g>\n     </g>\n     <g id=\"text_17\">\n      <!-- 30 -->\n      <defs>\n       <path d=\"M 40.578125 39.3125 \nQ 47.65625 37.796875 51.625 33 \nQ 55.609375 28.21875 55.609375 21.1875 \nQ 55.609375 10.40625 48.1875 4.484375 \nQ 40.765625 -1.421875 27.09375 -1.421875 \nQ 22.515625 -1.421875 17.65625 -0.515625 \nQ 12.796875 0.390625 7.625 2.203125 \nL 7.625 11.71875 \nQ 11.71875 9.328125 16.59375 8.109375 \nQ 21.484375 6.890625 26.8125 6.890625 \nQ 36.078125 6.890625 40.9375 10.546875 \nQ 45.796875 14.203125 45.796875 21.1875 \nQ 45.796875 27.640625 41.28125 31.265625 \nQ 36.765625 34.90625 28.71875 34.90625 \nL 20.21875 34.90625 \nL 20.21875 43.015625 \nL 29.109375 43.015625 \nQ 36.375 43.015625 40.234375 45.921875 \nQ 44.09375 48.828125 44.09375 54.296875 \nQ 44.09375 59.90625 40.109375 62.90625 \nQ 36.140625 65.921875 28.71875 65.921875 \nQ 24.65625 65.921875 20.015625 65.03125 \nQ 15.375 64.15625 9.8125 62.3125 \nL 9.8125 71.09375 \nQ 15.4375 72.65625 20.34375 73.4375 \nQ 25.25 74.21875 29.59375 74.21875 \nQ 40.828125 74.21875 47.359375 69.109375 \nQ 53.90625 64.015625 53.90625 55.328125 \nQ 53.90625 49.265625 50.4375 45.09375 \nQ 46.96875 40.921875 40.578125 39.3125 \nz\n\" id=\"DejaVuSans-51\"/>\n      </defs>\n      <g transform=\"translate(7.2 136.361197)scale(0.1 -0.1)\">\n       <use xlink:href=\"#DejaVuSans-51\"/>\n       <use x=\"63.623047\" xlink:href=\"#DejaVuSans-48\"/>\n      </g>\n     </g>\n    </g>\n    <g id=\"ytick_5\">\n     <g id=\"line2d_17\">\n      <g>\n       <use style=\"stroke:#000000;stroke-width:0.8;\" x=\"26.925\" xlink:href=\"#mef1e191c3b\" y=\"100.702637\"/>\n      </g>\n     </g>\n     <g id=\"text_18\">\n      <!-- 40 -->\n      <defs>\n       <path d=\"M 37.796875 64.3125 \nL 12.890625 25.390625 \nL 37.796875 25.390625 \nz\nM 35.203125 72.90625 \nL 47.609375 72.90625 \nL 47.609375 25.390625 \nL 58.015625 25.390625 \nL 58.015625 17.1875 \nL 47.609375 17.1875 \nL 47.609375 0 \nL 37.796875 0 \nL 37.796875 17.1875 \nL 4.890625 17.1875 \nL 4.890625 26.703125 \nz\n\" id=\"DejaVuSans-52\"/>\n      </defs>\n      <g transform=\"translate(7.2 104.501856)scale(0.1 -0.1)\">\n       <use xlink:href=\"#DejaVuSans-52\"/>\n       <use x=\"63.623047\" xlink:href=\"#DejaVuSans-48\"/>\n      </g>\n     </g>\n    </g>\n    <g id=\"ytick_6\">\n     <g id=\"line2d_18\">\n      <g>\n       <use style=\"stroke:#000000;stroke-width:0.8;\" x=\"26.925\" xlink:href=\"#mef1e191c3b\" y=\"68.843297\"/>\n      </g>\n     </g>\n     <g id=\"text_19\">\n      <!-- 50 -->\n      <defs>\n       <path d=\"M 10.796875 72.90625 \nL 49.515625 72.90625 \nL 49.515625 64.59375 \nL 19.828125 64.59375 \nL 19.828125 46.734375 \nQ 21.96875 47.46875 24.109375 47.828125 \nQ 26.265625 48.1875 28.421875 48.1875 \nQ 40.625 48.1875 47.75 41.5 \nQ 54.890625 34.8125 54.890625 23.390625 \nQ 54.890625 11.625 47.5625 5.09375 \nQ 40.234375 -1.421875 26.90625 -1.421875 \nQ 22.3125 -1.421875 17.546875 -0.640625 \nQ 12.796875 0.140625 7.71875 1.703125 \nL 7.71875 11.625 \nQ 12.109375 9.234375 16.796875 8.0625 \nQ 21.484375 6.890625 26.703125 6.890625 \nQ 35.15625 6.890625 40.078125 11.328125 \nQ 45.015625 15.765625 45.015625 23.390625 \nQ 45.015625 31 40.078125 35.4375 \nQ 35.15625 39.890625 26.703125 39.890625 \nQ 22.75 39.890625 18.8125 39.015625 \nQ 14.890625 38.140625 10.796875 36.28125 \nz\n\" id=\"DejaVuSans-53\"/>\n      </defs>\n      <g transform=\"translate(7.2 72.642515)scale(0.1 -0.1)\">\n       <use xlink:href=\"#DejaVuSans-53\"/>\n       <use x=\"63.623047\" xlink:href=\"#DejaVuSans-48\"/>\n      </g>\n     </g>\n    </g>\n    <g id=\"ytick_7\">\n     <g id=\"line2d_19\">\n      <g>\n       <use style=\"stroke:#000000;stroke-width:0.8;\" x=\"26.925\" xlink:href=\"#mef1e191c3b\" y=\"36.983956\"/>\n      </g>\n     </g>\n     <g id=\"text_20\">\n      <!-- 60 -->\n      <defs>\n       <path d=\"M 33.015625 40.375 \nQ 26.375 40.375 22.484375 35.828125 \nQ 18.609375 31.296875 18.609375 23.390625 \nQ 18.609375 15.53125 22.484375 10.953125 \nQ 26.375 6.390625 33.015625 6.390625 \nQ 39.65625 6.390625 43.53125 10.953125 \nQ 47.40625 15.53125 47.40625 23.390625 \nQ 47.40625 31.296875 43.53125 35.828125 \nQ 39.65625 40.375 33.015625 40.375 \nz\nM 52.59375 71.296875 \nL 52.59375 62.3125 \nQ 48.875 64.0625 45.09375 64.984375 \nQ 41.3125 65.921875 37.59375 65.921875 \nQ 27.828125 65.921875 22.671875 59.328125 \nQ 17.53125 52.734375 16.796875 39.40625 \nQ 19.671875 43.65625 24.015625 45.921875 \nQ 28.375 48.1875 33.59375 48.1875 \nQ 44.578125 48.1875 50.953125 41.515625 \nQ 57.328125 34.859375 57.328125 23.390625 \nQ 57.328125 12.15625 50.6875 5.359375 \nQ 44.046875 -1.421875 33.015625 -1.421875 \nQ 20.359375 -1.421875 13.671875 8.265625 \nQ 6.984375 17.96875 6.984375 36.375 \nQ 6.984375 53.65625 15.1875 63.9375 \nQ 23.390625 74.21875 37.203125 74.21875 \nQ 40.921875 74.21875 44.703125 73.484375 \nQ 48.484375 72.75 52.59375 71.296875 \nz\n\" id=\"DejaVuSans-54\"/>\n      </defs>\n      <g transform=\"translate(7.2 40.783175)scale(0.1 -0.1)\">\n       <use xlink:href=\"#DejaVuSans-54\"/>\n       <use x=\"63.623047\" xlink:href=\"#DejaVuSans-48\"/>\n      </g>\n     </g>\n    </g>\n   </g>\n   <g id=\"patch_15\">\n    <path d=\"M 26.925 228.14 \nL 26.925 10.7 \n\" style=\"fill:none;stroke:#000000;stroke-linecap:square;stroke-linejoin:miter;stroke-width:0.8;\"/>\n   </g>\n   <g id=\"patch_16\">\n    <path d=\"M 361.725 228.14 \nL 361.725 10.7 \n\" style=\"fill:none;stroke:#000000;stroke-linecap:square;stroke-linejoin:miter;stroke-width:0.8;\"/>\n   </g>\n   <g id=\"patch_17\">\n    <path d=\"M 26.925 228.14 \nL 361.725 228.14 \n\" style=\"fill:none;stroke:#000000;stroke-linecap:square;stroke-linejoin:miter;stroke-width:0.8;\"/>\n   </g>\n   <g id=\"patch_18\">\n    <path d=\"M 26.925 10.7 \nL 361.725 10.7 \n\" style=\"fill:none;stroke:#000000;stroke-linecap:square;stroke-linejoin:miter;stroke-width:0.8;\"/>\n   </g>\n  </g>\n </g>\n <defs>\n  <clipPath id=\"p8df36af36b\">\n   <rect height=\"217.44\" width=\"334.8\" x=\"26.925\" y=\"10.7\"/>\n  </clipPath>\n </defs>\n</svg>\n",
      "image/png": "[encoded data removed]"
     },
     "metadata": {
      "needs_background": "light"
     }
    }
   ],
   "source": [
    "stages = ['Pre-seed', 'Seed', 'A', 'B', 'C', 'D', 'E', 'F', 'G', 'Acquired', 'IPO', 'Closed']\n",
    "df['funding_stage'] = pd.Categorical(df['funding_stage'], stages)\n",
    "df.groupby('funding_stage').size().sort_index(ascending=True).plot(kind='bar')\n",
    "plt.xticks(rotation=70)\n",
    "plt.show()"
   ]
  }
 ],
 "metadata": {
  "language_info": {
   "codemirror_mode": {
    "name": "ipython",
    "version": 3
   },
   "file_extension": ".py",
   "mimetype": "text/x-python",
   "name": "python",
   "nbconvert_exporter": "python",
   "pygments_lexer": "ipython3",
   "version": "3.7.5-final"
  },
  "orig_nbformat": 2,
  "kernelspec": {
   "name": "py3",
   "display_name": "Py3"
  }
 },
 "nbformat": 4,
 "nbformat_minor": 2
}