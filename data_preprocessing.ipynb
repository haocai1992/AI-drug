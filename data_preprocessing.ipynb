{
 "cells": [
  {
   "cell_type": "markdown",
   "metadata": {},
   "source": [
    "## import library"
   ]
  },
  {
   "cell_type": "code",
   "execution_count": 4,
   "metadata": {
    "tags": []
   },
   "outputs": [],
   "source": [
    "from requests import get\n",
    "from bs4 import BeautifulSoup\n",
    "# import unicodecsv as csv\n",
    "import pandas as pd\n",
    "import numpy as np\n",
    "# import folium"
   ]
  },
  {
   "cell_type": "markdown",
   "metadata": {},
   "source": [
    "## extract company information"
   ]
  },
  {
   "cell_type": "code",
   "execution_count": 5,
   "metadata": {},
   "outputs": [],
   "source": [
    "url = 'https://blog.benchsci.com/startups-using-artificial-intelligence-in-drug-discovery'\n",
    "response = get(url)\n",
    "\n",
    "soup = BeautifulSoup(response.text, 'html.parser')"
   ]
  },
  {
   "cell_type": "code",
   "execution_count": 115,
   "metadata": {
    "tags": []
   },
   "outputs": [
    {
     "output_type": "stream",
     "name": "stdout",
     "text": "dict_keys(['Aggregate and synthesize information', 'Understand mechanisms of disease', 'Establish biomarkers', 'Generate data and models', 'Repurpose existing drugs', 'Generate novel drug candidates', 'Validate and optimize drug candidates', 'Design drugs', 'Design preclinical experiments', 'Run preclinical experiments', 'Design clinical trials', 'Recruit for clinical trials', 'Optimize clinical trials', 'Publish data', 'Analyze real world evidence'])\n"
    }
   ],
   "source": [
    "# extract groups of companies.\n",
    "groups = {}\n",
    "for t in soup.find_all([\"h3\", \"h4\"]):\n",
    "    if t.attrs: # h3\n",
    "        group_name = t.text\n",
    "        groups[group_name] = []\n",
    "    else: # h4\n",
    "        groups[group_name].append(t.text)\n",
    "        # print(group_name, t.text)\n",
    "print(groups.keys())"
   ]
  },
  {
   "cell_type": "code",
   "execution_count": 143,
   "metadata": {
    "tags": []
   },
   "outputs": [
    {
     "output_type": "stream",
     "name": "stdout",
     "text": "<div style=\"clear: both;\">\n<p>And there you have it, 230 startups using AI in drug discovery. Did I get anything wrong in the descriptions? Please let me know in the comments. Craving more information? See my posts on <a href=\"https://blog.benchsci.com/pharma-companies-using-artificial-intelligence-in-drug-discovery\">pharma companies using AI in drug discovery</a> and <a href=\"https://blog.benchsci.com/artificial-intelligence-in-drug-discovery-trends-and-statistics\">AI in drug discovery trends and statistics</a>.</p>\n</div>\n"
    }
   ],
   "source": [
    "# extract company information.\n",
    "import re\n",
    "companies = {}\n",
    "for t in soup.find_all('div', style='clear: both;'):\n",
    "    try:\n",
    "        name = t.h4.text\n",
    "        description = t.p.text\n",
    "        m = re.match(r\"^Uses AI to: (.+). Allows researchers to: (.+). Founded: (.+). Headquarters: (.+).\", description)\n",
    "        uses_ai_to = m.group(1)\n",
    "        allows_researchers_to = m.group(2)\n",
    "        founded = m.group(3)\n",
    "        headquarters = m.group(4)\n",
    "        companies[name] = {}\n",
    "        companies[name]['uses_ai_to'] = uses_ai_to\n",
    "        companies[name]['allows_researchers_to'] = allows_researchers_to\n",
    "        companies[name]['founded'] = founded\n",
    "        companies[name]['headquarters'] = headquarters\n",
    "    except:\n",
    "        print(t)"
   ]
  },
  {
   "cell_type": "code",
   "execution_count": 146,
   "metadata": {},
   "outputs": [],
   "source": [
    "# combine company information, and convert to dataframe.\n",
    "import pandas as pd\n",
    "data = {'company_name':[], 'category':[], 'uses_ai_to':[], 'allows_researchers_to':[], 'founded':[], 'headquarters':[]}\n",
    "for g in groups:\n",
    "    for n in groups[g]:\n",
    "        name = n\n",
    "        category = g\n",
    "        uses_ai_to = companies[name]['uses_ai_to']\n",
    "        allows_researchers_to = companies[name]['allows_researchers_to']\n",
    "        founded = companies[name]['founded']\n",
    "        headquarters = companies[name]['headquarters']\n",
    "        data['company_name'].append(name)\n",
    "        data['category'].append(category)\n",
    "        data['uses_ai_to'].append(uses_ai_to)\n",
    "        data['allows_researchers_to'].append(allows_researchers_to)\n",
    "        data['founded'].append(founded)\n",
    "        data['headquarters'].append(headquarters)\n",
    "\n",
    "df = pd.DataFrame(data)\n",
    "# df.to_csv('/Users/caihao/VSCode/AI-drug/all_companies.csv', index=False)"
   ]
  }
 ],
 "metadata": {
  "language_info": {
   "codemirror_mode": {
    "name": "ipython",
    "version": 3
   },
   "file_extension": ".py",
   "mimetype": "text/x-python",
   "name": "python",
   "nbconvert_exporter": "python",
   "pygments_lexer": "ipython3",
   "version": "3.7.5-final"
  },
  "orig_nbformat": 2,
  "kernelspec": {
   "name": "py3",
   "display_name": "Py3"
  }
 },
 "nbformat": 4,
 "nbformat_minor": 2
}